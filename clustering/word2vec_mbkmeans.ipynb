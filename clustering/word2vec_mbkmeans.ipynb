{
 "cells": [
  {
   "cell_type": "markdown",
   "metadata": {},
   "source": [
    "## Import required libraries"
   ]
  },
  {
   "cell_type": "code",
   "execution_count": 1,
   "metadata": {},
   "outputs": [
    {
     "name": "stderr",
     "output_type": "stream",
     "text": [
      "[nltk_data] Downloading package stopwords to\n",
      "[nltk_data]     /Users/dylancastillo/nltk_data...\n",
      "[nltk_data]   Package stopwords is already up-to-date!\n",
      "[nltk_data] Downloading package punkt to\n",
      "[nltk_data]     /Users/dylancastillo/nltk_data...\n",
      "[nltk_data]   Package punkt is already up-to-date!\n"
     ]
    }
   ],
   "source": [
    "import os\n",
    "import re\n",
    "import string\n",
    "from collections import Counter\n",
    "from string import punctuation\n",
    "from time import time\n",
    "\n",
    "import gensim\n",
    "import nltk\n",
    "import numpy as np\n",
    "import pandas as pd\n",
    "from gensim.models import Word2Vec\n",
    "from nltk.corpus import stopwords\n",
    "from nltk.tokenize import word_tokenize\n",
    "from sklearn.cluster import MiniBatchKMeans\n",
    "from sklearn.metrics import silhouette_samples, silhouette_score\n",
    "from tqdm.notebook import tqdm\n",
    "\n",
    "from ds_utils.config import set_display_options\n",
    "from ds_utils.data import NEWS_DATA\n",
    "from ds_utils.functions import vectorize\n",
    "\n",
    "nltk.download(\"stopwords\")\n",
    "nltk.download(\"punkt\")\n",
    "set_display_options()"
   ]
  },
  {
   "cell_type": "markdown",
   "metadata": {},
   "source": [
    "## Read Data"
   ]
  },
  {
   "cell_type": "code",
   "execution_count": 2,
   "metadata": {},
   "outputs": [],
   "source": [
    "df = pd.read_csv(NEWS_DATA)"
   ]
  },
  {
   "cell_type": "code",
   "execution_count": 3,
   "metadata": {},
   "outputs": [
    {
     "data": {
      "text/plain": [
       "(10437, 15)"
      ]
     },
     "execution_count": 3,
     "metadata": {},
     "output_type": "execute_result"
    }
   ],
   "source": [
    "df.shape"
   ]
  },
  {
   "cell_type": "code",
   "execution_count": 4,
   "metadata": {},
   "outputs": [
    {
     "data": {
      "text/plain": [
       "Index(['Unnamed: 0', 'source_id', 'source_name', 'author', 'title',\n",
       "       'description', 'url', 'url_to_image', 'published_at', 'content',\n",
       "       'top_article', 'engagement_reaction_count', 'engagement_comment_count',\n",
       "       'engagement_share_count', 'engagement_comment_plugin_count'],\n",
       "      dtype='object')"
      ]
     },
     "execution_count": 4,
     "metadata": {},
     "output_type": "execute_result"
    }
   ],
   "source": [
    "df.columns"
   ]
  },
  {
   "cell_type": "code",
   "execution_count": 5,
   "metadata": {},
   "outputs": [
    {
     "data": {
      "text/html": [
       "<div>\n",
       "<style scoped>\n",
       "    .dataframe tbody tr th:only-of-type {\n",
       "        vertical-align: middle;\n",
       "    }\n",
       "\n",
       "    .dataframe tbody tr th {\n",
       "        vertical-align: top;\n",
       "    }\n",
       "\n",
       "    .dataframe thead th {\n",
       "        text-align: right;\n",
       "    }\n",
       "</style>\n",
       "<table border=\"1\" class=\"dataframe\">\n",
       "  <thead>\n",
       "    <tr style=\"text-align: right;\">\n",
       "      <th></th>\n",
       "      <th>1480</th>\n",
       "    </tr>\n",
       "  </thead>\n",
       "  <tbody>\n",
       "    <tr>\n",
       "      <th>Unnamed: 0</th>\n",
       "      <td>1480</td>\n",
       "    </tr>\n",
       "    <tr>\n",
       "      <th>source_id</th>\n",
       "      <td>al-jazeera-english</td>\n",
       "    </tr>\n",
       "    <tr>\n",
       "      <th>source_name</th>\n",
       "      <td>Al Jazeera English</td>\n",
       "    </tr>\n",
       "    <tr>\n",
       "      <th>author</th>\n",
       "      <td>Al Jazeera</td>\n",
       "    </tr>\n",
       "    <tr>\n",
       "      <th>title</th>\n",
       "      <td>Hurricane Dorian set to make landfall again</td>\n",
       "    </tr>\n",
       "    <tr>\n",
       "      <th>description</th>\n",
       "      <td>This slow moving and powerful storm is set to strike the US and hurricane warnings remain in place.</td>\n",
       "    </tr>\n",
       "    <tr>\n",
       "      <th>url</th>\n",
       "      <td>https://www.aljazeera.com/news/2019/09/hurricane-dorian-set-landfall-190905085536676.html</td>\n",
       "    </tr>\n",
       "    <tr>\n",
       "      <th>url_to_image</th>\n",
       "      <td>https://www.aljazeera.com/mritems/Images/2019/9/5/8ba8a27872624dcd9120e60a22a0358f_18.jpg</td>\n",
       "    </tr>\n",
       "    <tr>\n",
       "      <th>published_at</th>\n",
       "      <td>2019-09-05T11:17:38Z</td>\n",
       "    </tr>\n",
       "    <tr>\n",
       "      <th>content</th>\n",
       "      <td>Hurricane Dorian continued to move north early on Thursday, running parallel to the coast of the southeast United States with a turn to the northeast expected later in the day.\\r\\nIt has increased in strength and is now a Category 3 storm on the Saffir Simpson … [+1713 chars]</td>\n",
       "    </tr>\n",
       "    <tr>\n",
       "      <th>top_article</th>\n",
       "      <td>0.00</td>\n",
       "    </tr>\n",
       "    <tr>\n",
       "      <th>engagement_reaction_count</th>\n",
       "      <td>13.00</td>\n",
       "    </tr>\n",
       "    <tr>\n",
       "      <th>engagement_comment_count</th>\n",
       "      <td>3.00</td>\n",
       "    </tr>\n",
       "    <tr>\n",
       "      <th>engagement_share_count</th>\n",
       "      <td>15.00</td>\n",
       "    </tr>\n",
       "    <tr>\n",
       "      <th>engagement_comment_plugin_count</th>\n",
       "      <td>0.00</td>\n",
       "    </tr>\n",
       "  </tbody>\n",
       "</table>\n",
       "</div>"
      ],
      "text/plain": [
       "                                                                                                                                                                                                                                                                                                                 1480\n",
       "Unnamed: 0                                                                                                                                                                                                                                                                                                       1480\n",
       "source_id                                                                                                                                                                                                                                                                                          al-jazeera-english\n",
       "source_name                                                                                                                                                                                                                                                                                        Al Jazeera English\n",
       "author                                                                                                                                                                                                                                                                                                     Al Jazeera\n",
       "title                                                                                                                                                                                                                                                                     Hurricane Dorian set to make landfall again\n",
       "description                                                                                                                                                                                                       This slow moving and powerful storm is set to strike the US and hurricane warnings remain in place.\n",
       "url                                                                                                                                                                                                                         https://www.aljazeera.com/news/2019/09/hurricane-dorian-set-landfall-190905085536676.html\n",
       "url_to_image                                                                                                                                                                                                                https://www.aljazeera.com/mritems/Images/2019/9/5/8ba8a27872624dcd9120e60a22a0358f_18.jpg\n",
       "published_at                                                                                                                                                                                                                                                                                     2019-09-05T11:17:38Z\n",
       "content                          Hurricane Dorian continued to move north early on Thursday, running parallel to the coast of the southeast United States with a turn to the northeast expected later in the day.\\r\\nIt has increased in strength and is now a Category 3 storm on the Saffir Simpson … [+1713 chars]\n",
       "top_article                                                                                                                                                                                                                                                                                                      0.00\n",
       "engagement_reaction_count                                                                                                                                                                                                                                                                                       13.00\n",
       "engagement_comment_count                                                                                                                                                                                                                                                                                         3.00\n",
       "engagement_share_count                                                                                                                                                                                                                                                                                          15.00\n",
       "engagement_comment_plugin_count                                                                                                                                                                                                                                                                                  0.00"
      ]
     },
     "execution_count": 5,
     "metadata": {},
     "output_type": "execute_result"
    }
   ],
   "source": [
    "df.sample(1).T"
   ]
  },
  {
   "cell_type": "markdown",
   "metadata": {},
   "source": [
    "## Fill missing values"
   ]
  },
  {
   "cell_type": "code",
   "execution_count": 6,
   "metadata": {},
   "outputs": [
    {
     "data": {
      "text/plain": [
       "Unnamed: 0                        0.00\n",
       "source_id                         0.00\n",
       "source_name                       0.00\n",
       "author                            0.10\n",
       "title                             0.00\n",
       "description                       0.00\n",
       "url                               0.00\n",
       "url_to_image                      0.06\n",
       "published_at                      0.00\n",
       "content                           0.12\n",
       "top_article                       0.00\n",
       "engagement_reaction_count         0.01\n",
       "engagement_comment_count          0.01\n",
       "engagement_share_count            0.01\n",
       "engagement_comment_plugin_count   0.01\n",
       "dtype: float64"
      ]
     },
     "execution_count": 6,
     "metadata": {},
     "output_type": "execute_result"
    }
   ],
   "source": [
    "df.isna().mean()"
   ]
  },
  {
   "cell_type": "code",
   "execution_count": 7,
   "metadata": {},
   "outputs": [],
   "source": [
    "df[\"content\"] = df[\"content\"].fillna(\"\")"
   ]
  },
  {
   "cell_type": "markdown",
   "metadata": {},
   "source": [
    "## Generate tokens"
   ]
  },
  {
   "cell_type": "code",
   "execution_count": 8,
   "metadata": {},
   "outputs": [
    {
     "data": {
      "text/plain": [
       "'NRA Sues San Francisco Over Being Labeled \\'Domestic Terrorist Organization\\' | The NRA, which includes millions of Americans, says it was targeted and unlawfully \"blacklisted\" by San Francisco. | Less than a week after the city of San Francisco called the National Rifle Association a \"domestic terrorist organization,\" the NRA has fired back with a lawsuit.\\r\\nThe NRA is suing both the city and county of San Francisco, and its Board of Supervisors, for r… [+2340 chars]'"
      ]
     },
     "execution_count": 8,
     "metadata": {},
     "output_type": "execute_result"
    }
   ],
   "source": [
    "df.sample(1).apply(lambda x: x[\"title\"] + \" | \" + x[\"description\"] + \" | \" + x[\"content\"], axis=1).values[0]"
   ]
  },
  {
   "cell_type": "code",
   "execution_count": 9,
   "metadata": {},
   "outputs": [
    {
     "name": "stdout",
     "output_type": "stream",
     "text": [
      "SAMPLE TEXT: Facebook Faces Antitrust Investigation by State Attorneys General | Regulators in eight states and the District of Columbia are moving forward with an antitrust investigation into Facebook, New York’s attorney general said.\n",
      "TOKENS: ['facebook', 'faces', 'antitrust', 'investigation', 'state', 'attorneys', 'general', 'regulators', 'eight', 'states', 'district', 'columbia', 'moving', 'forward', 'antitrust', 'investigation', 'facebook', 'york', 'attorney', 'general', 'said']\n",
      "------\n",
      "SAMPLE TEXT: Opioid Defendants Seek to Disqualify Judge Overseeing 2,300 Cases | A Hail Mary pass by drug distributors and pharmacy chains on the eve of a landmark federal trial argues that the judge already believes that defendants should pay.\n",
      "TOKENS: ['opioid', 'defendants', 'seek', 'disqualify', 'judge', 'overseeing', 'cases', 'hail', 'mary', 'pass', 'drug', 'distributors', 'pharmacy', 'chains', 'eve', 'landmark', 'federal', 'trial', 'argues', 'judge', 'already', 'believes', 'defendants', 'pay']\n",
      "------\n",
      "SAMPLE TEXT: Southern U.S. states have closed 1,200 polling places in recent years: rights group | States across the American South have closed nearly 1,200 polling places since the Supreme Court weakened a landmark voting-discrimination law in 2013, according to a report released by a civil-rights group on Tuesday.\n",
      "TOKENS: ['southern', 'us', 'states', 'closed', 'polling', 'places', 'recent', 'years', 'rights', 'group', 'states', 'across', 'american', 'south', 'closed', 'nearly', 'polling', 'places', 'since', 'supreme', 'court', 'weakened', 'landmark', 'voting', 'discrimination', 'law', 'according', 'report', 'released', 'civil', 'rights', 'group', 'tuesday']\n",
      "------\n",
      "SAMPLE TEXT: Taoiseach apologises to patients, staff for hospital overcrowding problems | SF’s McDonald says last month worst September on record for people left on trolleys\n",
      "TOKENS: ['taoiseach', 'apologises', 'patients', 'staff', 'hospital', 'overcrowding', 'problems', 'sf', 'mcdonald', 'says', 'last', 'month', 'worst', 'september', 'record', 'people', 'left', 'trolleys']\n",
      "------\n",
      "SAMPLE TEXT: Typhoon Lingling: North Korea on alert as storm threatens crops | There are fears that storm Lingling could damage crops in a country already suffering food shortages.\n",
      "TOKENS: ['typhoon', 'lingling', 'north', 'korea', 'alert', 'storm', 'threatens', 'crops', 'fears', 'storm', 'lingling', 'could', 'damage', 'crops', 'country', 'already', 'suffering', 'food', 'shortages']\n",
      "------\n"
     ]
    }
   ],
   "source": [
    "stop_words = set(stopwords.words(\"english\") + [\"news\", \"new\", \"top\"])\n",
    "\n",
    "def generate_tokens(text, tokenizer=word_tokenize, stop_words=stop_words):\n",
    "    text = str(text).lower() # Lowercase words\n",
    "    text = re.sub(r\"\\[(.*?)\\]\", \"\", text) # Remove [+XYZ chars] in content\n",
    "    text = re.sub(r\"\\s+\", \" \", text) # Remove multiple spaces in content\n",
    "    text = re.sub(r\"\\w+…|…\", \"\", text) # Remove ellipsis (and last word)\n",
    "    text = re.sub(r\"(?<=\\w)-(?=\\w)\", \" \", text) # Replace dash between words\n",
    "    text = re.sub(f\"[{re.escape(string.punctuation)}]\", \"\", text) # Remove punctuation\n",
    "    \n",
    "    tokens = tokenizer(text) # Get tokens from text\n",
    "    tokens = [t for t in tokens if not t in stop_words] # Remove stopwords\n",
    "    tokens = [\"\" if t.isdigit() else t for t in tokens] # Remove digits\n",
    "    tokens = [t for t in tokens if len(t) > 1] # Remove short tokens\n",
    "    return tokens\n",
    "\n",
    "for _ in range(5):\n",
    "    sample_text = df.sample(1).apply(lambda x: x[\"title\"] + \" | \" + x[\"description\"], axis=1).values[0]\n",
    "    print(f\"SAMPLE TEXT: {sample_text}\")\n",
    "    print(f\"TOKENS: {generate_tokens(sample_text)}\")\n",
    "    print(f\"------\")"
   ]
  },
  {
   "cell_type": "code",
   "execution_count": 10,
   "metadata": {},
   "outputs": [
    {
     "data": {
      "text/plain": [
       "((10437, 17), (9882, 17))"
      ]
     },
     "execution_count": 10,
     "metadata": {},
     "output_type": "execute_result"
    }
   ],
   "source": [
    "text_columns = [\"title\", \"description\", \"content\"]\n",
    "\n",
    "for col in text_columns:\n",
    "    df[col] = df[col].astype(str)\n",
    "\n",
    "# Create text column based on title, description, and content\n",
    "df[\"text\"] = df[text_columns].apply(lambda x: ' | '.join(x), axis=1)\n",
    "df[\"tokens\"] = df[\"text\"].map(lambda x: generate_tokens(x))\n",
    "\n",
    "# Remove duplicated after preprocessing\n",
    "_, idx = np.unique(df[\"tokens\"], return_index=True)\n",
    "df_proc = df.iloc[idx, :]\n",
    "\n",
    "# Remove empty values\n",
    "df_proc = df_proc.loc[df_proc.tokens.map(lambda x: len(x) > 0)]\n",
    "\n",
    "df.shape, df_proc.shape"
   ]
  },
  {
   "cell_type": "markdown",
   "metadata": {},
   "source": [
    "## Review vocabulary"
   ]
  },
  {
   "cell_type": "code",
   "execution_count": 11,
   "metadata": {},
   "outputs": [],
   "source": [
    "docs = df_proc[\"text\"].values\n",
    "tokenized_docs = df_proc[\"tokens\"].values\n",
    "vocab = Counter()\n",
    "for token in tokenized_docs:\n",
    "    vocab.update(token)"
   ]
  },
  {
   "cell_type": "code",
   "execution_count": 12,
   "metadata": {},
   "outputs": [
    {
     "data": {
      "text/plain": [
       "32454"
      ]
     },
     "execution_count": 12,
     "metadata": {},
     "output_type": "execute_result"
    }
   ],
   "source": [
    "len(vocab)"
   ]
  },
  {
   "cell_type": "code",
   "execution_count": 13,
   "metadata": {},
   "outputs": [
    {
     "data": {
      "text/plain": [
       "[('us', 2757),\n",
       " ('said', 2519),\n",
       " ('year', 1781),\n",
       " ('president', 1756),\n",
       " ('trump', 1705),\n",
       " ('world', 1620),\n",
       " ('says', 1511),\n",
       " ('one', 1418),\n",
       " ('two', 1284),\n",
       " ('first', 1195)]"
      ]
     },
     "execution_count": 13,
     "metadata": {},
     "output_type": "execute_result"
    }
   ],
   "source": [
    "vocab.most_common(10)"
   ]
  },
  {
   "cell_type": "markdown",
   "metadata": {},
   "source": [
    "## Train Word2Vec model"
   ]
  },
  {
   "cell_type": "code",
   "execution_count": 14,
   "metadata": {},
   "outputs": [],
   "source": [
    "word2vec_size = 100\n",
    "model = Word2Vec(sentences=tokenized_docs, vector_size=word2vec_size, workers=4, seed=42)"
   ]
  },
  {
   "cell_type": "code",
   "execution_count": 70,
   "metadata": {},
   "outputs": [
    {
     "data": {
      "text/plain": [
       "[('trumps', 0.9858574271202087),\n",
       " ('president', 0.9813684821128845),\n",
       " ('donald', 0.9601849317550659),\n",
       " ('breitbart', 0.9439398050308228),\n",
       " ('administration', 0.9402869939804077),\n",
       " ('impeachment', 0.9304977655410767),\n",
       " ('avlon', 0.9246295690536499),\n",
       " ('inquiry', 0.9182679653167725),\n",
       " ('whistleblower', 0.9173984527587891),\n",
       " ('pences', 0.9152600765228271)]"
      ]
     },
     "execution_count": 70,
     "metadata": {},
     "output_type": "execute_result"
    }
   ],
   "source": [
    "model.wv.most_similar(\"trump\")"
   ]
  },
  {
   "cell_type": "code",
   "execution_count": 73,
   "metadata": {},
   "outputs": [
    {
     "data": {
      "text/plain": [
       "[('chat', 0.9477117657661438),\n",
       " ('messenger', 0.9265488982200623),\n",
       " ('google', 0.9085774421691895),\n",
       " ('find', 0.9003002643585205),\n",
       " ('gambling', 0.8879637122154236),\n",
       " ('online', 0.8667547702789307),\n",
       " ('communicate', 0.8389983177185059),\n",
       " ('interviews', 0.8367419242858887),\n",
       " ('commissions', 0.8337017893791199),\n",
       " ('whats', 0.8254891037940979)]"
      ]
     },
     "execution_count": 73,
     "metadata": {},
     "output_type": "execute_result"
    }
   ],
   "source": [
    "model.wv.most_similar(\"facebook\")"
   ]
  },
  {
   "cell_type": "markdown",
   "metadata": {},
   "source": [
    "## Generate vectors from documents"
   ]
  },
  {
   "cell_type": "code",
   "execution_count": 67,
   "metadata": {},
   "outputs": [
    {
     "data": {
      "text/plain": [
       "(9882, 100)"
      ]
     },
     "execution_count": 67,
     "metadata": {},
     "output_type": "execute_result"
    }
   ],
   "source": [
    "vectorized_docs = vectorize(tokenized_docs, model=model, strategy=\"average\")\n",
    "len(vectorized_docs), len(vectorized_docs[0])"
   ]
  },
  {
   "cell_type": "markdown",
   "metadata": {},
   "source": [
    "## Choose number of clusters"
   ]
  },
  {
   "cell_type": "code",
   "execution_count": 68,
   "metadata": {},
   "outputs": [],
   "source": [
    "def generate_clusters(X, k, mb=500, random_state=42):\n",
    "    clustering = MiniBatchKMeans(n_clusters=k, batch_size=mb, random_state=random_state)\n",
    "    cluster_labels = clustering.fit_predict(X)\n",
    "    print(f\"For n_clusters = {k}\")\n",
    "    silhouette_avg = silhouette_score(X, cluster_labels)\n",
    "    print(f\"The average Silhouette_score is: {silhouette_avg:.2f}\")\n",
    "    sample_silhouette_values = silhouette_samples(X, cluster_labels)\n",
    "    for i in range(k):\n",
    "        ith_cluster_silhouette_values = sample_silhouette_values[cluster_labels == i]\n",
    "        print(f\"    Silhoute values for cluster {i}: \"\n",
    "        f\"Size:{ith_cluster_silhouette_values.shape[0]}\"\n",
    "        f\"| Min:{ith_cluster_silhouette_values.min():.2f}\"\n",
    "        f\"| Avg:{ith_cluster_silhouette_values.mean():.2f}\"\n",
    "        f\"| Max: {ith_cluster_silhouette_values.max():.2f}\")\n",
    "    try:\n",
    "        print(f\"The Inertia is :{clustering.inertia_}\")\n",
    "        distorsions.append(clustering.inertia_)\n",
    "    except:\n",
    "        pass\n",
    "    return clustering, cluster_labels"
   ]
  },
  {
   "cell_type": "code",
   "execution_count": 69,
   "metadata": {
    "scrolled": true
   },
   "outputs": [
    {
     "data": {
      "application/vnd.jupyter.widget-view+json": {
       "model_id": "5ac5c77e07a24bc7963f657024d1a6f6",
       "version_major": 2,
       "version_minor": 0
      },
      "text/plain": [
       "HBox(children=(HTML(value=''), FloatProgress(value=0.0, max=23.0), HTML(value='')))"
      ]
     },
     "metadata": {},
     "output_type": "display_data"
    },
    {
     "name": "stdout",
     "output_type": "stream",
     "text": [
      "For n_clusters = 2\n",
      "The average Silhouette_score is: 0.25\n",
      "    Silhoute values for cluster 0: Size:3080| Min:-0.16| Avg:0.11| Max: 0.33\n",
      "    Silhoute values for cluster 1: Size:6802| Min:0.03| Avg:0.31| Max: 0.48\n",
      "The Inertia is :15523.247198073519\n",
      "For n_clusters = 3\n",
      "The average Silhouette_score is: 0.21\n",
      "    Silhoute values for cluster 0: Size:2614| Min:-0.21| Avg:0.09| Max: 0.33\n",
      "    Silhoute values for cluster 1: Size:2376| Min:-0.19| Avg:0.09| Max: 0.33\n",
      "    Silhoute values for cluster 2: Size:4892| Min:0.02| Avg:0.33| Max: 0.49\n",
      "The Inertia is :13534.303469138087\n",
      "For n_clusters = 4\n",
      "The average Silhouette_score is: 0.24\n",
      "    Silhoute values for cluster 0: Size:1651| Min:0.01| Avg:0.22| Max: 0.44\n",
      "    Silhoute values for cluster 1: Size:5593| Min:-0.04| Avg:0.26| Max: 0.46\n",
      "    Silhoute values for cluster 2: Size:2142| Min:-0.10| Avg:0.17| Max: 0.41\n",
      "    Silhoute values for cluster 3: Size:496| Min:0.01| Avg:0.39| Max: 0.59\n",
      "The Inertia is :11808.402813733965\n",
      "For n_clusters = 5\n",
      "The average Silhouette_score is: 0.21\n",
      "    Silhoute values for cluster 0: Size:1470| Min:-0.11| Avg:0.20| Max: 0.45\n",
      "    Silhoute values for cluster 1: Size:3577| Min:0.00| Avg:0.23| Max: 0.42\n",
      "    Silhoute values for cluster 2: Size:3837| Min:-0.10| Avg:0.16| Max: 0.38\n",
      "    Silhoute values for cluster 3: Size:681| Min:-0.15| Avg:0.27| Max: 0.53\n",
      "    Silhoute values for cluster 4: Size:317| Min:-0.05| Avg:0.39| Max: 0.61\n",
      "The Inertia is :10041.171920036095\n",
      "For n_clusters = 6\n",
      "The average Silhouette_score is: 0.22\n",
      "    Silhoute values for cluster 0: Size:3321| Min:0.04| Avg:0.33| Max: 0.50\n",
      "    Silhoute values for cluster 1: Size:1361| Min:-0.16| Avg:0.17| Max: 0.43\n",
      "    Silhoute values for cluster 2: Size:3189| Min:-0.19| Avg:0.12| Max: 0.38\n",
      "    Silhoute values for cluster 3: Size:806| Min:-0.07| Avg:0.27| Max: 0.50\n",
      "    Silhoute values for cluster 4: Size:761| Min:-0.34| Avg:0.08| Max: 0.31\n",
      "    Silhoute values for cluster 5: Size:444| Min:-0.05| Avg:0.39| Max: 0.59\n",
      "The Inertia is :8840.994837686709\n",
      "For n_clusters = 7\n",
      "The average Silhouette_score is: 0.22\n",
      "    Silhoute values for cluster 0: Size:3054| Min:0.00| Avg:0.28| Max: 0.46\n",
      "    Silhoute values for cluster 1: Size:477| Min:-0.06| Avg:0.36| Max: 0.58\n",
      "    Silhoute values for cluster 2: Size:302| Min:-0.07| Avg:0.40| Max: 0.62\n",
      "    Silhoute values for cluster 3: Size:3329| Min:-0.16| Avg:0.13| Max: 0.38\n",
      "    Silhoute values for cluster 4: Size:1240| Min:-0.15| Avg:0.14| Max: 0.39\n",
      "    Silhoute values for cluster 5: Size:949| Min:-0.10| Avg:0.24| Max: 0.49\n",
      "    Silhoute values for cluster 6: Size:531| Min:-0.12| Avg:0.29| Max: 0.48\n",
      "The Inertia is :7752.106607012318\n",
      "For n_clusters = 8\n",
      "The average Silhouette_score is: 0.18\n",
      "    Silhoute values for cluster 0: Size:2720| Min:-0.00| Avg:0.21| Max: 0.40\n",
      "    Silhoute values for cluster 1: Size:1389| Min:-0.15| Avg:0.05| Max: 0.28\n",
      "    Silhoute values for cluster 2: Size:1174| Min:-0.14| Avg:0.16| Max: 0.41\n",
      "    Silhoute values for cluster 3: Size:707| Min:-0.07| Avg:0.29| Max: 0.50\n",
      "    Silhoute values for cluster 4: Size:536| Min:-0.15| Avg:0.28| Max: 0.48\n",
      "    Silhoute values for cluster 5: Size:299| Min:-0.07| Avg:0.40| Max: 0.62\n",
      "    Silhoute values for cluster 6: Size:2720| Min:-0.05| Avg:0.14| Max: 0.33\n",
      "    Silhoute values for cluster 7: Size:337| Min:0.08| Avg:0.45| Max: 0.62\n",
      "The Inertia is :7200.049114976314\n",
      "For n_clusters = 9\n",
      "The average Silhouette_score is: 0.18\n",
      "    Silhoute values for cluster 0: Size:2665| Min:0.00| Avg:0.21| Max: 0.41\n",
      "    Silhoute values for cluster 1: Size:1201| Min:-0.15| Avg:0.05| Max: 0.29\n",
      "    Silhoute values for cluster 2: Size:1370| Min:-0.09| Avg:0.09| Max: 0.31\n",
      "    Silhoute values for cluster 3: Size:733| Min:-0.09| Avg:0.28| Max: 0.50\n",
      "    Silhoute values for cluster 4: Size:534| Min:-0.15| Avg:0.28| Max: 0.48\n",
      "    Silhoute values for cluster 5: Size:298| Min:-0.07| Avg:0.40| Max: 0.62\n",
      "    Silhoute values for cluster 6: Size:2399| Min:-0.05| Avg:0.13| Max: 0.33\n",
      "    Silhoute values for cluster 7: Size:330| Min:0.08| Avg:0.44| Max: 0.62\n",
      "    Silhoute values for cluster 8: Size:352| Min:0.01| Avg:0.23| Max: 0.43\n",
      "The Inertia is :6942.590411026593\n",
      "For n_clusters = 10\n",
      "The average Silhouette_score is: 0.17\n",
      "    Silhoute values for cluster 0: Size:2619| Min:-0.01| Avg:0.20| Max: 0.40\n",
      "    Silhoute values for cluster 1: Size:963| Min:-0.13| Avg:0.07| Max: 0.32\n",
      "    Silhoute values for cluster 2: Size:614| Min:-0.02| Avg:0.15| Max: 0.35\n",
      "    Silhoute values for cluster 3: Size:770| Min:-0.10| Avg:0.27| Max: 0.50\n",
      "    Silhoute values for cluster 4: Size:531| Min:-0.15| Avg:0.28| Max: 0.48\n",
      "    Silhoute values for cluster 5: Size:298| Min:-0.07| Avg:0.40| Max: 0.62\n",
      "    Silhoute values for cluster 6: Size:2056| Min:-0.04| Avg:0.13| Max: 0.34\n",
      "    Silhoute values for cluster 7: Size:306| Min:0.05| Avg:0.44| Max: 0.61\n",
      "    Silhoute values for cluster 8: Size:284| Min:-0.03| Avg:0.17| Max: 0.38\n",
      "    Silhoute values for cluster 9: Size:1441| Min:-0.12| Avg:0.04| Max: 0.24\n",
      "The Inertia is :6799.7475421502695\n",
      "For n_clusters = 11\n",
      "The average Silhouette_score is: 0.15\n",
      "    Silhoute values for cluster 0: Size:505| Min:-0.15| Avg:0.28| Max: 0.49\n",
      "    Silhoute values for cluster 1: Size:1885| Min:-0.04| Avg:0.16| Max: 0.38\n",
      "    Silhoute values for cluster 2: Size:702| Min:-0.06| Avg:0.28| Max: 0.50\n",
      "    Silhoute values for cluster 3: Size:390| Min:-0.14| Avg:0.22| Max: 0.47\n",
      "    Silhoute values for cluster 4: Size:887| Min:-0.24| Avg:0.10| Max: 0.37\n",
      "    Silhoute values for cluster 5: Size:286| Min:-0.04| Avg:0.40| Max: 0.62\n",
      "    Silhoute values for cluster 6: Size:1355| Min:-0.11| Avg:0.10| Max: 0.31\n",
      "    Silhoute values for cluster 7: Size:1774| Min:-0.05| Avg:0.14| Max: 0.35\n",
      "    Silhoute values for cluster 8: Size:1613| Min:-0.22| Avg:0.04| Max: 0.31\n",
      "    Silhoute values for cluster 9: Size:185| Min:0.04| Avg:0.42| Max: 0.59\n",
      "    Silhoute values for cluster 10: Size:300| Min:-0.09| Avg:0.19| Max: 0.44\n",
      "The Inertia is :6442.1498045793105\n",
      "For n_clusters = 12\n",
      "The average Silhouette_score is: 0.18\n",
      "    Silhoute values for cluster 0: Size:2724| Min:0.03| Avg:0.25| Max: 0.46\n",
      "    Silhoute values for cluster 1: Size:551| Min:-0.18| Avg:0.05| Max: 0.29\n",
      "    Silhoute values for cluster 2: Size:302| Min:-0.11| Avg:0.39| Max: 0.61\n",
      "    Silhoute values for cluster 3: Size:1533| Min:-0.12| Avg:0.11| Max: 0.36\n",
      "    Silhoute values for cluster 4: Size:491| Min:-0.10| Avg:0.28| Max: 0.47\n",
      "    Silhoute values for cluster 5: Size:194| Min:0.02| Avg:0.40| Max: 0.58\n",
      "    Silhoute values for cluster 6: Size:523| Min:-0.09| Avg:0.17| Max: 0.40\n",
      "    Silhoute values for cluster 7: Size:1039| Min:-0.12| Avg:0.10| Max: 0.35\n",
      "    Silhoute values for cluster 8: Size:311| Min:-0.12| Avg:0.07| Max: 0.31\n",
      "    Silhoute values for cluster 9: Size:598| Min:-0.07| Avg:0.28| Max: 0.50\n",
      "    Silhoute values for cluster 10: Size:374| Min:-0.12| Avg:0.22| Max: 0.46\n",
      "    Silhoute values for cluster 11: Size:1242| Min:-0.11| Avg:0.09| Max: 0.30\n",
      "The Inertia is :6135.330927032861\n",
      "For n_clusters = 13\n",
      "The average Silhouette_score is: 0.15\n",
      "    Silhoute values for cluster 0: Size:1010| Min:0.00| Avg:0.17| Max: 0.37\n",
      "    Silhoute values for cluster 1: Size:2246| Min:-0.09| Avg:0.14| Max: 0.36\n",
      "    Silhoute values for cluster 2: Size:437| Min:-0.10| Avg:0.11| Max: 0.30\n",
      "    Silhoute values for cluster 3: Size:206| Min:0.04| Avg:0.40| Max: 0.58\n",
      "    Silhoute values for cluster 4: Size:298| Min:-0.12| Avg:0.39| Max: 0.62\n",
      "    Silhoute values for cluster 5: Size:689| Min:-0.12| Avg:0.19| Max: 0.44\n",
      "    Silhoute values for cluster 6: Size:852| Min:-0.17| Avg:0.03| Max: 0.29\n",
      "    Silhoute values for cluster 7: Size:651| Min:-0.07| Avg:0.17| Max: 0.38\n",
      "    Silhoute values for cluster 8: Size:518| Min:-0.18| Avg:0.24| Max: 0.45\n",
      "    Silhoute values for cluster 9: Size:809| Min:-0.13| Avg:0.07| Max: 0.28\n",
      "    Silhoute values for cluster 10: Size:386| Min:-0.06| Avg:0.21| Max: 0.45\n",
      "    Silhoute values for cluster 11: Size:1604| Min:-0.13| Avg:0.10| Max: 0.33\n",
      "    Silhoute values for cluster 12: Size:176| Min:0.03| Avg:0.27| Max: 0.45\n",
      "The Inertia is :6070.471300019832\n",
      "For n_clusters = 14\n",
      "The average Silhouette_score is: 0.16\n",
      "    Silhoute values for cluster 0: Size:2224| Min:0.02| Avg:0.23| Max: 0.42\n",
      "    Silhoute values for cluster 1: Size:258| Min:0.03| Avg:0.28| Max: 0.48\n",
      "    Silhoute values for cluster 2: Size:1030| Min:-0.15| Avg:0.08| Max: 0.31\n",
      "    Silhoute values for cluster 3: Size:620| Min:-0.13| Avg:0.15| Max: 0.39\n",
      "    Silhoute values for cluster 4: Size:289| Min:-0.07| Avg:0.37| Max: 0.57\n",
      "    Silhoute values for cluster 5: Size:300| Min:-0.12| Avg:0.39| Max: 0.62\n",
      "    Silhoute values for cluster 6: Size:503| Min:-0.12| Avg:0.28| Max: 0.48\n",
      "    Silhoute values for cluster 7: Size:1789| Min:-0.12| Avg:0.08| Max: 0.28\n",
      "    Silhoute values for cluster 8: Size:758| Min:-0.07| Avg:0.11| Max: 0.33\n",
      "    Silhoute values for cluster 9: Size:674| Min:-0.16| Avg:0.09| Max: 0.36\n",
      "    Silhoute values for cluster 10: Size:114| Min:-0.04| Avg:0.27| Max: 0.48\n",
      "    Silhoute values for cluster 11: Size:532| Min:-0.11| Avg:0.14| Max: 0.39\n",
      "    Silhoute values for cluster 12: Size:656| Min:-0.05| Avg:0.16| Max: 0.39\n",
      "    Silhoute values for cluster 13: Size:135| Min:-0.11| Avg:0.08| Max: 0.33\n",
      "The Inertia is :5863.583059706841\n",
      "For n_clusters = 15\n",
      "The average Silhouette_score is: 0.17\n",
      "    Silhoute values for cluster 0: Size:527| Min:-0.18| Avg:0.26| Max: 0.47\n",
      "    Silhoute values for cluster 1: Size:399| Min:-0.06| Avg:0.16| Max: 0.41\n",
      "    Silhoute values for cluster 2: Size:1870| Min:-0.10| Avg:0.14| Max: 0.37\n",
      "    Silhoute values for cluster 3: Size:282| Min:-0.07| Avg:0.36| Max: 0.58\n",
      "    Silhoute values for cluster 4: Size:486| Min:-0.18| Avg:0.03| Max: 0.26\n",
      "    Silhoute values for cluster 5: Size:538| Min:-0.14| Avg:0.21| Max: 0.45\n",
      "    Silhoute values for cluster 6: Size:98| Min:0.10| Avg:0.33| Max: 0.51\n",
      "    Silhoute values for cluster 7: Size:418| Min:-0.13| Avg:0.20| Max: 0.44\n",
      "    Silhoute values for cluster 8: Size:824| Min:-0.10| Avg:0.16| Max: 0.42\n",
      "    Silhoute values for cluster 9: Size:531| Min:-0.05| Avg:0.14| Max: 0.36\n",
      "    Silhoute values for cluster 10: Size:857| Min:-0.07| Avg:0.13| Max: 0.39\n",
      "    Silhoute values for cluster 11: Size:194| Min:-0.16| Avg:0.21| Max: 0.43\n",
      "    Silhoute values for cluster 12: Size:366| Min:-0.10| Avg:0.10| Max: 0.35\n",
      "    Silhoute values for cluster 13: Size:2134| Min:0.01| Avg:0.19| Max: 0.40\n",
      "    Silhoute values for cluster 14: Size:358| Min:-0.13| Avg:0.09| Max: 0.35\n",
      "The Inertia is :5805.478443067762\n",
      "For n_clusters = 16\n",
      "The average Silhouette_score is: 0.13\n",
      "    Silhoute values for cluster 0: Size:1359| Min:-0.05| Avg:0.12| Max: 0.32\n",
      "    Silhoute values for cluster 1: Size:326| Min:-0.05| Avg:0.39| Max: 0.59\n",
      "    Silhoute values for cluster 2: Size:717| Min:-0.19| Avg:0.03| Max: 0.30\n",
      "    Silhoute values for cluster 3: Size:296| Min:-0.10| Avg:0.39| Max: 0.61\n",
      "    Silhoute values for cluster 4: Size:395| Min:-0.15| Avg:0.27| Max: 0.45\n",
      "    Silhoute values for cluster 5: Size:224| Min:0.04| Avg:0.29| Max: 0.48\n",
      "    Silhoute values for cluster 6: Size:635| Min:-0.08| Avg:0.19| Max: 0.44\n",
      "    Silhoute values for cluster 7: Size:426| Min:-0.09| Avg:0.16| Max: 0.39\n",
      "    Silhoute values for cluster 8: Size:325| Min:-0.14| Avg:0.15| Max: 0.41\n",
      "    Silhoute values for cluster 9: Size:534| Min:-0.19| Avg:0.03| Max: 0.26\n",
      "    Silhoute values for cluster 10: Size:709| Min:-0.13| Avg:0.06| Max: 0.29\n",
      "    Silhoute values for cluster 11: Size:842| Min:-0.13| Avg:0.10| Max: 0.32\n",
      "    Silhoute values for cluster 12: Size:1144| Min:-0.02| Avg:0.09| Max: 0.26\n",
      "    Silhoute values for cluster 13: Size:809| Min:-0.16| Avg:0.10| Max: 0.37\n",
      "    Silhoute values for cluster 14: Size:123| Min:-0.10| Avg:0.08| Max: 0.28\n",
      "    Silhoute values for cluster 15: Size:1018| Min:-0.01| Avg:0.15| Max: 0.34\n",
      "The Inertia is :5583.3173852869895\n",
      "For n_clusters = 17\n",
      "The average Silhouette_score is: 0.14\n",
      "    Silhoute values for cluster 0: Size:497| Min:-0.09| Avg:0.18| Max: 0.42\n",
      "    Silhoute values for cluster 1: Size:838| Min:-0.16| Avg:0.05| Max: 0.28\n",
      "    Silhoute values for cluster 2: Size:364| Min:-0.06| Avg:0.13| Max: 0.36\n",
      "    Silhoute values for cluster 3: Size:554| Min:-0.08| Avg:0.15| Max: 0.38\n",
      "    Silhoute values for cluster 4: Size:1659| Min:0.03| Avg:0.25| Max: 0.46\n",
      "    Silhoute values for cluster 5: Size:544| Min:-0.16| Avg:0.16| Max: 0.41\n",
      "    Silhoute values for cluster 6: Size:133| Min:-0.02| Avg:0.30| Max: 0.50\n",
      "    Silhoute values for cluster 7: Size:1281| Min:-0.14| Avg:0.09| Max: 0.29\n",
      "    Silhoute values for cluster 8: Size:196| Min:-0.03| Avg:0.20| Max: 0.41\n",
      "    Silhoute values for cluster 9: Size:488| Min:-0.16| Avg:0.25| Max: 0.44\n",
      "    Silhoute values for cluster 10: Size:216| Min:0.02| Avg:0.28| Max: 0.47\n",
      "    Silhoute values for cluster 11: Size:143| Min:-0.02| Avg:0.33| Max: 0.52\n",
      "    Silhoute values for cluster 12: Size:749| Min:-0.16| Avg:0.03| Max: 0.25\n",
      "    Silhoute values for cluster 13: Size:1093| Min:-0.16| Avg:0.09| Max: 0.34\n",
      "    Silhoute values for cluster 14: Size:111| Min:-0.04| Avg:0.29| Max: 0.51\n",
      "    Silhoute values for cluster 15: Size:818| Min:-0.12| Avg:0.06| Max: 0.28\n",
      "    Silhoute values for cluster 16: Size:198| Min:-0.14| Avg:0.18| Max: 0.42\n",
      "The Inertia is :5417.26055227693\n",
      "For n_clusters = 18\n",
      "The average Silhouette_score is: 0.15\n",
      "    Silhoute values for cluster 0: Size:1679| Min:0.02| Avg:0.20| Max: 0.42\n",
      "    Silhoute values for cluster 1: Size:419| Min:-0.10| Avg:0.20| Max: 0.47\n",
      "    Silhoute values for cluster 2: Size:295| Min:-0.10| Avg:0.07| Max: 0.26\n",
      "    Silhoute values for cluster 3: Size:415| Min:-0.07| Avg:0.24| Max: 0.47\n",
      "    Silhoute values for cluster 4: Size:121| Min:-0.03| Avg:0.29| Max: 0.48\n",
      "    Silhoute values for cluster 5: Size:299| Min:-0.13| Avg:0.38| Max: 0.61\n",
      "    Silhoute values for cluster 6: Size:1745| Min:-0.09| Avg:0.11| Max: 0.33\n",
      "    Silhoute values for cluster 7: Size:218| Min:0.03| Avg:0.40| Max: 0.58\n",
      "    Silhoute values for cluster 8: Size:93| Min:-0.07| Avg:0.13| Max: 0.32\n",
      "    Silhoute values for cluster 9: Size:893| Min:-0.06| Avg:0.09| Max: 0.30\n",
      "    Silhoute values for cluster 10: Size:272| Min:-0.08| Avg:0.21| Max: 0.45\n",
      "    Silhoute values for cluster 11: Size:362| Min:-0.13| Avg:0.09| Max: 0.35\n",
      "    Silhoute values for cluster 12: Size:61| Min:0.02| Avg:0.29| Max: 0.50\n",
      "    Silhoute values for cluster 13: Size:670| Min:-0.19| Avg:0.03| Max: 0.26\n",
      "    Silhoute values for cluster 14: Size:353| Min:-0.04| Avg:0.12| Max: 0.31\n",
      "    Silhoute values for cluster 15: Size:358| Min:-0.17| Avg:0.16| Max: 0.38\n",
      "    Silhoute values for cluster 16: Size:930| Min:-0.08| Avg:0.11| Max: 0.33\n",
      "    Silhoute values for cluster 17: Size:699| Min:-0.10| Avg:0.19| Max: 0.42\n",
      "The Inertia is :5393.380368310083\n",
      "For n_clusters = 19\n",
      "The average Silhouette_score is: 0.15\n",
      "    Silhoute values for cluster 0: Size:1613| Min:0.03| Avg:0.19| Max: 0.39\n",
      "    Silhoute values for cluster 1: Size:400| Min:-0.10| Avg:0.19| Max: 0.45\n",
      "    Silhoute values for cluster 2: Size:258| Min:-0.10| Avg:0.07| Max: 0.28\n",
      "    Silhoute values for cluster 3: Size:373| Min:-0.07| Avg:0.24| Max: 0.47\n",
      "    Silhoute values for cluster 4: Size:122| Min:-0.01| Avg:0.29| Max: 0.48\n",
      "    Silhoute values for cluster 5: Size:298| Min:-0.13| Avg:0.37| Max: 0.61\n",
      "    Silhoute values for cluster 6: Size:1119| Min:-0.12| Avg:0.06| Max: 0.28\n",
      "    Silhoute values for cluster 7: Size:214| Min:0.03| Avg:0.40| Max: 0.58\n",
      "    Silhoute values for cluster 8: Size:82| Min:-0.08| Avg:0.10| Max: 0.31\n",
      "    Silhoute values for cluster 9: Size:622| Min:-0.09| Avg:0.10| Max: 0.32\n",
      "    Silhoute values for cluster 10: Size:280| Min:-0.07| Avg:0.21| Max: 0.46\n",
      "    Silhoute values for cluster 11: Size:350| Min:-0.14| Avg:0.08| Max: 0.35\n",
      "    Silhoute values for cluster 12: Size:61| Min:0.02| Avg:0.29| Max: 0.51\n",
      "    Silhoute values for cluster 13: Size:550| Min:-0.19| Avg:0.02| Max: 0.26\n",
      "    Silhoute values for cluster 14: Size:282| Min:-0.03| Avg:0.16| Max: 0.37\n",
      "    Silhoute values for cluster 15: Size:353| Min:-0.11| Avg:0.17| Max: 0.39\n",
      "    Silhoute values for cluster 16: Size:908| Min:-0.09| Avg:0.10| Max: 0.32\n",
      "    Silhoute values for cluster 17: Size:666| Min:-0.08| Avg:0.18| Max: 0.43\n",
      "    Silhoute values for cluster 18: Size:1331| Min:-0.10| Avg:0.13| Max: 0.33\n",
      "The Inertia is :5286.30290335482\n",
      "For n_clusters = 20\n",
      "The average Silhouette_score is: 0.14\n",
      "    Silhoute values for cluster 0: Size:1280| Min:-0.10| Avg:0.09| Max: 0.28\n",
      "    Silhoute values for cluster 1: Size:278| Min:-0.01| Avg:0.26| Max: 0.47\n",
      "    Silhoute values for cluster 2: Size:282| Min:-0.14| Avg:0.13| Max: 0.32\n",
      "    Silhoute values for cluster 3: Size:615| Min:-0.05| Avg:0.09| Max: 0.28\n",
      "    Silhoute values for cluster 4: Size:296| Min:-0.12| Avg:0.38| Max: 0.61\n",
      "    Silhoute values for cluster 5: Size:145| Min:0.08| Avg:0.39| Max: 0.57\n",
      "    Silhoute values for cluster 6: Size:339| Min:-0.14| Avg:0.18| Max: 0.45\n",
      "    Silhoute values for cluster 7: Size:479| Min:-0.11| Avg:0.10| Max: 0.29\n",
      "    Silhoute values for cluster 8: Size:1578| Min:0.01| Avg:0.20| Max: 0.40\n",
      "    Silhoute values for cluster 9: Size:225| Min:-0.10| Avg:0.18| Max: 0.38\n",
      "    Silhoute values for cluster 10: Size:278| Min:-0.14| Avg:0.04| Max: 0.24\n",
      "    Silhoute values for cluster 11: Size:274| Min:-0.07| Avg:0.18| Max: 0.43\n",
      "    Silhoute values for cluster 12: Size:960| Min:-0.10| Avg:0.09| Max: 0.32\n",
      "    Silhoute values for cluster 13: Size:108| Min:-0.09| Avg:0.26| Max: 0.49\n",
      "    Silhoute values for cluster 14: Size:417| Min:-0.15| Avg:0.03| Max: 0.21\n",
      "    Silhoute values for cluster 15: Size:597| Min:-0.08| Avg:0.17| Max: 0.40\n",
      "    Silhoute values for cluster 16: Size:510| Min:-0.10| Avg:0.10| Max: 0.33\n",
      "    Silhoute values for cluster 17: Size:878| Min:-0.09| Avg:0.10| Max: 0.33\n",
      "    Silhoute values for cluster 18: Size:181| Min:-0.10| Avg:0.14| Max: 0.37\n",
      "    Silhoute values for cluster 19: Size:162| Min:-0.04| Avg:0.18| Max: 0.37\n",
      "The Inertia is :5183.993717270396\n",
      "For n_clusters = 21\n",
      "The average Silhouette_score is: 0.13\n",
      "    Silhoute values for cluster 0: Size:1430| Min:0.03| Avg:0.25| Max: 0.48\n",
      "    Silhoute values for cluster 1: Size:358| Min:-0.13| Avg:0.09| Max: 0.29\n",
      "    Silhoute values for cluster 2: Size:210| Min:0.00| Avg:0.28| Max: 0.48\n",
      "    Silhoute values for cluster 3: Size:532| Min:-0.07| Avg:0.09| Max: 0.27\n",
      "    Silhoute values for cluster 4: Size:552| Min:-0.14| Avg:0.07| Max: 0.29\n",
      "    Silhoute values for cluster 5: Size:476| Min:-0.17| Avg:0.24| Max: 0.43\n",
      "    Silhoute values for cluster 6: Size:124| Min:0.05| Avg:0.35| Max: 0.53\n",
      "    Silhoute values for cluster 7: Size:583| Min:-0.11| Avg:0.13| Max: 0.36\n",
      "    Silhoute values for cluster 8: Size:84| Min:-0.21| Avg:0.11| Max: 0.37\n",
      "    Silhoute values for cluster 9: Size:114| Min:0.02| Avg:0.30| Max: 0.51\n",
      "    Silhoute values for cluster 10: Size:659| Min:-0.24| Avg:0.02| Max: 0.26\n",
      "    Silhoute values for cluster 11: Size:494| Min:-0.07| Avg:0.15| Max: 0.37\n",
      "    Silhoute values for cluster 12: Size:195| Min:-0.05| Avg:0.28| Max: 0.50\n",
      "    Silhoute values for cluster 13: Size:230| Min:-0.03| Avg:0.22| Max: 0.42\n",
      "    Silhoute values for cluster 14: Size:1016| Min:-0.16| Avg:0.05| Max: 0.25\n",
      "    Silhoute values for cluster 15: Size:208| Min:-0.06| Avg:0.20| Max: 0.40\n",
      "    Silhoute values for cluster 16: Size:578| Min:-0.21| Avg:0.01| Max: 0.27\n",
      "    Silhoute values for cluster 17: Size:174| Min:-0.03| Avg:0.25| Max: 0.50\n",
      "    Silhoute values for cluster 18: Size:864| Min:-0.17| Avg:0.10| Max: 0.32\n",
      "    Silhoute values for cluster 19: Size:806| Min:-0.11| Avg:0.10| Max: 0.34\n",
      "    Silhoute values for cluster 20: Size:195| Min:-0.14| Avg:0.04| Max: 0.26\n",
      "The Inertia is :5073.77292918018\n",
      "For n_clusters = 22\n",
      "The average Silhouette_score is: 0.13\n",
      "    Silhoute values for cluster 0: Size:1460| Min:0.03| Avg:0.24| Max: 0.48\n",
      "    Silhoute values for cluster 1: Size:355| Min:-0.15| Avg:0.08| Max: 0.29\n",
      "    Silhoute values for cluster 2: Size:223| Min:-0.00| Avg:0.28| Max: 0.48\n",
      "    Silhoute values for cluster 3: Size:487| Min:-0.08| Avg:0.10| Max: 0.31\n",
      "    Silhoute values for cluster 4: Size:525| Min:-0.15| Avg:0.05| Max: 0.27\n",
      "    Silhoute values for cluster 5: Size:473| Min:-0.11| Avg:0.23| Max: 0.42\n",
      "    Silhoute values for cluster 6: Size:124| Min:0.05| Avg:0.35| Max: 0.53\n",
      "    Silhoute values for cluster 7: Size:536| Min:-0.10| Avg:0.12| Max: 0.35\n",
      "    Silhoute values for cluster 8: Size:85| Min:-0.22| Avg:0.10| Max: 0.36\n",
      "    Silhoute values for cluster 9: Size:116| Min:0.01| Avg:0.30| Max: 0.50\n",
      "    Silhoute values for cluster 10: Size:636| Min:-0.23| Avg:0.01| Max: 0.25\n",
      "    Silhoute values for cluster 11: Size:526| Min:-0.08| Avg:0.15| Max: 0.38\n",
      "    Silhoute values for cluster 12: Size:185| Min:-0.06| Avg:0.26| Max: 0.49\n",
      "    Silhoute values for cluster 13: Size:220| Min:-0.04| Avg:0.21| Max: 0.41\n",
      "    Silhoute values for cluster 14: Size:859| Min:-0.15| Avg:0.07| Max: 0.29\n",
      "    Silhoute values for cluster 15: Size:208| Min:-0.06| Avg:0.20| Max: 0.40\n",
      "    Silhoute values for cluster 16: Size:492| Min:-0.24| Avg:-0.01| Max: 0.23\n",
      "    Silhoute values for cluster 17: Size:174| Min:-0.09| Avg:0.25| Max: 0.50\n",
      "    Silhoute values for cluster 18: Size:741| Min:-0.16| Avg:0.11| Max: 0.32\n",
      "    Silhoute values for cluster 19: Size:690| Min:-0.08| Avg:0.11| Max: 0.36\n",
      "    Silhoute values for cluster 20: Size:182| Min:-0.16| Avg:0.04| Max: 0.27\n",
      "    Silhoute values for cluster 21: Size:585| Min:-0.13| Avg:0.10| Max: 0.33\n",
      "The Inertia is :4978.512653607417\n",
      "For n_clusters = 23\n",
      "The average Silhouette_score is: 0.14\n",
      "    Silhoute values for cluster 0: Size:642| Min:-0.13| Avg:0.10| Max: 0.33\n",
      "    Silhoute values for cluster 1: Size:444| Min:-0.12| Avg:0.10| Max: 0.31\n",
      "    Silhoute values for cluster 2: Size:817| Min:-0.12| Avg:0.09| Max: 0.28\n",
      "    Silhoute values for cluster 3: Size:260| Min:-0.07| Avg:0.35| Max: 0.55\n",
      "    Silhoute values for cluster 4: Size:272| Min:-0.06| Avg:0.19| Max: 0.41\n",
      "    Silhoute values for cluster 5: Size:292| Min:-0.13| Avg:0.38| Max: 0.60\n",
      "    Silhoute values for cluster 6: Size:599| Min:-0.13| Avg:0.10| Max: 0.34\n",
      "    Silhoute values for cluster 7: Size:368| Min:-0.12| Avg:0.15| Max: 0.35\n",
      "    Silhoute values for cluster 8: Size:321| Min:-0.11| Avg:0.19| Max: 0.40\n",
      "    Silhoute values for cluster 9: Size:240| Min:-0.12| Avg:0.21| Max: 0.45\n",
      "    Silhoute values for cluster 10: Size:591| Min:-0.13| Avg:0.08| Max: 0.28\n",
      "    Silhoute values for cluster 11: Size:348| Min:-0.17| Avg:0.09| Max: 0.33\n",
      "    Silhoute values for cluster 12: Size:332| Min:-0.11| Avg:0.08| Max: 0.29\n",
      "    Silhoute values for cluster 13: Size:98| Min:-0.08| Avg:0.28| Max: 0.48\n",
      "    Silhoute values for cluster 14: Size:593| Min:-0.15| Avg:0.07| Max: 0.31\n",
      "    Silhoute values for cluster 15: Size:449| Min:-0.12| Avg:0.10| Max: 0.31\n",
      "    Silhoute values for cluster 16: Size:211| Min:-0.16| Avg:0.06| Max: 0.30\n",
      "    Silhoute values for cluster 17: Size:393| Min:-0.14| Avg:0.16| Max: 0.42\n",
      "    Silhoute values for cluster 18: Size:1158| Min:0.04| Avg:0.22| Max: 0.42\n",
      "    Silhoute values for cluster 19: Size:120| Min:-0.04| Avg:0.31| Max: 0.49\n",
      "    Silhoute values for cluster 20: Size:110| Min:-0.00| Avg:0.27| Max: 0.47\n",
      "    Silhoute values for cluster 21: Size:402| Min:-0.16| Avg:0.00| Max: 0.20\n",
      "    Silhoute values for cluster 22: Size:822| Min:-0.12| Avg:0.14| Max: 0.36\n",
      "The Inertia is :4879.327546420557\n",
      "For n_clusters = 24\n",
      "The average Silhouette_score is: 0.14\n",
      "    Silhoute values for cluster 0: Size:703| Min:-0.12| Avg:0.12| Max: 0.36\n",
      "    Silhoute values for cluster 1: Size:285| Min:-0.27| Avg:0.05| Max: 0.33\n",
      "    Silhoute values for cluster 2: Size:307| Min:-0.20| Avg:0.04| Max: 0.34\n",
      "    Silhoute values for cluster 3: Size:409| Min:-0.09| Avg:0.13| Max: 0.34\n",
      "    Silhoute values for cluster 4: Size:272| Min:-0.16| Avg:0.05| Max: 0.25\n",
      "    Silhoute values for cluster 5: Size:145| Min:0.07| Avg:0.39| Max: 0.57\n",
      "    Silhoute values for cluster 6: Size:271| Min:-0.07| Avg:0.18| Max: 0.43\n",
      "    Silhoute values for cluster 7: Size:263| Min:-0.12| Avg:0.33| Max: 0.56\n",
      "    Silhoute values for cluster 8: Size:782| Min:-0.14| Avg:0.08| Max: 0.33\n",
      "    Silhoute values for cluster 9: Size:330| Min:-0.12| Avg:0.08| Max: 0.30\n",
      "    Silhoute values for cluster 10: Size:261| Min:-0.07| Avg:0.21| Max: 0.41\n",
      "    Silhoute values for cluster 11: Size:61| Min:0.01| Avg:0.28| Max: 0.52\n",
      "    Silhoute values for cluster 12: Size:996| Min:-0.17| Avg:0.09| Max: 0.33\n",
      "    Silhoute values for cluster 13: Size:312| Min:-0.09| Avg:0.20| Max: 0.43\n",
      "    Silhoute values for cluster 14: Size:535| Min:-0.06| Avg:0.17| Max: 0.40\n",
      "    Silhoute values for cluster 15: Size:911| Min:-0.21| Avg:0.05| Max: 0.30\n",
      "    Silhoute values for cluster 16: Size:154| Min:-0.09| Avg:0.22| Max: 0.44\n",
      "    Silhoute values for cluster 17: Size:219| Min:-0.09| Avg:0.22| Max: 0.45\n",
      "    Silhoute values for cluster 18: Size:105| Min:-0.05| Avg:0.28| Max: 0.50\n",
      "    Silhoute values for cluster 19: Size:151| Min:0.02| Avg:0.27| Max: 0.46\n",
      "    Silhoute values for cluster 20: Size:655| Min:-0.18| Avg:0.10| Max: 0.34\n",
      "    Silhoute values for cluster 21: Size:51| Min:0.03| Avg:0.22| Max: 0.43\n",
      "    Silhoute values for cluster 22: Size:1232| Min:0.02| Avg:0.26| Max: 0.46\n",
      "    Silhoute values for cluster 23: Size:472| Min:-0.08| Avg:0.10| Max: 0.34\n",
      "The Inertia is :4772.463973636898\n",
      "\n"
     ]
    }
   ],
   "source": [
    "distorsions = []\n",
    "for k in tqdm(range(2, 25)):\n",
    "    generate_clusters(vectorized_docs, k)"
   ]
  },
  {
   "cell_type": "markdown",
   "metadata": {},
   "source": [
    "## Analyze generated clusters"
   ]
  },
  {
   "cell_type": "code",
   "execution_count": 81,
   "metadata": {},
   "outputs": [
    {
     "name": "stdout",
     "output_type": "stream",
     "text": [
      "For n_clusters = 7\n",
      "The average Silhouette_score is: 0.22\n",
      "    Silhoute values for cluster 0: Size:3054| Min:0.00| Avg:0.28| Max: 0.46\n",
      "    Silhoute values for cluster 1: Size:477| Min:-0.06| Avg:0.36| Max: 0.58\n",
      "    Silhoute values for cluster 2: Size:302| Min:-0.07| Avg:0.40| Max: 0.62\n",
      "    Silhoute values for cluster 3: Size:3329| Min:-0.16| Avg:0.13| Max: 0.38\n",
      "    Silhoute values for cluster 4: Size:1240| Min:-0.15| Avg:0.14| Max: 0.39\n",
      "    Silhoute values for cluster 5: Size:949| Min:-0.10| Avg:0.24| Max: 0.49\n",
      "    Silhoute values for cluster 6: Size:531| Min:-0.12| Avg:0.29| Max: 0.48\n",
      "The Inertia is :7752.106607012318\n"
     ]
    }
   ],
   "source": [
    "clustering, cluster_labels = generate_clusters(vectorized_docs, 7)"
   ]
  },
  {
   "cell_type": "code",
   "execution_count": 82,
   "metadata": {},
   "outputs": [],
   "source": [
    "df_clusters = pd.DataFrame({\n",
    "    \"text\": docs,\n",
    "    \"tokens\": [\" \".join(text) for text in tokenized_docs],\n",
    "    \"cluster\": cluster_labels\n",
    "})"
   ]
  },
  {
   "cell_type": "markdown",
   "metadata": {},
   "source": [
    "### Most frequent tokens"
   ]
  },
  {
   "cell_type": "code",
   "execution_count": 115,
   "metadata": {
    "scrolled": true
   },
   "outputs": [
    {
     "data": {
      "text/plain": [
       "[('hurricane', 638),\n",
       " ('dorian', 569),\n",
       " ('bahamas', 292),\n",
       " ('storm', 251),\n",
       " ('carolina', 103),\n",
       " ('north', 100),\n",
       " ('us', 94),\n",
       " ('trump', 90),\n",
       " ('coast', 87),\n",
       " ('category', 75),\n",
       " ('people', 75),\n",
       " ('winds', 73),\n",
       " ('tropical', 71),\n",
       " ('alabama', 67),\n",
       " ('hit', 67),\n",
       " ('national', 67),\n",
       " ('florida', 64),\n",
       " ('president', 64),\n",
       " ('island', 59),\n",
       " ('islands', 55),\n",
       " ('dorians', 53),\n",
       " ('expected', 51),\n",
       " ('could', 48),\n",
       " ('south', 48),\n",
       " ('said', 47),\n",
       " ('landfall', 46),\n",
       " ('humberto', 45),\n",
       " ('donald', 45),\n",
       " ('weather', 43),\n",
       " ('rain', 41),\n",
       " ('one', 39),\n",
       " ('reuters', 37),\n",
       " ('heavy', 36),\n",
       " ('parts', 36),\n",
       " ('homes', 35),\n",
       " ('least', 35),\n",
       " ('officials', 35),\n",
       " ('cbs', 34),\n",
       " ('death', 34),\n",
       " ('playing', 34),\n",
       " ('days', 32),\n",
       " ('thousands', 32),\n",
       " ('eye', 32),\n",
       " ('still', 31),\n",
       " ('toll', 31),\n",
       " ('path', 31),\n",
       " ('carolinas', 31),\n",
       " ('world', 30),\n",
       " ('thursday', 30),\n",
       " ('damage', 28)]"
      ]
     },
     "execution_count": 115,
     "metadata": {},
     "output_type": "execute_result"
    }
   ],
   "source": [
    "test_cluster = 2\n",
    "Counter(\" \".join(df_clusters.query(f\"cluster == {test_cluster}\")[\"tokens\"]).split()).most_common(50)"
   ]
  },
  {
   "cell_type": "markdown",
   "metadata": {},
   "source": [
    "### Most representative documents"
   ]
  },
  {
   "cell_type": "code",
   "execution_count": 117,
   "metadata": {
    "scrolled": true
   },
   "outputs": [
    {
     "name": "stdout",
     "output_type": "stream",
     "text": [
      "Live updates: Hurricane Dorian heads for the US - CNN | Hurricane Dorian is tracking its way north, near Florida's east coast. Follow here for the latest forecasts and news updates. | Floridians are boarding up their homes and businesses and leaving behind messages for Hurricane Dorian.\n",
      "\"Dorian Olive U 2 go back 2 sea,\" reads the board on Olive U Mediterranean Grill in Palm Beach Gardens, Florida.\n",
      "The owner, Abdul, told CNN that staff we… [+380 chars]\n",
      "-------------\n",
      "North Carolina's outer banks prepare for a potential direct hit from Hurricane Dorian | North Carolina's outer banks are dangerously exposed to Hurricane Dorian's wind and the potential for a storm surge, and residents are bracing for a possible direct hit. The storm has already caused tornados, including one caught on a doorbell camera. Omar Vi… | \n",
      "-------------\n",
      "Hurricane Dorian takes aim at the Carolinas as death toll rises in the Bahamas | Water levels were rising along South Carolina's coast early Thursday morning as Hurricane Dorian inched toward the picturesque port city of Charleston. | Water levels were rising along South Carolina's coast early Thursday morning as Hurricane Dorian inched toward the picturesque port city of Charleston.\n",
      "Interested in Hurricanes?\n",
      "Add Hurricanes as an interest to stay up to date on the latest Hurricanes news,… [+6222 chars]\n",
      "-------------\n",
      "\"You need to overprepare\": Former Louisiana Governor Bobby Jindal shares tips for surviving a hurricane | There will be no rest in Florida this Labor Day weekend as Hurricane Dorian approaches. Dorian could be the strongest storm to hit Florida's east coast since Hurricane Andrew in 1992. An emergency has been declared for the entire state, and for part of Georgi… | \n",
      "-------------\n",
      "Hurricane Dorian: Scams and Fraud to Be Aware of, from Price-Gouging to Fake Charities | In the past, destructive natural disasters have been exploited by scammers. Experts say it is vital to be aware of what to look out for. | As Hurricane Dorian continues to bear down upon the Bahamas, U.S. authorities warn about a variety of scams that can arise during natural disasters.\n",
      "The National Weather Service said today the \"devastating\" hurricane is expected to remain a powerful storm ov… [+4534 chars]\n",
      "-------------\n",
      "Here's how you can help Hurricane Dorian victims | As Hurricane Dorian batters the Bahamas, residents are reporting widespread devastation -- water covering everything in its path. Homes are submerged, families are trapped, and lives have been lost.  Here's how you can help the victims. | (CNN)As Hurricane Dorian batters the Bahamas, residents are reporting widespread devastation -- homes ripped apart, water covering everything in its path. Families are trapped and lives lost. Right now, the U.S. Coast Guard is helping the Bahamas Royal Police… [+525 chars]\n",
      "-------------\n",
      "Dorian offshore; Lingling lands in N Korea; Faxai threatens Japan | Hurricane Dorian now threatens Canada while Typhoon Lingling makes landfall and Faxai won't be long but threatens Tokyo. | North America\n",
      "Hurricane Dorian is not yet done with North America. Although it remains out at sea, the bands of thunderstorms and onshore gales have plagued almost every Atlantic state.\n",
      "Saturday morning saw Cape Cod and Nantucket Island getting battered by … [+1948 chars]\n",
      "-------------\n",
      "Hurricane Dorian makes one final stop in the US before racing to Canada | Hurricane Dorian made one final US stop in southeastern Massachusetts on Saturday as it races through the Atlantic Ocean and toward the Canadian province of Nova Scotia. | \n",
      "-------------\n",
      "9/4/19: Red and Blue | Tracking the latest on Hurricane Dorian; Activists launch bus tour to rally women voters | \n",
      "-------------\n",
      "Charleston mayor on the triple threat his city is facing from Hurricane Dorian | The mayor of Charleston, John Tecklenburg, joins “CBS This Morning” to discuss the triple threat his city is facing from Hurricane Dorian. Tecklenburg advised his residents to stay inside, and discussed his concerns about coming high tides. | \n",
      "-------------\n"
     ]
    }
   ],
   "source": [
    "most_representative_docs = np.argsort(\n",
    "    np.linalg.norm(vectorized_docs - clustering.cluster_centers_[test_cluster], axis=1)\n",
    ")\n",
    "for d in most_representative_docs[:10]:\n",
    "    print(docs[d])\n",
    "    print(\"-------------\")"
   ]
  },
  {
   "cell_type": "markdown",
   "metadata": {},
   "source": [
    "### Most representative tokens"
   ]
  },
  {
   "cell_type": "code",
   "execution_count": 118,
   "metadata": {},
   "outputs": [
    {
     "data": {
      "text/plain": [
       "[('carolinas', 0.9925810694694519),\n",
       " ('decimated', 0.9917576313018799),\n",
       " ('ravaged', 0.9912359714508057),\n",
       " ('islands', 0.9912341833114624),\n",
       " ('charleston', 0.9891331195831299),\n",
       " ('category', 0.9891209602355957),\n",
       " ('tornadoes', 0.9884063601493835),\n",
       " ('trajectory', 0.9877771139144897),\n",
       " ('floridas', 0.987080454826355),\n",
       " ('outer', 0.9845644235610962)]"
      ]
     },
     "execution_count": 118,
     "metadata": {},
     "output_type": "execute_result"
    }
   ],
   "source": [
    "model.wv.most_similar(positive=[clustering.cluster_centers_[test_cluster]], topn=10)"
   ]
  },
  {
   "cell_type": "markdown",
   "metadata": {},
   "source": [
    "### Random sample of documents"
   ]
  },
  {
   "cell_type": "code",
   "execution_count": 119,
   "metadata": {
    "scrolled": true
   },
   "outputs": [
    {
     "name": "stdout",
     "output_type": "stream",
     "text": [
      "Hurricane Dorian Path Map Update: Category 3 Storm's Slow Movement Will Make It More Destructive Say Experts | Experts say calm conditions above the storm are keeping it stationary, meaning that it is wreaking more damage on the Bahamas, as it bears down on the U.S. east coast. | Hurricane Dorian is wreaking more havoc on the Bahamas because the calm atmosphere above it is keeping it stationary, meteorologists have warned.\n",
      "In a counterintuitive analysis of the most powerful Atlantic hurricanes on record, where winds have reached up t… [+2947 chars]\n",
      "-------------\n",
      "Trump said he skipped a diplomatic trip to monitor Hurricane Dorian. Then he spent the weekend golfing. | President Donald Trump told reporters last week that he was canceling a highly anticipated diplomatic trip to Poland so he could monitor Hurricane Dorian from Camp David. Trump spent hours playing golf at the Trump National Golf Club in Sterling, Virginia thr… | President Donald Trump announced last week that he was canceling a diplomatic trip to Poland so he could monitor Hurricane Dorian from Camp David as the Category 4 storm made its way toward the southeastern US. Trump said he canceled the trip because it was \"… [+4010 chars]\n",
      "-------------\n",
      "U.S. women who survived Dorian: Families \"thought we were dead\" | Pam Mobley and Joann Coakley's husbands feared the worst when the two vacationing women lost contact with families back home in the middle of the hurricane | Among the harrowing stories of survival from people after Hurricane Dorian flattened parts of the Bahamas, is that of two Americans who were stranded there while on vacation, losing contact with their husbands in the middle of the storm. For 48 hours, their f… [+2062 chars]\n",
      "-------------\n",
      "Hurricane Dorian makes one final stop in the US before racing to Canada | Hurricane Dorian made one final US stop in southeastern Massachusetts on Saturday as it races through the Atlantic Ocean and toward the Canadian province of Nova Scotia. | \n",
      "-------------\n",
      "Humberto weakens to category 2 Atlantic hurricane: U.S. NHC | Humberto has weakened to a category 2 Atlantic hurricane and is expected to become a powerful extra-tropical cyclone later on Thursday, the U.S. National Hurricane Center said. | (Reuters) - Humberto has weakened to a category 2 Atlantic hurricane and is expected to become a powerful extra-tropical cyclone later on Thursday, the U.S. National Hurricane Center said. \n",
      "The hurricane was located about 415 miles (665 km) northeast of Berm… [+209 chars]\n",
      "-------------\n",
      "The Latest: Tropical Storm Humberto strengthens off Bahamas | Get breaking national and world news, broadcast video coverage, and exclusive interviews. Find the top news online at ABC news. | The Latest on Tropical Storm Humberto (all times local):\n",
      "12:20 p.m.\n",
      "Tropical Storm Humberto has strengthened as it sweeps past an area of the Bahamas that was wracked by Hurricane Dorian.\n",
      "The U.S. National Hurricane Center said Saturday that the storm was … [+1422 chars]\n",
      "-------------\n",
      "NOAA issues statement supporting Trump's claim Hurricane Dorian threatened Alabama | Five days after President Donald Trump tweeted that Hurricane Dorian threatened Alabama, NOAA weighed in. | Five days after Donald Trump said Hurricane Dorian threatened Alabama, the National Oceanic and Atmospheric Association issued a statement late Friday supporting the president's claim and chastising a local branch of the National Weather Service.\n",
      "Interested … [+3215 chars]\n",
      "-------------\n",
      "Devastating images show Dorian ravaging the Bahamas | The deadly storm, which was stuck in place over the island nation, has been pounding the northern Bahamas for nearly two days | The prime minister of the Bahamas said parts of his country, which is just 200 miles southeast of Florida, were in \"the midst of a historic tragedy.\" Hurricane Dorian was stuck in place over the island nation, pounding the northern Bahamas for nearly 48 hours… [+2762 chars]\n",
      "-------------\n",
      "'Staggering' death toll feared in Bahamas after Dorian's destruction | Charities, government agencies and even cruise ships loaded with supplies and volunteers rushed emergency aid to the storm-ravaged Bahamas on Saturday amid fears of a \"staggering\" death toll left in the wake of Hurricane Dorian. | NASSAU, Bahamas (Reuters) - Charities, government agencies and even cruise ships loaded with supplies and volunteers rushed emergency aid to the storm-ravaged Bahamas on Saturday amid fears of a “staggering” death toll left in the wake of Hurricane Dorian. \n",
      "… [+4672 chars]\n",
      "-------------\n",
      "Backstory: Eye of the storm - How a length of rope helped me survived Hurricane Dorian | Before I flew into Marsh Harbour to take pictures of Hurricane Dorian for Reuters I spoke to my cousin, a fire and rescue worker in the Bahamas, who gave me a mystifying piece of advice just before he hung up: Make sure you take some rope. | MARSH HARBOUR, Bahamas (Reuters) - Before I flew into Marsh Harbour to take pictures of Hurricane Dorian for Reuters I spoke to my cousin, a fire and rescue worker in the Bahamas, who gave me a mystifying piece of advice just before he hung up: Make sure you … [+4245 chars]\n",
      "-------------\n"
     ]
    }
   ],
   "source": [
    "for i,t in enumerate(df_clusters.query(f\"cluster == {test_cluster}\").sample(10).iterrows()):\n",
    "    print(t[1][\"text\"])\n",
    "    print(\"-------------\")"
   ]
  }
 ],
 "metadata": {
  "kernelspec": {
   "display_name": "Python 3",
   "language": "python",
   "name": "python3"
  },
  "language_info": {
   "codemirror_mode": {
    "name": "ipython",
    "version": 3
   },
   "file_extension": ".py",
   "mimetype": "text/x-python",
   "name": "python",
   "nbconvert_exporter": "python",
   "pygments_lexer": "ipython3",
   "version": "3.9.0"
  }
 },
 "nbformat": 4,
 "nbformat_minor": 4
}
