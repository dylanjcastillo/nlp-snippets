{
 "cells": [
  {
   "cell_type": "markdown",
   "metadata": {},
   "source": [
    "## Import required libraries"
   ]
  },
  {
   "cell_type": "code",
   "execution_count": 1,
   "metadata": {},
   "outputs": [
    {
     "name": "stderr",
     "output_type": "stream",
     "text": [
      "[nltk_data] Downloading package stopwords to\n",
      "[nltk_data]     /Users/dylancastillo/nltk_data...\n",
      "[nltk_data]   Package stopwords is already up-to-date!\n",
      "[nltk_data] Downloading package punkt to\n",
      "[nltk_data]     /Users/dylancastillo/nltk_data...\n",
      "[nltk_data]   Package punkt is already up-to-date!\n"
     ]
    }
   ],
   "source": [
    "import os\n",
    "import re\n",
    "import string\n",
    "from collections import Counter\n",
    "from string import punctuation\n",
    "from time import time\n",
    "\n",
    "import gensim\n",
    "import nltk\n",
    "import numpy as np\n",
    "import pandas as pd\n",
    "from gensim.models import Word2Vec\n",
    "from nltk.corpus import stopwords\n",
    "from nltk.tokenize import word_tokenize\n",
    "from sklearn.cluster import MiniBatchKMeans\n",
    "from sklearn.metrics import silhouette_samples, silhouette_score\n",
    "from tqdm.notebook import tqdm\n",
    "\n",
    "from ds_utils.config import set_display_options\n",
    "from ds_utils.data import NEWS_DATA\n",
    "from ds_utils.functions import vectorize\n",
    "\n",
    "nltk.download(\"stopwords\")\n",
    "nltk.download(\"punkt\")\n",
    "set_display_options()"
   ]
  },
  {
   "cell_type": "markdown",
   "metadata": {},
   "source": [
    "## Read Data"
   ]
  },
  {
   "cell_type": "code",
   "execution_count": 2,
   "metadata": {},
   "outputs": [],
   "source": [
    "df = pd.read_csv(NEWS_DATA)"
   ]
  },
  {
   "cell_type": "code",
   "execution_count": 3,
   "metadata": {},
   "outputs": [
    {
     "data": {
      "text/plain": [
       "(10437, 15)"
      ]
     },
     "execution_count": 3,
     "metadata": {},
     "output_type": "execute_result"
    }
   ],
   "source": [
    "df.shape"
   ]
  },
  {
   "cell_type": "code",
   "execution_count": 4,
   "metadata": {},
   "outputs": [
    {
     "data": {
      "text/plain": [
       "Index(['Unnamed: 0', 'source_id', 'source_name', 'author', 'title',\n",
       "       'description', 'url', 'url_to_image', 'published_at', 'content',\n",
       "       'top_article', 'engagement_reaction_count', 'engagement_comment_count',\n",
       "       'engagement_share_count', 'engagement_comment_plugin_count'],\n",
       "      dtype='object')"
      ]
     },
     "execution_count": 4,
     "metadata": {},
     "output_type": "execute_result"
    }
   ],
   "source": [
    "df.columns"
   ]
  },
  {
   "cell_type": "code",
   "execution_count": 5,
   "metadata": {},
   "outputs": [
    {
     "data": {
      "text/html": [
       "<div>\n",
       "<style scoped>\n",
       "    .dataframe tbody tr th:only-of-type {\n",
       "        vertical-align: middle;\n",
       "    }\n",
       "\n",
       "    .dataframe tbody tr th {\n",
       "        vertical-align: top;\n",
       "    }\n",
       "\n",
       "    .dataframe thead th {\n",
       "        text-align: right;\n",
       "    }\n",
       "</style>\n",
       "<table border=\"1\" class=\"dataframe\">\n",
       "  <thead>\n",
       "    <tr style=\"text-align: right;\">\n",
       "      <th></th>\n",
       "      <th>1846</th>\n",
       "    </tr>\n",
       "  </thead>\n",
       "  <tbody>\n",
       "    <tr>\n",
       "      <th>Unnamed: 0</th>\n",
       "      <td>1846</td>\n",
       "    </tr>\n",
       "    <tr>\n",
       "      <th>source_id</th>\n",
       "      <td>abc-news</td>\n",
       "    </tr>\n",
       "    <tr>\n",
       "      <th>source_name</th>\n",
       "      <td>ABC News</td>\n",
       "    </tr>\n",
       "    <tr>\n",
       "      <th>author</th>\n",
       "      <td>The Associated Press</td>\n",
       "    </tr>\n",
       "    <tr>\n",
       "      <th>title</th>\n",
       "      <td>New sentencing date set for man involved in grisly killing</td>\n",
       "    </tr>\n",
       "    <tr>\n",
       "      <th>description</th>\n",
       "      <td>A new trial date has been set for a man convicted to help cover up the death of a North Dakota woman whose baby was cut from her womb</td>\n",
       "    </tr>\n",
       "    <tr>\n",
       "      <th>url</th>\n",
       "      <td>https://abcnews.go.com/US/wireStory/sentencing-date-set-man-involved-grisly-killing-65435099</td>\n",
       "    </tr>\n",
       "    <tr>\n",
       "      <th>url_to_image</th>\n",
       "      <td>NaN</td>\n",
       "    </tr>\n",
       "    <tr>\n",
       "      <th>published_at</th>\n",
       "      <td>2019-09-06T17:06:26Z</td>\n",
       "    </tr>\n",
       "    <tr>\n",
       "      <th>content</th>\n",
       "      <td>A new sentencing hearing has been set for a man convicted of helping to cover up the death of a North Dakota woman whose baby was cut from her womb.\\r\\nThe North Dakota Supreme Court ruled last month that William Hoehn should not have been sentenced to life in … [+495 chars]</td>\n",
       "    </tr>\n",
       "    <tr>\n",
       "      <th>top_article</th>\n",
       "      <td>0.00</td>\n",
       "    </tr>\n",
       "    <tr>\n",
       "      <th>engagement_reaction_count</th>\n",
       "      <td>0.00</td>\n",
       "    </tr>\n",
       "    <tr>\n",
       "      <th>engagement_comment_count</th>\n",
       "      <td>0.00</td>\n",
       "    </tr>\n",
       "    <tr>\n",
       "      <th>engagement_share_count</th>\n",
       "      <td>0.00</td>\n",
       "    </tr>\n",
       "    <tr>\n",
       "      <th>engagement_comment_plugin_count</th>\n",
       "      <td>0.00</td>\n",
       "    </tr>\n",
       "  </tbody>\n",
       "</table>\n",
       "</div>"
      ],
      "text/plain": [
       "                                                                                                                                                                                                                                                                                                                1846\n",
       "Unnamed: 0                                                                                                                                                                                                                                                                                                      1846\n",
       "source_id                                                                                                                                                                                                                                                                                                   abc-news\n",
       "source_name                                                                                                                                                                                                                                                                                                 ABC News\n",
       "author                                                                                                                                                                                                                                                                                          The Associated Press\n",
       "title                                                                                                                                                                                                                                                     New sentencing date set for man involved in grisly killing\n",
       "description                                                                                                                                                                    A new trial date has been set for a man convicted to help cover up the death of a North Dakota woman whose baby was cut from her womb\n",
       "url                                                                                                                                                                                                                     https://abcnews.go.com/US/wireStory/sentencing-date-set-man-involved-grisly-killing-65435099\n",
       "url_to_image                                                                                                                                                                                                                                                                                                     NaN\n",
       "published_at                                                                                                                                                                                                                                                                                    2019-09-06T17:06:26Z\n",
       "content                          A new sentencing hearing has been set for a man convicted of helping to cover up the death of a North Dakota woman whose baby was cut from her womb.\\r\\nThe North Dakota Supreme Court ruled last month that William Hoehn should not have been sentenced to life in … [+495 chars]\n",
       "top_article                                                                                                                                                                                                                                                                                                     0.00\n",
       "engagement_reaction_count                                                                                                                                                                                                                                                                                       0.00\n",
       "engagement_comment_count                                                                                                                                                                                                                                                                                        0.00\n",
       "engagement_share_count                                                                                                                                                                                                                                                                                          0.00\n",
       "engagement_comment_plugin_count                                                                                                                                                                                                                                                                                 0.00"
      ]
     },
     "execution_count": 5,
     "metadata": {},
     "output_type": "execute_result"
    }
   ],
   "source": [
    "df.sample(1).T"
   ]
  },
  {
   "cell_type": "markdown",
   "metadata": {},
   "source": [
    "## Fill missing values"
   ]
  },
  {
   "cell_type": "code",
   "execution_count": 6,
   "metadata": {},
   "outputs": [
    {
     "data": {
      "text/plain": [
       "Unnamed: 0                        0.00\n",
       "source_id                         0.00\n",
       "source_name                       0.00\n",
       "author                            0.10\n",
       "title                             0.00\n",
       "description                       0.00\n",
       "url                               0.00\n",
       "url_to_image                      0.06\n",
       "published_at                      0.00\n",
       "content                           0.12\n",
       "top_article                       0.00\n",
       "engagement_reaction_count         0.01\n",
       "engagement_comment_count          0.01\n",
       "engagement_share_count            0.01\n",
       "engagement_comment_plugin_count   0.01\n",
       "dtype: float64"
      ]
     },
     "execution_count": 6,
     "metadata": {},
     "output_type": "execute_result"
    }
   ],
   "source": [
    "df.isna().mean()"
   ]
  },
  {
   "cell_type": "code",
   "execution_count": 7,
   "metadata": {},
   "outputs": [],
   "source": [
    "df[\"content\"] = df[\"content\"].fillna(\"\")"
   ]
  },
  {
   "cell_type": "markdown",
   "metadata": {},
   "source": [
    "## Generate tokens"
   ]
  },
  {
   "cell_type": "code",
   "execution_count": 8,
   "metadata": {},
   "outputs": [
    {
     "data": {
      "text/plain": [
       "'Reports say Boeing insider filed safety complaint about Max | Reports: Boeing engineer filed internal complaint that backup safety system on the 737 Max was rejected because of cost concerns | Boeings reputation is taking another hit, as published reports say a company engineer filed an internal complaint alleging that company managers rejected a backup system that might have alerted pilots to problems linked to two deadly crashes involving the 737… [+540 chars]'"
      ]
     },
     "execution_count": 8,
     "metadata": {},
     "output_type": "execute_result"
    }
   ],
   "source": [
    "df.sample(1).apply(lambda x: x[\"title\"] + \" | \" + x[\"description\"] + \" | \" + x[\"content\"], axis=1).values[0]"
   ]
  },
  {
   "cell_type": "code",
   "execution_count": 9,
   "metadata": {},
   "outputs": [
    {
     "name": "stdout",
     "output_type": "stream",
     "text": [
      "SAMPLE TEXT: Polls close in first round of Tunisian presidential election | Polling booths closed at 6 pm (1700 GMT) in Tunisia on Sunday after voting in the first round of a presidential election in the young democracy.\n",
      "TOKENS: ['polls', 'close', 'first', 'round', 'tunisian', 'presidential', 'election', 'polling', 'booths', 'closed', 'pm', 'gmt', 'tunisia', 'sunday', 'voting', 'first', 'round', 'presidential', 'election', 'young', 'democracy']\n",
      "------\n",
      "SAMPLE TEXT: \"The Hollywood Ripper:\" How \"48 Hours\" helped crack the case | Four young women attacked, only one survivor — inside the investigation and trial of the serial, sexual thrill killer\n",
      "TOKENS: ['hollywood', 'ripper', 'hours', 'helped', 'crack', 'case', 'four', 'young', 'women', 'attacked', 'one', 'survivor', 'inside', 'investigation', 'trial', 'serial', 'sexual', 'thrill', 'killer']\n",
      "------\n",
      "SAMPLE TEXT: Xeris Pharma's low blood sugar treatment wins FDA approval | The U.S. Food and Drug Administration has approved Xeris Pharmaceuticals Inc's glucagon pen that aims to treat severely low sugar levels in diabetes patients, the drugmaker said on Tuesday.\n",
      "TOKENS: ['xeris', 'pharmas', 'low', 'blood', 'sugar', 'treatment', 'wins', 'fda', 'approval', 'us', 'food', 'drug', 'administration', 'approved', 'xeris', 'pharmaceuticals', 'incs', 'glucagon', 'pen', 'aims', 'treat', 'severely', 'low', 'sugar', 'levels', 'diabetes', 'patients', 'drugmaker', 'said', 'tuesday']\n",
      "------\n",
      "SAMPLE TEXT: Pompeo defends State Department role in Giuliani's Ukraine efforts | Pompeo defends State Dept role in Giuliani’s Ukraine efforts amid allegations of impropriety, Congressional investigation\n",
      "TOKENS: ['pompeo', 'defends', 'state', 'department', 'role', 'giulianis', 'ukraine', 'efforts', 'pompeo', 'defends', 'state', 'dept', 'role', 'giuliani', 'ukraine', 'efforts', 'amid', 'allegations', 'impropriety', 'congressional', 'investigation']\n",
      "------\n",
      "SAMPLE TEXT: US set to impose tariffs on $7.5bn of EU imports in Airbus row | The World Trade Organization has issued its latest ruling in the 15 year dispute over Airbus subsidies.\n",
      "TOKENS: ['us', 'set', 'impose', 'tariffs', '75bn', 'eu', 'imports', 'airbus', 'row', 'world', 'trade', 'organization', 'issued', 'latest', 'ruling', 'year', 'dispute', 'airbus', 'subsidies']\n",
      "------\n"
     ]
    }
   ],
   "source": [
    "stop_words = set(stopwords.words(\"english\") + [\"news\", \"new\", \"top\"])\n",
    "\n",
    "def generate_tokens(text, tokenizer=word_tokenize, stop_words=stop_words):\n",
    "    text = str(text).lower() # Lowercase words\n",
    "    text = re.sub(r\"\\[(.*?)\\]\", \"\", text) # Remove [+XYZ chars] in content\n",
    "    text = re.sub(r\"\\s+\", \" \", text) # Remove multiple spaces in content\n",
    "    text = re.sub(r\"\\w+…|…\", \"\", text) # Remove ellipsis (and last word)\n",
    "    text = re.sub(r\"(?<=\\w)-(?=\\w)\", \" \", text) # Replace dash between words\n",
    "    text = re.sub(f\"[{re.escape(string.punctuation)}]\", \"\", text) # Remove punctuation\n",
    "    \n",
    "    tokens = tokenizer(text) # Get tokens from text\n",
    "    tokens = [t for t in tokens if not t in stop_words] # Remove stopwords\n",
    "    tokens = [\"\" if t.isdigit() else t for t in tokens] # Remove digits\n",
    "    tokens = [t for t in tokens if len(t) > 1] # Remove short tokens\n",
    "    return tokens\n",
    "\n",
    "for _ in range(5):\n",
    "    sample_text = df.sample(1).apply(lambda x: x[\"title\"] + \" | \" + x[\"description\"], axis=1).values[0]\n",
    "    print(f\"SAMPLE TEXT: {sample_text}\")\n",
    "    print(f\"TOKENS: {generate_tokens(sample_text)}\")\n",
    "    print(f\"------\")"
   ]
  },
  {
   "cell_type": "code",
   "execution_count": 10,
   "metadata": {},
   "outputs": [
    {
     "data": {
      "text/plain": [
       "((10437, 17), (9882, 17))"
      ]
     },
     "execution_count": 10,
     "metadata": {},
     "output_type": "execute_result"
    }
   ],
   "source": [
    "text_columns = [\"title\", \"description\", \"content\"]\n",
    "\n",
    "for col in text_columns:\n",
    "    df[col] = df[col].astype(str)\n",
    "\n",
    "# Create text column based on title, description, and content\n",
    "df[\"text\"] = df[text_columns].apply(lambda x: ' | '.join(x), axis=1)\n",
    "df[\"tokens\"] = df[\"text\"].map(lambda x: generate_tokens(x))\n",
    "\n",
    "# Remove duplicated after preprocessing\n",
    "_, idx = np.unique(df[\"tokens\"], return_index=True)\n",
    "df_proc = df.iloc[idx, :]\n",
    "\n",
    "# Remove empty values\n",
    "df_proc = df_proc.loc[df_proc.tokens.map(lambda x: len(x) > 0)]\n",
    "\n",
    "df.shape, df_proc.shape"
   ]
  },
  {
   "cell_type": "markdown",
   "metadata": {},
   "source": [
    "## Review vocabulary"
   ]
  },
  {
   "cell_type": "code",
   "execution_count": 11,
   "metadata": {},
   "outputs": [],
   "source": [
    "docs = df_proc[\"text\"].values\n",
    "tokenized_docs = df_proc[\"tokens\"].values\n",
    "vocab = Counter()\n",
    "for token in tokenized_docs:\n",
    "    vocab.update(token)"
   ]
  },
  {
   "cell_type": "code",
   "execution_count": 12,
   "metadata": {},
   "outputs": [
    {
     "data": {
      "text/plain": [
       "32454"
      ]
     },
     "execution_count": 12,
     "metadata": {},
     "output_type": "execute_result"
    }
   ],
   "source": [
    "len(vocab)"
   ]
  },
  {
   "cell_type": "code",
   "execution_count": 13,
   "metadata": {},
   "outputs": [
    {
     "data": {
      "text/plain": [
       "[('us', 2757),\n",
       " ('said', 2519),\n",
       " ('year', 1781),\n",
       " ('president', 1756),\n",
       " ('trump', 1705),\n",
       " ('world', 1620),\n",
       " ('says', 1511),\n",
       " ('one', 1418),\n",
       " ('two', 1284),\n",
       " ('first', 1195)]"
      ]
     },
     "execution_count": 13,
     "metadata": {},
     "output_type": "execute_result"
    }
   ],
   "source": [
    "vocab.most_common(10)"
   ]
  },
  {
   "cell_type": "markdown",
   "metadata": {},
   "source": [
    "## Train Word2Vec model"
   ]
  },
  {
   "cell_type": "code",
   "execution_count": 14,
   "metadata": {},
   "outputs": [],
   "source": [
    "model = Word2Vec(sentences=tokenized_docs, vector_size=100, workers=4, seed=42)"
   ]
  },
  {
   "cell_type": "code",
   "execution_count": 15,
   "metadata": {},
   "outputs": [
    {
     "data": {
      "text/plain": [
       "[('trumps', 0.9852380752563477),\n",
       " ('president', 0.9776293635368347),\n",
       " ('donald', 0.956746518611908),\n",
       " ('breitbart', 0.9487488269805908),\n",
       " ('ivanka', 0.939983606338501),\n",
       " ('administration', 0.9337033033370972),\n",
       " ('impeachment', 0.9273420572280884),\n",
       " ('turnberry', 0.9235938191413879),\n",
       " ('inquiry', 0.9205366373062134),\n",
       " ('biden', 0.9179183840751648)]"
      ]
     },
     "execution_count": 15,
     "metadata": {},
     "output_type": "execute_result"
    }
   ],
   "source": [
    "model.wv.most_similar(\"trump\")"
   ]
  },
  {
   "cell_type": "code",
   "execution_count": 16,
   "metadata": {},
   "outputs": [
    {
     "data": {
      "text/plain": [
       "[('chat', 0.9380522966384888),\n",
       " ('messenger', 0.9257147908210754),\n",
       " ('find', 0.908592939376831),\n",
       " ('gambling', 0.9063940048217773),\n",
       " ('google', 0.9059684872627258),\n",
       " ('online', 0.8690320253372192),\n",
       " ('wjla', 0.8537392020225525),\n",
       " ('interviews', 0.8390310406684875),\n",
       " ('whats', 0.8332228064537048),\n",
       " ('analysis', 0.8328741192817688)]"
      ]
     },
     "execution_count": 16,
     "metadata": {},
     "output_type": "execute_result"
    }
   ],
   "source": [
    "model.wv.most_similar(\"facebook\")"
   ]
  },
  {
   "cell_type": "markdown",
   "metadata": {},
   "source": [
    "## Generate vectors from documents"
   ]
  },
  {
   "cell_type": "code",
   "execution_count": 17,
   "metadata": {},
   "outputs": [
    {
     "data": {
      "text/plain": [
       "(9882, 100)"
      ]
     },
     "execution_count": 17,
     "metadata": {},
     "output_type": "execute_result"
    }
   ],
   "source": [
    "vectorized_docs = vectorize(tokenized_docs, model=model, strategy=\"average\")\n",
    "len(vectorized_docs), len(vectorized_docs[0])"
   ]
  },
  {
   "cell_type": "markdown",
   "metadata": {},
   "source": [
    "## Choose number of clusters"
   ]
  },
  {
   "cell_type": "code",
   "execution_count": 18,
   "metadata": {},
   "outputs": [],
   "source": [
    "def generate_clusters(X, k, mb=500, random_state=42):\n",
    "    clustering = MiniBatchKMeans(n_clusters=k, batch_size=mb, random_state=random_state)\n",
    "    cluster_labels = clustering.fit_predict(X)\n",
    "    print(f\"For n_clusters = {k}\")\n",
    "    silhouette_avg = silhouette_score(X, cluster_labels)\n",
    "    print(f\"The average Silhouette_score is: {silhouette_avg:.2f}\")\n",
    "    sample_silhouette_values = silhouette_samples(X, cluster_labels)\n",
    "    for i in range(k):\n",
    "        ith_cluster_silhouette_values = sample_silhouette_values[cluster_labels == i]\n",
    "        print(f\"    Silhoute values for cluster {i}: \"\n",
    "        f\"Size:{ith_cluster_silhouette_values.shape[0]}\"\n",
    "        f\"| Min:{ith_cluster_silhouette_values.min():.2f}\"\n",
    "        f\"| Avg:{ith_cluster_silhouette_values.mean():.2f}\"\n",
    "        f\"| Max: {ith_cluster_silhouette_values.max():.2f}\")\n",
    "    try:\n",
    "        print(f\"The Inertia is :{clustering.inertia_}\")\n",
    "        distorsions.append(clustering.inertia_)\n",
    "    except:\n",
    "        pass\n",
    "    return clustering, cluster_labels"
   ]
  },
  {
   "cell_type": "code",
   "execution_count": 19,
   "metadata": {
    "scrolled": true
   },
   "outputs": [
    {
     "data": {
      "application/vnd.jupyter.widget-view+json": {
       "model_id": "129079843bc84658ab9647098e46ca2b",
       "version_major": 2,
       "version_minor": 0
      },
      "text/plain": [
       "HBox(children=(HTML(value=''), FloatProgress(value=0.0, max=23.0), HTML(value='')))"
      ]
     },
     "metadata": {},
     "output_type": "display_data"
    },
    {
     "name": "stdout",
     "output_type": "stream",
     "text": [
      "For n_clusters = 2\n",
      "The average Silhouette_score is: 0.27\n",
      "    Silhoute values for cluster 0: Size:7334| Min:0.01| Avg:0.33| Max: 0.50\n",
      "    Silhoute values for cluster 1: Size:2548| Min:-0.14| Avg:0.11| Max: 0.33\n",
      "The Inertia is :15430.023632544493\n",
      "For n_clusters = 3\n",
      "The average Silhouette_score is: 0.22\n",
      "    Silhoute values for cluster 0: Size:5322| Min:-0.00| Avg:0.29| Max: 0.47\n",
      "    Silhoute values for cluster 1: Size:1189| Min:-0.08| Avg:0.24| Max: 0.47\n",
      "    Silhoute values for cluster 2: Size:3371| Min:-0.15| Avg:0.09| Max: 0.30\n",
      "The Inertia is :13490.466629284378\n",
      "For n_clusters = 4\n",
      "The average Silhouette_score is: 0.24\n",
      "    Silhoute values for cluster 0: Size:5106| Min:0.04| Avg:0.34| Max: 0.51\n",
      "    Silhoute values for cluster 1: Size:3315| Min:-0.20| Avg:0.05| Max: 0.28\n",
      "    Silhoute values for cluster 2: Size:315| Min:-0.02| Avg:0.39| Max: 0.60\n",
      "    Silhoute values for cluster 3: Size:1146| Min:-0.07| Avg:0.28| Max: 0.50\n",
      "The Inertia is :11770.854998793282\n",
      "For n_clusters = 5\n",
      "The average Silhouette_score is: 0.24\n",
      "    Silhoute values for cluster 0: Size:4754| Min:0.01| Avg:0.30| Max: 0.49\n",
      "    Silhoute values for cluster 1: Size:881| Min:-0.01| Avg:0.33| Max: 0.54\n",
      "    Silhoute values for cluster 2: Size:2253| Min:-0.07| Avg:0.18| Max: 0.41\n",
      "    Silhoute values for cluster 3: Size:314| Min:-0.05| Avg:0.39| Max: 0.60\n",
      "    Silhoute values for cluster 4: Size:1680| Min:-0.16| Avg:0.10| Max: 0.36\n",
      "The Inertia is :9993.623239969402\n",
      "For n_clusters = 6\n",
      "The average Silhouette_score is: 0.26\n",
      "    Silhoute values for cluster 0: Size:4588| Min:0.04| Avg:0.37| Max: 0.56\n",
      "    Silhoute values for cluster 1: Size:851| Min:-0.05| Avg:0.33| Max: 0.54\n",
      "    Silhoute values for cluster 2: Size:1838| Min:-0.16| Avg:0.14| Max: 0.39\n",
      "    Silhoute values for cluster 3: Size:300| Min:-0.09| Avg:0.40| Max: 0.61\n",
      "    Silhoute values for cluster 4: Size:1637| Min:-0.24| Avg:0.07| Max: 0.35\n",
      "    Silhoute values for cluster 5: Size:668| Min:-0.19| Avg:0.20| Max: 0.44\n",
      "The Inertia is :8798.451399448666\n",
      "For n_clusters = 7\n",
      "The average Silhouette_score is: 0.26\n",
      "    Silhoute values for cluster 0: Size:4025| Min:0.04| Avg:0.34| Max: 0.54\n",
      "    Silhoute values for cluster 1: Size:673| Min:-0.01| Avg:0.31| Max: 0.52\n",
      "    Silhoute values for cluster 2: Size:1498| Min:-0.17| Avg:0.16| Max: 0.43\n",
      "    Silhoute values for cluster 3: Size:300| Min:-0.07| Avg:0.39| Max: 0.61\n",
      "    Silhoute values for cluster 4: Size:2320| Min:-0.14| Avg:0.12| Max: 0.37\n",
      "    Silhoute values for cluster 5: Size:647| Min:-0.19| Avg:0.21| Max: 0.44\n",
      "    Silhoute values for cluster 6: Size:419| Min:-0.02| Avg:0.39| Max: 0.60\n",
      "The Inertia is :7473.58840014711\n",
      "For n_clusters = 8\n",
      "The average Silhouette_score is: 0.18\n",
      "    Silhoute values for cluster 0: Size:2143| Min:-0.04| Avg:0.16| Max: 0.36\n",
      "    Silhoute values for cluster 1: Size:1309| Min:-0.18| Avg:0.14| Max: 0.40\n",
      "    Silhoute values for cluster 2: Size:1748| Min:-0.18| Avg:0.06| Max: 0.29\n",
      "    Silhoute values for cluster 3: Size:298| Min:-0.09| Avg:0.39| Max: 0.61\n",
      "    Silhoute values for cluster 4: Size:410| Min:-0.02| Avg:0.40| Max: 0.60\n",
      "    Silhoute values for cluster 5: Size:648| Min:-0.00| Avg:0.30| Max: 0.51\n",
      "    Silhoute values for cluster 6: Size:528| Min:-0.14| Avg:0.27| Max: 0.47\n",
      "    Silhoute values for cluster 7: Size:2798| Min:0.01| Avg:0.18| Max: 0.38\n",
      "The Inertia is :7049.637659186106\n",
      "For n_clusters = 9\n",
      "The average Silhouette_score is: 0.17\n",
      "    Silhoute values for cluster 0: Size:2051| Min:-0.07| Avg:0.15| Max: 0.36\n",
      "    Silhoute values for cluster 1: Size:1510| Min:-0.12| Avg:0.10| Max: 0.31\n",
      "    Silhoute values for cluster 2: Size:1625| Min:-0.19| Avg:0.05| Max: 0.30\n",
      "    Silhoute values for cluster 3: Size:298| Min:-0.07| Avg:0.39| Max: 0.62\n",
      "    Silhoute values for cluster 4: Size:410| Min:-0.02| Avg:0.40| Max: 0.60\n",
      "    Silhoute values for cluster 5: Size:648| Min:-0.01| Avg:0.30| Max: 0.51\n",
      "    Silhoute values for cluster 6: Size:529| Min:-0.16| Avg:0.26| Max: 0.46\n",
      "    Silhoute values for cluster 7: Size:2313| Min:0.02| Avg:0.18| Max: 0.39\n",
      "    Silhoute values for cluster 8: Size:498| Min:-0.06| Avg:0.19| Max: 0.41\n",
      "The Inertia is :6732.932629393684\n",
      "For n_clusters = 10\n",
      "The average Silhouette_score is: 0.18\n",
      "    Silhoute values for cluster 0: Size:775| Min:-0.13| Avg:0.18| Max: 0.43\n",
      "    Silhoute values for cluster 1: Size:2243| Min:-0.11| Avg:0.11| Max: 0.34\n",
      "    Silhoute values for cluster 2: Size:337| Min:-0.02| Avg:0.25| Max: 0.46\n",
      "    Silhoute values for cluster 3: Size:499| Min:-0.11| Avg:0.28| Max: 0.48\n",
      "    Silhoute values for cluster 4: Size:298| Min:-0.08| Avg:0.39| Max: 0.61\n",
      "    Silhoute values for cluster 5: Size:396| Min:0.00| Avg:0.40| Max: 0.60\n",
      "    Silhoute values for cluster 6: Size:744| Min:-0.08| Avg:0.18| Max: 0.42\n",
      "    Silhoute values for cluster 7: Size:1651| Min:-0.18| Avg:0.06| Max: 0.28\n",
      "    Silhoute values for cluster 8: Size:405| Min:-0.09| Avg:0.16| Max: 0.41\n",
      "    Silhoute values for cluster 9: Size:2534| Min:0.03| Avg:0.22| Max: 0.41\n",
      "The Inertia is :6463.592461860368\n",
      "For n_clusters = 11\n",
      "The average Silhouette_score is: 0.16\n",
      "    Silhoute values for cluster 0: Size:507| Min:-0.16| Avg:0.26| Max: 0.46\n",
      "    Silhoute values for cluster 1: Size:1255| Min:-0.15| Avg:0.10| Max: 0.34\n",
      "    Silhoute values for cluster 2: Size:786| Min:-0.07| Avg:0.14| Max: 0.39\n",
      "    Silhoute values for cluster 3: Size:1454| Min:-0.19| Avg:0.06| Max: 0.31\n",
      "    Silhoute values for cluster 4: Size:300| Min:-0.12| Avg:0.38| Max: 0.61\n",
      "    Silhoute values for cluster 5: Size:631| Min:-0.12| Avg:0.12| Max: 0.36\n",
      "    Silhoute values for cluster 6: Size:700| Min:-0.15| Avg:0.18| Max: 0.41\n",
      "    Silhoute values for cluster 7: Size:279| Min:0.01| Avg:0.40| Max: 0.59\n",
      "    Silhoute values for cluster 8: Size:2314| Min:0.06| Avg:0.24| Max: 0.44\n",
      "    Silhoute values for cluster 9: Size:1311| Min:-0.15| Avg:0.08| Max: 0.31\n",
      "    Silhoute values for cluster 10: Size:345| Min:0.00| Avg:0.26| Max: 0.46\n",
      "The Inertia is :6228.7077192384795\n",
      "For n_clusters = 12\n",
      "The average Silhouette_score is: 0.16\n",
      "    Silhoute values for cluster 0: Size:286| Min:-0.06| Avg:0.22| Max: 0.47\n",
      "    Silhoute values for cluster 1: Size:1974| Min:-0.08| Avg:0.14| Max: 0.36\n",
      "    Silhoute values for cluster 2: Size:359| Min:-0.04| Avg:0.23| Max: 0.45\n",
      "    Silhoute values for cluster 3: Size:390| Min:-0.03| Avg:0.39| Max: 0.60\n",
      "    Silhoute values for cluster 4: Size:722| Min:-0.10| Avg:0.17| Max: 0.41\n",
      "    Silhoute values for cluster 5: Size:797| Min:-0.17| Avg:0.18| Max: 0.44\n",
      "    Silhoute values for cluster 6: Size:1360| Min:-0.08| Avg:0.13| Max: 0.36\n",
      "    Silhoute values for cluster 7: Size:293| Min:-0.08| Avg:0.39| Max: 0.61\n",
      "    Silhoute values for cluster 8: Size:483| Min:-0.10| Avg:0.26| Max: 0.45\n",
      "    Silhoute values for cluster 9: Size:1121| Min:-0.17| Avg:0.07| Max: 0.31\n",
      "    Silhoute values for cluster 10: Size:905| Min:-0.20| Avg:0.03| Max: 0.28\n",
      "    Silhoute values for cluster 11: Size:1192| Min:0.00| Avg:0.18| Max: 0.38\n",
      "The Inertia is :6052.290608715528\n",
      "For n_clusters = 13\n",
      "The average Silhouette_score is: 0.15\n",
      "    Silhoute values for cluster 0: Size:1442| Min:-0.00| Avg:0.18| Max: 0.37\n",
      "    Silhoute values for cluster 1: Size:1447| Min:-0.17| Avg:0.03| Max: 0.26\n",
      "    Silhoute values for cluster 2: Size:561| Min:-0.12| Avg:0.11| Max: 0.33\n",
      "    Silhoute values for cluster 3: Size:2268| Min:-0.11| Avg:0.12| Max: 0.34\n",
      "    Silhoute values for cluster 4: Size:266| Min:-0.01| Avg:0.39| Max: 0.58\n",
      "    Silhoute values for cluster 5: Size:353| Min:-0.15| Avg:0.05| Max: 0.29\n",
      "    Silhoute values for cluster 6: Size:296| Min:-0.09| Avg:0.39| Max: 0.62\n",
      "    Silhoute values for cluster 7: Size:488| Min:-0.12| Avg:0.26| Max: 0.46\n",
      "    Silhoute values for cluster 8: Size:717| Min:-0.14| Avg:0.19| Max: 0.43\n",
      "    Silhoute values for cluster 9: Size:300| Min:-0.07| Avg:0.23| Max: 0.43\n",
      "    Silhoute values for cluster 10: Size:518| Min:-0.13| Avg:0.15| Max: 0.41\n",
      "    Silhoute values for cluster 11: Size:490| Min:-0.12| Avg:0.16| Max: 0.41\n",
      "    Silhoute values for cluster 12: Size:736| Min:-0.07| Avg:0.16| Max: 0.39\n",
      "The Inertia is :5940.999157441944\n",
      "For n_clusters = 14\n",
      "The average Silhouette_score is: 0.16\n",
      "    Silhoute values for cluster 0: Size:1405| Min:-0.18| Avg:0.08| Max: 0.33\n",
      "    Silhoute values for cluster 1: Size:430| Min:-0.10| Avg:0.19| Max: 0.44\n",
      "    Silhoute values for cluster 2: Size:245| Min:-0.02| Avg:0.38| Max: 0.57\n",
      "    Silhoute values for cluster 3: Size:295| Min:-0.11| Avg:0.39| Max: 0.62\n",
      "    Silhoute values for cluster 4: Size:437| Min:-0.05| Avg:0.20| Max: 0.36\n",
      "    Silhoute values for cluster 5: Size:642| Min:-0.07| Avg:0.19| Max: 0.43\n",
      "    Silhoute values for cluster 6: Size:1770| Min:0.06| Avg:0.26| Max: 0.46\n",
      "    Silhoute values for cluster 7: Size:798| Min:-0.16| Avg:0.17| Max: 0.44\n",
      "    Silhoute values for cluster 8: Size:735| Min:-0.21| Avg:0.02| Max: 0.27\n",
      "    Silhoute values for cluster 9: Size:448| Min:-0.14| Avg:0.09| Max: 0.35\n",
      "    Silhoute values for cluster 10: Size:1509| Min:-0.16| Avg:0.10| Max: 0.33\n",
      "    Silhoute values for cluster 11: Size:597| Min:-0.14| Avg:0.13| Max: 0.40\n",
      "    Silhoute values for cluster 12: Size:316| Min:-0.04| Avg:0.23| Max: 0.44\n",
      "    Silhoute values for cluster 13: Size:255| Min:-0.14| Avg:0.08| Max: 0.30\n",
      "The Inertia is :5718.297281199127\n",
      "For n_clusters = 15\n",
      "The average Silhouette_score is: 0.15\n",
      "    Silhoute values for cluster 0: Size:1114| Min:-0.14| Avg:0.08| Max: 0.29\n",
      "    Silhoute values for cluster 1: Size:620| Min:-0.17| Avg:0.04| Max: 0.26\n",
      "    Silhoute values for cluster 2: Size:1001| Min:-0.16| Avg:0.07| Max: 0.31\n",
      "    Silhoute values for cluster 3: Size:1447| Min:-0.21| Avg:0.06| Max: 0.30\n",
      "    Silhoute values for cluster 4: Size:710| Min:-0.11| Avg:0.07| Max: 0.26\n",
      "    Silhoute values for cluster 5: Size:291| Min:-0.12| Avg:0.39| Max: 0.62\n",
      "    Silhoute values for cluster 6: Size:493| Min:-0.12| Avg:0.25| Max: 0.45\n",
      "    Silhoute values for cluster 7: Size:377| Min:-0.13| Avg:0.21| Max: 0.47\n",
      "    Silhoute values for cluster 8: Size:184| Min:0.04| Avg:0.27| Max: 0.45\n",
      "    Silhoute values for cluster 9: Size:848| Min:-0.14| Avg:0.12| Max: 0.34\n",
      "    Silhoute values for cluster 10: Size:349| Min:-0.04| Avg:0.19| Max: 0.40\n",
      "    Silhoute values for cluster 11: Size:1584| Min:0.05| Avg:0.25| Max: 0.46\n",
      "    Silhoute values for cluster 12: Size:209| Min:-0.04| Avg:0.24| Max: 0.46\n",
      "    Silhoute values for cluster 13: Size:468| Min:-0.05| Avg:0.14| Max: 0.36\n",
      "    Silhoute values for cluster 14: Size:187| Min:0.06| Avg:0.42| Max: 0.59\n",
      "The Inertia is :5525.129647311667\n",
      "For n_clusters = 16\n",
      "The average Silhouette_score is: 0.15\n",
      "    Silhoute values for cluster 0: Size:1248| Min:-0.05| Avg:0.13| Max: 0.35\n",
      "    Silhoute values for cluster 1: Size:490| Min:-0.14| Avg:0.25| Max: 0.45\n",
      "    Silhoute values for cluster 2: Size:469| Min:-0.13| Avg:0.17| Max: 0.42\n",
      "    Silhoute values for cluster 3: Size:450| Min:-0.14| Avg:0.22| Max: 0.46\n",
      "    Silhoute values for cluster 4: Size:1445| Min:0.01| Avg:0.16| Max: 0.36\n",
      "    Silhoute values for cluster 5: Size:295| Min:-0.11| Avg:0.38| Max: 0.61\n",
      "    Silhoute values for cluster 6: Size:791| Min:-0.08| Avg:0.12| Max: 0.36\n",
      "    Silhoute values for cluster 7: Size:591| Min:-0.22| Avg:0.03| Max: 0.26\n",
      "    Silhoute values for cluster 8: Size:258| Min:-0.04| Avg:0.38| Max: 0.57\n",
      "    Silhoute values for cluster 9: Size:935| Min:-0.16| Avg:0.09| Max: 0.32\n",
      "    Silhoute values for cluster 10: Size:914| Min:-0.15| Avg:0.05| Max: 0.28\n",
      "    Silhoute values for cluster 11: Size:473| Min:-0.13| Avg:0.16| Max: 0.40\n",
      "    Silhoute values for cluster 12: Size:683| Min:-0.14| Avg:0.19| Max: 0.42\n",
      "    Silhoute values for cluster 13: Size:124| Min:0.01| Avg:0.29| Max: 0.47\n",
      "    Silhoute values for cluster 14: Size:221| Min:-0.19| Avg:0.04| Max: 0.29\n",
      "    Silhoute values for cluster 15: Size:495| Min:-0.11| Avg:0.07| Max: 0.28\n",
      "The Inertia is :5450.99179919863\n",
      "For n_clusters = 17\n",
      "The average Silhouette_score is: 0.16\n",
      "    Silhoute values for cluster 0: Size:715| Min:-0.13| Avg:0.17| Max: 0.43\n",
      "    Silhoute values for cluster 1: Size:1424| Min:0.06| Avg:0.25| Max: 0.45\n",
      "    Silhoute values for cluster 2: Size:607| Min:-0.17| Avg:0.11| Max: 0.37\n",
      "    Silhoute values for cluster 3: Size:616| Min:-0.10| Avg:0.09| Max: 0.32\n",
      "    Silhoute values for cluster 4: Size:285| Min:-0.11| Avg:0.34| Max: 0.57\n",
      "    Silhoute values for cluster 5: Size:491| Min:-0.13| Avg:0.25| Max: 0.46\n",
      "    Silhoute values for cluster 6: Size:1318| Min:-0.16| Avg:0.12| Max: 0.35\n",
      "    Silhoute values for cluster 7: Size:345| Min:-0.05| Avg:0.24| Max: 0.45\n",
      "    Silhoute values for cluster 8: Size:294| Min:-0.06| Avg:0.38| Max: 0.58\n",
      "    Silhoute values for cluster 9: Size:331| Min:-0.18| Avg:0.06| Max: 0.28\n",
      "    Silhoute values for cluster 10: Size:481| Min:-0.18| Avg:0.06| Max: 0.32\n",
      "    Silhoute values for cluster 11: Size:503| Min:-0.19| Avg:0.12| Max: 0.40\n",
      "    Silhoute values for cluster 12: Size:376| Min:-0.09| Avg:0.19| Max: 0.42\n",
      "    Silhoute values for cluster 13: Size:248| Min:-0.12| Avg:0.09| Max: 0.35\n",
      "    Silhoute values for cluster 14: Size:957| Min:-0.11| Avg:0.11| Max: 0.33\n",
      "    Silhoute values for cluster 15: Size:113| Min:-0.02| Avg:0.28| Max: 0.48\n",
      "    Silhoute values for cluster 16: Size:778| Min:-0.19| Avg:0.03| Max: 0.26\n",
      "The Inertia is :5333.416147329204\n",
      "For n_clusters = 18\n",
      "The average Silhouette_score is: 0.14\n",
      "    Silhoute values for cluster 0: Size:200| Min:-0.08| Avg:0.23| Max: 0.47\n",
      "    Silhoute values for cluster 1: Size:648| Min:-0.09| Avg:0.10| Max: 0.34\n",
      "    Silhoute values for cluster 2: Size:331| Min:-0.06| Avg:0.37| Max: 0.57\n",
      "    Silhoute values for cluster 3: Size:1675| Min:0.00| Avg:0.19| Max: 0.39\n",
      "    Silhoute values for cluster 4: Size:187| Min:-0.19| Avg:0.15| Max: 0.41\n",
      "    Silhoute values for cluster 5: Size:877| Min:-0.16| Avg:0.07| Max: 0.29\n",
      "    Silhoute values for cluster 6: Size:600| Min:-0.07| Avg:0.15| Max: 0.37\n",
      "    Silhoute values for cluster 7: Size:251| Min:0.00| Avg:0.23| Max: 0.42\n",
      "    Silhoute values for cluster 8: Size:112| Min:-0.03| Avg:0.29| Max: 0.49\n",
      "    Silhoute values for cluster 9: Size:870| Min:-0.17| Avg:0.07| Max: 0.26\n",
      "    Silhoute values for cluster 10: Size:475| Min:-0.11| Avg:0.23| Max: 0.42\n",
      "    Silhoute values for cluster 11: Size:601| Min:-0.13| Avg:0.07| Max: 0.31\n",
      "    Silhoute values for cluster 12: Size:609| Min:-0.24| Avg:0.05| Max: 0.30\n",
      "    Silhoute values for cluster 13: Size:666| Min:-0.11| Avg:0.11| Max: 0.34\n",
      "    Silhoute values for cluster 14: Size:279| Min:-0.02| Avg:0.24| Max: 0.44\n",
      "    Silhoute values for cluster 15: Size:149| Min:0.01| Avg:0.30| Max: 0.50\n",
      "    Silhoute values for cluster 16: Size:903| Min:-0.09| Avg:0.13| Max: 0.36\n",
      "    Silhoute values for cluster 17: Size:449| Min:-0.21| Avg:0.05| Max: 0.29\n",
      "The Inertia is :5263.995224062518\n",
      "For n_clusters = 19\n",
      "The average Silhouette_score is: 0.15\n",
      "    Silhoute values for cluster 0: Size:131| Min:0.02| Avg:0.27| Max: 0.46\n",
      "    Silhoute values for cluster 1: Size:1252| Min:-0.11| Avg:0.09| Max: 0.32\n",
      "    Silhoute values for cluster 2: Size:285| Min:-0.04| Avg:0.21| Max: 0.44\n",
      "    Silhoute values for cluster 3: Size:144| Min:-0.06| Avg:0.29| Max: 0.50\n",
      "    Silhoute values for cluster 4: Size:485| Min:-0.10| Avg:0.26| Max: 0.45\n",
      "    Silhoute values for cluster 5: Size:199| Min:-0.14| Avg:0.04| Max: 0.29\n",
      "    Silhoute values for cluster 6: Size:369| Min:-0.14| Avg:0.05| Max: 0.26\n",
      "    Silhoute values for cluster 7: Size:643| Min:-0.13| Avg:0.13| Max: 0.40\n",
      "    Silhoute values for cluster 8: Size:1963| Min:0.05| Avg:0.23| Max: 0.43\n",
      "    Silhoute values for cluster 9: Size:722| Min:-0.07| Avg:0.13| Max: 0.35\n",
      "    Silhoute values for cluster 10: Size:182| Min:0.03| Avg:0.38| Max: 0.56\n",
      "    Silhoute values for cluster 11: Size:343| Min:-0.04| Avg:0.19| Max: 0.40\n",
      "    Silhoute values for cluster 12: Size:620| Min:-0.19| Avg:0.03| Max: 0.29\n",
      "    Silhoute values for cluster 13: Size:165| Min:-0.16| Avg:0.23| Max: 0.49\n",
      "    Silhoute values for cluster 14: Size:593| Min:-0.07| Avg:0.16| Max: 0.39\n",
      "    Silhoute values for cluster 15: Size:977| Min:-0.10| Avg:0.11| Max: 0.34\n",
      "    Silhoute values for cluster 16: Size:86| Min:-0.15| Avg:0.10| Max: 0.30\n",
      "    Silhoute values for cluster 17: Size:381| Min:-0.18| Avg:0.03| Max: 0.28\n",
      "    Silhoute values for cluster 18: Size:342| Min:-0.04| Avg:0.19| Max: 0.42\n",
      "The Inertia is :5173.883726712191\n",
      "For n_clusters = 20\n",
      "The average Silhouette_score is: 0.13\n",
      "    Silhoute values for cluster 0: Size:1042| Min:-0.20| Avg:0.03| Max: 0.28\n",
      "    Silhoute values for cluster 1: Size:315| Min:-0.04| Avg:0.24| Max: 0.46\n",
      "    Silhoute values for cluster 2: Size:327| Min:-0.16| Avg:0.12| Max: 0.32\n",
      "    Silhoute values for cluster 3: Size:810| Min:-0.15| Avg:0.07| Max: 0.29\n",
      "    Silhoute values for cluster 4: Size:299| Min:-0.17| Avg:0.02| Max: 0.26\n",
      "    Silhoute values for cluster 5: Size:118| Min:0.02| Avg:0.32| Max: 0.51\n",
      "    Silhoute values for cluster 6: Size:881| Min:-0.05| Avg:0.15| Max: 0.38\n",
      "    Silhoute values for cluster 7: Size:204| Min:-0.10| Avg:0.17| Max: 0.41\n",
      "    Silhoute values for cluster 8: Size:719| Min:-0.11| Avg:0.07| Max: 0.27\n",
      "    Silhoute values for cluster 9: Size:601| Min:-0.04| Avg:0.17| Max: 0.40\n",
      "    Silhoute values for cluster 10: Size:157| Min:-0.02| Avg:0.11| Max: 0.30\n",
      "    Silhoute values for cluster 11: Size:492| Min:-0.07| Avg:0.11| Max: 0.28\n",
      "    Silhoute values for cluster 12: Size:140| Min:0.09| Avg:0.39| Max: 0.57\n",
      "    Silhoute values for cluster 13: Size:261| Min:-0.13| Avg:0.21| Max: 0.46\n",
      "    Silhoute values for cluster 14: Size:929| Min:-0.08| Avg:0.12| Max: 0.33\n",
      "    Silhoute values for cluster 15: Size:169| Min:-0.04| Avg:0.25| Max: 0.45\n",
      "    Silhoute values for cluster 16: Size:200| Min:-0.05| Avg:0.26| Max: 0.49\n",
      "    Silhoute values for cluster 17: Size:496| Min:-0.14| Avg:0.09| Max: 0.31\n",
      "    Silhoute values for cluster 18: Size:280| Min:-0.13| Avg:0.11| Max: 0.34\n",
      "    Silhoute values for cluster 19: Size:1442| Min:0.02| Avg:0.21| Max: 0.44\n",
      "The Inertia is :5100.235827937881\n",
      "For n_clusters = 21\n",
      "The average Silhouette_score is: 0.14\n",
      "    Silhoute values for cluster 0: Size:207| Min:-0.10| Avg:0.24| Max: 0.44\n",
      "    Silhoute values for cluster 1: Size:891| Min:-0.13| Avg:0.11| Max: 0.37\n",
      "    Silhoute values for cluster 2: Size:584| Min:-0.15| Avg:0.05| Max: 0.28\n",
      "    Silhoute values for cluster 3: Size:208| Min:0.02| Avg:0.39| Max: 0.57\n",
      "    Silhoute values for cluster 4: Size:222| Min:-0.02| Avg:0.22| Max: 0.40\n",
      "    Silhoute values for cluster 5: Size:55| Min:0.08| Avg:0.31| Max: 0.47\n",
      "    Silhoute values for cluster 6: Size:408| Min:-0.07| Avg:0.12| Max: 0.32\n",
      "    Silhoute values for cluster 7: Size:584| Min:-0.19| Avg:0.04| Max: 0.28\n",
      "    Silhoute values for cluster 8: Size:786| Min:-0.17| Avg:0.04| Max: 0.25\n",
      "    Silhoute values for cluster 9: Size:1563| Min:0.05| Avg:0.24| Max: 0.45\n",
      "    Silhoute values for cluster 10: Size:596| Min:-0.13| Avg:0.07| Max: 0.26\n",
      "    Silhoute values for cluster 11: Size:179| Min:-0.02| Avg:0.27| Max: 0.48\n",
      "    Silhoute values for cluster 12: Size:976| Min:-0.14| Avg:0.10| Max: 0.32\n",
      "    Silhoute values for cluster 13: Size:114| Min:-0.18| Avg:0.05| Max: 0.23\n",
      "    Silhoute values for cluster 14: Size:534| Min:-0.09| Avg:0.17| Max: 0.41\n",
      "    Silhoute values for cluster 15: Size:295| Min:-0.14| Avg:0.09| Max: 0.28\n",
      "    Silhoute values for cluster 16: Size:367| Min:-0.10| Avg:0.20| Max: 0.46\n",
      "    Silhoute values for cluster 17: Size:131| Min:-0.10| Avg:0.20| Max: 0.45\n",
      "    Silhoute values for cluster 18: Size:167| Min:0.00| Avg:0.25| Max: 0.44\n",
      "    Silhoute values for cluster 19: Size:858| Min:-0.11| Avg:0.10| Max: 0.32\n",
      "    Silhoute values for cluster 20: Size:157| Min:-0.04| Avg:0.22| Max: 0.46\n",
      "The Inertia is :4957.507375625727\n",
      "For n_clusters = 22\n",
      "The average Silhouette_score is: 0.13\n",
      "    Silhoute values for cluster 0: Size:143| Min:-0.05| Avg:0.28| Max: 0.47\n",
      "    Silhoute values for cluster 1: Size:567| Min:-0.13| Avg:0.06| Max: 0.26\n",
      "    Silhoute values for cluster 2: Size:410| Min:-0.09| Avg:0.10| Max: 0.32\n",
      "    Silhoute values for cluster 3: Size:309| Min:-0.09| Avg:0.07| Max: 0.28\n",
      "    Silhoute values for cluster 4: Size:714| Min:-0.14| Avg:0.07| Max: 0.27\n",
      "    Silhoute values for cluster 5: Size:248| Min:-0.04| Avg:0.37| Max: 0.56\n",
      "    Silhoute values for cluster 6: Size:416| Min:-0.21| Avg:0.10| Max: 0.39\n",
      "    Silhoute values for cluster 7: Size:269| Min:-0.04| Avg:0.22| Max: 0.44\n",
      "    Silhoute values for cluster 8: Size:1239| Min:-0.01| Avg:0.17| Max: 0.38\n",
      "    Silhoute values for cluster 9: Size:212| Min:-0.12| Avg:0.24| Max: 0.47\n",
      "    Silhoute values for cluster 10: Size:446| Min:-0.20| Avg:0.04| Max: 0.30\n",
      "    Silhoute values for cluster 11: Size:353| Min:-0.11| Avg:0.14| Max: 0.35\n",
      "    Silhoute values for cluster 12: Size:532| Min:-0.09| Avg:0.14| Max: 0.34\n",
      "    Silhoute values for cluster 13: Size:101| Min:-0.07| Avg:0.27| Max: 0.48\n",
      "    Silhoute values for cluster 14: Size:149| Min:-0.18| Avg:0.17| Max: 0.45\n",
      "    Silhoute values for cluster 15: Size:490| Min:-0.11| Avg:0.07| Max: 0.31\n",
      "    Silhoute values for cluster 16: Size:829| Min:-0.04| Avg:0.13| Max: 0.33\n",
      "    Silhoute values for cluster 17: Size:573| Min:-0.13| Avg:0.11| Max: 0.32\n",
      "    Silhoute values for cluster 18: Size:391| Min:-0.17| Avg:0.11| Max: 0.37\n",
      "    Silhoute values for cluster 19: Size:115| Min:-0.05| Avg:0.25| Max: 0.47\n",
      "    Silhoute values for cluster 20: Size:1232| Min:-0.07| Avg:0.12| Max: 0.32\n",
      "    Silhoute values for cluster 21: Size:144| Min:0.02| Avg:0.27| Max: 0.45\n",
      "The Inertia is :4857.133171271054\n",
      "For n_clusters = 23\n",
      "The average Silhouette_score is: 0.13\n",
      "    Silhoute values for cluster 0: Size:633| Min:-0.18| Avg:0.04| Max: 0.27\n",
      "    Silhoute values for cluster 1: Size:409| Min:-0.16| Avg:0.06| Max: 0.27\n",
      "    Silhoute values for cluster 2: Size:468| Min:-0.09| Avg:0.06| Max: 0.24\n",
      "    Silhoute values for cluster 3: Size:330| Min:-0.16| Avg:-0.00| Max: 0.20\n",
      "    Silhoute values for cluster 4: Size:200| Min:-0.01| Avg:0.37| Max: 0.56\n",
      "    Silhoute values for cluster 5: Size:787| Min:-0.13| Avg:0.10| Max: 0.32\n",
      "    Silhoute values for cluster 6: Size:493| Min:-0.09| Avg:0.15| Max: 0.39\n",
      "    Silhoute values for cluster 7: Size:393| Min:-0.08| Avg:0.18| Max: 0.40\n",
      "    Silhoute values for cluster 8: Size:226| Min:-0.13| Avg:0.09| Max: 0.32\n",
      "    Silhoute values for cluster 9: Size:738| Min:-0.13| Avg:0.06| Max: 0.25\n",
      "    Silhoute values for cluster 10: Size:998| Min:0.02| Avg:0.19| Max: 0.40\n",
      "    Silhoute values for cluster 11: Size:142| Min:0.01| Avg:0.31| Max: 0.50\n",
      "    Silhoute values for cluster 12: Size:228| Min:-0.04| Avg:0.18| Max: 0.37\n",
      "    Silhoute values for cluster 13: Size:267| Min:-0.17| Avg:0.13| Max: 0.33\n",
      "    Silhoute values for cluster 14: Size:1268| Min:-0.08| Avg:0.11| Max: 0.32\n",
      "    Silhoute values for cluster 15: Size:568| Min:-0.16| Avg:0.07| Max: 0.31\n",
      "    Silhoute values for cluster 16: Size:240| Min:-0.01| Avg:0.26| Max: 0.46\n",
      "    Silhoute values for cluster 17: Size:90| Min:-0.02| Avg:0.27| Max: 0.47\n",
      "    Silhoute values for cluster 18: Size:540| Min:-0.06| Avg:0.13| Max: 0.30\n",
      "    Silhoute values for cluster 19: Size:191| Min:-0.12| Avg:0.15| Max: 0.41\n",
      "    Silhoute values for cluster 20: Size:249| Min:-0.13| Avg:0.23| Max: 0.48\n",
      "    Silhoute values for cluster 21: Size:310| Min:-0.08| Avg:0.19| Max: 0.44\n",
      "    Silhoute values for cluster 22: Size:114| Min:-0.03| Avg:0.26| Max: 0.49\n",
      "The Inertia is :4792.7736907416465\n",
      "For n_clusters = 24\n",
      "The average Silhouette_score is: 0.15\n",
      "    Silhoute values for cluster 0: Size:883| Min:-0.05| Avg:0.14| Max: 0.37\n",
      "    Silhoute values for cluster 1: Size:1579| Min:0.01| Avg:0.18| Max: 0.39\n",
      "    Silhoute values for cluster 2: Size:68| Min:-0.03| Avg:0.32| Max: 0.53\n",
      "    Silhoute values for cluster 3: Size:220| Min:-0.07| Avg:0.12| Max: 0.30\n",
      "    Silhoute values for cluster 4: Size:876| Min:-0.10| Avg:0.08| Max: 0.30\n",
      "    Silhoute values for cluster 5: Size:384| Min:-0.09| Avg:0.19| Max: 0.42\n",
      "    Silhoute values for cluster 6: Size:609| Min:-0.06| Avg:0.20| Max: 0.46\n",
      "    Silhoute values for cluster 7: Size:248| Min:-0.07| Avg:0.32| Max: 0.52\n",
      "    Silhoute values for cluster 8: Size:181| Min:-0.04| Avg:0.19| Max: 0.43\n",
      "    Silhoute values for cluster 9: Size:488| Min:-0.18| Avg:0.01| Max: 0.25\n",
      "    Silhoute values for cluster 10: Size:670| Min:-0.11| Avg:0.11| Max: 0.32\n",
      "    Silhoute values for cluster 11: Size:122| Min:-0.03| Avg:0.29| Max: 0.50\n",
      "    Silhoute values for cluster 12: Size:213| Min:-0.08| Avg:0.24| Max: 0.48\n",
      "    Silhoute values for cluster 13: Size:461| Min:-0.12| Avg:0.09| Max: 0.35\n",
      "    Silhoute values for cluster 14: Size:146| Min:0.05| Avg:0.25| Max: 0.42\n",
      "    Silhoute values for cluster 15: Size:164| Min:-0.17| Avg:0.05| Max: 0.30\n",
      "    Silhoute values for cluster 16: Size:463| Min:-0.17| Avg:0.03| Max: 0.28\n",
      "    Silhoute values for cluster 17: Size:907| Min:-0.05| Avg:0.12| Max: 0.34\n",
      "    Silhoute values for cluster 18: Size:119| Min:-0.02| Avg:0.33| Max: 0.51\n",
      "    Silhoute values for cluster 19: Size:275| Min:-0.08| Avg:0.17| Max: 0.39\n",
      "    Silhoute values for cluster 20: Size:232| Min:0.01| Avg:0.28| Max: 0.47\n",
      "    Silhoute values for cluster 21: Size:90| Min:-0.19| Avg:0.05| Max: 0.28\n",
      "    Silhoute values for cluster 22: Size:112| Min:-0.02| Avg:0.28| Max: 0.49\n",
      "    Silhoute values for cluster 23: Size:372| Min:-0.10| Avg:0.10| Max: 0.33\n",
      "The Inertia is :4764.2159477855475\n",
      "\n"
     ]
    }
   ],
   "source": [
    "distorsions = []\n",
    "for k in tqdm(range(2, 25)):\n",
    "    generate_clusters(vectorized_docs, k)"
   ]
  },
  {
   "cell_type": "markdown",
   "metadata": {},
   "source": [
    "## Analyze generated clusters"
   ]
  },
  {
   "cell_type": "code",
   "execution_count": 20,
   "metadata": {},
   "outputs": [
    {
     "name": "stdout",
     "output_type": "stream",
     "text": [
      "For n_clusters = 7\n",
      "The average Silhouette_score is: 0.26\n",
      "    Silhoute values for cluster 0: Size:4025| Min:0.04| Avg:0.34| Max: 0.54\n",
      "    Silhoute values for cluster 1: Size:673| Min:-0.01| Avg:0.31| Max: 0.52\n",
      "    Silhoute values for cluster 2: Size:1498| Min:-0.17| Avg:0.16| Max: 0.43\n",
      "    Silhoute values for cluster 3: Size:300| Min:-0.07| Avg:0.39| Max: 0.61\n",
      "    Silhoute values for cluster 4: Size:2320| Min:-0.14| Avg:0.12| Max: 0.37\n",
      "    Silhoute values for cluster 5: Size:647| Min:-0.19| Avg:0.21| Max: 0.44\n",
      "    Silhoute values for cluster 6: Size:419| Min:-0.02| Avg:0.39| Max: 0.60\n",
      "The Inertia is :7473.58840014711\n"
     ]
    }
   ],
   "source": [
    "clustering, cluster_labels = generate_clusters(vectorized_docs, 7)"
   ]
  },
  {
   "cell_type": "code",
   "execution_count": 21,
   "metadata": {},
   "outputs": [],
   "source": [
    "df_clusters = pd.DataFrame({\n",
    "    \"text\": docs,\n",
    "    \"tokens\": [\" \".join(text) for text in tokenized_docs],\n",
    "    \"cluster\": cluster_labels\n",
    "})"
   ]
  },
  {
   "cell_type": "markdown",
   "metadata": {},
   "source": [
    "### Most frequent tokens"
   ]
  },
  {
   "cell_type": "code",
   "execution_count": 22,
   "metadata": {
    "scrolled": true
   },
   "outputs": [
    {
     "data": {
      "text/plain": [
       "[('police', 746),\n",
       " ('year', 674),\n",
       " ('man', 567),\n",
       " ('said', 508),\n",
       " ('old', 468),\n",
       " ('people', 389),\n",
       " ('two', 372),\n",
       " ('killed', 359),\n",
       " ('years', 278),\n",
       " ('say', 278),\n",
       " ('found', 276),\n",
       " ('died', 272),\n",
       " ('image', 267),\n",
       " ('death', 257),\n",
       " ('woman', 255),\n",
       " ('one', 243),\n",
       " ('three', 237),\n",
       " ('court', 233),\n",
       " ('caption', 224),\n",
       " ('last', 217),\n",
       " ('city', 202),\n",
       " ('fire', 201),\n",
       " ('murder', 197),\n",
       " ('former', 191),\n",
       " ('thursday', 189),\n",
       " ('shot', 188),\n",
       " ('says', 188),\n",
       " ('least', 186),\n",
       " ('hong', 185),\n",
       " ('authorities', 178),\n",
       " ('shooting', 175),\n",
       " ('us', 173),\n",
       " ('arrested', 170),\n",
       " ('kong', 168),\n",
       " ('school', 167),\n",
       " ('tuesday', 164),\n",
       " ('accused', 160),\n",
       " ('dead', 159),\n",
       " ('officials', 154),\n",
       " ('killing', 152),\n",
       " ('million', 151),\n",
       " ('charged', 150),\n",
       " ('officer', 148),\n",
       " ('california', 142),\n",
       " ('state', 141),\n",
       " ('four', 133),\n",
       " ('home', 130),\n",
       " ('saudi', 130),\n",
       " ('attack', 126),\n",
       " ('case', 125)]"
      ]
     },
     "execution_count": 22,
     "metadata": {},
     "output_type": "execute_result"
    }
   ],
   "source": [
    "test_cluster = 2\n",
    "Counter(\" \".join(df_clusters.query(f\"cluster == {test_cluster}\")[\"tokens\"]).split()).most_common(50)"
   ]
  },
  {
   "cell_type": "markdown",
   "metadata": {},
   "source": [
    "### Most representative documents"
   ]
  },
  {
   "cell_type": "code",
   "execution_count": 23,
   "metadata": {
    "scrolled": true
   },
   "outputs": [
    {
     "name": "stdout",
     "output_type": "stream",
     "text": [
      "Drugs worth €107,000 found after man searched in Cork train station | Cocaine and heroin seized as part of ongoing operation | A man in his 30s was arrested and drugs worth more than 100,000 were seized in Kent Railway Station in Cork on Wednesday evening. \n",
      "Gardaí said the seizure was part of an ongoing operation into the sale and supply of drugs in the Mayfield area of the city. \n",
      "… [+394 chars]\n",
      "-------------\n",
      "New Zealand mosque shooting suspect drops bid to move trial | Survivors and grieving families of victims welcome news that the trial will be in Christchurch when it starts in June. | The man accused of murdering 51 Muslim worshippers in March's New Zealand mosque attacks has dropped a bid to move his trial from the city where the mass shooting took place.\n",
      "The High Court held a pre-trial hearing in Christchurch on Thursday to consider an … [+1240 chars]\n",
      "-------------\n",
      "Official: Feds search home for link to gun in Texas shooting | A federal law enforcement official says ATF agents have executed a search warrant at the Lubbock, Texas home of a man they believe was involved in the \"transfer\" of an AR-style rifle to the gunman involved in the Labor Day weekend mass shooting | A federal law enforcement official says ATF agents have executed a search warrant at the Lubbock, Texas, home of a man they believe was involved in the \"transfer\" of an AR-style rifle to the gunman who killed seven people in a Labor Day weekend mass shooting.… [+567 chars]\n",
      "-------------\n",
      "Muckamore Hospital: Further five staff members suspended | The precautionary suspensions follow viewing of CCTV footage at Muckamore Abbey Hospital in Antrim. | A further five members of staff have been suspended at Muckamore Abbey Hospital in Antrim, bringing the total to 33. \n",
      "It follows police investigations into allegations of physical and mental abuse of patients.\n",
      "These latest precautionary suspensions are a re… [+214 chars]\n",
      "-------------\n",
      "Filipino coastguards convicted of killing Taiwanese fisherman | Incident in 2013 led to deep rift between the two neighbours, then agreement to avoid use of force in fishing disputes. | Coastguard sailors who opened fire on a Taiwanese fisherman in Philippine waters six years ago were convicted on Wednesday of his killing.\n",
      "The eight Filipino crewmen said they had shot at the fisherman's vessel in self-defence when it sailed directly at them… [+1319 chars]\n",
      "-------------\n",
      "Hunter Attacked by 'Surprised' Grizzly Bear in Alaska, Animal Shot Dead: 'All Hell Broke Loose' | The attack, which was reported to state troopers at around 7 p.m., ended after the person's hunting partner shot the animal. | A moose hunter has been left with serious injuries after being mauled by an adult female bear last Friday in the Eureka and Gunsight Mountain area of Alaska.\n",
      "The attack, which was reported to state troopers at approximately 7 p.m., came to an end after the p… [+2659 chars]\n",
      "-------------\n",
      "10/2: CBSN AM | Sentencing phase continues for Amber Guyger; Texas woman skips wedding due to higher medical bill | \n",
      "-------------\n",
      "Dallas cop who shot neighbor testifies at her murder trial | Guyger said she shot Botham Jean when she mistook his apartment for her own | Drinking culture &amp; American kids\n",
      "On America's college campuses, there are epidemics we talk about and those we don't. When sexual assaults or fraternity hazing deaths make headlines, court cases follow and new rules are enacted, but less attention is pai… [+259 chars]\n",
      "-------------\n",
      "Teen who vaped with THC recalls near-death experience | Illinois teen says after vaping with the primary ingredient of marijuana he now has the lungs of a 70-year-old | The Centers for Disease Control and Prevention has reported more than 200 cases of severe respiratory diseases potentially linked to vaping. The agency confirms at least one person has died from vaping-related illnesses.\n",
      "Government health investigators say t… [+2213 chars]\n",
      "-------------\n",
      "Girl (15) sexually assaulted in hostel moved to new location, court told | The Child and Family Agency (CFA) has secured a temporary respite placement for a teenage girl who had been staying at a hostel which the High Court heard was unsuitable and unsafe for her. The girl has been the victim of two serious sexual assaults by older … | The Child and Family Agency (CFA) has secured a temporary respite placement for a teenage girl who had been staying at a hostel which the High Court heard was unsuitable and unsafe for her.\n",
      "The girl has been the victim of two serious sexual assaults by older… [+157 chars]\n",
      "-------------\n"
     ]
    }
   ],
   "source": [
    "most_representative_docs = np.argsort(\n",
    "    np.linalg.norm(vectorized_docs - clustering.cluster_centers_[test_cluster], axis=1)\n",
    ")\n",
    "for d in most_representative_docs[:10]:\n",
    "    print(docs[d])\n",
    "    print(\"-------------\")"
   ]
  },
  {
   "cell_type": "markdown",
   "metadata": {},
   "source": [
    "### Most representative tokens"
   ]
  },
  {
   "cell_type": "code",
   "execution_count": 24,
   "metadata": {},
   "outputs": [
    {
     "data": {
      "text/plain": [
       "[('happened', 0.9976266026496887),\n",
       " ('chicago', 0.9946582317352295),\n",
       " ('misdemeanor', 0.994258463382721),\n",
       " ('identified', 0.994140088558197),\n",
       " ('courtroom', 0.9936190843582153),\n",
       " ('minnesota', 0.993247389793396),\n",
       " ('austin', 0.9930338263511658),\n",
       " ('synagogue', 0.9928783774375916),\n",
       " ('accident', 0.9927681684494019),\n",
       " ('assaulting', 0.9923295378684998)]"
      ]
     },
     "execution_count": 24,
     "metadata": {},
     "output_type": "execute_result"
    }
   ],
   "source": [
    "model.wv.most_similar(positive=[clustering.cluster_centers_[test_cluster]], topn=10)"
   ]
  },
  {
   "cell_type": "markdown",
   "metadata": {},
   "source": [
    "### Random sample of documents"
   ]
  },
  {
   "cell_type": "code",
   "execution_count": 25,
   "metadata": {
    "scrolled": true
   },
   "outputs": [
    {
     "name": "stdout",
     "output_type": "stream",
     "text": [
      "Greenland Calls On Denmark to Help Fight Child Sexual Abuse | A former mayor of the community of Tasiilaq said, “I believe we are in a human, social and cultural death spiral if we don’t manage to stop the sexual abuse.” | Of the 191 cases reported, 152 have been prosecuted (some cases are still pending, and others have been dropped). Thirty-three percent of the prosecutions have led to convictions.\n",
      "But perpetrators usually are not ostracized after convictions for molesting a … [+1788 chars]\n",
      "-------------\n",
      "Coast Guard officer accused of mass killing plot pleads guilty | A Coast Guard lieutenant accused of plotting a domestic terror attack pleaded guilty Thursday to four counts of weapons and drug charges. | \n",
      "-------------\n",
      "Kevin Lunney was slashed, beaten and had bleach poured on him by kidnappers | QIH chief operations officer believed to have been held in a horsebox, investigators believe | Kevin Lunney, the Quinn Industrial Holdings chief operations officer kidnapped and imprisoned on Tuesday night, was slashed about the face and neck with a Stanley-type knife and had one of his legs broken in two places below the knee, it has emerged.\n",
      "Accordi… [+2467 chars]\n",
      "-------------\n",
      "Twenty-nine killed in two attacks in Burkina Faso | nan | At least 29 people were killed in Burkina Faso's troubled north on Sunday after a food convoy and a transport truck were attacked, the government said.\n",
      "A \"terrorist\" attack on the convoy killed 14 civilians, while the truck hit an explosive device in the nor… [+645 chars]\n",
      "-------------\n",
      "Report on Boat Fire Concludes Crew Was Asleep When Fire Began | Federal authorities provide few answers, but highlight the many questions still remaining after blaze killed 34 | Federal investigators on Thursday released a preliminary report on the Conception boat fire that killed nearly three-dozen people earlier this month off the coast of California, and said the entire crew was asleep when the blaze began. National Transportation… [+2888 chars]\n",
      "-------------\n",
      "Family members leave Zimbabwe to bring Mugabe's body home from Singapore | A plane carrying a delegation of government officials and Robert Mugabe's relatives left Zimbabwe for Singapore Monday to retrieve the body of the ex-president for his burial, a family spokesman said. | \n",
      "-------------\n",
      "3 people killed when small plane crashes at airport in Lansing, Michigan | Three people died and three others were transported to a hospital in critical condition Thursday after a small plane crashed near Capital Region International Airport in Lansing, Michigan, authorities said. | \n",
      "-------------\n",
      "Fire destroys four-storey apartment block in London | ‘I’ve lost everything. The most important thing is everyone’s alive’ | A four-storey residential block has been destroyed after a fire ripped through the building in the early hours of Monday.\n",
      "A charred shell is almost all that remains of the partially-collapsed development in Worcester Park, Sutton, south-west London, as firef… [+2405 chars]\n",
      "-------------\n",
      "Hong Kong to Invoke Emergency Powers to Ban Masks at Protests | Move to ban masks first time emergency law has been used in more than half a century | Hong Kongs cabinet will meet Friday to invoke emergency powers to tackle spiraling protests and lawlessness, starting with a ban on people wearing masks that are used to protect themselves from tear gas or hide their identities, people familiar with the plan … [+6583 chars]\n",
      "-------------\n",
      "3 teenagers arrested in Michigan woman's fatal shooting | A 14-year-old Detroit boy wearing a GPS tether is one of three teens arrested in the armed robbery and fatal shooting of a 29-year-old woman | A 14-year-old Detroit boy wearing a GPS tether is one of three teens arrested in the armed robbery and fatal shooting of a 29-year-old woman.\n",
      "Dearborn Police Chief Ronald Haddad said Thursday that the 14-year-old, a 13-year-old and 17-year-old are being held… [+543 chars]\n",
      "-------------\n"
     ]
    }
   ],
   "source": [
    "for i,t in enumerate(df_clusters.query(f\"cluster == {test_cluster}\").sample(10).iterrows()):\n",
    "    print(t[1][\"text\"])\n",
    "    print(\"-------------\")"
   ]
  }
 ],
 "metadata": {
  "kernelspec": {
   "display_name": "Python 3",
   "language": "python",
   "name": "python3"
  },
  "language_info": {
   "codemirror_mode": {
    "name": "ipython",
    "version": 3
   },
   "file_extension": ".py",
   "mimetype": "text/x-python",
   "name": "python",
   "nbconvert_exporter": "python",
   "pygments_lexer": "ipython3",
   "version": "3.9.0"
  }
 },
 "nbformat": 4,
 "nbformat_minor": 4
}
