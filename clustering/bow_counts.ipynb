{
 "cells": [
  {
   "cell_type": "markdown",
   "metadata": {},
   "source": [
    "## Import required libraries"
   ]
  },
  {
   "cell_type": "code",
   "execution_count": 1,
   "metadata": {},
   "outputs": [
    {
     "name": "stderr",
     "output_type": "stream",
     "text": [
      "[nltk_data] Downloading package stopwords to\n",
      "[nltk_data]     /Users/dylancastillo/nltk_data...\n",
      "[nltk_data]   Package stopwords is already up-to-date!\n",
      "[nltk_data] Downloading package punkt to\n",
      "[nltk_data]     /Users/dylancastillo/nltk_data...\n",
      "[nltk_data]   Package punkt is already up-to-date!\n"
     ]
    }
   ],
   "source": [
    "import os\n",
    "import re\n",
    "import string\n",
    "from collections import Counter\n",
    "from string import punctuation\n",
    "from time import time\n",
    "\n",
    "import gensim\n",
    "import nltk\n",
    "import numpy as np\n",
    "import pandas as pd\n",
    "\n",
    "from nltk.corpus import stopwords\n",
    "from nltk.tokenize import word_tokenize\n",
    "from sklearn.cluster import MiniBatchKMeans\n",
    "from sklearn.metrics import silhouette_samples, silhouette_score\n",
    "from tqdm.notebook import tqdm\n",
    "\n",
    "from ds_utils.config import set_display_options\n",
    "from ds_utils.data import NEWS_DATA\n",
    "from ds_utils.functions import vectorize\n",
    "\n",
    "nltk.download(\"stopwords\")\n",
    "nltk.download(\"punkt\")\n",
    "set_display_options()"
   ]
  },
  {
   "cell_type": "markdown",
   "metadata": {},
   "source": [
    "## Read data"
   ]
  },
  {
   "cell_type": "code",
   "execution_count": 2,
   "metadata": {},
   "outputs": [],
   "source": [
    "df = pd.read_csv(NEWS_DATA)"
   ]
  },
  {
   "cell_type": "code",
   "execution_count": 3,
   "metadata": {},
   "outputs": [
    {
     "data": {
      "text/plain": [
       "(10437, 15)"
      ]
     },
     "execution_count": 3,
     "metadata": {},
     "output_type": "execute_result"
    }
   ],
   "source": [
    "df.shape"
   ]
  },
  {
   "cell_type": "code",
   "execution_count": 4,
   "metadata": {},
   "outputs": [
    {
     "data": {
      "text/plain": [
       "Index(['Unnamed: 0', 'source_id', 'source_name', 'author', 'title',\n",
       "       'description', 'url', 'url_to_image', 'published_at', 'content',\n",
       "       'top_article', 'engagement_reaction_count', 'engagement_comment_count',\n",
       "       'engagement_share_count', 'engagement_comment_plugin_count'],\n",
       "      dtype='object')"
      ]
     },
     "execution_count": 4,
     "metadata": {},
     "output_type": "execute_result"
    }
   ],
   "source": [
    "df.columns"
   ]
  },
  {
   "cell_type": "code",
   "execution_count": 5,
   "metadata": {},
   "outputs": [
    {
     "data": {
      "text/html": [
       "<div>\n",
       "<style scoped>\n",
       "    .dataframe tbody tr th:only-of-type {\n",
       "        vertical-align: middle;\n",
       "    }\n",
       "\n",
       "    .dataframe tbody tr th {\n",
       "        vertical-align: top;\n",
       "    }\n",
       "\n",
       "    .dataframe thead th {\n",
       "        text-align: right;\n",
       "    }\n",
       "</style>\n",
       "<table border=\"1\" class=\"dataframe\">\n",
       "  <thead>\n",
       "    <tr style=\"text-align: right;\">\n",
       "      <th></th>\n",
       "      <th>5900</th>\n",
       "    </tr>\n",
       "  </thead>\n",
       "  <tbody>\n",
       "    <tr>\n",
       "      <th>Unnamed: 0</th>\n",
       "      <td>5900</td>\n",
       "    </tr>\n",
       "    <tr>\n",
       "      <th>source_id</th>\n",
       "      <td>business-insider</td>\n",
       "    </tr>\n",
       "    <tr>\n",
       "      <th>source_name</th>\n",
       "      <td>Business Insider</td>\n",
       "    </tr>\n",
       "    <tr>\n",
       "      <th>author</th>\n",
       "      <td>Eliza Relman</td>\n",
       "    </tr>\n",
       "    <tr>\n",
       "      <th>title</th>\n",
       "      <td>Elizabeth Warren endorsed two left-wing primary challengers to House Democrats. It could be a risky play to win Alexandria Ocasio-Cortez's endorsement.</td>\n",
       "    </tr>\n",
       "    <tr>\n",
       "      <th>description</th>\n",
       "      <td>Sen. Elizabeth Warren on Monday endorsed two progressive primary challengers to sitting House Democrats. The challengers — both women — are running against two of the most conservative Democrats in the House and are both endorsed by Justice Democrats, the gro…</td>\n",
       "    </tr>\n",
       "    <tr>\n",
       "      <th>url</th>\n",
       "      <td>https://www.businessinsider.com/elizabeth-warren-endorses-candidates-alexandria-ocasio-cortez-mold-2019-9</td>\n",
       "    </tr>\n",
       "    <tr>\n",
       "      <th>url_to_image</th>\n",
       "      <td>https://amp.businessinsider.com/images/5d78eb602e22af24c02ed525-2732-1366.jpg</td>\n",
       "    </tr>\n",
       "    <tr>\n",
       "      <th>published_at</th>\n",
       "      <td>2019-09-14T13:12:00Z</td>\n",
       "    </tr>\n",
       "    <tr>\n",
       "      <th>content</th>\n",
       "      <td>Sen. Elizabeth Warren on Monday endorsed two progressive primary challengers to sitting House Democrats — an unusual and controversial move that could be a play to win the endorsement of star freshman Rep. Alexandria Ocasio-Cortez of New York. \\r\\n The two cand… [+4116 chars]</td>\n",
       "    </tr>\n",
       "    <tr>\n",
       "      <th>top_article</th>\n",
       "      <td>1.00</td>\n",
       "    </tr>\n",
       "    <tr>\n",
       "      <th>engagement_reaction_count</th>\n",
       "      <td>28.00</td>\n",
       "    </tr>\n",
       "    <tr>\n",
       "      <th>engagement_comment_count</th>\n",
       "      <td>4.00</td>\n",
       "    </tr>\n",
       "    <tr>\n",
       "      <th>engagement_share_count</th>\n",
       "      <td>13.00</td>\n",
       "    </tr>\n",
       "    <tr>\n",
       "      <th>engagement_comment_plugin_count</th>\n",
       "      <td>0.00</td>\n",
       "    </tr>\n",
       "  </tbody>\n",
       "</table>\n",
       "</div>"
      ],
      "text/plain": [
       "                                                                                                                                                                                                                                                                                                                 5900\n",
       "Unnamed: 0                                                                                                                                                                                                                                                                                                       5900\n",
       "source_id                                                                                                                                                                                                                                                                                            business-insider\n",
       "source_name                                                                                                                                                                                                                                                                                          Business Insider\n",
       "author                                                                                                                                                                                                                                                                                                   Eliza Relman\n",
       "title                                                                                                                                                         Elizabeth Warren endorsed two left-wing primary challengers to House Democrats. It could be a risky play to win Alexandria Ocasio-Cortez's endorsement.\n",
       "description                                      Sen. Elizabeth Warren on Monday endorsed two progressive primary challengers to sitting House Democrats. The challengers — both women — are running against two of the most conservative Democrats in the House and are both endorsed by Justice Democrats, the gro…\n",
       "url                                                                                                                                                                                                         https://www.businessinsider.com/elizabeth-warren-endorses-candidates-alexandria-ocasio-cortez-mold-2019-9\n",
       "url_to_image                                                                                                                                                                                                                            https://amp.businessinsider.com/images/5d78eb602e22af24c02ed525-2732-1366.jpg\n",
       "published_at                                                                                                                                                                                                                                                                                     2019-09-14T13:12:00Z\n",
       "content                          Sen. Elizabeth Warren on Monday endorsed two progressive primary challengers to sitting House Democrats — an unusual and controversial move that could be a play to win the endorsement of star freshman Rep. Alexandria Ocasio-Cortez of New York. \\r\\n The two cand… [+4116 chars]\n",
       "top_article                                                                                                                                                                                                                                                                                                      1.00\n",
       "engagement_reaction_count                                                                                                                                                                                                                                                                                       28.00\n",
       "engagement_comment_count                                                                                                                                                                                                                                                                                         4.00\n",
       "engagement_share_count                                                                                                                                                                                                                                                                                          13.00\n",
       "engagement_comment_plugin_count                                                                                                                                                                                                                                                                                  0.00"
      ]
     },
     "execution_count": 5,
     "metadata": {},
     "output_type": "execute_result"
    }
   ],
   "source": [
    "df.sample(1).T"
   ]
  },
  {
   "cell_type": "markdown",
   "metadata": {},
   "source": [
    "## Fill missing values"
   ]
  },
  {
   "cell_type": "code",
   "execution_count": 6,
   "metadata": {},
   "outputs": [
    {
     "data": {
      "text/plain": [
       "Unnamed: 0                        0.00\n",
       "source_id                         0.00\n",
       "source_name                       0.00\n",
       "author                            0.10\n",
       "title                             0.00\n",
       "description                       0.00\n",
       "url                               0.00\n",
       "url_to_image                      0.06\n",
       "published_at                      0.00\n",
       "content                           0.12\n",
       "top_article                       0.00\n",
       "engagement_reaction_count         0.01\n",
       "engagement_comment_count          0.01\n",
       "engagement_share_count            0.01\n",
       "engagement_comment_plugin_count   0.01\n",
       "dtype: float64"
      ]
     },
     "execution_count": 6,
     "metadata": {},
     "output_type": "execute_result"
    }
   ],
   "source": [
    "df.isna().mean()"
   ]
  },
  {
   "cell_type": "code",
   "execution_count": 7,
   "metadata": {},
   "outputs": [],
   "source": [
    "df[\"content\"] = df[\"content\"].fillna(\"\")"
   ]
  },
  {
   "cell_type": "markdown",
   "metadata": {},
   "source": [
    "## Generate tokens"
   ]
  },
  {
   "cell_type": "code",
   "execution_count": 8,
   "metadata": {},
   "outputs": [
    {
     "data": {
      "text/plain": [
       "\"Mountain Lion Bites Head of 8-year-old Boy, Child Fights Off Animal With Stick: 'I Tried to Get It in the Eye' | Bailey boy Pike Carlson needed two surgeries and may need one more after horrific attack in his own backyard. | An 8-year-old boy has spoken about how he bravely tried to fend off a mountain lion using just a stick while he was being attacked outside his home in Colorado.\\r\\nPike Carlson was playing in the backyard with his older brother, Gage, in the mountainous town of… [+2506 chars]\""
      ]
     },
     "execution_count": 8,
     "metadata": {},
     "output_type": "execute_result"
    }
   ],
   "source": [
    "df.sample(1).apply(lambda x: x[\"title\"] + \" | \" + x[\"description\"] + \" | \" + x[\"content\"], axis=1).values[0]"
   ]
  },
  {
   "cell_type": "code",
   "execution_count": 9,
   "metadata": {},
   "outputs": [
    {
     "name": "stdout",
     "output_type": "stream",
     "text": [
      "SAMPLE TEXT: Players’ view: What changes will Dublin and Kerry make and who will win? | Enda Smith, Brian Hurley, Mickey Quinn and Cian Mackey all give verdicts on the replay\n",
      "TOKENS: ['players', 'view', 'changes', 'dublin', 'kerry', 'make', 'win', 'enda', 'smith', 'brian', 'hurley', 'mickey', 'quinn', 'cian', 'mackey', 'give', 'verdicts', 'replay']\n",
      "------\n",
      "SAMPLE TEXT: Pence Staying at Trump Property in Ireland at Trump’s ‘Suggestion,’ Aide Says | The vice president, who has meetings in Dublin, is staying in Doonbeg, which is on the other side of Ireland.\n",
      "TOKENS: ['pence', 'staying', 'trump', 'property', 'ireland', 'trump', 'suggestion', 'aide', 'says', 'vice', 'president', 'meetings', 'dublin', 'staying', 'doonbeg', 'side', 'ireland']\n",
      "------\n",
      "SAMPLE TEXT: 11 traits you need to be an effective remote worker | Working from home or outside of a traditional office setting can be ideal for some people who want to make their own schedule. But working remotely is not for everyone. It requires certain skills like discipline and strong communication skills. Business Insid…\n",
      "TOKENS: ['traits', 'need', 'effective', 'remote', 'worker', 'working', 'home', 'outside', 'traditional', 'office', 'setting', 'ideal', 'people', 'want', 'make', 'schedule', 'working', 'remotely', 'everyone', 'requires', 'certain', 'skills', 'like', 'discipline', 'strong', 'communication', 'skills', 'business']\n",
      "------\n",
      "SAMPLE TEXT: Ken Cuccinelli Emerges as Public Face, and Irritant, of Homeland Security | As he rose to power in Virginia, Mr. Cuccinelli banked on hard-line immigration positions long before Donald J. Trump did. Now he’s ruffling feathers in Washington.\n",
      "TOKENS: ['ken', 'cuccinelli', 'emerges', 'public', 'face', 'irritant', 'homeland', 'security', 'rose', 'power', 'virginia', 'mr', 'cuccinelli', 'banked', 'hard', 'line', 'immigration', 'positions', 'long', 'donald', 'trump', 'ruffling', 'feathers', 'washington']\n",
      "------\n",
      "SAMPLE TEXT: Bord na Mona chief hints at widespread job cuts | Donnellan tells unions State company faces ‘dire future’ unless urgency added to move to more sustainable business\n",
      "TOKENS: ['bord', 'na', 'mona', 'chief', 'hints', 'widespread', 'job', 'cuts', 'donnellan', 'tells', 'unions', 'state', 'company', 'faces', 'dire', 'future', 'unless', 'urgency', 'added', 'move', 'sustainable', 'business']\n",
      "------\n"
     ]
    }
   ],
   "source": [
    "stop_words = set(stopwords.words(\"english\") + [\"news\", \"new\", \"top\"])\n",
    "\n",
    "def generate_tokens(text, tokenizer=word_tokenize, stop_words=stop_words):\n",
    "    text = str(text).lower() # Lowercase words\n",
    "    text = re.sub(r\"\\[(.*?)\\]\", \"\", text) # Remove [+XYZ chars] in content\n",
    "    text = re.sub(r\"\\s+\", \" \", text) # Remove multiple spaces in content\n",
    "    text = re.sub(r\"\\w+…|…\", \"\", text) # Remove ellipsis (and last word)\n",
    "    text = re.sub(r\"(?<=\\w)-(?=\\w)\", \" \", text) # Replace dash between words\n",
    "    text = re.sub(f\"[{re.escape(string.punctuation)}]\", \"\", text) # Remove punctuation\n",
    "    \n",
    "    tokens = tokenizer(text) # Get tokens from text\n",
    "    tokens = [t for t in tokens if not t in stop_words] # Remove stopwords\n",
    "    tokens = [\"\" if t.isdigit() else t for t in tokens] # Remove digits\n",
    "    tokens = [t for t in tokens if len(t) > 1] # Remove short tokens\n",
    "    return tokens\n",
    "\n",
    "for _ in range(5):\n",
    "    sample_text = df.sample(1).apply(lambda x: x[\"title\"] + \" | \" + x[\"description\"], axis=1).values[0]\n",
    "    print(f\"SAMPLE TEXT: {sample_text}\")\n",
    "    print(f\"TOKENS: {generate_tokens(sample_text)}\")\n",
    "    print(f\"------\")"
   ]
  },
  {
   "cell_type": "code",
   "execution_count": 10,
   "metadata": {},
   "outputs": [
    {
     "data": {
      "text/plain": [
       "((10437, 17), (9882, 17))"
      ]
     },
     "execution_count": 10,
     "metadata": {},
     "output_type": "execute_result"
    }
   ],
   "source": [
    "text_columns = [\"title\", \"description\", \"content\"]\n",
    "\n",
    "for col in text_columns:\n",
    "    df[col] = df[col].astype(str)\n",
    "\n",
    "# Create text column based on title, description, and content\n",
    "df[\"text\"] = df[text_columns].apply(lambda x: ' | '.join(x), axis=1)\n",
    "df[\"tokens\"] = df[\"text\"].map(lambda x: generate_tokens(x))\n",
    "\n",
    "# Remove duplicated after preprocessing\n",
    "_, idx = np.unique(df[\"tokens\"], return_index=True)\n",
    "df_proc = df.iloc[idx, :]\n",
    "\n",
    "# Remove empty values\n",
    "df_proc = df_proc.loc[df_proc.tokens.map(lambda x: len(x) > 0)]\n",
    "\n",
    "df.shape, df_proc.shape"
   ]
  },
  {
   "cell_type": "markdown",
   "metadata": {},
   "source": [
    "## Review vocabulary"
   ]
  },
  {
   "cell_type": "code",
   "execution_count": 11,
   "metadata": {},
   "outputs": [],
   "source": [
    "docs = df_proc[\"text\"].values\n",
    "tokenized_docs = df_proc[\"tokens\"].values\n",
    "vocab = Counter()\n",
    "for token in tokenized_docs:\n",
    "    vocab.update(token)"
   ]
  },
  {
   "cell_type": "code",
   "execution_count": 12,
   "metadata": {},
   "outputs": [
    {
     "data": {
      "text/plain": [
       "32454"
      ]
     },
     "execution_count": 12,
     "metadata": {},
     "output_type": "execute_result"
    }
   ],
   "source": [
    "len(vocab)"
   ]
  },
  {
   "cell_type": "code",
   "execution_count": 13,
   "metadata": {},
   "outputs": [
    {
     "data": {
      "text/plain": [
       "[('us', 2757),\n",
       " ('said', 2519),\n",
       " ('year', 1781),\n",
       " ('president', 1756),\n",
       " ('trump', 1705),\n",
       " ('world', 1620),\n",
       " ('says', 1511),\n",
       " ('one', 1418),\n",
       " ('two', 1284),\n",
       " ('first', 1195)]"
      ]
     },
     "execution_count": 13,
     "metadata": {},
     "output_type": "execute_result"
    }
   ],
   "source": [
    "vocab.most_common(10)"
   ]
  },
  {
   "cell_type": "markdown",
   "metadata": {},
   "source": [
    "## BoW + SVD + Normalizer"
   ]
  },
  {
   "cell_type": "code",
   "execution_count": 53,
   "metadata": {},
   "outputs": [],
   "source": [
    "from sklearn.decomposition import TruncatedSVD\n",
    "from sklearn.feature_extraction.text import CountVectorizer\n",
    "from sklearn.pipeline import make_pipeline\n",
    "from sklearn.preprocessing import Normalizer\n",
    "\n",
    "bow = CountVectorizer(analyzer=\"word\",\n",
    "                      stop_words=stop_words,\n",
    "                      ngram_range=(1, 3),\n",
    "                      max_df=.5, \n",
    "                      min_df=5)\n",
    "svd = TruncatedSVD(200)\n",
    "normalizer = Normalizer(copy=False)\n",
    "vectorizer = make_pipeline(bow, svd, normalizer)\n",
    "vectorized_docs = vectorizer.fit_transform(docs)"
   ]
  },
  {
   "cell_type": "code",
   "execution_count": 37,
   "metadata": {},
   "outputs": [
    {
     "data": {
      "text/plain": [
       "(9882, 200)"
      ]
     },
     "execution_count": 37,
     "metadata": {},
     "output_type": "execute_result"
    }
   ],
   "source": [
    "vectorized_docs.shape"
   ]
  },
  {
   "cell_type": "markdown",
   "metadata": {},
   "source": [
    "## Choose number of clusters"
   ]
  },
  {
   "cell_type": "code",
   "execution_count": 38,
   "metadata": {},
   "outputs": [],
   "source": [
    "def generate_clusters(X, k, mb=500, random_state=42):\n",
    "    clustering = MiniBatchKMeans(n_clusters=k, batch_size=mb, random_state=random_state)\n",
    "    cluster_labels = clustering.fit_predict(X)\n",
    "    print(f\"For n_clusters = {k}\")\n",
    "    silhouette_avg = silhouette_score(X, cluster_labels)\n",
    "    print(f\"The average Silhouette_score is: {silhouette_avg:.2f}\")\n",
    "    sample_silhouette_values = silhouette_samples(X, cluster_labels)\n",
    "    for i in range(k):\n",
    "        ith_cluster_silhouette_values = sample_silhouette_values[cluster_labels == i]\n",
    "        print(f\"    Silhoute values for cluster {i}: \"\n",
    "        f\"Size:{ith_cluster_silhouette_values.shape[0]}\"\n",
    "        f\"| Min:{ith_cluster_silhouette_values.min():.2f}\"\n",
    "        f\"| Avg:{ith_cluster_silhouette_values.mean():.2f}\"\n",
    "        f\"| Max: {ith_cluster_silhouette_values.max():.2f}\")\n",
    "    try:\n",
    "        print(f\"The Inertia is :{clustering.inertia_}\")\n",
    "        distorsions.append(clustering.inertia_)\n",
    "    except:\n",
    "        pass\n",
    "    return clustering, cluster_labels"
   ]
  },
  {
   "cell_type": "code",
   "execution_count": 39,
   "metadata": {
    "scrolled": true
   },
   "outputs": [
    {
     "data": {
      "application/vnd.jupyter.widget-view+json": {
       "model_id": "1db4fc49cc154d8c96377b252be7dc7c",
       "version_major": 2,
       "version_minor": 0
      },
      "text/plain": [
       "HBox(children=(HTML(value=''), FloatProgress(value=0.0, max=23.0), HTML(value='')))"
      ]
     },
     "metadata": {},
     "output_type": "display_data"
    },
    {
     "name": "stdout",
     "output_type": "stream",
     "text": [
      "For n_clusters = 2\n",
      "The average Silhouette_score is: 0.01\n",
      "    Silhoute values for cluster 0: Size:7851| Min:-0.02| Avg:0.00| Max: 0.03\n",
      "    Silhoute values for cluster 1: Size:2031| Min:0.01| Avg:0.05| Max: 0.14\n",
      "The Inertia is :9264.918827407188\n",
      "For n_clusters = 3\n",
      "The average Silhouette_score is: 0.02\n",
      "    Silhoute values for cluster 0: Size:6157| Min:-0.03| Avg:0.00| Max: 0.03\n",
      "    Silhoute values for cluster 1: Size:1399| Min:0.00| Avg:0.09| Max: 0.20\n",
      "    Silhoute values for cluster 2: Size:2326| Min:-0.03| Avg:0.03| Max: 0.08\n",
      "The Inertia is :9091.297413244354\n",
      "For n_clusters = 4\n",
      "The average Silhouette_score is: 0.03\n",
      "    Silhoute values for cluster 0: Size:5033| Min:-0.05| Avg:-0.00| Max: 0.03\n",
      "    Silhoute values for cluster 1: Size:1185| Min:-0.02| Avg:0.09| Max: 0.23\n",
      "    Silhoute values for cluster 2: Size:1013| Min:-0.02| Avg:0.11| Max: 0.23\n",
      "    Silhoute values for cluster 3: Size:2651| Min:-0.03| Avg:0.02| Max: 0.08\n",
      "The Inertia is :8967.868450283417\n",
      "For n_clusters = 5\n",
      "The average Silhouette_score is: 0.04\n",
      "    Silhoute values for cluster 0: Size:5511| Min:-0.14| Avg:-0.01| Max: 0.02\n",
      "    Silhoute values for cluster 1: Size:933| Min:0.01| Avg:0.12| Max: 0.24\n",
      "    Silhoute values for cluster 2: Size:405| Min:0.15| Avg:0.46| Max: 0.61\n",
      "    Silhoute values for cluster 3: Size:1006| Min:-0.02| Avg:0.07| Max: 0.18\n",
      "    Silhoute values for cluster 4: Size:2027| Min:-0.09| Avg:0.02| Max: 0.09\n",
      "The Inertia is :8727.406951076991\n",
      "For n_clusters = 6\n",
      "The average Silhouette_score is: 0.04\n",
      "    Silhoute values for cluster 0: Size:2517| Min:-0.09| Avg:0.01| Max: 0.05\n",
      "    Silhoute values for cluster 1: Size:4013| Min:-0.14| Avg:-0.00| Max: 0.03\n",
      "    Silhoute values for cluster 2: Size:404| Min:0.15| Avg:0.46| Max: 0.61\n",
      "    Silhoute values for cluster 3: Size:1224| Min:-0.01| Avg:0.08| Max: 0.19\n",
      "    Silhoute values for cluster 4: Size:712| Min:-0.15| Avg:0.08| Max: 0.20\n",
      "    Silhoute values for cluster 5: Size:1012| Min:-0.02| Avg:0.07| Max: 0.18\n",
      "The Inertia is :8640.727321521967\n",
      "For n_clusters = 7\n",
      "The average Silhouette_score is: 0.04\n",
      "    Silhoute values for cluster 0: Size:2902| Min:-0.14| Avg:-0.01| Max: 0.02\n",
      "    Silhoute values for cluster 1: Size:403| Min:0.18| Avg:0.46| Max: 0.61\n",
      "    Silhoute values for cluster 2: Size:1943| Min:-0.08| Avg:0.01| Max: 0.05\n",
      "    Silhoute values for cluster 3: Size:852| Min:0.03| Avg:0.13| Max: 0.25\n",
      "    Silhoute values for cluster 4: Size:879| Min:-0.04| Avg:0.06| Max: 0.18\n",
      "    Silhoute values for cluster 5: Size:1694| Min:-0.09| Avg:0.02| Max: 0.09\n",
      "    Silhoute values for cluster 6: Size:1209| Min:-0.15| Avg:0.04| Max: 0.14\n",
      "The Inertia is :8582.023061974893\n",
      "For n_clusters = 8\n",
      "The average Silhouette_score is: 0.04\n",
      "    Silhoute values for cluster 0: Size:1173| Min:-0.03| Avg:0.08| Max: 0.20\n",
      "    Silhoute values for cluster 1: Size:1316| Min:-0.07| Avg:0.02| Max: 0.08\n",
      "    Silhoute values for cluster 2: Size:404| Min:0.16| Avg:0.46| Max: 0.61\n",
      "    Silhoute values for cluster 3: Size:1712| Min:-0.13| Avg:0.02| Max: 0.07\n",
      "    Silhoute values for cluster 4: Size:3235| Min:-0.14| Avg:-0.01| Max: 0.02\n",
      "    Silhoute values for cluster 5: Size:483| Min:-0.09| Avg:0.14| Max: 0.29\n",
      "    Silhoute values for cluster 6: Size:498| Min:-0.01| Avg:0.06| Max: 0.15\n",
      "    Silhoute values for cluster 7: Size:1061| Min:-0.07| Avg:0.02| Max: 0.09\n",
      "The Inertia is :8532.078327444733\n",
      "For n_clusters = 9\n",
      "The average Silhouette_score is: 0.05\n",
      "    Silhoute values for cluster 0: Size:2421| Min:-0.14| Avg:0.00| Max: 0.04\n",
      "    Silhoute values for cluster 1: Size:2252| Min:-0.07| Avg:-0.00| Max: 0.04\n",
      "    Silhoute values for cluster 2: Size:403| Min:0.14| Avg:0.46| Max: 0.60\n",
      "    Silhoute values for cluster 3: Size:989| Min:-0.16| Avg:0.03| Max: 0.10\n",
      "    Silhoute values for cluster 4: Size:563| Min:-0.06| Avg:0.05| Max: 0.16\n",
      "    Silhoute values for cluster 5: Size:628| Min:-0.14| Avg:0.09| Max: 0.22\n",
      "    Silhoute values for cluster 6: Size:1106| Min:-0.09| Avg:0.01| Max: 0.09\n",
      "    Silhoute values for cluster 7: Size:819| Min:0.02| Avg:0.13| Max: 0.26\n",
      "    Silhoute values for cluster 8: Size:701| Min:-0.00| Avg:0.09| Max: 0.24\n",
      "The Inertia is :8424.398183319036\n",
      "For n_clusters = 10\n",
      "The average Silhouette_score is: 0.05\n",
      "    Silhoute values for cluster 0: Size:477| Min:0.01| Avg:0.11| Max: 0.24\n",
      "    Silhoute values for cluster 1: Size:1227| Min:-0.06| Avg:0.03| Max: 0.13\n",
      "    Silhoute values for cluster 2: Size:842| Min:-0.16| Avg:0.01| Max: 0.10\n",
      "    Silhoute values for cluster 3: Size:1584| Min:-0.12| Avg:0.00| Max: 0.04\n",
      "    Silhoute values for cluster 4: Size:806| Min:-0.03| Avg:0.13| Max: 0.26\n",
      "    Silhoute values for cluster 5: Size:378| Min:-0.05| Avg:0.19| Max: 0.33\n",
      "    Silhoute values for cluster 6: Size:402| Min:0.19| Avg:0.45| Max: 0.60\n",
      "    Silhoute values for cluster 7: Size:584| Min:-0.03| Avg:0.08| Max: 0.18\n",
      "    Silhoute values for cluster 8: Size:2438| Min:-0.14| Avg:-0.01| Max: 0.02\n",
      "    Silhoute values for cluster 9: Size:1144| Min:-0.08| Avg:0.01| Max: 0.09\n",
      "The Inertia is :8339.211568700828\n",
      "For n_clusters = 11\n",
      "The average Silhouette_score is: 0.05\n",
      "    Silhoute values for cluster 0: Size:619| Min:-0.08| Avg:0.01| Max: 0.07\n",
      "    Silhoute values for cluster 1: Size:760| Min:-0.14| Avg:0.07| Max: 0.21\n",
      "    Silhoute values for cluster 2: Size:1022| Min:-0.11| Avg:0.02| Max: 0.09\n",
      "    Silhoute values for cluster 3: Size:785| Min:-0.06| Avg:0.04| Max: 0.14\n",
      "    Silhoute values for cluster 4: Size:628| Min:-0.09| Avg:0.04| Max: 0.14\n",
      "    Silhoute values for cluster 5: Size:3079| Min:-0.18| Avg:-0.02| Max: 0.02\n",
      "    Silhoute values for cluster 6: Size:1050| Min:-0.11| Avg:0.02| Max: 0.08\n",
      "    Silhoute values for cluster 7: Size:888| Min:-0.07| Avg:0.11| Max: 0.23\n",
      "    Silhoute values for cluster 8: Size:286| Min:0.03| Avg:0.26| Max: 0.42\n",
      "    Silhoute values for cluster 9: Size:364| Min:-0.05| Avg:0.20| Max: 0.33\n",
      "    Silhoute values for cluster 10: Size:401| Min:0.17| Avg:0.46| Max: 0.61\n",
      "The Inertia is :8260.093880197875\n",
      "For n_clusters = 12\n",
      "The average Silhouette_score is: 0.06\n",
      "    Silhoute values for cluster 0: Size:508| Min:-0.07| Avg:0.01| Max: 0.07\n",
      "    Silhoute values for cluster 1: Size:702| Min:-0.14| Avg:0.07| Max: 0.22\n",
      "    Silhoute values for cluster 2: Size:1219| Min:-0.08| Avg:0.01| Max: 0.09\n",
      "    Silhoute values for cluster 3: Size:729| Min:-0.06| Avg:0.04| Max: 0.14\n",
      "    Silhoute values for cluster 4: Size:567| Min:-0.09| Avg:0.04| Max: 0.15\n",
      "    Silhoute values for cluster 5: Size:2908| Min:-0.17| Avg:-0.02| Max: 0.01\n",
      "    Silhoute values for cluster 6: Size:757| Min:-0.10| Avg:0.02| Max: 0.09\n",
      "    Silhoute values for cluster 7: Size:618| Min:-0.05| Avg:0.06| Max: 0.22\n",
      "    Silhoute values for cluster 8: Size:281| Min:0.03| Avg:0.26| Max: 0.42\n",
      "    Silhoute values for cluster 9: Size:358| Min:-0.04| Avg:0.20| Max: 0.34\n",
      "    Silhoute values for cluster 10: Size:401| Min:0.17| Avg:0.46| Max: 0.61\n",
      "    Silhoute values for cluster 11: Size:834| Min:-0.07| Avg:0.11| Max: 0.24\n",
      "The Inertia is :8186.396116749095\n",
      "For n_clusters = 13\n",
      "The average Silhouette_score is: 0.06\n",
      "    Silhoute values for cluster 0: Size:343| Min:-0.10| Avg:0.05| Max: 0.15\n",
      "    Silhoute values for cluster 1: Size:2073| Min:-0.10| Avg:-0.01| Max: 0.02\n",
      "    Silhoute values for cluster 2: Size:751| Min:-0.08| Avg:0.12| Max: 0.27\n",
      "    Silhoute values for cluster 3: Size:463| Min:-0.02| Avg:0.09| Max: 0.21\n",
      "    Silhoute values for cluster 4: Size:534| Min:-0.04| Avg:0.08| Max: 0.20\n",
      "    Silhoute values for cluster 5: Size:594| Min:-0.15| Avg:0.02| Max: 0.07\n",
      "    Silhoute values for cluster 6: Size:352| Min:-0.04| Avg:0.20| Max: 0.34\n",
      "    Silhoute values for cluster 7: Size:971| Min:-0.08| Avg:0.03| Max: 0.15\n",
      "    Silhoute values for cluster 8: Size:279| Min:0.03| Avg:0.26| Max: 0.42\n",
      "    Silhoute values for cluster 9: Size:401| Min:0.16| Avg:0.45| Max: 0.60\n",
      "    Silhoute values for cluster 10: Size:603| Min:-0.05| Avg:0.06| Max: 0.22\n",
      "    Silhoute values for cluster 11: Size:618| Min:-0.08| Avg:0.03| Max: 0.12\n",
      "    Silhoute values for cluster 12: Size:1900| Min:-0.14| Avg:-0.01| Max: 0.03\n",
      "The Inertia is :8113.972469168785\n",
      "For n_clusters = 14\n",
      "The average Silhouette_score is: 0.06\n",
      "    Silhoute values for cluster 0: Size:476| Min:-0.08| Avg:0.01| Max: 0.07\n",
      "    Silhoute values for cluster 1: Size:631| Min:-0.08| Avg:0.08| Max: 0.24\n",
      "    Silhoute values for cluster 2: Size:718| Min:-0.10| Avg:0.02| Max: 0.11\n",
      "    Silhoute values for cluster 3: Size:644| Min:-0.05| Avg:0.04| Max: 0.14\n",
      "    Silhoute values for cluster 4: Size:475| Min:-0.08| Avg:0.05| Max: 0.16\n",
      "    Silhoute values for cluster 5: Size:2621| Min:-0.18| Avg:-0.02| Max: 0.01\n",
      "    Silhoute values for cluster 6: Size:589| Min:-0.08| Avg:0.02| Max: 0.11\n",
      "    Silhoute values for cluster 7: Size:576| Min:-0.05| Avg:0.05| Max: 0.22\n",
      "    Silhoute values for cluster 8: Size:281| Min:0.03| Avg:0.26| Max: 0.42\n",
      "    Silhoute values for cluster 9: Size:357| Min:-0.04| Avg:0.20| Max: 0.34\n",
      "    Silhoute values for cluster 10: Size:402| Min:0.14| Avg:0.45| Max: 0.61\n",
      "    Silhoute values for cluster 11: Size:812| Min:-0.06| Avg:0.12| Max: 0.24\n",
      "    Silhoute values for cluster 12: Size:491| Min:-0.05| Avg:0.05| Max: 0.20\n",
      "    Silhoute values for cluster 13: Size:809| Min:-0.07| Avg:0.02| Max: 0.10\n",
      "The Inertia is :8089.0960773415245\n",
      "For n_clusters = 15\n",
      "The average Silhouette_score is: 0.06\n",
      "    Silhoute values for cluster 0: Size:1119| Min:-0.12| Avg:0.00| Max: 0.04\n",
      "    Silhoute values for cluster 1: Size:403| Min:0.13| Avg:0.45| Max: 0.60\n",
      "    Silhoute values for cluster 2: Size:403| Min:-0.05| Avg:0.05| Max: 0.17\n",
      "    Silhoute values for cluster 3: Size:753| Min:-0.04| Avg:0.12| Max: 0.27\n",
      "    Silhoute values for cluster 4: Size:583| Min:-0.01| Avg:0.10| Max: 0.26\n",
      "    Silhoute values for cluster 5: Size:350| Min:-0.04| Avg:0.20| Max: 0.34\n",
      "    Silhoute values for cluster 6: Size:489| Min:-0.03| Avg:0.08| Max: 0.18\n",
      "    Silhoute values for cluster 7: Size:557| Min:-0.04| Avg:0.06| Max: 0.23\n",
      "    Silhoute values for cluster 8: Size:2534| Min:-0.18| Avg:-0.02| Max: 0.01\n",
      "    Silhoute values for cluster 9: Size:364| Min:-0.08| Avg:0.06| Max: 0.18\n",
      "    Silhoute values for cluster 10: Size:448| Min:-0.05| Avg:0.10| Max: 0.26\n",
      "    Silhoute values for cluster 11: Size:243| Min:-0.03| Avg:0.07| Max: 0.23\n",
      "    Silhoute values for cluster 12: Size:877| Min:-0.07| Avg:0.03| Max: 0.16\n",
      "    Silhoute values for cluster 13: Size:296| Min:-0.05| Avg:0.06| Max: 0.19\n",
      "    Silhoute values for cluster 14: Size:463| Min:-0.06| Avg:0.06| Max: 0.20\n",
      "The Inertia is :8010.322621629359\n",
      "For n_clusters = 16\n",
      "The average Silhouette_score is: 0.06\n",
      "    Silhoute values for cluster 0: Size:387| Min:-0.02| Avg:0.10| Max: 0.23\n",
      "    Silhoute values for cluster 1: Size:746| Min:-0.04| Avg:0.12| Max: 0.27\n",
      "    Silhoute values for cluster 2: Size:446| Min:-0.06| Avg:0.04| Max: 0.18\n",
      "    Silhoute values for cluster 3: Size:401| Min:0.15| Avg:0.45| Max: 0.60\n",
      "    Silhoute values for cluster 4: Size:355| Min:-0.06| Avg:0.17| Max: 0.31\n",
      "    Silhoute values for cluster 5: Size:869| Min:-0.07| Avg:0.03| Max: 0.15\n",
      "    Silhoute values for cluster 6: Size:377| Min:-0.03| Avg:0.04| Max: 0.13\n",
      "    Silhoute values for cluster 7: Size:672| Min:-0.05| Avg:0.08| Max: 0.22\n",
      "    Silhoute values for cluster 8: Size:344| Min:-0.04| Avg:0.20| Max: 0.35\n",
      "    Silhoute values for cluster 9: Size:2065| Min:-0.18| Avg:-0.02| Max: 0.02\n",
      "    Silhoute values for cluster 10: Size:427| Min:-0.06| Avg:0.04| Max: 0.15\n",
      "    Silhoute values for cluster 11: Size:449| Min:-0.06| Avg:0.06| Max: 0.20\n",
      "    Silhoute values for cluster 12: Size:452| Min:-0.06| Avg:0.03| Max: 0.13\n",
      "    Silhoute values for cluster 13: Size:567| Min:-0.04| Avg:0.05| Max: 0.21\n",
      "    Silhoute values for cluster 14: Size:1182| Min:-0.09| Avg:-0.00| Max: 0.04\n",
      "    Silhoute values for cluster 15: Size:143| Min:-0.13| Avg:0.19| Max: 0.36\n",
      "The Inertia is :7970.066857282796\n",
      "For n_clusters = 17\n",
      "The average Silhouette_score is: 0.06\n",
      "    Silhoute values for cluster 0: Size:421| Min:-0.07| Avg:0.02| Max: 0.08\n",
      "    Silhoute values for cluster 1: Size:544| Min:-0.07| Avg:0.09| Max: 0.26\n",
      "    Silhoute values for cluster 2: Size:766| Min:-0.11| Avg:0.02| Max: 0.10\n",
      "    Silhoute values for cluster 3: Size:421| Min:-0.06| Avg:0.07| Max: 0.20\n",
      "    Silhoute values for cluster 4: Size:344| Min:-0.05| Avg:0.06| Max: 0.18\n",
      "    Silhoute values for cluster 5: Size:2053| Min:-0.18| Avg:-0.02| Max: 0.01\n",
      "    Silhoute values for cluster 6: Size:459| Min:-0.06| Avg:0.03| Max: 0.13\n",
      "    Silhoute values for cluster 7: Size:538| Min:-0.05| Avg:0.05| Max: 0.23\n",
      "    Silhoute values for cluster 8: Size:267| Min:0.04| Avg:0.27| Max: 0.43\n",
      "    Silhoute values for cluster 9: Size:344| Min:-0.04| Avg:0.21| Max: 0.34\n",
      "    Silhoute values for cluster 10: Size:402| Min:0.14| Avg:0.45| Max: 0.60\n",
      "    Silhoute values for cluster 11: Size:757| Min:-0.08| Avg:0.12| Max: 0.26\n",
      "    Silhoute values for cluster 12: Size:432| Min:-0.05| Avg:0.05| Max: 0.20\n",
      "    Silhoute values for cluster 13: Size:210| Min:-0.05| Avg:0.15| Max: 0.32\n",
      "    Silhoute values for cluster 14: Size:450| Min:-0.06| Avg:0.02| Max: 0.08\n",
      "    Silhoute values for cluster 15: Size:955| Min:-0.11| Avg:0.00| Max: 0.05\n",
      "    Silhoute values for cluster 16: Size:519| Min:-0.08| Avg:0.07| Max: 0.17\n",
      "The Inertia is :7928.594688741136\n",
      "For n_clusters = 18\n",
      "The average Silhouette_score is: 0.07\n",
      "    Silhoute values for cluster 0: Size:462| Min:-0.07| Avg:0.08| Max: 0.19\n",
      "    Silhoute values for cluster 1: Size:424| Min:-0.06| Avg:0.04| Max: 0.14\n",
      "    Silhoute values for cluster 2: Size:700| Min:-0.10| Avg:0.01| Max: 0.09\n",
      "    Silhoute values for cluster 3: Size:719| Min:-0.06| Avg:0.13| Max: 0.27\n",
      "    Silhoute values for cluster 4: Size:280| Min:0.03| Avg:0.25| Max: 0.42\n",
      "    Silhoute values for cluster 5: Size:841| Min:-0.09| Avg:0.00| Max: 0.05\n",
      "    Silhoute values for cluster 6: Size:421| Min:-0.04| Avg:0.06| Max: 0.21\n",
      "    Silhoute values for cluster 7: Size:148| Min:-0.13| Avg:0.18| Max: 0.36\n",
      "    Silhoute values for cluster 8: Size:452| Min:-0.08| Avg:0.15| Max: 0.29\n",
      "    Silhoute values for cluster 9: Size:141| Min:0.06| Avg:0.32| Max: 0.45\n",
      "    Silhoute values for cluster 10: Size:807| Min:-0.10| Avg:0.00| Max: 0.08\n",
      "    Silhoute values for cluster 11: Size:1320| Min:-0.13| Avg:-0.01| Max: 0.05\n",
      "    Silhoute values for cluster 12: Size:400| Min:0.17| Avg:0.45| Max: 0.60\n",
      "    Silhoute values for cluster 13: Size:744| Min:-0.09| Avg:0.02| Max: 0.10\n",
      "    Silhoute values for cluster 14: Size:725| Min:-0.18| Avg:-0.00| Max: 0.07\n",
      "    Silhoute values for cluster 15: Size:467| Min:-0.04| Avg:0.10| Max: 0.27\n",
      "    Silhoute values for cluster 16: Size:523| Min:-0.06| Avg:0.06| Max: 0.22\n",
      "    Silhoute values for cluster 17: Size:308| Min:-0.02| Avg:0.07| Max: 0.20\n",
      "The Inertia is :7865.671753206528\n",
      "For n_clusters = 19\n",
      "The average Silhouette_score is: 0.07\n",
      "    Silhoute values for cluster 0: Size:380| Min:-0.08| Avg:0.03| Max: 0.09\n",
      "    Silhoute values for cluster 1: Size:508| Min:-0.07| Avg:0.09| Max: 0.27\n",
      "    Silhoute values for cluster 2: Size:523| Min:-0.09| Avg:0.02| Max: 0.12\n",
      "    Silhoute values for cluster 3: Size:398| Min:-0.06| Avg:0.07| Max: 0.21\n",
      "    Silhoute values for cluster 4: Size:325| Min:-0.04| Avg:0.06| Max: 0.18\n",
      "    Silhoute values for cluster 5: Size:1213| Min:-0.17| Avg:-0.01| Max: 0.02\n",
      "    Silhoute values for cluster 6: Size:313| Min:-0.03| Avg:0.05| Max: 0.19\n",
      "    Silhoute values for cluster 7: Size:490| Min:-0.04| Avg:0.06| Max: 0.23\n",
      "    Silhoute values for cluster 8: Size:266| Min:0.04| Avg:0.27| Max: 0.43\n",
      "    Silhoute values for cluster 9: Size:340| Min:-0.04| Avg:0.21| Max: 0.35\n",
      "    Silhoute values for cluster 10: Size:402| Min:0.14| Avg:0.45| Max: 0.60\n",
      "    Silhoute values for cluster 11: Size:1243| Min:-0.13| Avg:-0.02| Max: 0.03\n",
      "    Silhoute values for cluster 12: Size:400| Min:-0.04| Avg:0.06| Max: 0.21\n",
      "    Silhoute values for cluster 13: Size:168| Min:-0.03| Avg:0.22| Max: 0.38\n",
      "    Silhoute values for cluster 14: Size:337| Min:-0.05| Avg:0.03| Max: 0.13\n",
      "    Silhoute values for cluster 15: Size:564| Min:-0.10| Avg:0.01| Max: 0.08\n",
      "    Silhoute values for cluster 16: Size:483| Min:-0.08| Avg:0.07| Max: 0.18\n",
      "    Silhoute values for cluster 17: Size:729| Min:-0.08| Avg:0.12| Max: 0.26\n",
      "    Silhoute values for cluster 18: Size:800| Min:-0.09| Avg:0.03| Max: 0.13\n",
      "The Inertia is :7838.305827322396\n",
      "For n_clusters = 20\n",
      "The average Silhouette_score is: 0.07\n",
      "    Silhoute values for cluster 0: Size:342| Min:-0.05| Avg:0.03| Max: 0.09\n",
      "    Silhoute values for cluster 1: Size:499| Min:-0.07| Avg:0.09| Max: 0.27\n",
      "    Silhoute values for cluster 2: Size:529| Min:-0.09| Avg:0.02| Max: 0.12\n",
      "    Silhoute values for cluster 3: Size:386| Min:-0.06| Avg:0.07| Max: 0.21\n",
      "    Silhoute values for cluster 4: Size:301| Min:-0.03| Avg:0.07| Max: 0.20\n",
      "    Silhoute values for cluster 5: Size:1195| Min:-0.17| Avg:-0.02| Max: 0.02\n",
      "    Silhoute values for cluster 6: Size:296| Min:-0.04| Avg:0.05| Max: 0.20\n",
      "    Silhoute values for cluster 7: Size:476| Min:-0.04| Avg:0.06| Max: 0.23\n",
      "    Silhoute values for cluster 8: Size:265| Min:0.04| Avg:0.27| Max: 0.43\n",
      "    Silhoute values for cluster 9: Size:340| Min:-0.04| Avg:0.21| Max: 0.35\n",
      "    Silhoute values for cluster 10: Size:402| Min:0.14| Avg:0.45| Max: 0.60\n",
      "    Silhoute values for cluster 11: Size:1234| Min:-0.13| Avg:-0.02| Max: 0.03\n",
      "    Silhoute values for cluster 12: Size:226| Min:-0.08| Avg:0.03| Max: 0.15\n",
      "    Silhoute values for cluster 13: Size:146| Min:0.02| Avg:0.29| Max: 0.44\n",
      "    Silhoute values for cluster 14: Size:321| Min:-0.07| Avg:0.04| Max: 0.14\n",
      "    Silhoute values for cluster 15: Size:543| Min:-0.08| Avg:0.02| Max: 0.09\n",
      "    Silhoute values for cluster 16: Size:466| Min:-0.08| Avg:0.08| Max: 0.18\n",
      "    Silhoute values for cluster 17: Size:729| Min:-0.08| Avg:0.12| Max: 0.26\n",
      "    Silhoute values for cluster 18: Size:787| Min:-0.09| Avg:0.02| Max: 0.13\n",
      "    Silhoute values for cluster 19: Size:399| Min:-0.04| Avg:0.06| Max: 0.22\n",
      "The Inertia is :7805.5064441168515\n",
      "For n_clusters = 21\n",
      "The average Silhouette_score is: 0.07\n",
      "    Silhoute values for cluster 0: Size:742| Min:-0.08| Avg:0.03| Max: 0.16\n",
      "    Silhoute values for cluster 1: Size:400| Min:0.17| Avg:0.45| Max: 0.61\n",
      "    Silhoute values for cluster 2: Size:1771| Min:-0.12| Avg:-0.02| Max: 0.01\n",
      "    Silhoute values for cluster 3: Size:287| Min:0.03| Avg:0.25| Max: 0.41\n",
      "    Silhoute values for cluster 4: Size:168| Min:-0.05| Avg:0.08| Max: 0.22\n",
      "    Silhoute values for cluster 5: Size:725| Min:-0.05| Avg:0.12| Max: 0.26\n",
      "    Silhoute values for cluster 6: Size:328| Min:-0.03| Avg:0.21| Max: 0.36\n",
      "    Silhoute values for cluster 7: Size:301| Min:-0.03| Avg:0.05| Max: 0.13\n",
      "    Silhoute values for cluster 8: Size:648| Min:-0.13| Avg:-0.01| Max: 0.04\n",
      "    Silhoute values for cluster 9: Size:275| Min:-0.14| Avg:0.04| Max: 0.16\n",
      "    Silhoute values for cluster 10: Size:517| Min:-0.05| Avg:0.04| Max: 0.19\n",
      "    Silhoute values for cluster 11: Size:364| Min:-0.08| Avg:0.04| Max: 0.17\n",
      "    Silhoute values for cluster 12: Size:380| Min:-0.01| Avg:0.09| Max: 0.20\n",
      "    Silhoute values for cluster 13: Size:203| Min:-0.04| Avg:0.08| Max: 0.21\n",
      "    Silhoute values for cluster 14: Size:496| Min:-0.04| Avg:0.10| Max: 0.28\n",
      "    Silhoute values for cluster 15: Size:166| Min:-0.15| Avg:0.15| Max: 0.33\n",
      "    Silhoute values for cluster 16: Size:421| Min:-0.04| Avg:0.05| Max: 0.21\n",
      "    Silhoute values for cluster 17: Size:411| Min:-0.07| Avg:0.06| Max: 0.21\n",
      "    Silhoute values for cluster 18: Size:376| Min:-0.06| Avg:0.05| Max: 0.20\n",
      "    Silhoute values for cluster 19: Size:519| Min:-0.08| Avg:0.00| Max: 0.10\n",
      "    Silhoute values for cluster 20: Size:384| Min:-0.04| Avg:0.05| Max: 0.15\n",
      "The Inertia is :7791.891608294396\n",
      "For n_clusters = 22\n",
      "The average Silhouette_score is: 0.07\n",
      "    Silhoute values for cluster 0: Size:401| Min:0.14| Avg:0.45| Max: 0.60\n",
      "    Silhoute values for cluster 1: Size:800| Min:-0.08| Avg:0.02| Max: 0.13\n",
      "    Silhoute values for cluster 2: Size:589| Min:-0.18| Avg:-0.00| Max: 0.06\n",
      "    Silhoute values for cluster 3: Size:262| Min:0.01| Avg:0.27| Max: 0.42\n",
      "    Silhoute values for cluster 4: Size:2195| Min:-0.17| Avg:-0.02| Max: 0.01\n",
      "    Silhoute values for cluster 5: Size:308| Min:-0.06| Avg:0.05| Max: 0.18\n",
      "    Silhoute values for cluster 6: Size:324| Min:-0.06| Avg:0.04| Max: 0.14\n",
      "    Silhoute values for cluster 7: Size:260| Min:-0.02| Avg:0.22| Max: 0.37\n",
      "    Silhoute values for cluster 8: Size:707| Min:-0.08| Avg:0.12| Max: 0.25\n",
      "    Silhoute values for cluster 9: Size:234| Min:-0.03| Avg:0.09| Max: 0.24\n",
      "    Silhoute values for cluster 10: Size:243| Min:-0.06| Avg:0.04| Max: 0.18\n",
      "    Silhoute values for cluster 11: Size:362| Min:-0.04| Avg:0.05| Max: 0.18\n",
      "    Silhoute values for cluster 12: Size:461| Min:-0.06| Avg:0.04| Max: 0.18\n",
      "    Silhoute values for cluster 13: Size:405| Min:-0.07| Avg:0.05| Max: 0.19\n",
      "    Silhoute values for cluster 14: Size:298| Min:-0.06| Avg:0.06| Max: 0.21\n",
      "    Silhoute values for cluster 15: Size:127| Min:0.15| Avg:0.40| Max: 0.56\n",
      "    Silhoute values for cluster 16: Size:260| Min:-0.04| Avg:0.09| Max: 0.22\n",
      "    Silhoute values for cluster 17: Size:392| Min:-0.07| Avg:0.05| Max: 0.21\n",
      "    Silhoute values for cluster 18: Size:438| Min:-0.04| Avg:0.10| Max: 0.28\n",
      "    Silhoute values for cluster 19: Size:248| Min:-0.11| Avg:0.02| Max: 0.11\n",
      "    Silhoute values for cluster 20: Size:322| Min:-0.06| Avg:0.04| Max: 0.12\n",
      "    Silhoute values for cluster 21: Size:246| Min:-0.07| Avg:0.05| Max: 0.20\n",
      "The Inertia is :7739.611791326416\n",
      "For n_clusters = 23\n",
      "The average Silhouette_score is: 0.07\n",
      "    Silhoute values for cluster 0: Size:346| Min:-0.06| Avg:0.04| Max: 0.13\n",
      "    Silhoute values for cluster 1: Size:127| Min:0.16| Avg:0.39| Max: 0.55\n",
      "    Silhoute values for cluster 2: Size:333| Min:-0.01| Avg:0.13| Max: 0.26\n",
      "    Silhoute values for cluster 3: Size:373| Min:-0.04| Avg:0.06| Max: 0.17\n",
      "    Silhoute values for cluster 4: Size:699| Min:-0.08| Avg:0.12| Max: 0.25\n",
      "    Silhoute values for cluster 5: Size:887| Min:-0.12| Avg:0.00| Max: 0.05\n",
      "    Silhoute values for cluster 6: Size:543| Min:-0.14| Avg:0.01| Max: 0.09\n",
      "    Silhoute values for cluster 7: Size:188| Min:-0.01| Avg:0.11| Max: 0.26\n",
      "    Silhoute values for cluster 8: Size:401| Min:0.16| Avg:0.45| Max: 0.60\n",
      "    Silhoute values for cluster 9: Size:469| Min:-0.07| Avg:0.01| Max: 0.09\n",
      "    Silhoute values for cluster 10: Size:457| Min:-0.04| Avg:0.06| Max: 0.24\n",
      "    Silhoute values for cluster 11: Size:368| Min:-0.04| Avg:0.10| Max: 0.23\n",
      "    Silhoute values for cluster 12: Size:1194| Min:-0.14| Avg:-0.02| Max: 0.02\n",
      "    Silhoute values for cluster 13: Size:403| Min:-0.13| Avg:0.02| Max: 0.08\n",
      "    Silhoute values for cluster 14: Size:392| Min:-0.12| Avg:0.02| Max: 0.10\n",
      "    Silhoute values for cluster 15: Size:230| Min:-0.08| Avg:0.08| Max: 0.21\n",
      "    Silhoute values for cluster 16: Size:226| Min:-0.02| Avg:0.06| Max: 0.23\n",
      "    Silhoute values for cluster 17: Size:263| Min:0.04| Avg:0.27| Max: 0.42\n",
      "    Silhoute values for cluster 18: Size:135| Min:0.14| Avg:0.33| Max: 0.46\n",
      "    Silhoute values for cluster 19: Size:458| Min:-0.06| Avg:0.02| Max: 0.15\n",
      "    Silhoute values for cluster 20: Size:294| Min:-0.07| Avg:0.05| Max: 0.16\n",
      "    Silhoute values for cluster 21: Size:303| Min:-0.12| Avg:0.10| Max: 0.22\n",
      "    Silhoute values for cluster 22: Size:793| Min:-0.12| Avg:0.02| Max: 0.11\n",
      "The Inertia is :7672.964239957974\n",
      "For n_clusters = 24\n",
      "The average Silhouette_score is: 0.07\n",
      "    Silhoute values for cluster 0: Size:925| Min:-0.12| Avg:-0.00| Max: 0.04\n",
      "    Silhoute values for cluster 1: Size:608| Min:-0.11| Avg:-0.01| Max: 0.06\n",
      "    Silhoute values for cluster 2: Size:218| Min:-0.03| Avg:0.07| Max: 0.21\n",
      "    Silhoute values for cluster 3: Size:289| Min:-0.02| Avg:0.10| Max: 0.23\n",
      "    Silhoute values for cluster 4: Size:401| Min:0.16| Avg:0.45| Max: 0.60\n",
      "    Silhoute values for cluster 5: Size:530| Min:-0.05| Avg:0.10| Max: 0.23\n",
      "    Silhoute values for cluster 6: Size:706| Min:-0.09| Avg:0.03| Max: 0.15\n",
      "    Silhoute values for cluster 7: Size:211| Min:-0.03| Avg:0.08| Max: 0.22\n",
      "    Silhoute values for cluster 8: Size:1367| Min:-0.19| Avg:-0.02| Max: 0.02\n",
      "    Silhoute values for cluster 9: Size:347| Min:-0.02| Avg:0.11| Max: 0.24\n",
      "    Silhoute values for cluster 10: Size:313| Min:-0.09| Avg:0.04| Max: 0.14\n",
      "    Silhoute values for cluster 11: Size:518| Min:-0.07| Avg:0.09| Max: 0.27\n",
      "    Silhoute values for cluster 12: Size:127| Min:0.18| Avg:0.39| Max: 0.55\n",
      "    Silhoute values for cluster 13: Size:392| Min:-0.05| Avg:0.03| Max: 0.18\n",
      "    Silhoute values for cluster 14: Size:392| Min:-0.05| Avg:0.05| Max: 0.18\n",
      "    Silhoute values for cluster 15: Size:259| Min:0.04| Avg:0.27| Max: 0.43\n",
      "    Silhoute values for cluster 16: Size:299| Min:-0.06| Avg:0.17| Max: 0.32\n",
      "    Silhoute values for cluster 17: Size:364| Min:-0.04| Avg:0.07| Max: 0.22\n",
      "    Silhoute values for cluster 18: Size:186| Min:-0.08| Avg:0.06| Max: 0.22\n",
      "    Silhoute values for cluster 19: Size:215| Min:-0.03| Avg:0.05| Max: 0.18\n",
      "    Silhoute values for cluster 20: Size:180| Min:-0.06| Avg:0.06| Max: 0.15\n",
      "    Silhoute values for cluster 21: Size:249| Min:-0.06| Avg:0.04| Max: 0.18\n",
      "    Silhoute values for cluster 22: Size:325| Min:-0.06| Avg:0.04| Max: 0.16\n",
      "    Silhoute values for cluster 23: Size:461| Min:-0.04| Avg:0.06| Max: 0.24\n",
      "The Inertia is :7622.593313242053\n",
      "\n"
     ]
    }
   ],
   "source": [
    "distorsions = []\n",
    "for k in tqdm(range(2, 25)):\n",
    "    generate_clusters(vectorized_docs, k)"
   ]
  },
  {
   "cell_type": "markdown",
   "metadata": {},
   "source": [
    "## Analyze generated clusters"
   ]
  },
  {
   "cell_type": "code",
   "execution_count": 55,
   "metadata": {},
   "outputs": [
    {
     "name": "stdout",
     "output_type": "stream",
     "text": [
      "For n_clusters = 50\n",
      "The average Silhouette_score is: 0.09\n",
      "    Silhoute values for cluster 0: Size:255| Min:-0.13| Avg:0.03| Max: 0.15\n",
      "    Silhoute values for cluster 1: Size:254| Min:-0.03| Avg:0.06| Max: 0.20\n",
      "    Silhoute values for cluster 2: Size:245| Min:-0.10| Avg:0.02| Max: 0.12\n",
      "    Silhoute values for cluster 3: Size:217| Min:0.02| Avg:0.21| Max: 0.38\n",
      "    Silhoute values for cluster 4: Size:252| Min:-0.10| Avg:0.01| Max: 0.14\n",
      "    Silhoute values for cluster 5: Size:400| Min:0.11| Avg:0.43| Max: 0.60\n",
      "    Silhoute values for cluster 6: Size:47| Min:-0.06| Avg:0.09| Max: 0.22\n",
      "    Silhoute values for cluster 7: Size:127| Min:0.13| Avg:0.38| Max: 0.54\n",
      "    Silhoute values for cluster 8: Size:317| Min:-0.05| Avg:0.06| Max: 0.27\n",
      "    Silhoute values for cluster 9: Size:193| Min:-0.10| Avg:0.02| Max: 0.12\n",
      "    Silhoute values for cluster 10: Size:264| Min:-0.07| Avg:0.06| Max: 0.19\n",
      "    Silhoute values for cluster 11: Size:131| Min:0.03| Avg:0.23| Max: 0.36\n",
      "    Silhoute values for cluster 12: Size:265| Min:-0.12| Avg:-0.03| Max: 0.05\n",
      "    Silhoute values for cluster 13: Size:271| Min:-0.10| Avg:0.04| Max: 0.21\n",
      "    Silhoute values for cluster 14: Size:135| Min:-0.07| Avg:0.10| Max: 0.20\n",
      "    Silhoute values for cluster 15: Size:156| Min:-0.07| Avg:0.04| Max: 0.18\n",
      "    Silhoute values for cluster 16: Size:584| Min:-0.07| Avg:0.11| Max: 0.23\n",
      "    Silhoute values for cluster 17: Size:92| Min:-0.02| Avg:0.10| Max: 0.27\n",
      "    Silhoute values for cluster 18: Size:236| Min:-0.08| Avg:0.07| Max: 0.25\n",
      "    Silhoute values for cluster 19: Size:60| Min:0.12| Avg:0.34| Max: 0.49\n",
      "    Silhoute values for cluster 20: Size:270| Min:-0.08| Avg:0.06| Max: 0.22\n",
      "    Silhoute values for cluster 21: Size:160| Min:-0.03| Avg:0.07| Max: 0.24\n",
      "    Silhoute values for cluster 22: Size:128| Min:-0.11| Avg:0.19| Max: 0.38\n",
      "    Silhoute values for cluster 23: Size:96| Min:-0.08| Avg:0.12| Max: 0.29\n",
      "    Silhoute values for cluster 24: Size:252| Min:-0.01| Avg:0.26| Max: 0.42\n",
      "    Silhoute values for cluster 25: Size:84| Min:-0.06| Avg:0.06| Max: 0.18\n",
      "    Silhoute values for cluster 26: Size:211| Min:-0.07| Avg:0.02| Max: 0.13\n",
      "    Silhoute values for cluster 27: Size:67| Min:0.00| Avg:0.18| Max: 0.35\n",
      "    Silhoute values for cluster 28: Size:191| Min:-0.11| Avg:0.06| Max: 0.16\n",
      "    Silhoute values for cluster 29: Size:168| Min:-0.06| Avg:0.04| Max: 0.17\n",
      "    Silhoute values for cluster 30: Size:138| Min:-0.03| Avg:0.10| Max: 0.27\n",
      "    Silhoute values for cluster 31: Size:156| Min:-0.08| Avg:0.09| Max: 0.25\n",
      "    Silhoute values for cluster 32: Size:130| Min:0.12| Avg:0.31| Max: 0.44\n",
      "    Silhoute values for cluster 33: Size:193| Min:-0.09| Avg:0.02| Max: 0.14\n",
      "    Silhoute values for cluster 34: Size:184| Min:-0.08| Avg:0.04| Max: 0.18\n",
      "    Silhoute values for cluster 35: Size:188| Min:-0.06| Avg:0.05| Max: 0.23\n",
      "    Silhoute values for cluster 36: Size:69| Min:0.10| Avg:0.33| Max: 0.48\n",
      "    Silhoute values for cluster 37: Size:103| Min:-0.01| Avg:0.10| Max: 0.27\n",
      "    Silhoute values for cluster 38: Size:129| Min:-0.07| Avg:0.09| Max: 0.21\n",
      "    Silhoute values for cluster 39: Size:135| Min:0.00| Avg:0.12| Max: 0.30\n",
      "    Silhoute values for cluster 40: Size:369| Min:-0.10| Avg:0.02| Max: 0.17\n",
      "    Silhoute values for cluster 41: Size:105| Min:0.05| Avg:0.20| Max: 0.40\n",
      "    Silhoute values for cluster 42: Size:152| Min:-0.10| Avg:0.02| Max: 0.15\n",
      "    Silhoute values for cluster 43: Size:96| Min:0.05| Avg:0.20| Max: 0.33\n",
      "    Silhoute values for cluster 44: Size:83| Min:-0.08| Avg:0.04| Max: 0.15\n",
      "    Silhoute values for cluster 45: Size:234| Min:-0.09| Avg:0.04| Max: 0.20\n",
      "    Silhoute values for cluster 46: Size:644| Min:-0.14| Avg:-0.03| Max: 0.02\n",
      "    Silhoute values for cluster 47: Size:72| Min:0.08| Avg:0.34| Max: 0.52\n",
      "    Silhoute values for cluster 48: Size:234| Min:-0.10| Avg:-0.00| Max: 0.06\n",
      "    Silhoute values for cluster 49: Size:340| Min:-0.01| Avg:0.12| Max: 0.32\n",
      "The Inertia is :6870.086977231588\n"
     ]
    }
   ],
   "source": [
    "clustering, cluster_labels = generate_clusters(vectorized_docs, 50)"
   ]
  },
  {
   "cell_type": "code",
   "execution_count": 110,
   "metadata": {},
   "outputs": [
    {
     "data": {
      "text/plain": [
       "((50, 15389), (50, 15389))"
      ]
     },
     "execution_count": 110,
     "metadata": {},
     "output_type": "execute_result"
    }
   ],
   "source": [
    "original_space_centroids.shape, order_centroids.shape"
   ]
  },
  {
   "cell_type": "code",
   "execution_count": 114,
   "metadata": {},
   "outputs": [
    {
     "data": {
      "text/plain": [
       "array([12086,  8130, 13522,  5897,  9458])"
      ]
     },
     "execution_count": 114,
     "metadata": {},
     "output_type": "execute_result"
    }
   ],
   "source": [
    "order_centroids[0, :5]"
   ]
  },
  {
   "cell_type": "code",
   "execution_count": 65,
   "metadata": {},
   "outputs": [
    {
     "name": "stdout",
     "output_type": "stream",
     "text": [
      "Top terms per cluster:\n",
      "Cluster 0: season league team football nfl\n",
      "Cluster 1: years ago years ago three life\n",
      "Cluster 2: us trump president talks administration\n",
      "Cluster 3: johnson boris brexit boris johnson prime\n",
      "Cluster 4: like media get facebook social\n",
      "Cluster 5: national video get online world\n",
      "Cluster 6: border mexico wall says trump\n",
      "Cluster 7: us facebook find world messenger\n",
      "Cluster 8: one world year two day\n",
      "Cluster 9: time democratic presidential 2020 week\n",
      "Cluster 10: man police said officer shot\n",
      "Cluster 11: world cup world cup rugby ireland\n",
      "Cluster 12: thursday year reuters said oil\n",
      "Cluster 13: people health least year says\n",
      "Cluster 14: minister prime prime minister netanyahu election\n",
      "Cluster 15: would said mr could says\n",
      "Cluster 16: trump president donald donald trump president donald\n",
      "Cluster 17: chief executive chief executive said officer\n",
      "Cluster 18: two years women year friday\n",
      "Cluster 19: mugabe robert robert mugabe zimbabwe leader\n",
      "Cluster 20: first time first time year set\n",
      "Cluster 21: york times york times city york city\n",
      "Cluster 22: saudi oil arabia saudi arabia attacks\n",
      "Cluster 23: china trade open chinese beijing\n",
      "Cluster 24: hurricane dorian hurricane dorian bahamas storm\n",
      "Cluster 25: party election leader presidential 2020\n",
      "Cluster 26: trade united states united states china\n",
      "Cluster 27: google tech pixel huawei android\n",
      "Cluster 28: world championships two war world cup\n",
      "Cluster 29: government said people image leader\n",
      "Cluster 30: business insider business insider story intelligence\n",
      "Cluster 31: million year last said pay\n",
      "Cluster 32: hong kong hong kong police protests\n",
      "Cluster 33: li bank billion wall street\n",
      "Cluster 34: former president biden said vice\n",
      "Cluster 35: company said billion ceo business\n",
      "Cluster 36: tr td tr td tr tr tr tr td\n",
      "Cluster 37: home house family 000 get\n",
      "Cluster 38: brexit deal uk deal brexit eu\n",
      "Cluster 39: school high students high school children\n",
      "Cluster 40: said tuesday reuters said tuesday south\n",
      "Cluster 41: climate change climate change week thunberg\n",
      "Cluster 42: state department justice tuesday washington\n",
      "Cluster 43: apple iphone iphone 11 11 event\n",
      "Cluster 44: shooting say texas mass people\n",
      "Cluster 45: says said could country two\n",
      "Cluster 46: image woman found car caption\n",
      "Cluster 47: england australia ashes test smith\n",
      "Cluster 48: day life could video international\n",
      "Cluster 49: year old year old woman boy\n"
     ]
    }
   ],
   "source": [
    "print(\"Top terms per cluster:\")\n",
    "original_space_centroids = svd.inverse_transform(clustering.cluster_centers_)\n",
    "order_centroids = original_space_centroids.argsort()[:, ::-1]\n",
    "terms = bow.get_feature_names()\n",
    "\n",
    "for i in range(50):\n",
    "    print(\"Cluster %d:\" % i, end='')\n",
    "    for ind in order_centroids[i, :5]:\n",
    "        print(' %s' % terms[ind], end='')\n",
    "    print()"
   ]
  },
  {
   "cell_type": "code",
   "execution_count": 67,
   "metadata": {},
   "outputs": [],
   "source": [
    "df_clusters = pd.DataFrame({\n",
    "    \"text\": docs,\n",
    "    \"tokens\": [\" \".join(text) for text in tokenized_docs],\n",
    "    \"cluster\": cluster_labels\n",
    "})"
   ]
  },
  {
   "cell_type": "markdown",
   "metadata": {},
   "source": [
    "### Most frequent tokens"
   ]
  },
  {
   "cell_type": "code",
   "execution_count": 90,
   "metadata": {
    "scrolled": true
   },
   "outputs": [
    {
     "name": "stdout",
     "output_type": "stream",
     "text": [
      "Cluster 0: season(195) league(159) team(120) football(96) nfl(90) \n",
      "Cluster 1: years(394) ago(106) three(66) five(36) last(35) \n",
      "Cluster 2: us(500) trump(99) president(74) talks(51) said(46) \n",
      "Cluster 3: johnson(457) boris(377) brexit(347) minister(278) prime(274) \n",
      "Cluster 4: like(210) get(79) media(65) facebook(65) social(58) \n",
      "Cluster 5: national(418) get(409) video(409) world(407) online(406) \n",
      "Cluster 6: border(110) trump(35) wall(34) us(25) near(24) \n",
      "Cluster 7: us(138) world(129) chat(127) facebook(127) messenger(127) \n",
      "Cluster 8: one(498) year(58) day(39) two(37) like(34) \n",
      "Cluster 9: democratic(152) time(138) presidential(111) sanders(73) debate(70) \n",
      "Cluster 10: man(416) police(345) officer(84) said(83) found(79) \n",
      "Cluster 11: cup(265) world(260) rugby(109) ireland(94) win(68) \n",
      "Cluster 12: year(152) thursday(147) reuters(120) said(104) russia(99) \n",
      "Cluster 13: people(445) health(67) killed(60) least(59) said(58) \n",
      "Cluster 14: minister(230) prime(191) netanyahu(104) election(87) israeli(71) \n",
      "Cluster 15: would(259) said(72) us(32) mr(25) plan(20) \n",
      "Cluster 16: trump(1221) president(931) donald(613) us(330) house(311) \n",
      "Cluster 17: chief(187) executive(118) said(47) officer(35) reuters(33) \n",
      "Cluster 18: two(414) years(42) friday(32) week(30) court(29) \n",
      "Cluster 19: mugabe(139) robert(113) zimbabwe(63) president(46) former(39) \n",
      "Cluster 20: first(484) time(118) year(57) since(48) us(46) \n",
      "Cluster 21: york(306) times(116) city(63) us(46) said(37) \n",
      "Cluster 22: saudi(380) oil(218) arabia(129) attacks(96) drone(86) \n",
      "Cluster 23: china(222) us(66) trade(65) said(37) chinas(35) \n",
      "Cluster 24: hurricane(559) dorian(492) bahamas(262) storm(216) carolina(92) \n",
      "Cluster 25: election(122) party(98) leader(49) presidential(43) opposition(26) \n",
      "Cluster 26: trade(264) us(255) united(217) states(192) war(88) \n",
      "Cluster 27: google(174) googles(43) tech(30) facebook(23) pixel(23) \n",
      "Cluster 28: world(334) championships(50) disney(47) war(45) worlds(40) \n",
      "Cluster 29: government(304) said(51) us(50) people(34) leader(31) \n",
      "Cluster 30: business(227) insider(138) story(79) intelligence(64) morning(47) \n",
      "Cluster 31: million(404) year(64) said(46) pay(42) us(35) \n",
      "Cluster 32: hong(355) kong(311) police(117) protests(102) protesters(76) \n",
      "Cluster 33: wall(130) street(125) bank(115) journal(86) billion(86) \n",
      "Cluster 34: former(361) president(99) us(42) biden(42) said(40) \n",
      "Cluster 35: company(349) said(60) billion(58) ceo(49) wework(41) \n",
      "Cluster 36: world(71) cup(58) championship(40) rugby(35) county(34) \n",
      "Cluster 37: home(187) house(30) toilet(17) dublin(17) help(16) \n",
      "Cluster 38: brexit(266) deal(168) uk(98) european(57) says(50) \n",
      "Cluster 39: school(267) students(69) high(61) student(38) parents(37) \n",
      "Cluster 40: said(622) reuters(122) tuesday(112) us(93) thursday(69) \n",
      "Cluster 41: climate(240) change(139) greta(32) thunberg(30) democratic(25) \n",
      "Cluster 42: state(189) department(122) us(90) house(67) justice(66) \n",
      "Cluster 43: apple(256) iphone(234) apples(72) pro(68) watch(55) \n",
      "Cluster 44: shooting(99) texas(75) mass(52) gun(49) walmart(47) \n",
      "Cluster 45: says(398) us(50) said(38) report(34) could(27) \n",
      "Cluster 46: fire(107) image(88) court(88) woman(82) south(80) \n",
      "Cluster 47: england(116) ashes(94) test(61) australia(45) australias(39) \n",
      "Cluster 48: day(94) reuters(83) international(76) video(69) life(59) \n",
      "Cluster 49: year(625) old(468) man(81) boy(77) woman(75) \n"
     ]
    }
   ],
   "source": [
    "for i in range(50):\n",
    "    empty = \"\"\n",
    "    most_frequent = Counter(\" \".join(df_clusters.query(f\"cluster == {i}\")[\"tokens\"]).split()).most_common(5)\n",
    "    for t in most_frequent:\n",
    "        empty += f\"{t[0]}({str(t[1])}) \"\n",
    "    print(f\"Cluster {i}: {empty}\")"
   ]
  },
  {
   "cell_type": "markdown",
   "metadata": {},
   "source": [
    "### Most representative documents"
   ]
  },
  {
   "cell_type": "code",
   "execution_count": 91,
   "metadata": {
    "scrolled": true
   },
   "outputs": [
    {
     "name": "stdout",
     "output_type": "stream",
     "text": [
      "Odessa gunman \"was on a long spiral of going down\" before shooting, officials say | The gunman who went on a shooting rampage in West Texas called police before and during the massacre. Authorities say the attack happened after the gunman had been fired from his job, and that he \"was on a long spiral of going down\" before the shooting. Mirey… | \n",
      "-------------\n",
      "The Latest: Lawyers: Deal reached on Vegas shooting lawsuits | Attorneys for victims of the deadliest mass shooting in modern U.S. history say they’ve reached a settlement to resolve lawsuits that’s expected to pay between $735 million and $800 million | The Latest on a legal settlement over the deadliest mass shooting in modern U.S. history (all times local):\n",
      "8:20 a.m.\n",
      "Attorneys for victims of the deadliest mass shooting in modern U.S. history say theyve reached a settlement to resolve lawsuits thats expec… [+1458 chars]\n",
      "-------------\n",
      "Lawyer for Las Vegas shooting victims to talk developments | An attorney who represents victims of the deadliest mass shooting in modern U.S. history has scheduled a news conference to discuss “extremely important developments” | An attorney who represents victims of the deadliest mass shooting in modern U.S. history has scheduled a news conference to discuss extremely important developments days after the second anniversary of the Las Vegas massacre.\n",
      "The office of attorney James Fra… [+504 chars]\n",
      "-------------\n",
      "Las Vegas massacre victims families reach $735 million settlement with MGM Resorts: law firm | Family and loved ones of the 58 people killed in the deadliest mass shooting in modern U.S. history have reached a settlement of at least $735 million with MGM Resorts, a law firm representing the victims said on Thursday. | (Reuters) - Family and loved ones of the 58 people killed in the deadliest mass shooting in modern U.S. history have reached a settlement of at least $735 million with MGM Resorts, a law firm representing the victims said on Thursday. \n",
      "MGM Resorts owns the M… [+270 chars]\n",
      "-------------\n",
      "Las Vegas massacre anniversary sparks debate on gun control | Gun control advocates say they're frustrated that more hasn't been done since 58 people died at a concert on the Las Vegas Strip, and that mass shootings keep happening nationwide | In the two years since the deadliest mass shooting in modern U.S. history, the federal government and states have tightened some gun regulations.\n",
      "But advocates say they're frustrated that more hasn't been done since 58 people died at a concert on the Las Veg… [+4432 chars]\n",
      "-------------\n",
      "Las Vegas shooting victims win $735m settlement | MGM Resorts owns the Mandalay Bay Hotel, from where the shooter killed 58 people in October 2017. | Victims of the 2017 Las Vegas shooting have won a settlement of at least $735 million from MGM Resorts International. \n",
      "The chain owns the Mandalay Bay Hotel, from where the gunman killed 58 people and wounded hundreds before killing himself in October 2017. … [+189 chars]\n",
      "-------------\n",
      "Legal settlement over Las Vegas shooting worth up to $800M | Attorneys for thousands of victims of the deadliest mass shooting in modern U.S. history say they’ve reached a legal settlement expected to pay between $735 million and $800 million | Attorneys for thousands of victims of the deadliest mass shooting in modern U.S. history said Thursday that they reached a settlement expected to pay between $735 million and $800 million to those who sued over the Las Vegas massacre.\n",
      "The amount of the settl… [+1784 chars]\n",
      "-------------\n",
      "Las Vegas shooting victims win $735m settlement from MGM Resorts | MGM Resorts owns the Mandalay Bay Hotel, from where the shooter killed 58 people in October 2017. | Victims of the 2017 Las Vegas shooting have won a settlement of at least $735m (£592m) from MGM Resorts International. \n",
      "The chain owns the Mandalay Bay Hotel, from where the gunman killed 58 people and wounded hundreds before killing himself in October 2017.… [+1011 chars]\n",
      "-------------\n",
      "MGM and Las Vegas shooting victims to announce landmark settlement | A landmark settlement between MGM and victims of the 2017 Las Vegas mass shooting is expected to be announced on Thursday to resolve victims' claims, according to a source familiar with the matter. | \n",
      "-------------\n",
      "300 prospective jurors to be questioned for newspaper shooting trial | Hundreds of prospective jurors are expected to be questioned ahead of the trial for the Capital Gazette shooting. | Hundreds of prospective jurors are headed to a Maryland courthouse Friday as jury selection begins in the trial of the suspected Capital Gazette newspaper gunman.\n",
      "Interested in Maryland Newspaper Shooting?\n",
      "Add Maryland Newspaper Shooting as an interest to s… [+1574 chars]\n",
      "-------------\n"
     ]
    }
   ],
   "source": [
    "test_cluster = 44\n",
    "most_representative_docs = np.argsort(\n",
    "    np.linalg.norm(vectorized_docs - clustering.cluster_centers_[test_cluster], axis=1)\n",
    ")\n",
    "for d in most_representative_docs[:10]:\n",
    "    print(docs[d])\n",
    "    print(\"-------------\")"
   ]
  },
  {
   "cell_type": "markdown",
   "metadata": {},
   "source": [
    "### Random sample of documents"
   ]
  },
  {
   "cell_type": "code",
   "execution_count": 72,
   "metadata": {
    "scrolled": true
   },
   "outputs": [
    {
     "name": "stdout",
     "output_type": "stream",
     "text": [
      "Robert Pattinson and Willem Dafoe spiral into madness in the fantastic horror movie, 'The Lighthouse' | Robert Pattinson and Willem Dafoe give amazingly disturbing performances as two men stranded on an island in \"The Lighthouse.\" The movie is by writer-director Robert Eggers, who made the acclaimed 2015 horror \"The Witch.\" This movie is more twisted and distur… | Each want the light, but only one can be mad enough to get it. \n",
      " Robert Eggers' new movie \"The Lighthouse,\" which is the follow-up to his acclaimed 2015 debut feature, \"The Witch,\" shows just how talented this writer-director is — and how twisted his mind wo… [+2139 chars]\n",
      "-------------\n",
      "Robert Pattinson was blanking 'furious' over Batman leak | While Robert Pattinson is thrilled to be cast as the new Batman, he was less than thrilled when the news got out early. | \n",
      "-------------\n",
      "World leaders react to Robert Mugabe's death | The longtime Zimbabwean leader has received a glowing tribute particularly from African leaders. | Robert Mugabe, the guerrilla leader who led Zimbabwe to independence in 1980 and ruled with an iron fist until his own army ended his almost four decade rule in 2017, has died. He was 95.\n",
      "In announcing the longtime leader's death on Friday, Zimbabwe's incumb… [+2732 chars]\n",
      "-------------\n",
      "African leaders gather to remember Mugabe | African leaders are gathered at the funeral of Zimbabwe's former president Robert Mugabe in the capital Harare. Also in the programme: Houthi rebels in Yemen say they carried out the drone attacks that set fire to two of Saudi Arabia's biggest oil facilities;… | African leaders are gathered at the funeral of Zimbabwe's former president Robert Mugabe in the capital Harare.\n",
      "Also in the programme: Houthi rebels in Yemen say they carried out the drone attacks that set fire to two of Saudi Arabia's biggest oil facilities… [+322 chars]\n",
      "-------------\n",
      "Zimbabweans mourn founding father Mugabe but confused about burial | Zimbabweans on Saturday mourned the death of their country's founding father Robert Mugabe but confusion swirled about when his body would be returned from abroad or when he would be buried, two years after he was toppled in a coup. | HARARE (Reuters) - Zimbabweans on Saturday mourned the death of their country’s founding father Robert Mugabe but confusion swirled about when his body would be returned from abroad or when he would be buried, two years after he was toppled in a coup. \n",
      "Mugab… [+2271 chars]\n",
      "-------------\n",
      "Robert Mugabe, who once said 'only God' could ever remove him, dies at 95 | nan | \n",
      "-------------\n",
      "Zimbabwe's Mugabe to be honored at state funeral | African heads of state and envoys are gathering to attend a state funeral for Zimbabwe's founding president, Robert Mugabe, whose burial has been delayed for at least a month until a special mausoleum can be built for his remains | African heads of state and envoys are gathering to attend a state funeral for Zimbabwe's founding president, Robert Mugabe , whose burial has been delayed for at least a month until a special mausoleum can be built for his remains.\n",
      "The service and viewing of… [+2991 chars]\n",
      "-------------\n",
      "'A father to us': In his village, Robert Mugabe mourned as a hero | Late former president's homestead in Kutama village prepares to receive the body of Zimbabwe's founding father. | Kutama, Zimbabwe - A group of worshippers kneel in prayer on the lawn of the late former President Robert Mugabe's homestead in Kutama, a village southeast of Zimbabwe's capital, Harare.\n",
      "The huddled semi-circle of women, some in sky-blue capes, sing hymns an… [+5216 chars]\n",
      "-------------\n",
      "Tributes -- and also fierce criticism -- pour in after death of Robert Mugabe | Robert Mugabe, the controversial founding father of Zimbabwe, has died at 95, sparking wildly different reactions around the world. | (CNN)Robert Mugabe, the controversial founding father of Zimbabwe, has died at 95, sparking wildly different reactions around the world.\n",
      "The uncompromising ex-president, who was deposed in a coup in 2017, left a mixed legacy. He had been touted worldwide as … [+2986 chars]\n",
      "-------------\n",
      "Peter Tatchell on his experiences of Robert Mugabe | The gay rights campaigner says he went from seeing Mr Mugabe ''as a man with a just cause\" to a critic of his regime. | \n",
      "-------------\n"
     ]
    }
   ],
   "source": [
    "for i,t in enumerate(df_clusters.query(f\"cluster == {test_cluster}\").sample(10).iterrows()):\n",
    "    print(t[1][\"text\"])\n",
    "    print(\"-------------\")"
   ]
  }
 ],
 "metadata": {
  "kernelspec": {
   "display_name": "Python 3",
   "language": "python",
   "name": "python3"
  },
  "language_info": {
   "codemirror_mode": {
    "name": "ipython",
    "version": 3
   },
   "file_extension": ".py",
   "mimetype": "text/x-python",
   "name": "python",
   "nbconvert_exporter": "python",
   "pygments_lexer": "ipython3",
   "version": "3.9.0"
  }
 },
 "nbformat": 4,
 "nbformat_minor": 4
}
