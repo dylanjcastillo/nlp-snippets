{
 "cells": [
  {
   "cell_type": "markdown",
   "metadata": {},
   "source": [
    "## Import required libraries"
   ]
  },
  {
   "cell_type": "code",
   "execution_count": 62,
   "metadata": {},
   "outputs": [],
   "source": [
    "import os\n",
    "from collections import Counter\n",
    "from time import time\n",
    "\n",
    "import gensim\n",
    "import numpy as np\n",
    "import pandas as pd\n",
    "from gensim.models import Word2Vec\n",
    "from tqdm.notebook import tqdm\n",
    "\n",
    "from ds_utils.config import set_display_options\n",
    "from ds_utils.clustering import Tokenizer, load_data, clean_news_data, vectorize, mbkmeans_clusters\n",
    "\n",
    "set_display_options()"
   ]
  },
  {
   "cell_type": "markdown",
   "metadata": {},
   "source": [
    "## Read data"
   ]
  },
  {
   "cell_type": "code",
   "execution_count": 63,
   "metadata": {},
   "outputs": [],
   "source": [
    "df = load_data(\"news\")"
   ]
  },
  {
   "cell_type": "code",
   "execution_count": 64,
   "metadata": {},
   "outputs": [
    {
     "data": {
      "text/plain": [
       "(10437, 15)"
      ]
     },
     "execution_count": 64,
     "metadata": {},
     "output_type": "execute_result"
    }
   ],
   "source": [
    "df.shape"
   ]
  },
  {
   "cell_type": "code",
   "execution_count": 65,
   "metadata": {},
   "outputs": [
    {
     "data": {
      "text/plain": [
       "Index(['Unnamed: 0', 'source_id', 'source_name', 'author', 'title',\n",
       "       'description', 'url', 'url_to_image', 'published_at', 'content',\n",
       "       'top_article', 'engagement_reaction_count', 'engagement_comment_count',\n",
       "       'engagement_share_count', 'engagement_comment_plugin_count'],\n",
       "      dtype='object')"
      ]
     },
     "execution_count": 65,
     "metadata": {},
     "output_type": "execute_result"
    }
   ],
   "source": [
    "df.columns"
   ]
  },
  {
   "cell_type": "markdown",
   "metadata": {},
   "source": [
    "## Clean data"
   ]
  },
  {
   "cell_type": "code",
   "execution_count": 66,
   "metadata": {},
   "outputs": [
    {
     "name": "stdout",
     "output_type": "stream",
     "text": [
      "Original dataframe: (10437, 15)\n",
      "Pre-processed dataframe: (9882, 2)\n"
     ]
    }
   ],
   "source": [
    "df = clean_news_data(df)"
   ]
  },
  {
   "cell_type": "code",
   "execution_count": 67,
   "metadata": {},
   "outputs": [
    {
     "data": {
      "text/html": [
       "<div>\n",
       "<style scoped>\n",
       "    .dataframe tbody tr th:only-of-type {\n",
       "        vertical-align: middle;\n",
       "    }\n",
       "\n",
       "    .dataframe tbody tr th {\n",
       "        vertical-align: top;\n",
       "    }\n",
       "\n",
       "    .dataframe thead th {\n",
       "        text-align: right;\n",
       "    }\n",
       "</style>\n",
       "<table border=\"1\" class=\"dataframe\">\n",
       "  <thead>\n",
       "    <tr style=\"text-align: right;\">\n",
       "      <th></th>\n",
       "      <th>10248</th>\n",
       "    </tr>\n",
       "  </thead>\n",
       "  <tbody>\n",
       "    <tr>\n",
       "      <th>text</th>\n",
       "      <td>Trump's conspiracies are reaching a fever pitch amid revelations that the whistleblower went to Congress before filing their complaint | Trumpworld flew into a frenzy after The New York Times published a story revealing that a CIA officer who filed a whistleblower complaint against President Donald Trump approached a House Intelligence Committee aide with their concerns before filing the compl… | Trumpworld seized on a New York Times story Wednesday that revealed a CIA officer who filed a whistleblower complaint against President Donald Trump approached a House Intelligence Committee aide with their concerns before filing the complaint.\\r\\nThe official … [+6873 chars]</td>\n",
       "    </tr>\n",
       "    <tr>\n",
       "      <th>tokens</th>\n",
       "      <td>[trumps, conspiracies, reaching, fever, pitch, amid, revelations, whistleblower, went, congress, filing, complaint, trumpworld, flew, frenzy, york, times, published, story, revealing, cia, officer, filed, whistleblower, complaint, president, donald, trump, approached, house, intelligence, committee, aide, concerns, filing, trumpworld, seized, york, times, story, wednesday, revealed, cia, officer, filed, whistleblower, complaint, president, donald, trump, approached, house, intelligence, committee, aide, concerns, filing, complaint, official]</td>\n",
       "    </tr>\n",
       "  </tbody>\n",
       "</table>\n",
       "</div>"
      ],
      "text/plain": [
       "                                                                                                                                                                                                                                                                                                                                                                                                                                                                                                                                                                                                                                                                                                       10248\n",
       "text    Trump's conspiracies are reaching a fever pitch amid revelations that the whistleblower went to Congress before filing their complaint | Trumpworld flew into a frenzy after The New York Times published a story revealing that a CIA officer who filed a whistleblower complaint against President Donald Trump approached a House Intelligence Committee aide with their concerns before filing the compl… | Trumpworld seized on a New York Times story Wednesday that revealed a CIA officer who filed a whistleblower complaint against President Donald Trump approached a House Intelligence Committee aide with their concerns before filing the complaint.\\r\\nThe official … [+6873 chars]\n",
       "tokens                                                                                                                                   [trumps, conspiracies, reaching, fever, pitch, amid, revelations, whistleblower, went, congress, filing, complaint, trumpworld, flew, frenzy, york, times, published, story, revealing, cia, officer, filed, whistleblower, complaint, president, donald, trump, approached, house, intelligence, committee, aide, concerns, filing, trumpworld, seized, york, times, story, wednesday, revealed, cia, officer, filed, whistleblower, complaint, president, donald, trump, approached, house, intelligence, committee, aide, concerns, filing, complaint, official]"
      ]
     },
     "execution_count": 67,
     "metadata": {},
     "output_type": "execute_result"
    }
   ],
   "source": [
    "df.sample(1).T"
   ]
  },
  {
   "cell_type": "markdown",
   "metadata": {},
   "source": [
    "## Review tokens and vocabulary"
   ]
  },
  {
   "cell_type": "markdown",
   "metadata": {},
   "source": [
    "### Tokens"
   ]
  },
  {
   "cell_type": "code",
   "execution_count": 68,
   "metadata": {},
   "outputs": [
    {
     "name": "stdout",
     "output_type": "stream",
     "text": [
      "SAMPLE TEXT: How to post on LinkedIn to share job news, articles, and more with your network, and edit or delete your posts | You can post on LinkedIn to share articles, anecdotes, or job listings with your network. You can also make posts public on LinkedIn, so anyone can find your post, or share your post on other connected social media networks. After you post on LinkedIn, it's e… | LinkedIn is the world's largest professional social network, where CEOs, designers, executives, artists, and experts of all kinds can share job listings, articles, and posts ( though, there are some things you should avoid sharing on LinkedIn). \n",
      " Whether you… [+1912 chars]\n",
      "------\n",
      "TOKENS: ['post', 'linkedin', 'share', 'job', 'articles', 'network', 'edit', 'delete', 'posts', 'post', 'linkedin', 'share', 'articles', 'anecdotes', 'job', 'listings', 'network', 'also', 'make', 'posts', 'public', 'linkedin', 'anyone', 'find', 'post', 'share', 'post', 'connected', 'social', 'media', 'networks', 'post', 'linkedin', 'linkedin', 'worlds', 'largest', 'professional', 'social', 'network', 'ceos', 'designers', 'executives', 'artists', 'experts', 'kinds', 'share', 'job', 'listings', 'articles', 'posts', 'though', 'things', 'avoid', 'sharing', 'linkedin', 'whether']\n"
     ]
    }
   ],
   "source": [
    "sample_text = df.sample(1)\n",
    "print(f\"SAMPLE TEXT: {sample_text['text'].values[0]}\")\n",
    "print(f\"------\")\n",
    "print(f\"TOKENS: {sample_text['tokens'].values[0]}\")"
   ]
  },
  {
   "cell_type": "markdown",
   "metadata": {},
   "source": [
    "### Vocabulary"
   ]
  },
  {
   "cell_type": "code",
   "execution_count": 69,
   "metadata": {},
   "outputs": [],
   "source": [
    "docs = df[\"text\"].values\n",
    "tokenized_docs = df[\"tokens\"].values\n",
    "vocab = Counter()\n",
    "for token in tokenized_docs:\n",
    "    vocab.update(token)"
   ]
  },
  {
   "cell_type": "code",
   "execution_count": 70,
   "metadata": {},
   "outputs": [
    {
     "data": {
      "text/plain": [
       "32454"
      ]
     },
     "execution_count": 70,
     "metadata": {},
     "output_type": "execute_result"
    }
   ],
   "source": [
    "len(vocab)"
   ]
  },
  {
   "cell_type": "code",
   "execution_count": 71,
   "metadata": {},
   "outputs": [
    {
     "data": {
      "text/plain": [
       "[('us', 2757),\n",
       " ('said', 2519),\n",
       " ('year', 1781),\n",
       " ('president', 1756),\n",
       " ('trump', 1705),\n",
       " ('world', 1620),\n",
       " ('says', 1511),\n",
       " ('one', 1418),\n",
       " ('two', 1284),\n",
       " ('first', 1195)]"
      ]
     },
     "execution_count": 71,
     "metadata": {},
     "output_type": "execute_result"
    }
   ],
   "source": [
    "vocab.most_common(10)"
   ]
  },
  {
   "cell_type": "markdown",
   "metadata": {},
   "source": [
    "## Train Word2Vec model"
   ]
  },
  {
   "cell_type": "code",
   "execution_count": 72,
   "metadata": {},
   "outputs": [],
   "source": [
    "model = Word2Vec(sentences=tokenized_docs, vector_size=100, workers=4, seed=42)"
   ]
  },
  {
   "cell_type": "code",
   "execution_count": 73,
   "metadata": {},
   "outputs": [
    {
     "data": {
      "text/plain": [
       "[('trumps', 0.9820594191551208),\n",
       " ('president', 0.9721266627311707),\n",
       " ('breitbart', 0.9520003199577332),\n",
       " ('donald', 0.9352222681045532),\n",
       " ('ivanka', 0.9282146692276001),\n",
       " ('pences', 0.9265344142913818),\n",
       " ('impeachment', 0.9258443713188171),\n",
       " ('vice', 0.9133374094963074),\n",
       " ('biden', 0.909093976020813),\n",
       " ('inquiry', 0.9052674770355225)]"
      ]
     },
     "execution_count": 73,
     "metadata": {},
     "output_type": "execute_result"
    }
   ],
   "source": [
    "model.wv.most_similar(\"trump\")"
   ]
  },
  {
   "cell_type": "code",
   "execution_count": 74,
   "metadata": {},
   "outputs": [
    {
     "data": {
      "text/plain": [
       "[('chat', 0.9613429307937622),\n",
       " ('messenger', 0.9329640865325928),\n",
       " ('find', 0.9031698107719421),\n",
       " ('wjla', 0.8943736553192139),\n",
       " ('google', 0.8838839530944824),\n",
       " ('commissions', 0.8639299273490906),\n",
       " ('online', 0.863520622253418),\n",
       " ('gambling', 0.8563323616981506),\n",
       " ('zuckerberg', 0.8453306555747986),\n",
       " ('interviews', 0.837069034576416)]"
      ]
     },
     "execution_count": 74,
     "metadata": {},
     "output_type": "execute_result"
    }
   ],
   "source": [
    "model.wv.most_similar(\"facebook\")"
   ]
  },
  {
   "cell_type": "markdown",
   "metadata": {},
   "source": [
    "## Generate vectors from documents"
   ]
  },
  {
   "cell_type": "code",
   "execution_count": 75,
   "metadata": {},
   "outputs": [
    {
     "data": {
      "text/plain": [
       "(9882, 100)"
      ]
     },
     "execution_count": 75,
     "metadata": {},
     "output_type": "execute_result"
    }
   ],
   "source": [
    "vectorized_docs = vectorize(tokenized_docs, model=model, strategy=\"average\")\n",
    "len(vectorized_docs), len(vectorized_docs[0])"
   ]
  },
  {
   "cell_type": "markdown",
   "metadata": {},
   "source": [
    "## Generate and analyze clusters"
   ]
  },
  {
   "cell_type": "code",
   "execution_count": 77,
   "metadata": {
    "scrolled": true
   },
   "outputs": [
    {
     "name": "stdout",
     "output_type": "stream",
     "text": [
      "For n_clusters = 50\n",
      "Silhouette coefficient: 0.11\n",
      "Inertia:3672.275531624991\n",
      "Silhouette values:\n",
      "    Cluster 31: Size:34 | Avg:0.46 | Min:0.22 | Max: 0.62\n",
      "    Cluster 9: Size:99 | Avg:0.33 | Min:0.02 | Max: 0.53\n",
      "    Cluster 34: Size:31 | Avg:0.32 | Min:0.01 | Max: 0.52\n",
      "    Cluster 6: Size:134 | Avg:0.32 | Min:-0.01 | Max: 0.52\n",
      "    Cluster 21: Size:107 | Avg:0.27 | Min:-0.03 | Max: 0.49\n",
      "    Cluster 22: Size:86 | Avg:0.27 | Min:-0.05 | Max: 0.47\n",
      "    Cluster 4: Size:112 | Avg:0.27 | Min:-0.08 | Max: 0.47\n",
      "    Cluster 15: Size:133 | Avg:0.26 | Min:-0.00 | Max: 0.42\n",
      "    Cluster 45: Size:54 | Avg:0.26 | Min:-0.04 | Max: 0.50\n",
      "    Cluster 17: Size:150 | Avg:0.26 | Min:-0.05 | Max: 0.50\n",
      "    Cluster 43: Size:86 | Avg:0.24 | Min:0.01 | Max: 0.43\n",
      "    Cluster 13: Size:119 | Avg:0.23 | Min:-0.04 | Max: 0.43\n",
      "    Cluster 33: Size:174 | Avg:0.18 | Min:-0.07 | Max: 0.41\n",
      "    Cluster 12: Size:489 | Avg:0.17 | Min:-0.01 | Max: 0.37\n",
      "    Cluster 41: Size:253 | Avg:0.16 | Min:0.01 | Max: 0.37\n",
      "    Cluster 11: Size:155 | Avg:0.15 | Min:-0.06 | Max: 0.36\n",
      "    Cluster 42: Size:211 | Avg:0.15 | Min:-0.10 | Max: 0.38\n",
      "    Cluster 14: Size:138 | Avg:0.15 | Min:-0.08 | Max: 0.36\n",
      "    Cluster 0: Size:499 | Avg:0.15 | Min:-0.03 | Max: 0.34\n",
      "    Cluster 39: Size:156 | Avg:0.13 | Min:-0.13 | Max: 0.39\n",
      "    Cluster 37: Size:124 | Avg:0.13 | Min:-0.09 | Max: 0.34\n",
      "    Cluster 26: Size:275 | Avg:0.12 | Min:-0.05 | Max: 0.32\n",
      "    Cluster 27: Size:186 | Avg:0.12 | Min:-0.12 | Max: 0.36\n",
      "    Cluster 20: Size:77 | Avg:0.11 | Min:-0.19 | Max: 0.37\n",
      "    Cluster 38: Size:397 | Avg:0.11 | Min:-0.09 | Max: 0.33\n",
      "    Cluster 10: Size:343 | Avg:0.11 | Min:-0.18 | Max: 0.36\n",
      "    Cluster 16: Size:135 | Avg:0.10 | Min:-0.12 | Max: 0.30\n",
      "    Cluster 36: Size:209 | Avg:0.09 | Min:-0.09 | Max: 0.29\n",
      "    Cluster 35: Size:513 | Avg:0.08 | Min:-0.10 | Max: 0.28\n",
      "    Cluster 25: Size:71 | Avg:0.08 | Min:-0.08 | Max: 0.33\n",
      "    Cluster 8: Size:291 | Avg:0.08 | Min:-0.09 | Max: 0.28\n",
      "    Cluster 2: Size:80 | Avg:0.08 | Min:-0.09 | Max: 0.30\n",
      "    Cluster 24: Size:226 | Avg:0.07 | Min:-0.20 | Max: 0.31\n",
      "    Cluster 40: Size:157 | Avg:0.07 | Min:-0.19 | Max: 0.31\n",
      "    Cluster 18: Size:262 | Avg:0.07 | Min:-0.10 | Max: 0.26\n",
      "    Cluster 3: Size:249 | Avg:0.07 | Min:-0.12 | Max: 0.29\n",
      "    Cluster 29: Size:383 | Avg:0.07 | Min:-0.13 | Max: 0.26\n",
      "    Cluster 46: Size:270 | Avg:0.07 | Min:-0.14 | Max: 0.33\n",
      "    Cluster 30: Size:194 | Avg:0.07 | Min:-0.16 | Max: 0.29\n",
      "    Cluster 32: Size:147 | Avg:0.06 | Min:-0.13 | Max: 0.29\n",
      "    Cluster 48: Size:370 | Avg:0.06 | Min:-0.13 | Max: 0.24\n",
      "    Cluster 23: Size:381 | Avg:0.06 | Min:-0.11 | Max: 0.27\n",
      "    Cluster 28: Size:232 | Avg:0.06 | Min:-0.12 | Max: 0.29\n",
      "    Cluster 19: Size:62 | Avg:0.06 | Min:-0.20 | Max: 0.31\n",
      "    Cluster 1: Size:101 | Avg:0.03 | Min:-0.17 | Max: 0.29\n",
      "    Cluster 47: Size:8 | Avg:0.03 | Min:-0.07 | Max: 0.21\n",
      "    Cluster 5: Size:167 | Avg:0.03 | Min:-0.21 | Max: 0.23\n",
      "    Cluster 49: Size:292 | Avg:0.03 | Min:-0.18 | Max: 0.27\n",
      "    Cluster 44: Size:142 | Avg:0.00 | Min:-0.17 | Max: 0.26\n",
      "    Cluster 7: Size:318 | Avg:-0.00 | Min:-0.16 | Max: 0.19\n"
     ]
    }
   ],
   "source": [
    "clustering, cluster_labels = mbkmeans_clusters(vectorized_docs, 50, print_silhouette_values=True)\n",
    "df_clusters = pd.DataFrame({\n",
    "    \"text\": docs,\n",
    "    \"tokens\": [\" \".join(text) for text in tokenized_docs],\n",
    "    \"cluster\": cluster_labels\n",
    "})"
   ]
  },
  {
   "cell_type": "markdown",
   "metadata": {},
   "source": [
    "### Evaluate top terms per cluster (based on clusters' centroids)"
   ]
  },
  {
   "cell_type": "code",
   "execution_count": 89,
   "metadata": {
    "scrolled": true
   },
   "outputs": [
    {
     "name": "stdout",
     "output_type": "stream",
     "text": [
      "Top terms per cluster (based on centroids):\n",
      "Cluster 0: started produced roger holes given \n",
      "Cluster 1: legal cabinet commissioner intention dominic \n",
      "Cluster 2: aides envoy erdogan congressional defended \n",
      "Cluster 3: indiana attempted custody relatives soldier \n",
      "Cluster 4: trying detective wwii footage serial \n",
      "Cluster 5: imposing kiev continuing renewed crisis \n",
      "Cluster 6: taoiseach varadkar leo delay simon \n",
      "Cluster 7: single saw middlesex newcastle espana \n",
      "Cluster 8: steven situation lawyers confirms singapore \n",
      "Cluster 9: category ravaged landfall tropical abaco \n",
      "Cluster 10: boys pregnant philippines walking scene \n",
      "Cluster 11: zelensky suggestion whistleblowers cnnpresident emmanuel \n",
      "Cluster 12: finding honor chef mayo highly \n",
      "Cluster 13: qualifying warm argentina finals mens \n",
      "Cluster 14: convicted jury slaying pleaded guyger \n",
      "Cluster 15: bulletin popularity reviews creator interact \n",
      "Cluster 16: parties constructive agree welcomed breakthrough \n",
      "Cluster 17: islands coastal carolinas charleston heavy \n",
      "Cluster 18: conversation heated conducting nominee hearings \n",
      "Cluster 19: threatened passing golfing meteorologists lashes \n",
      "Cluster 20: fb elon schwab ai creator \n",
      "Cluster 21: clearing unrest protesters demonstrators defied \n",
      "Cluster 22: tanker facilities arabian yemens strikes \n",
      "Cluster 23: manhattan kidnapped closed mozambique fighting \n",
      "Cluster 24: tournament winning takes champion finished \n",
      "Cluster 25: lawyer bashir testify counterpart nancy \n",
      "Cluster 26: incoming renewed urged opponent approved \n",
      "Cluster 27: apartment manslaughter fatal utah victim \n",
      "Cluster 28: delhi automaker berlin geneva rome \n",
      "Cluster 29: maker bonds asset wide reduce \n",
      "Cluster 30: smartphone performance professional product microsoft \n",
      "Cluster 31: assertions sharpie noaa map alabama \n",
      "Cluster 32: targeting situation terrorist romania operation \n",
      "Cluster 33: referendum mp jo delay coveney \n",
      "Cluster 34: lilinow eye tornado brewing path \n",
      "Cluster 35: bottle standing benefit largely dropped \n",
      "Cluster 36: pakistans defence allow rallying consider \n",
      "Cluster 37: tensions tariff dispute recession escalating \n",
      "Cluster 38: newest works compete classic type \n",
      "Cluster 39: dozens bomb helicopter victims kills \n",
      "Cluster 40: cryptocurrency rainforest watching niche decorating \n",
      "Cluster 41: obama aides impeaching addressed impeach \n",
      "Cluster 42: edinburgh perry beds preserved jodie \n",
      "Cluster 43: vladimir cnnpolitics putin volodymyr emmanuel \n",
      "Cluster 44: level decided sixth june april \n",
      "Cluster 45: uscis anchor spy epa lemon \n",
      "Cluster 46: bowl wickets titles flu minutes \n",
      "Cluster 47: barcelona got fa holiday dates \n",
      "Cluster 48: january total spring amount ended \n",
      "Cluster 49: weak adds approval developments economists \n"
     ]
    }
   ],
   "source": [
    "print(\"Top terms per cluster (based on centroids):\")\n",
    "for i in range(50):\n",
    "    tokens_per_cluster = \"\"\n",
    "    most_representative = model.wv.most_similar(positive=[clustering.cluster_centers_[i]], topn=5)\n",
    "    for t in most_representative:\n",
    "        tokens_per_cluster += f\"{t[0]} \"\n",
    "    print(f\"Cluster {i}: {tokens_per_cluster}\")"
   ]
  },
  {
   "cell_type": "markdown",
   "metadata": {},
   "source": [
    "### Evaluate top terms per cluster (based on words frequencies)"
   ]
  },
  {
   "cell_type": "code",
   "execution_count": 90,
   "metadata": {
    "scrolled": true
   },
   "outputs": [
    {
     "name": "stdout",
     "output_type": "stream",
     "text": [
      "Cluster 0: one(151) first(99) year(95) two(91) time(87) \n",
      "Cluster 1: minister(122) said(68) government(65) prime(59) election(50) \n",
      "Cluster 2: us(172) trump(139) president(108) donald(75) said(71) \n",
      "Cluster 3: police(160) man(109) said(87) court(75) year(72) \n",
      "Cluster 4: world(111) find(111) video(106) online(106) get(105) \n",
      "Cluster 5: us(298) said(133) reuters(103) states(99) united(90) \n",
      "Cluster 6: johnson(294) brexit(273) minister(227) boris(226) prime(217) \n",
      "Cluster 7: world(103) first(93) ireland(91) time(70) united(64) \n",
      "Cluster 8: said(118) president(105) us(101) court(98) former(90) \n",
      "Cluster 9: hurricane(263) dorian(221) storm(130) bahamas(103) carolina(70) \n",
      "Cluster 10: year(132) man(125) old(124) years(121) two(101) \n",
      "Cluster 11: trump(367) president(269) donald(171) house(122) bolton(103) \n",
      "Cluster 12: like(68) says(59) one(49) could(40) also(38) \n",
      "Cluster 13: world(266) cup(245) rugby(97) ireland(77) win(62) \n",
      "Cluster 14: police(238) man(165) year(118) old(103) found(88) \n",
      "Cluster 15: video(141) world(136) national(129) find(129) get(126) \n",
      "Cluster 16: brexit(134) deal(109) minister(65) uk(54) said(51) \n",
      "Cluster 17: hurricane(263) dorian(241) bahamas(163) storm(102) us(44) \n",
      "Cluster 18: trump(184) president(160) democratic(127) presidential(98) us(79) \n",
      "Cluster 19: north(57) trump(55) hurricane(45) president(42) dorian(37) \n",
      "Cluster 20: facebook(100) us(71) find(60) world(54) messenger(53) \n",
      "Cluster 21: hong(311) kong(278) police(105) protests(92) protesters(74) \n",
      "Cluster 22: saudi(269) oil(228) attacks(92) arabia(87) drone(85) \n",
      "Cluster 23: said(164) us(107) two(90) people(82) million(73) \n",
      "Cluster 24: world(183) cup(105) first(77) time(70) team(59) \n",
      "Cluster 25: president(91) trump(68) us(55) bin(55) former(49) \n",
      "Cluster 26: said(90) us(89) president(87) says(69) chief(59) \n",
      "Cluster 27: year(187) old(179) man(163) police(81) woman(67) \n",
      "Cluster 28: said(213) reuters(202) company(99) thursday(90) us(81) \n",
      "Cluster 29: said(86) company(85) says(67) would(65) climate(65) \n",
      "Cluster 30: business(148) apple(146) iphone(117) insider(87) story(76) \n",
      "Cluster 31: trump(84) hurricane(81) dorian(80) alabama(63) president(61) \n",
      "Cluster 32: said(154) us(93) police(80) reuters(77) officials(70) \n",
      "Cluster 33: brexit(209) minister(178) johnson(161) boris(158) prime(158) \n",
      "Cluster 34: hurricane(42) dorian(36) find(32) world(31) bahamas(29) \n",
      "Cluster 35: said(96) says(73) former(55) two(50) people(47) \n",
      "Cluster 36: minister(100) said(85) says(70) government(55) party(53) \n",
      "Cluster 37: trade(261) us(178) china(126) states(82) war(81) \n",
      "Cluster 38: like(130) world(85) get(81) one(73) video(68) \n",
      "Cluster 39: people(185) killed(122) fire(111) least(93) boat(89) \n",
      "Cluster 40: national(162) world(159) video(159) breaking(157) find(157) \n",
      "Cluster 41: trump(377) president(317) donald(157) us(94) house(94) \n",
      "Cluster 42: image(224) caption(176) copyrightgetty(66) imagesimage(50) said(47) \n",
      "Cluster 43: trump(190) president(179) house(141) impeachment(112) us(97) \n",
      "Cluster 44: year(262) million(107) first(74) years(65) last(61) \n",
      "Cluster 45: trump(62) president(54) us(53) world(53) find(51) \n",
      "Cluster 46: first(130) one(129) years(113) year(112) season(107) \n",
      "Cluster 47: iphone(16) apple(14) year(14) watch(10) disney(9) \n",
      "Cluster 48: year(134) million(103) first(96) years(89) last(87) \n",
      "Cluster 49: us(237) business(111) wall(110) street(96) company(94) \n"
     ]
    }
   ],
   "source": [
    "for i in range(50):\n",
    "    tokens_per_cluster = \"\"\n",
    "    most_frequent = Counter(\" \".join(df_clusters.query(f\"cluster == {i}\")[\"tokens\"]).split()).most_common(5)\n",
    "    for t in most_frequent:\n",
    "        tokens_per_cluster += f\"{t[0]}({str(t[1])}) \"\n",
    "    print(f\"Cluster {i}: {tokens_per_cluster}\")"
   ]
  },
  {
   "cell_type": "markdown",
   "metadata": {},
   "source": [
    "### Retrieve most representative documents (based on clusters' centroids)"
   ]
  },
  {
   "cell_type": "code",
   "execution_count": 91,
   "metadata": {
    "scrolled": true
   },
   "outputs": [
    {
     "name": "stdout",
     "output_type": "stream",
     "text": [
      "Wilbur Ross 'Needs to Resign Now' If He Threatened to Fire Top NOAA Officials for Tweet Contradicting Trump on Hurricane Dorian, Democrat Says | As President Donald Trump claimed Hurricane Dorian could hit Alabama, the National Weather Service tweeted to correct the rumors. | Commerce Secretary Wilbur Ross is facing calls to resign over a report he threatened to fire top officials at NOAA for a tweet disputing President Donald Trump's claim that Hurricane Dorian would hit Alabama.\n",
      "\"If that story is true, and I don't know that it … [+3709 chars]\n",
      "-------------\n",
      "Dorian, Comey and Debra Messing: What Trump tweeted on Labor Day weekend | President Donald Trump axed his visit to Poland over the weekend to monitor Hurricane Dorian from Camp David with emergency management staff, but if the President's more than 120 tweets are any indication, he had more than just the storm on his mind. | Washington (CNN)President Donald Trump axed his visit to Poland over the weekend to monitor Hurricane Dorian from Camp David with emergency management staff, but if the President's more than 120 tweets are any indication, he had more than just the storm on hi… [+3027 chars]\n",
      "-------------\n",
      "Federal weather workers are furious at the NOAA's 'utterly disgusting' statement defending Trump's claim Hurricane Dorian would hit Alabama | Federal weather workers have reacted furiously to the National Oceanic and Atmospheric Administration's (NOAA) defence of US President Donald Trump's repeated assertions that Hurricane Dorian was set to hit Alabama. \"Never ever before has their management thr… | Federal weather workers have reacted furiously to the National Oceanic and Atmospheric Administration's (NOAA) defence of US President Donald Trump's repeated assertions that Hurricane Dorian was set to hit Alabama, saying they have been \"thrown under the bus… [+3510 chars]\n",
      "-------------\n",
      "Ross Must Resign If Report He Threatened NOAA Officials Is True: Democrat | As President Donald Trump claimed Hurricane Dorian could hit Alabama, the National Weather Service tweeted to correct the rumors. | Commerce Secretary Wilbur Ross is facing calls to resign over a report alleging that he threatened to fire top officials at NOAA for a tweet disputing President Donald Trump's claim that Hurricane Dorian would hit Alabama.\n",
      "\"If that story is true, and I don't… [+3828 chars]\n",
      "-------------\n",
      "If Trump Altered NOAA's Hurricane Dorian's Forecast Path to Include Alabama, He May Have Broken the Law on 'False Weather Reports' | President Donald Trump repeatedly claimed that Alabama is in the path of Hurricane Dorian, despite weather officials saying the opposite. | As the battle between President Donald Trump and his administration's weather forecasters rumbles on over whether or not Hurricane Dorian threatens Alabama, which it does not, a new question has emerged: Did he break U.S. law by altering a map with a pen?\n",
      "Tr… [+3338 chars]\n",
      "-------------\n",
      "CNN Mistakenly Labels Alabama as 'Mississippi' After Mocking Trump Over Dorian Path Prediction | CNN aired a graphic mistakenly labeling Alabama as \"Mississippi\" during coverage which ridiculed President Donald Trump for his inaccurate prediction Hurricane Dorian would hit the Gulf Coast state. | CNN aired a graphic mistakenly labeling Alabama as \"Mississippi\" during coverage which ridiculed President Donald Trump for his inaccurate prediction Hurricane Dorian would hit the Gulf Coast state.\n",
      "The cable news network's \"states of emergency\" misnomer on … [+2977 chars]\n",
      "-------------\n",
      "NOAA backs up Trump's claim that Dorian could impact Alabama | President Trump has been slamming the media for the coverage of his claim that Alabama was in grave danger from Hurricane Dorian | The National Oceanic and Atmospheric Administration backed up President Trump's ongoing assertions that Alabama appeared initially to be in the path of Hurricane Dorian. His claims have attracted more attention since he appeared earlier this week holding an o… [+3649 chars]\n",
      "-------------\n",
      "Trump insists Dorian threatened Alabama as #SharpieGate trends | The president held up a map Wednesday that appeared to alter Hurricane Dorian's trajectory with a Sharpie | President Trump is insisting that Alabama could have been hit by Hurricane Dorian — despite government meteorologists saying otherwise. The president displayed a map seemingly altered with a Sharpie during a briefing Wednesday that showed the storm threatenin… [+4331 chars]\n",
      "-------------\n",
      "Buttigieg: 'I feel sorry for the President' after he showed apparently altered hurricane map | Pete Buttigieg said Thursday he feels \"sorry for the President\" after Donald Trump used an apparently altered National Weather Service map to vindicate his erroneous claim Hurricane Dorian would affect Alabama, calling the President's comments \"literally path… | (CNN)Pete Buttigieg said Thursday he feels \"sorry for the President\" after Donald Trump used an apparently altered National Weather Service map to vindicate his erroneous claim Hurricane Dorian would affect Alabama, calling the President's comments \"literally… [+2679 chars]\n",
      "-------------\n",
      "Trump said he skipped a diplomatic trip to monitor Hurricane Dorian. Then he spent the weekend golfing. | President Donald Trump told reporters last week that he was canceling a highly anticipated diplomatic trip to Poland so he could monitor Hurricane Dorian from Camp David. Trump spent hours playing golf at the Trump National Golf Club in Sterling, Virginia thr… | President Donald Trump announced last week that he was canceling a diplomatic trip to Poland so he could monitor Hurricane Dorian from Camp David as the Category 4 storm made its way toward the southeastern US. Trump said he canceled the trip because it was \"… [+4010 chars]\n",
      "-------------\n"
     ]
    }
   ],
   "source": [
    "test_cluster = 31\n",
    "most_representative_docs = np.argsort(\n",
    "    np.linalg.norm(vectorized_docs - clustering.cluster_centers_[test_cluster], axis=1)\n",
    ")\n",
    "for d in most_representative_docs[:10]:\n",
    "    print(docs[d])\n",
    "    print(\"-------------\")"
   ]
  },
  {
   "cell_type": "markdown",
   "metadata": {},
   "source": [
    "### Retrieve a random sample of documents for a given cluster"
   ]
  },
  {
   "cell_type": "code",
   "execution_count": 28,
   "metadata": {
    "scrolled": true
   },
   "outputs": [
    {
     "name": "stdout",
     "output_type": "stream",
     "text": [
      "Hong Kong Police Officer Shoots Protester | A protester was shot with a live round by Hong Kong police Tuesday during widespread demonstrations against China’s National Day Celebration. Photo:CAMPUS TV/HKUSU | \n",
      "-------------\n",
      "Amnesty accuses Hong Kong police of arbitrary arrests, torture | Amnesty International accused Hong Kong police on Friday of torture and other abuses in their handling of more than three months of pro-democracy protests, but the police say they have shown restraint on the street in the face of increased violence. | HONG KONG (Reuters) - Amnesty International accused Hong Kong police on Friday of torture and other abuses in their handling of more than three months of pro-democracy protests, but the police say they have shown restraint on the street in the face of increas… [+3967 chars]\n",
      "-------------\n",
      "'We won't give up': Hong Kong protesters defiant after shooting | Shooting of 18-year-old took place during angry demonstrations on Tuesday, prompting mass vigils, more violence. | Hong Kong anti-government demonstrators clashed with police into the early hours of Thursday, venting their anger over a policeman's shooting and wounding of a teenager earlier in the week, as months of protests show no sign of letting up.\n",
      "Activists went on … [+2286 chars]\n",
      "-------------\n",
      "Hong Kong protesters hit the streets as China marks 70th anniversary | An activist involved in anti-government protests in Hong Kong has been shot in the chest by police during a clash. The incident came as thousands of people demonstrated in defiance of a protest ban for the 70th anniversary of Communist rule in China. Also in … | An activist involved in anti-government protests in Hong Kong has been shot in the chest by police during a clash. The incident came as thousands of people demonstrated in defiance of a protest ban for the 70th anniversary of Communist rule in China.\n",
      "Also in… [+522 chars]\n",
      "-------------\n",
      "Hong Kong Student Shot by Police Is ‘The Bravest Type,’ Cousin Says - Wall Street Journal | Hong Kong Student Shot by Police Is ‘The Bravest Type,’ Cousin Says Wall Street Journal Hong Kong protester shot in the chest by police during clashes Al Jazeera English Protester Reported Shot As Hong Kong Marks China's National Day With Widespread Unrest | … | HONG KONGThe high-school student shot in the chest by police during a street battle on Tuesday is a seasoned protester who is never afraid to speak his mind and would put his words into action, according to a cousin. \n",
      "Tsang Chi-kin, \n",
      "18 years old, became th… [+5450 chars]\n",
      "-------------\n",
      "Hong Kong protester shot as China celebrates 70 years of communism | Police say a protester was shot by an officer during violent demonstrations in Hong Kong coinciding with China's anniversary celebrations. Police used tear gas and water cannons to disperse crowds in the city's central business district overnight. Tuesday mar… | \n",
      "-------------\n",
      "Hong Kong police fire tear gas to disperse protesters | Hong Kong police fired tear gas to disperse protesters in the Kowloon district of Mong Kok for a second night on Saturday, after preventing demonstrators from reaching the airport earlier in the day. | HONG KONG (Reuters) - Hong Kong police fired tear gas to disperse protesters in the Kowloon district of Mong Kok for a second night on Saturday, after preventing demonstrators from reaching the airport earlier in the day.\n",
      "-------------\n",
      "Hong Kong Protester Shot by Police as National Day Demonstrations Descend Into Widespread Violence | A day of bitter fighting marks the worst and most widespread violence to hit the city in more than half a century | HONG KONGHong Kong police shot a protester in the chest Tuesday, a day of bitter fighting that marked the worst and most widespread violence to hit the city in more than half a century.The officer pulled his pistol and fired in self-defense, a police spokeswo… [+8741 chars]\n",
      "-------------\n",
      "Hong Kong police fire tear gas to disperse protesters | Hong Kong police fired tear gas to disperse protesters in the Kowloon district of Mong Kok for a second night on Saturday, after preventing demonstrators from reaching the airport earlier in the day. | HONG KONG, Sept 7 (Reuters) - Hong Kong police fired tear gas to disperse protesters in the Kowloon district of Mong Kok for a second night on Saturday, after preventing demonstrators from reaching the airport earlier in the day.\n",
      "-------------\n",
      "Hong Kong tourism falls 40% as protests continue | The number of visitors to the city tumbled last month as anti-government protests gripped the city. | Media captionA police officer draws his gun and aims at protesters Hong Kong's airport building\n",
      "The number of tourists visiting Hong Kong tumbled in August as anti-government protests gripped the city, in a sign of the mounting economic cost of the unrest. \n",
      "… [+1991 chars]\n",
      "-------------\n"
     ]
    }
   ],
   "source": [
    "for i,t in enumerate(df_clusters.query(f\"cluster == {test_cluster}\").sample(10).iterrows()):\n",
    "    print(t[1][\"text\"])\n",
    "    print(\"-------------\")"
   ]
  }
 ],
 "metadata": {
  "kernelspec": {
   "display_name": "Python 3",
   "language": "python",
   "name": "python3"
  },
  "language_info": {
   "codemirror_mode": {
    "name": "ipython",
    "version": 3
   },
   "file_extension": ".py",
   "mimetype": "text/x-python",
   "name": "python",
   "nbconvert_exporter": "python",
   "pygments_lexer": "ipython3",
   "version": "3.9.0"
  }
 },
 "nbformat": 4,
 "nbformat_minor": 4
}
