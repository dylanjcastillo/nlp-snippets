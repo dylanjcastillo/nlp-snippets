{
 "cells": [
  {
   "cell_type": "markdown",
   "metadata": {},
   "source": [
    "## Import required libraries"
   ]
  },
  {
   "cell_type": "code",
   "execution_count": 1,
   "metadata": {},
   "outputs": [
    {
     "name": "stderr",
     "output_type": "stream",
     "text": [
      "[nltk_data] Downloading package stopwords to\n",
      "[nltk_data]     /Users/dylancastillo/nltk_data...\n",
      "[nltk_data]   Package stopwords is already up-to-date!\n",
      "[nltk_data] Downloading package punkt to\n",
      "[nltk_data]     /Users/dylancastillo/nltk_data...\n",
      "[nltk_data]   Package punkt is already up-to-date!\n"
     ]
    }
   ],
   "source": [
    "import os\n",
    "import re\n",
    "import string\n",
    "from collections import Counter\n",
    "from string import punctuation\n",
    "from time import time\n",
    "\n",
    "import gensim\n",
    "import nltk\n",
    "import numpy as np\n",
    "import pandas as pd\n",
    "from gensim.models import Word2Vec\n",
    "from nltk.corpus import stopwords\n",
    "from nltk.tokenize import word_tokenize\n",
    "from sklearn.cluster import MiniBatchKMeans\n",
    "from sklearn.metrics import silhouette_samples, silhouette_score\n",
    "from tqdm.notebook import tqdm\n",
    "\n",
    "from ds_utils.config import set_display_options\n",
    "from ds_utils.data import NEWS_DATA\n",
    "from ds_utils.functions import vectorize\n",
    "\n",
    "nltk.download(\"stopwords\")\n",
    "nltk.download(\"punkt\")\n",
    "set_display_options()"
   ]
  },
  {
   "cell_type": "markdown",
   "metadata": {},
   "source": [
    "## Read data"
   ]
  },
  {
   "cell_type": "code",
   "execution_count": 2,
   "metadata": {},
   "outputs": [],
   "source": [
    "df = pd.read_csv(NEWS_DATA)"
   ]
  },
  {
   "cell_type": "code",
   "execution_count": 3,
   "metadata": {},
   "outputs": [
    {
     "data": {
      "text/plain": [
       "(10437, 15)"
      ]
     },
     "execution_count": 3,
     "metadata": {},
     "output_type": "execute_result"
    }
   ],
   "source": [
    "df.shape"
   ]
  },
  {
   "cell_type": "code",
   "execution_count": 4,
   "metadata": {},
   "outputs": [
    {
     "data": {
      "text/plain": [
       "Index(['Unnamed: 0', 'source_id', 'source_name', 'author', 'title',\n",
       "       'description', 'url', 'url_to_image', 'published_at', 'content',\n",
       "       'top_article', 'engagement_reaction_count', 'engagement_comment_count',\n",
       "       'engagement_share_count', 'engagement_comment_plugin_count'],\n",
       "      dtype='object')"
      ]
     },
     "execution_count": 4,
     "metadata": {},
     "output_type": "execute_result"
    }
   ],
   "source": [
    "df.columns"
   ]
  },
  {
   "cell_type": "code",
   "execution_count": 5,
   "metadata": {},
   "outputs": [
    {
     "data": {
      "text/html": [
       "<div>\n",
       "<style scoped>\n",
       "    .dataframe tbody tr th:only-of-type {\n",
       "        vertical-align: middle;\n",
       "    }\n",
       "\n",
       "    .dataframe tbody tr th {\n",
       "        vertical-align: top;\n",
       "    }\n",
       "\n",
       "    .dataframe thead th {\n",
       "        text-align: right;\n",
       "    }\n",
       "</style>\n",
       "<table border=\"1\" class=\"dataframe\">\n",
       "  <thead>\n",
       "    <tr style=\"text-align: right;\">\n",
       "      <th></th>\n",
       "      <th>163</th>\n",
       "    </tr>\n",
       "  </thead>\n",
       "  <tbody>\n",
       "    <tr>\n",
       "      <th>Unnamed: 0</th>\n",
       "      <td>163</td>\n",
       "    </tr>\n",
       "    <tr>\n",
       "      <th>source_id</th>\n",
       "      <td>business-insider</td>\n",
       "    </tr>\n",
       "    <tr>\n",
       "      <th>source_name</th>\n",
       "      <td>Business Insider</td>\n",
       "    </tr>\n",
       "    <tr>\n",
       "      <th>author</th>\n",
       "      <td>Alicia Betz</td>\n",
       "    </tr>\n",
       "    <tr>\n",
       "      <th>title</th>\n",
       "      <td>This mineral-based sunscreen doesn't leave white residue behind — it protects my family's fair skin and is reef-friendly</td>\n",
       "    </tr>\n",
       "    <tr>\n",
       "      <th>description</th>\n",
       "      <td>Mineral-based sunscreens that are reef-safe are becoming an increasingly popular sunscreen choice. Goddess Garden Organics offers four sunscreen formulations: daily, sport, kids, and baby. They also offer three delivery options: lotion, spray, and stick. The …</td>\n",
       "    </tr>\n",
       "    <tr>\n",
       "      <th>url</th>\n",
       "      <td>https://www.businessinsider.com/goddess-garden-organics-sunscreen-review</td>\n",
       "    </tr>\n",
       "    <tr>\n",
       "      <th>url_to_image</th>\n",
       "      <td>https://amp.businessinsider.com/images/5d6941072e22af3d336e6615-960-480.jpg</td>\n",
       "    </tr>\n",
       "    <tr>\n",
       "      <th>published_at</th>\n",
       "      <td>2019-09-03T15:45:00Z</td>\n",
       "    </tr>\n",
       "    <tr>\n",
       "      <th>content</th>\n",
       "      <td>Everyone should be wearing sunscreen on a daily basis to protect their skin, but I have pretty fair skin, so sunscreen is also a must for me if I don't want to look like a lobster after a day in the sun. My husband has even fairer skin, and it doesn't take mu… [+4705 chars]</td>\n",
       "    </tr>\n",
       "    <tr>\n",
       "      <th>top_article</th>\n",
       "      <td>0.00</td>\n",
       "    </tr>\n",
       "    <tr>\n",
       "      <th>engagement_reaction_count</th>\n",
       "      <td>0.00</td>\n",
       "    </tr>\n",
       "    <tr>\n",
       "      <th>engagement_comment_count</th>\n",
       "      <td>0.00</td>\n",
       "    </tr>\n",
       "    <tr>\n",
       "      <th>engagement_share_count</th>\n",
       "      <td>1.00</td>\n",
       "    </tr>\n",
       "    <tr>\n",
       "      <th>engagement_comment_plugin_count</th>\n",
       "      <td>0.00</td>\n",
       "    </tr>\n",
       "  </tbody>\n",
       "</table>\n",
       "</div>"
      ],
      "text/plain": [
       "                                                                                                                                                                                                                                                                                                                163\n",
       "Unnamed: 0                                                                                                                                                                                                                                                                                                      163\n",
       "source_id                                                                                                                                                                                                                                                                                          business-insider\n",
       "source_name                                                                                                                                                                                                                                                                                        Business Insider\n",
       "author                                                                                                                                                                                                                                                                                                  Alicia Betz\n",
       "title                                                                                                                                                                                      This mineral-based sunscreen doesn't leave white residue behind — it protects my family's fair skin and is reef-friendly\n",
       "description                                    Mineral-based sunscreens that are reef-safe are becoming an increasingly popular sunscreen choice. Goddess Garden Organics offers four sunscreen formulations: daily, sport, kids, and baby. They also offer three delivery options: lotion, spray, and stick. The …\n",
       "url                                                                                                                                                                                                                                        https://www.businessinsider.com/goddess-garden-organics-sunscreen-review\n",
       "url_to_image                                                                                                                                                                                                                            https://amp.businessinsider.com/images/5d6941072e22af3d336e6615-960-480.jpg\n",
       "published_at                                                                                                                                                                                                                                                                                   2019-09-03T15:45:00Z\n",
       "content                          Everyone should be wearing sunscreen on a daily basis to protect their skin, but I have pretty fair skin, so sunscreen is also a must for me if I don't want to look like a lobster after a day in the sun. My husband has even fairer skin, and it doesn't take mu… [+4705 chars]\n",
       "top_article                                                                                                                                                                                                                                                                                                    0.00\n",
       "engagement_reaction_count                                                                                                                                                                                                                                                                                      0.00\n",
       "engagement_comment_count                                                                                                                                                                                                                                                                                       0.00\n",
       "engagement_share_count                                                                                                                                                                                                                                                                                         1.00\n",
       "engagement_comment_plugin_count                                                                                                                                                                                                                                                                                0.00"
      ]
     },
     "execution_count": 5,
     "metadata": {},
     "output_type": "execute_result"
    }
   ],
   "source": [
    "df.sample(1).T"
   ]
  },
  {
   "cell_type": "markdown",
   "metadata": {},
   "source": [
    "## Fill missing values"
   ]
  },
  {
   "cell_type": "code",
   "execution_count": 6,
   "metadata": {},
   "outputs": [
    {
     "data": {
      "text/plain": [
       "Unnamed: 0                        0.00\n",
       "source_id                         0.00\n",
       "source_name                       0.00\n",
       "author                            0.10\n",
       "title                             0.00\n",
       "description                       0.00\n",
       "url                               0.00\n",
       "url_to_image                      0.06\n",
       "published_at                      0.00\n",
       "content                           0.12\n",
       "top_article                       0.00\n",
       "engagement_reaction_count         0.01\n",
       "engagement_comment_count          0.01\n",
       "engagement_share_count            0.01\n",
       "engagement_comment_plugin_count   0.01\n",
       "dtype: float64"
      ]
     },
     "execution_count": 6,
     "metadata": {},
     "output_type": "execute_result"
    }
   ],
   "source": [
    "df.isna().mean()"
   ]
  },
  {
   "cell_type": "code",
   "execution_count": 7,
   "metadata": {},
   "outputs": [],
   "source": [
    "df[\"content\"] = df[\"content\"].fillna(\"\")"
   ]
  },
  {
   "cell_type": "markdown",
   "metadata": {},
   "source": [
    "## Generate tokens"
   ]
  },
  {
   "cell_type": "code",
   "execution_count": 8,
   "metadata": {},
   "outputs": [
    {
     "data": {
      "text/plain": [
       "'Curlew in danger of extinction in Ireland, says conservationist | Task force recommends series of measures after 96% decline in numbers since 1980s | Ireland should restrict afforestation, recreate peatlands and wetlands and safeguard bogs to protect the endangered curlew bird, a report has recommended.\\r\\nOn Friday, the curlew task force published a series of recommendations aimed at promoting key policies … [+2365 chars]'"
      ]
     },
     "execution_count": 8,
     "metadata": {},
     "output_type": "execute_result"
    }
   ],
   "source": [
    "df.sample(1).apply(lambda x: x[\"title\"] + \" | \" + x[\"description\"] + \" | \" + x[\"content\"], axis=1).values[0]"
   ]
  },
  {
   "cell_type": "code",
   "execution_count": 9,
   "metadata": {},
   "outputs": [
    {
     "name": "stdout",
     "output_type": "stream",
     "text": [
      "SAMPLE TEXT: Some Royal Caribbean, Disney, and Norwegian Cruise ship passengers are stuck at sea as Hurricane Dorian creeps dangerously close to Florida (RCL, CCL) | Royal Caribbean International, Disney Cruise Line, and Norwegian Cruise Line have extended the itineraries for some cruises that began in Florida as Hurricane Dorian nears the state. The cruise lines have canceled or changed the itineraries for a number of ot…\n",
      "TOKENS: ['royal', 'caribbean', 'disney', 'norwegian', 'cruise', 'ship', 'passengers', 'stuck', 'sea', 'hurricane', 'dorian', 'creeps', 'dangerously', 'close', 'florida', 'rcl', 'ccl', 'royal', 'caribbean', 'international', 'disney', 'cruise', 'line', 'norwegian', 'cruise', 'line', 'extended', 'itineraries', 'cruises', 'began', 'florida', 'hurricane', 'dorian', 'nears', 'state', 'cruise', 'lines', 'canceled', 'changed', 'itineraries', 'number']\n",
      "------\n",
      "SAMPLE TEXT: Hottest September on record in Australia's Perth city | The driest September in 42 years has residents concerned as a sizzling spring and summer beckons.\n",
      "TOKENS: ['hottest', 'september', 'record', 'australias', 'perth', 'city', 'driest', 'september', 'years', 'residents', 'concerned', 'sizzling', 'spring', 'summer', 'beckons']\n",
      "------\n",
      "SAMPLE TEXT: Donald Trump's 'Civil War' Tweet Is Seditious and a 'Grave Crime,' Retired Army Officer Says | Retired Lieutenant Colonel Ralph Peters said Trump's weekend Twitter tirade shows he is a \"frightened, frightened man.\"\n",
      "TOKENS: ['donald', 'trumps', 'civil', 'war', 'tweet', 'seditious', 'grave', 'crime', 'retired', 'army', 'officer', 'says', 'retired', 'lieutenant', 'colonel', 'ralph', 'peters', 'said', 'trumps', 'weekend', 'twitter', 'tirade', 'shows', 'frightened', 'frightened', 'man']\n",
      "------\n",
      "SAMPLE TEXT: After WeWork debacle, IPO market slams brakes on unprofitable companies | Companies making their debut on the U.S. stock market are getting a rough welcome, especially if they are losing money, casting a shadow over the calendar for initial public offerings for the rest of the year.\n",
      "TOKENS: ['wework', 'debacle', 'ipo', 'market', 'slams', 'brakes', 'unprofitable', 'companies', 'companies', 'making', 'debut', 'us', 'stock', 'market', 'getting', 'rough', 'welcome', 'especially', 'losing', 'money', 'casting', 'shadow', 'calendar', 'initial', 'public', 'offerings', 'rest', 'year']\n",
      "------\n",
      "SAMPLE TEXT: 'Bad idea' to pursue progressive ideas like 'Medicare for All': Sen. Amy Klobuchar | Sen. Amy Klobuchar, D-Minn, sat down for a one-on-one interview on ABC's \"This Week\" with ABC News Chief Anchor George Stephanopoulos\n",
      "TOKENS: ['bad', 'idea', 'pursue', 'progressive', 'ideas', 'like', 'medicare', 'sen', 'amy', 'klobuchar', 'sen', 'amy', 'klobuchar', 'minn', 'sat', 'one', 'one', 'interview', 'abcs', 'week', 'abc', 'chief', 'anchor', 'george', 'stephanopoulos']\n",
      "------\n"
     ]
    }
   ],
   "source": [
    "stop_words = set(stopwords.words(\"english\") + [\"news\", \"new\", \"top\"])\n",
    "\n",
    "def generate_tokens(text, tokenizer=word_tokenize, stop_words=stop_words):\n",
    "    text = str(text).lower() # Lowercase words\n",
    "    text = re.sub(r\"\\[(.*?)\\]\", \"\", text) # Remove [+XYZ chars] in content\n",
    "    text = re.sub(r\"\\s+\", \" \", text) # Remove multiple spaces in content\n",
    "    text = re.sub(r\"\\w+…|…\", \"\", text) # Remove ellipsis (and last word)\n",
    "    text = re.sub(r\"(?<=\\w)-(?=\\w)\", \" \", text) # Replace dash between words\n",
    "    text = re.sub(f\"[{re.escape(string.punctuation)}]\", \"\", text) # Remove punctuation\n",
    "    \n",
    "    tokens = tokenizer(text) # Get tokens from text\n",
    "    tokens = [t for t in tokens if not t in stop_words] # Remove stopwords\n",
    "    tokens = [\"\" if t.isdigit() else t for t in tokens] # Remove digits\n",
    "    tokens = [t for t in tokens if len(t) > 1] # Remove short tokens\n",
    "    return tokens\n",
    "\n",
    "for _ in range(5):\n",
    "    sample_text = df.sample(1).apply(lambda x: x[\"title\"] + \" | \" + x[\"description\"], axis=1).values[0]\n",
    "    print(f\"SAMPLE TEXT: {sample_text}\")\n",
    "    print(f\"TOKENS: {generate_tokens(sample_text)}\")\n",
    "    print(f\"------\")"
   ]
  },
  {
   "cell_type": "code",
   "execution_count": 10,
   "metadata": {},
   "outputs": [
    {
     "data": {
      "text/plain": [
       "((10437, 17), (9882, 17))"
      ]
     },
     "execution_count": 10,
     "metadata": {},
     "output_type": "execute_result"
    }
   ],
   "source": [
    "text_columns = [\"title\", \"description\", \"content\"]\n",
    "\n",
    "for col in text_columns:\n",
    "    df[col] = df[col].astype(str)\n",
    "\n",
    "# Create text column based on title, description, and content\n",
    "df[\"text\"] = df[text_columns].apply(lambda x: ' | '.join(x), axis=1)\n",
    "df[\"tokens\"] = df[\"text\"].map(lambda x: generate_tokens(x))\n",
    "\n",
    "# Remove duplicated after preprocessing\n",
    "_, idx = np.unique(df[\"tokens\"], return_index=True)\n",
    "df_proc = df.iloc[idx, :]\n",
    "\n",
    "# Remove empty values\n",
    "df_proc = df_proc.loc[df_proc.tokens.map(lambda x: len(x) > 0)]\n",
    "\n",
    "df.shape, df_proc.shape"
   ]
  },
  {
   "cell_type": "markdown",
   "metadata": {},
   "source": [
    "## Review vocabulary"
   ]
  },
  {
   "cell_type": "code",
   "execution_count": 11,
   "metadata": {},
   "outputs": [],
   "source": [
    "docs = df_proc[\"text\"].values\n",
    "tokenized_docs = df_proc[\"tokens\"].values\n",
    "vocab = Counter()\n",
    "for token in tokenized_docs:\n",
    "    vocab.update(token)"
   ]
  },
  {
   "cell_type": "code",
   "execution_count": 12,
   "metadata": {},
   "outputs": [
    {
     "data": {
      "text/plain": [
       "32454"
      ]
     },
     "execution_count": 12,
     "metadata": {},
     "output_type": "execute_result"
    }
   ],
   "source": [
    "len(vocab)"
   ]
  },
  {
   "cell_type": "code",
   "execution_count": 13,
   "metadata": {},
   "outputs": [
    {
     "data": {
      "text/plain": [
       "[('us', 2757),\n",
       " ('said', 2519),\n",
       " ('year', 1781),\n",
       " ('president', 1756),\n",
       " ('trump', 1705),\n",
       " ('world', 1620),\n",
       " ('says', 1511),\n",
       " ('one', 1418),\n",
       " ('two', 1284),\n",
       " ('first', 1195)]"
      ]
     },
     "execution_count": 13,
     "metadata": {},
     "output_type": "execute_result"
    }
   ],
   "source": [
    "vocab.most_common(10)"
   ]
  },
  {
   "cell_type": "markdown",
   "metadata": {},
   "source": [
    "## Train Word2Vec model"
   ]
  },
  {
   "cell_type": "code",
   "execution_count": 14,
   "metadata": {},
   "outputs": [],
   "source": [
    "model = Word2Vec(sentences=tokenized_docs, vector_size=100, workers=4, seed=42)"
   ]
  },
  {
   "cell_type": "code",
   "execution_count": 15,
   "metadata": {},
   "outputs": [
    {
     "data": {
      "text/plain": [
       "[('trumps', 0.9881476759910583),\n",
       " ('president', 0.9689247012138367),\n",
       " ('donald', 0.9595009088516235),\n",
       " ('breitbart', 0.9428410530090332),\n",
       " ('administration', 0.9353697299957275),\n",
       " ('turnberry', 0.9300839304924011),\n",
       " ('pencil', 0.92219477891922),\n",
       " ('impeachment', 0.9217286705970764),\n",
       " ('biden', 0.9121127128601074),\n",
       " ('administrations', 0.9102789163589478)]"
      ]
     },
     "execution_count": 15,
     "metadata": {},
     "output_type": "execute_result"
    }
   ],
   "source": [
    "model.wv.most_similar(\"trump\")"
   ]
  },
  {
   "cell_type": "code",
   "execution_count": 16,
   "metadata": {},
   "outputs": [
    {
     "data": {
      "text/plain": [
       "[('chat', 0.949539303779602),\n",
       " ('messenger', 0.926665723323822),\n",
       " ('gambling', 0.90227210521698),\n",
       " ('google', 0.893943727016449),\n",
       " ('find', 0.8897424936294556),\n",
       " ('wjla', 0.8891974687576294),\n",
       " ('marketplace', 0.8577138185501099),\n",
       " ('communicate', 0.8472960591316223),\n",
       " ('analysis', 0.8444861769676208),\n",
       " ('whats', 0.8422533869743347)]"
      ]
     },
     "execution_count": 16,
     "metadata": {},
     "output_type": "execute_result"
    }
   ],
   "source": [
    "model.wv.most_similar(\"facebook\")"
   ]
  },
  {
   "cell_type": "markdown",
   "metadata": {},
   "source": [
    "## Generate vectors from documents"
   ]
  },
  {
   "cell_type": "code",
   "execution_count": 17,
   "metadata": {},
   "outputs": [],
   "source": [
    "def vectorize(list_of_docs, model, strategy):\n",
    "    features = []\n",
    "    size_output = model.vector_size\n",
    "    embedding_dict = model\n",
    "\n",
    "    if strategy == \"min-max\":\n",
    "        size_output *= 2\n",
    "\n",
    "    if hasattr(model, \"wv\"):\n",
    "        embedding_dict = model.wv\n",
    "\n",
    "    for tokens in list_of_docs:\n",
    "        zero_vector = np.zeros(size_output)\n",
    "        vectors = []\n",
    "        for token in tokens:\n",
    "            if token in embedding_dict:\n",
    "                try:\n",
    "                    vectors.append(embedding_dict[token])\n",
    "                except KeyError:\n",
    "                    continue\n",
    "        if vectors:\n",
    "            vectors = np.asarray(vectors)\n",
    "            if strategy == \"min-max\":\n",
    "                min_vec = vectors.min(axis=0)\n",
    "                max_vec = vectors.max(axis=0)\n",
    "                features.append(np.concatenate((min_vec, max_vec)))\n",
    "            elif strategy == \"average\":\n",
    "                avg_vec = vectors.mean(axis=0)\n",
    "                features.append(avg_vec)\n",
    "            else:\n",
    "                raise ValueError(f\"Aggregation strategy {strategy} does not exist!\")\n",
    "        else:\n",
    "            features.append(zero_vector)\n",
    "    return features"
   ]
  },
  {
   "cell_type": "code",
   "execution_count": 18,
   "metadata": {},
   "outputs": [
    {
     "data": {
      "text/plain": [
       "(9882, 100)"
      ]
     },
     "execution_count": 18,
     "metadata": {},
     "output_type": "execute_result"
    }
   ],
   "source": [
    "vectorized_docs = vectorize(tokenized_docs, model=model, strategy=\"average\")\n",
    "len(vectorized_docs), len(vectorized_docs[0])"
   ]
  },
  {
   "cell_type": "markdown",
   "metadata": {},
   "source": [
    "## Create and analyze clusters"
   ]
  },
  {
   "cell_type": "code",
   "execution_count": 58,
   "metadata": {},
   "outputs": [],
   "source": [
    "def generate_clusters(X, k, mb=500, random_state=42, print_silhoutte_values=False):\n",
    "    km = MiniBatchKMeans(n_clusters=k, batch_size=mb, random_state=random_state).fit(X)\n",
    "    print(f\"For n_clusters = {k}\")\n",
    "    print(f\"Silhouette coefficient: {silhouette_score(X, km.labels_):0.2f}\")\n",
    "    print(f\"Inertia:{clustering.inertia_}\")\n",
    "\n",
    "    if print_silhoutte_values:\n",
    "        sample_silhouette_values = silhouette_samples(X, km.labels_)\n",
    "        print(f\"Silhouette values:\")\n",
    "        silhouette_values = []\n",
    "        for i in range(k):\n",
    "            silhoutte_value = sample_silhouette_values[km.labels_ == i]\n",
    "            size = ith_cluster_silhouette_values.shape[0]\n",
    "            min = ith_cluster_silhouette_values.min()\n",
    "            silhoutte_values.append()\n",
    "            print(f\"    Cluster {i}: \"\n",
    "            f\"Size:{}\"\n",
    "            f\"| Min:{:.2f}\"\n",
    "            f\"| Avg:{ith_cluster_silhouette_values.mean():.2f}\"\n",
    "            f\"| Max: {ith_cluster_silhouette_values.max():.2f}\")\n",
    "    return clustering, cluster_labels"
   ]
  },
  {
   "cell_type": "code",
   "execution_count": 59,
   "metadata": {},
   "outputs": [
    {
     "name": "stdout",
     "output_type": "stream",
     "text": [
      "For n_clusters = 50\n",
      "Silhouette coefficient: 0.11\n",
      "Inertia:3685.83510376604\n",
      "Silhouette values:\n",
      "    Cluster 0: Size:584| Min:0.01| Avg:0.20| Max: 0.41\n",
      "    Cluster 1: Size:223| Min:-0.15| Avg:0.00| Max: 0.19\n",
      "    Cluster 2: Size:192| Min:-0.20| Avg:0.00| Max: 0.21\n",
      "    Cluster 3: Size:31| Min:0.00| Avg:0.31| Max: 0.51\n",
      "    Cluster 4: Size:140| Min:-0.01| Avg:0.21| Max: 0.42\n",
      "    Cluster 5: Size:160| Min:-0.01| Avg:0.17| Max: 0.37\n",
      "    Cluster 6: Size:52| Min:0.04| Avg:0.38| Max: 0.58\n",
      "    Cluster 7: Size:234| Min:-0.12| Avg:0.09| Max: 0.30\n",
      "    Cluster 8: Size:83| Min:-0.17| Avg:0.09| Max: 0.35\n",
      "    Cluster 9: Size:96| Min:-0.11| Avg:0.28| Max: 0.48\n",
      "    Cluster 10: Size:221| Min:-0.11| Avg:0.09| Max: 0.31\n",
      "    Cluster 11: Size:534| Min:-0.13| Avg:0.08| Max: 0.27\n",
      "    Cluster 12: Size:352| Min:-0.05| Avg:0.13| Max: 0.36\n",
      "    Cluster 13: Size:147| Min:-0.02| Avg:0.22| Max: 0.45\n",
      "    Cluster 14: Size:213| Min:-0.09| Avg:0.08| Max: 0.26\n",
      "    Cluster 15: Size:483| Min:-0.10| Avg:0.08| Max: 0.28\n",
      "    Cluster 16: Size:83| Min:-0.03| Avg:0.28| Max: 0.46\n",
      "    Cluster 17: Size:629| Min:-0.10| Avg:0.10| Max: 0.28\n",
      "    Cluster 18: Size:31| Min:0.02| Avg:0.26| Max: 0.43\n",
      "    Cluster 19: Size:93| Min:-0.03| Avg:0.23| Max: 0.43\n",
      "    Cluster 20: Size:106| Min:-0.09| Avg:0.22| Max: 0.43\n",
      "    Cluster 21: Size:186| Min:-0.09| Avg:0.15| Max: 0.37\n",
      "    Cluster 22: Size:198| Min:-0.13| Avg:0.05| Max: 0.25\n",
      "    Cluster 23: Size:233| Min:-0.07| Avg:0.14| Max: 0.37\n",
      "    Cluster 24: Size:216| Min:-0.15| Avg:0.06| Max: 0.28\n",
      "    Cluster 25: Size:111| Min:-0.03| Avg:0.19| Max: 0.39\n",
      "    Cluster 26: Size:53| Min:-0.08| Avg:0.28| Max: 0.50\n",
      "    Cluster 27: Size:380| Min:-0.17| Avg:0.05| Max: 0.27\n",
      "    Cluster 28: Size:30| Min:-0.08| Avg:0.10| Max: 0.33\n",
      "    Cluster 29: Size:194| Min:-0.17| Avg:0.08| Max: 0.29\n",
      "    Cluster 30: Size:255| Min:-0.05| Avg:0.14| Max: 0.34\n",
      "    Cluster 31: Size:247| Min:-0.21| Avg:0.05| Max: 0.26\n",
      "    Cluster 32: Size:139| Min:-0.08| Avg:0.09| Max: 0.29\n",
      "    Cluster 33: Size:342| Min:-0.02| Avg:0.14| Max: 0.31\n",
      "    Cluster 34: Size:133| Min:-0.09| Avg:0.16| Max: 0.44\n",
      "    Cluster 35: Size:100| Min:-0.02| Avg:0.25| Max: 0.45\n",
      "    Cluster 36: Size:85| Min:-0.06| Avg:0.22| Max: 0.45\n",
      "    Cluster 37: Size:123| Min:-0.13| Avg:0.11| Max: 0.34\n",
      "    Cluster 38: Size:96| Min:-0.07| Avg:0.14| Max: 0.38\n",
      "    Cluster 39: Size:110| Min:-0.05| Avg:0.25| Max: 0.42\n",
      "    Cluster 40: Size:126| Min:-0.11| Avg:0.06| Max: 0.27\n",
      "    Cluster 41: Size:364| Min:-0.10| Avg:0.08| Max: 0.29\n",
      "    Cluster 42: Size:273| Min:-0.12| Avg:0.09| Max: 0.31\n",
      "    Cluster 43: Size:306| Min:-0.16| Avg:0.01| Max: 0.25\n",
      "    Cluster 44: Size:298| Min:-0.16| Avg:0.09| Max: 0.31\n",
      "    Cluster 45: Size:38| Min:0.09| Avg:0.31| Max: 0.49\n",
      "    Cluster 46: Size:145| Min:-0.08| Avg:0.04| Max: 0.23\n",
      "    Cluster 47: Size:14| Min:-0.06| Avg:0.09| Max: 0.26\n",
      "    Cluster 48: Size:243| Min:-0.11| Avg:0.07| Max: 0.30\n",
      "    Cluster 49: Size:157| Min:-0.20| Avg:0.04| Max: 0.27\n"
     ]
    }
   ],
   "source": [
    "clustering, cluster_labels = generate_clusters(vectorized_docs, 50, print_silhoutte_values=True)"
   ]
  },
  {
   "cell_type": "code",
   "execution_count": 45,
   "metadata": {},
   "outputs": [],
   "source": [
    "df_clusters = pd.DataFrame({\n",
    "    \"text\": docs,\n",
    "    \"tokens\": [\" \".join(text) for text in tokenized_docs],\n",
    "    \"cluster\": cluster_labels\n",
    "})"
   ]
  },
  {
   "cell_type": "markdown",
   "metadata": {},
   "source": [
    "### Most frequent tokens"
   ]
  },
  {
   "cell_type": "code",
   "execution_count": 46,
   "metadata": {
    "scrolled": true
   },
   "outputs": [
    {
     "name": "stdout",
     "output_type": "stream",
     "text": [
      "Cluster 0: one(93) like(83) two(53) says(52) also(50) \n",
      "Cluster 1: year(221) old(95) million(90) years(88) last(70) \n",
      "Cluster 2: us(300) said(139) states(93) reuters(88) united(85) \n",
      "Cluster 3: hurricane(42) dorian(36) find(32) world(31) bahamas(29) \n",
      "Cluster 4: johnson(188) brexit(183) minister(174) boris(174) prime(158) \n",
      "Cluster 5: trump(376) president(283) donald(179) house(114) bolton(98) \n",
      "Cluster 6: trump(119) hurricane(103) dorian(100) president(83) alabama(78) \n",
      "Cluster 7: police(221) people(162) killed(132) said(131) man(92) \n",
      "Cluster 8: facebook(100) us(68) find(58) world(57) messenger(51) \n",
      "Cluster 9: world(95) find(95) video(90) online(90) get(89) \n",
      "Cluster 10: president(185) former(131) us(80) said(72) mugabe(70) \n",
      "Cluster 11: said(152) us(112) people(86) says(76) one(74) \n",
      "Cluster 12: world(149) like(96) get(87) one(81) best(70) \n",
      "Cluster 13: world(289) cup(242) rugby(96) ireland(80) team(74) \n",
      "Cluster 14: minister(110) said(104) deal(82) says(76) european(62) \n",
      "Cluster 15: like(91) us(88) company(62) one(58) world(57) \n",
      "Cluster 16: saudi(262) oil(221) attacks(90) arabia(89) drone(84) \n",
      "Cluster 17: first(195) one(190) year(181) two(129) years(125) \n",
      "Cluster 18: hong(89) kong(85) police(79) shot(41) protester(29) \n",
      "Cluster 19: trump(213) president(193) house(155) impeachment(117) donald(102) \n",
      "Cluster 20: hurricane(242) dorian(219) bahamas(135) storm(107) carolina(50) \n",
      "Cluster 21: year(194) old(181) man(152) woman(72) death(57) \n",
      "Cluster 22: said(206) reuters(135) us(130) state(86) thursday(65) \n",
      "Cluster 23: image(244) caption(192) copyrightgetty(69) said(62) imagesimage(54) \n",
      "Cluster 24: us(180) business(93) facebook(71) company(62) market(57) \n",
      "Cluster 25: police(187) man(150) year(107) old(95) found(82) \n",
      "Cluster 26: trump(61) president(53) world(51) us(49) find(49) \n",
      "Cluster 27: says(104) said(64) ireland(61) former(55) would(50) \n",
      "Cluster 28: world(71) cup(64) rugby(31) japan(25) ireland(23) \n",
      "Cluster 29: video(198) national(196) world(195) find(195) get(192) \n",
      "Cluster 30: trump(414) president(319) donald(180) us(118) trumps(95) \n",
      "Cluster 31: first(119) iphone(119) time(92) season(91) one(85) \n",
      "Cluster 32: minister(167) prime(111) election(79) government(72) netanyahu(65) \n",
      "Cluster 33: said(195) us(93) chief(85) reuters(81) says(77) \n",
      "Cluster 34: hurricane(193) dorian(171) bahamas(107) storm(81) us(39) \n",
      "Cluster 35: johnson(227) brexit(225) minister(176) boris(174) prime(169) \n",
      "Cluster 36: hong(243) kong(210) protests(70) protesters(53) china(45) \n",
      "Cluster 37: trade(264) us(170) china(125) united(95) states(88) \n",
      "Cluster 38: brexit(143) deal(83) uk(59) johnson(58) boris(42) \n",
      "Cluster 39: video(118) world(114) national(110) find(109) get(106) \n",
      "Cluster 40: trump(187) us(182) president(158) donald(92) said(82) \n",
      "Cluster 41: said(98) people(96) man(80) two(73) police(66) \n",
      "Cluster 42: democratic(160) presidential(129) president(127) trump(108) debate(81) \n",
      "Cluster 43: reuters(164) company(155) us(122) million(115) said(113) \n",
      "Cluster 44: years(126) two(112) year(100) man(89) one(80) \n",
      "Cluster 45: hurricane(110) dorian(87) storm(52) carolina(31) bahamas(29) \n",
      "Cluster 46: said(132) police(83) us(80) killed(68) officials(66) \n",
      "Cluster 47: apple(24) year(21) iphone(17) games(17) disney(15) \n",
      "Cluster 48: business(160) apple(107) insider(90) story(71) iphone(65) \n",
      "Cluster 49: year(200) first(84) one(82) years(80) old(72) \n"
     ]
    }
   ],
   "source": [
    "for i in range(50):\n",
    "    tokens_per_cluster = \"\"\n",
    "    most_frequent = Counter(\" \".join(df_clusters.query(f\"cluster == {i}\")[\"tokens\"]).split()).most_common(5)\n",
    "    for t in most_frequent:\n",
    "        tokens_per_cluster += f\"{t[0]}({str(t[1])}) \"\n",
    "    print(f\"Cluster {i}: {tokens_per_cluster}\")"
   ]
  },
  {
   "cell_type": "markdown",
   "metadata": {},
   "source": [
    "### Most representative documents"
   ]
  },
  {
   "cell_type": "code",
   "execution_count": 47,
   "metadata": {
    "scrolled": true
   },
   "outputs": [
    {
     "name": "stdout",
     "output_type": "stream",
     "text": [
      "World's Largest Oil Facility Set Ablaze in Drone Attacks Claimed by Tehran-Backed Rebels | Yemen's Iran-backed Houthi rebels claimed responsibility for drone attacks at the world's largest oil processing facility in Saudi Arabia, military and government spokespersons said Saturday. | Yemen's Tehran-backed Houthi rebels claimed responsibility for drone attacks and reports of gunfire at the world's largest oil processing facility in Saudi Arabia, military and government spokespersons said Saturday.\n",
      "Videos emerged online Saturday morning sh… [+2376 chars]\n",
      "-------------\n",
      "Drones hit two Saudi Aramco oil facilities, cause fires | Blazes at major oil facilities in Abqaiq and Khurais brought under control, interior ministry says. | Drone attacks on two Saudi Aramco factories have caused fires, according to Saudi Arabia's state media.\n",
      "Citing an interior ministry spokesperson, the SPA news agency said on Saturday the blazes at the facilities in Abqaiq and Khurais were under control.\n",
      "The… [+1518 chars]\n",
      "-------------\n",
      "Saudi attacks rattle shippers' plan to switch fuels | Refinery outages in Saudi Arabia following weekend attacks on its oil facilities could deal a blow to the shipping industry's preparations for the biggest switch in fuel standards in decades. | LONDON/NEW YORK (Reuters) - Refinery outages in Saudi Arabia following weekend attacks on its oil facilities could deal a blow to the shipping industry’s preparations for the biggest switch in fuel standards in decades. \n",
      "Saudi Aramco, the state-run oil compa… [+3129 chars]\n",
      "-------------\n",
      "Factbox - Attacks, incidents heightening Gulf tensions since May | Yemen's Iran-aligned Houthi group said it attacked two plants at the heart of Saudi Arabia's oil industry on Saturday, knocking out more than half the Kingdom's output. | DUBAI (Reuters) - Yemen’s Iran-aligned Houthi group said it attacked two plants at the heart of Saudi Arabia’s oil industry on Saturday, knocking out more than half the Kingdom’s output. \n",
      "The movement had threatened in May to attack 300 military targets in S… [+3323 chars]\n",
      "-------------\n",
      "Saudi oil explosions: Amateur footage captures plant ablaze | The worldâ€™s largest oil processing facility is one of two sites targeted by drones in attacks claimed by Houthi rebels. | Yemen's Houthi rebels say they are responsible for drone attacks on two major oil facilities in Saudi Arabia run by Saudi Aramco.\n",
      "The state-owned energy giant says exports are continuing, however, the Reuters News Agency is quoting sources saying production … [+240 chars]\n",
      "-------------\n",
      "These 'kamikaze' drones are believed to be the culprits of the attack on 2 Saudi oil fields. Here's what we know about them. | Yemen's Houthi rebel group claims to have orchestrated the drone strike on two Saudi state-run oil refineries that temporarily stalled production on 5% of the world's crude oil. A United Nations Security Council report from January details the types of drones… | Yemen's Houthi rebel group, part of a regional network of militants backed by Iran, claims to be behind the drone strikes on two Saudi oil facilities that have the potential to disrupt global oil supplies. \n",
      " A report from the United Nations Security Council … [+3828 chars]\n",
      "-------------\n",
      "The world's largest oil plant in Saudi Arabia was attacked by 10 explosive drones ahead Aramco's plans for the biggest IPO ever | Two major Saudi oil refineries were set ablaze after a drone strike that was reportedly orchestrated by Yemen's Houthi rebel group. The extent of the damage was unclear, which could be critical to the state-owned oil giant Saudi Aramco's plans for what could … | Yemen's Houthi rebel group claimed responsibility for two major Saudi oil refineries that were set ablaze after an apparent drone strike. \n",
      " Interior ministry spokesman Mansour al-Turki reportedly confirmed that there were no casualties, but the extent of the… [+1991 chars]\n",
      "-------------\n",
      "Iran rejects US accusation over drone attacks on Aramco plants | Foreign ministry dismisses as 'meaningless' allegations by US top diplomat that Tehran is behind Houthi-claimed attacks. | Iran has dismissed accusations by the United States that Tehran was behind drone attacks that set ablaze two major Saudi Aramco oil installations, as Saudi Arabia raced to restore operations at the damaged facilities.\n",
      "Yemen's Houthi rebels claimed responsibi… [+5299 chars]\n",
      "-------------\n",
      "The Saudis say these cruise missile parts from the oil plant attacks are 'undeniable' proof of Iran's secret hand | At a news conference in Riyadh, Saudi Arabia on Wednesday, Saudi Defense Ministry spokesman Col. Turki al-Malki presented what he alleged is wreckage from Iranian drones and missiles from an attack Saudi Arabia's state-owned oil facilities on Saturday. Al-Mal… | Al Malki told reporters that 18 drones and seven missiles targeted the facilities. Three of the missiles, those headed for Abqaiq, he said, failed to reach their destination.\n",
      " Both the US and Saudi Arabia have said that the weapons were not launched from Yem… [+773 chars]\n",
      "-------------\n",
      "Iran accuses Pompeo of ‘maximum lies’ after Saudi attack claim | Iran has denied it was involved in drone attacks by Yemeni rebels targeting the world’s biggest oil processing facility and an oil field in Saudi Arabia. The denial came just hours after US secretary of state Mike Pompeo alleged that Tehran was behind the “un… | Iran has denied it was involved in drone attacks by Yemeni rebels targeting the worlds biggest oil processing facility and an oil field in Saudi Arabia.\n",
      "The denial came just hours after US secretary of state Mike Pompeo alleged that Tehran was behind the unp… [+2639 chars]\n",
      "-------------\n"
     ]
    }
   ],
   "source": [
    "test_cluster = 16\n",
    "most_representative_docs = np.argsort(\n",
    "    np.linalg.norm(vectorized_docs - clustering.cluster_centers_[test_cluster], axis=1)\n",
    ")\n",
    "for d in most_representative_docs[:10]:\n",
    "    print(docs[d])\n",
    "    print(\"-------------\")"
   ]
  },
  {
   "cell_type": "markdown",
   "metadata": {},
   "source": [
    "### Most representative tokens"
   ]
  },
  {
   "cell_type": "code",
   "execution_count": 27,
   "metadata": {},
   "outputs": [
    {
     "data": {
      "text/plain": [
       "[('protesters', 0.9774875044822693),\n",
       " ('unrest', 0.9710173010826111),\n",
       " ('demonstrators', 0.9702542424201965),\n",
       " ('clashes', 0.9644534587860107),\n",
       " ('protests', 0.9640728235244751),\n",
       " ('defied', 0.9640650153160095),\n",
       " ('protester', 0.9624690413475037),\n",
       " ('arrests', 0.9554653763771057),\n",
       " ('anti', 0.9465689659118652),\n",
       " ('wielding', 0.9450966715812683)]"
      ]
     },
     "execution_count": 27,
     "metadata": {},
     "output_type": "execute_result"
    }
   ],
   "source": [
    "model.wv.most_similar(positive=[clustering.cluster_centers_[test_cluster]], topn=10)"
   ]
  },
  {
   "cell_type": "markdown",
   "metadata": {},
   "source": [
    "### Random sample of documents"
   ]
  },
  {
   "cell_type": "code",
   "execution_count": 28,
   "metadata": {
    "scrolled": true
   },
   "outputs": [
    {
     "name": "stdout",
     "output_type": "stream",
     "text": [
      "Hong Kong Police Officer Shoots Protester | A protester was shot with a live round by Hong Kong police Tuesday during widespread demonstrations against China’s National Day Celebration. Photo:CAMPUS TV/HKUSU | \n",
      "-------------\n",
      "Amnesty accuses Hong Kong police of arbitrary arrests, torture | Amnesty International accused Hong Kong police on Friday of torture and other abuses in their handling of more than three months of pro-democracy protests, but the police say they have shown restraint on the street in the face of increased violence. | HONG KONG (Reuters) - Amnesty International accused Hong Kong police on Friday of torture and other abuses in their handling of more than three months of pro-democracy protests, but the police say they have shown restraint on the street in the face of increas… [+3967 chars]\n",
      "-------------\n",
      "'We won't give up': Hong Kong protesters defiant after shooting | Shooting of 18-year-old took place during angry demonstrations on Tuesday, prompting mass vigils, more violence. | Hong Kong anti-government demonstrators clashed with police into the early hours of Thursday, venting their anger over a policeman's shooting and wounding of a teenager earlier in the week, as months of protests show no sign of letting up.\n",
      "Activists went on … [+2286 chars]\n",
      "-------------\n",
      "Hong Kong protesters hit the streets as China marks 70th anniversary | An activist involved in anti-government protests in Hong Kong has been shot in the chest by police during a clash. The incident came as thousands of people demonstrated in defiance of a protest ban for the 70th anniversary of Communist rule in China. Also in … | An activist involved in anti-government protests in Hong Kong has been shot in the chest by police during a clash. The incident came as thousands of people demonstrated in defiance of a protest ban for the 70th anniversary of Communist rule in China.\n",
      "Also in… [+522 chars]\n",
      "-------------\n",
      "Hong Kong Student Shot by Police Is ‘The Bravest Type,’ Cousin Says - Wall Street Journal | Hong Kong Student Shot by Police Is ‘The Bravest Type,’ Cousin Says Wall Street Journal Hong Kong protester shot in the chest by police during clashes Al Jazeera English Protester Reported Shot As Hong Kong Marks China's National Day With Widespread Unrest | … | HONG KONGThe high-school student shot in the chest by police during a street battle on Tuesday is a seasoned protester who is never afraid to speak his mind and would put his words into action, according to a cousin. \n",
      "Tsang Chi-kin, \n",
      "18 years old, became th… [+5450 chars]\n",
      "-------------\n",
      "Hong Kong protester shot as China celebrates 70 years of communism | Police say a protester was shot by an officer during violent demonstrations in Hong Kong coinciding with China's anniversary celebrations. Police used tear gas and water cannons to disperse crowds in the city's central business district overnight. Tuesday mar… | \n",
      "-------------\n",
      "Hong Kong police fire tear gas to disperse protesters | Hong Kong police fired tear gas to disperse protesters in the Kowloon district of Mong Kok for a second night on Saturday, after preventing demonstrators from reaching the airport earlier in the day. | HONG KONG (Reuters) - Hong Kong police fired tear gas to disperse protesters in the Kowloon district of Mong Kok for a second night on Saturday, after preventing demonstrators from reaching the airport earlier in the day.\n",
      "-------------\n",
      "Hong Kong Protester Shot by Police as National Day Demonstrations Descend Into Widespread Violence | A day of bitter fighting marks the worst and most widespread violence to hit the city in more than half a century | HONG KONGHong Kong police shot a protester in the chest Tuesday, a day of bitter fighting that marked the worst and most widespread violence to hit the city in more than half a century.The officer pulled his pistol and fired in self-defense, a police spokeswo… [+8741 chars]\n",
      "-------------\n",
      "Hong Kong police fire tear gas to disperse protesters | Hong Kong police fired tear gas to disperse protesters in the Kowloon district of Mong Kok for a second night on Saturday, after preventing demonstrators from reaching the airport earlier in the day. | HONG KONG, Sept 7 (Reuters) - Hong Kong police fired tear gas to disperse protesters in the Kowloon district of Mong Kok for a second night on Saturday, after preventing demonstrators from reaching the airport earlier in the day.\n",
      "-------------\n",
      "Hong Kong tourism falls 40% as protests continue | The number of visitors to the city tumbled last month as anti-government protests gripped the city. | Media captionA police officer draws his gun and aims at protesters Hong Kong's airport building\n",
      "The number of tourists visiting Hong Kong tumbled in August as anti-government protests gripped the city, in a sign of the mounting economic cost of the unrest. \n",
      "… [+1991 chars]\n",
      "-------------\n"
     ]
    }
   ],
   "source": [
    "for i,t in enumerate(df_clusters.query(f\"cluster == {test_cluster}\").sample(10).iterrows()):\n",
    "    print(t[1][\"text\"])\n",
    "    print(\"-------------\")"
   ]
  }
 ],
 "metadata": {
  "kernelspec": {
   "display_name": "Python 3",
   "language": "python",
   "name": "python3"
  },
  "language_info": {
   "codemirror_mode": {
    "name": "ipython",
    "version": 3
   },
   "file_extension": ".py",
   "mimetype": "text/x-python",
   "name": "python",
   "nbconvert_exporter": "python",
   "pygments_lexer": "ipython3",
   "version": "3.9.0"
  }
 },
 "nbformat": 4,
 "nbformat_minor": 4
}
