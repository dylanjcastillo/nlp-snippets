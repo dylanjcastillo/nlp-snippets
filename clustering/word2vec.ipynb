{
 "cells": [
  {
   "cell_type": "markdown",
   "metadata": {},
   "source": [
    "## Import required libraries"
   ]
  },
  {
   "cell_type": "code",
   "execution_count": 1,
   "metadata": {},
   "outputs": [
    {
     "name": "stderr",
     "output_type": "stream",
     "text": [
      "[nltk_data] Downloading package stopwords to\n",
      "[nltk_data]     /Users/dylancastillo/nltk_data...\n",
      "[nltk_data]   Package stopwords is already up-to-date!\n"
     ]
    }
   ],
   "source": [
    "import sys\n",
    "sys.path.append(\"../\")\n",
    "\n",
    "import os\n",
    "from collections import Counter\n",
    "from time import time\n",
    "\n",
    "import gensim\n",
    "import numpy as np\n",
    "import pandas as pd\n",
    "from gensim.models import Word2Vec\n",
    "from tqdm.notebook import tqdm\n",
    "\n",
    "from ds_utils.config import set_display_options, set_random_seed\n",
    "from ds_utils.clustering import Tokenizer, load_data, clean_news_data, vectorize, mbkmeans_clusters\n",
    "\n",
    "set_display_options()\n",
    "set_random_seed()"
   ]
  },
  {
   "cell_type": "markdown",
   "metadata": {},
   "source": [
    "## Read data"
   ]
  },
  {
   "cell_type": "code",
   "execution_count": 2,
   "metadata": {},
   "outputs": [],
   "source": [
    "df = load_data(\"news\")"
   ]
  },
  {
   "cell_type": "code",
   "execution_count": 3,
   "metadata": {},
   "outputs": [
    {
     "data": {
      "text/plain": [
       "(10437, 15)"
      ]
     },
     "execution_count": 3,
     "metadata": {},
     "output_type": "execute_result"
    }
   ],
   "source": [
    "df.shape"
   ]
  },
  {
   "cell_type": "code",
   "execution_count": 4,
   "metadata": {},
   "outputs": [
    {
     "data": {
      "text/plain": [
       "Index(['Unnamed: 0', 'source_id', 'source_name', 'author', 'title',\n",
       "       'description', 'url', 'url_to_image', 'published_at', 'content',\n",
       "       'top_article', 'engagement_reaction_count', 'engagement_comment_count',\n",
       "       'engagement_share_count', 'engagement_comment_plugin_count'],\n",
       "      dtype='object')"
      ]
     },
     "execution_count": 4,
     "metadata": {},
     "output_type": "execute_result"
    }
   ],
   "source": [
    "df.columns"
   ]
  },
  {
   "cell_type": "markdown",
   "metadata": {},
   "source": [
    "## Clean data"
   ]
  },
  {
   "cell_type": "code",
   "execution_count": 5,
   "metadata": {},
   "outputs": [
    {
     "name": "stdout",
     "output_type": "stream",
     "text": [
      "Original dataframe: (10437, 15)\n",
      "Pre-processed dataframe: (9882, 2)\n"
     ]
    }
   ],
   "source": [
    "df = clean_news_data(df)"
   ]
  },
  {
   "cell_type": "code",
   "execution_count": 6,
   "metadata": {},
   "outputs": [
    {
     "data": {
      "text/html": [
       "<div>\n",
       "<style scoped>\n",
       "    .dataframe tbody tr th:only-of-type {\n",
       "        vertical-align: middle;\n",
       "    }\n",
       "\n",
       "    .dataframe tbody tr th {\n",
       "        vertical-align: top;\n",
       "    }\n",
       "\n",
       "    .dataframe thead th {\n",
       "        text-align: right;\n",
       "    }\n",
       "</style>\n",
       "<table border=\"1\" class=\"dataframe\">\n",
       "  <thead>\n",
       "    <tr style=\"text-align: right;\">\n",
       "      <th></th>\n",
       "      <th>8103</th>\n",
       "    </tr>\n",
       "  </thead>\n",
       "  <tbody>\n",
       "    <tr>\n",
       "      <th>text</th>\n",
       "      <td>Indian PM dodges mention at UN of disputed region of Kashmir | Indian Prime Minister Narendra Modi broadly denounced terrorism at the United Nations on Friday but avoided any mention of India's crackdown in the disputed Himalayan region of Kashmir | Indian Prime Minister Narendra Modi broadly denounced terrorism at the United Nations on Friday but avoided any direct mention of one of the world's most perilous standoffs: Pakistan's recent warning that India's crackdown in the disputed region of Kashmir ri… [+3209 chars]</td>\n",
       "    </tr>\n",
       "    <tr>\n",
       "      <th>tokens</th>\n",
       "      <td>[indian, pm, dodges, mention, un, disputed, region, kashmir, indian, prime, minister, narendra, modi, broadly, denounced, terrorism, united, nations, friday, avoided, mention, indias, crackdown, disputed, himalayan, region, kashmir, indian, prime, minister, narendra, modi, broadly, denounced, terrorism, united, nations, friday, avoided, direct, mention, one, worlds, perilous, standoffs, pakistans, recent, warning, indias, crackdown, disputed, region, kashmir]</td>\n",
       "    </tr>\n",
       "  </tbody>\n",
       "</table>\n",
       "</div>"
      ],
      "text/plain": [
       "                                                                                                                                                                                                                                                                                                                                                                                                                                                                                                                                                8103\n",
       "text    Indian PM dodges mention at UN of disputed region of Kashmir | Indian Prime Minister Narendra Modi broadly denounced terrorism at the United Nations on Friday but avoided any mention of India's crackdown in the disputed Himalayan region of Kashmir | Indian Prime Minister Narendra Modi broadly denounced terrorism at the United Nations on Friday but avoided any direct mention of one of the world's most perilous standoffs: Pakistan's recent warning that India's crackdown in the disputed region of Kashmir ri… [+3209 chars]\n",
       "tokens                                                               [indian, pm, dodges, mention, un, disputed, region, kashmir, indian, prime, minister, narendra, modi, broadly, denounced, terrorism, united, nations, friday, avoided, mention, indias, crackdown, disputed, himalayan, region, kashmir, indian, prime, minister, narendra, modi, broadly, denounced, terrorism, united, nations, friday, avoided, direct, mention, one, worlds, perilous, standoffs, pakistans, recent, warning, indias, crackdown, disputed, region, kashmir]"
      ]
     },
     "execution_count": 6,
     "metadata": {},
     "output_type": "execute_result"
    }
   ],
   "source": [
    "df.sample(1).T"
   ]
  },
  {
   "cell_type": "markdown",
   "metadata": {},
   "source": [
    "## Review tokens and vocabulary"
   ]
  },
  {
   "cell_type": "markdown",
   "metadata": {},
   "source": [
    "### Tokens"
   ]
  },
  {
   "cell_type": "code",
   "execution_count": 7,
   "metadata": {},
   "outputs": [
    {
     "name": "stdout",
     "output_type": "stream",
     "text": [
      "SAMPLE TEXT: 3 SEAL Team 7 leaders fired for team's alleged misconduct | SEAL Team 7's three top leaders have been relieved of duty because of allegations of misconduct involving a unit under their command. | In a rare move, the three senior leaders of the U.S. Navy's elite SEAL Team 7 have been removed from their positions due to a \"loss of confidence\" after allegations of misconduct among one of the platoons under their command that was sent home from Iraq.\r\n",
      "The… [+4085 chars]\n",
      "------\n",
      "TOKENS: ['seal', 'team', 'leaders', 'fired', 'teams', 'alleged', 'misconduct', 'seal', 'team', '7s', 'three', 'leaders', 'relieved', 'duty', 'allegations', 'misconduct', 'involving', 'unit', 'command', 'rare', 'move', 'three', 'senior', 'leaders', 'us', 'navys', 'elite', 'seal', 'team', 'removed', 'positions', 'due', 'loss', 'confidence', 'allegations', 'misconduct', 'among', 'one', 'platoons', 'command', 'sent', 'home', 'iraq']\n"
     ]
    }
   ],
   "source": [
    "sample_text = df.sample(1)\n",
    "print(f\"SAMPLE TEXT: {sample_text['text'].values[0]}\")\n",
    "print(f\"------\")\n",
    "print(f\"TOKENS: {sample_text['tokens'].values[0]}\")"
   ]
  },
  {
   "cell_type": "markdown",
   "metadata": {},
   "source": [
    "### Vocabulary"
   ]
  },
  {
   "cell_type": "code",
   "execution_count": 8,
   "metadata": {},
   "outputs": [],
   "source": [
    "docs = df[\"text\"].values\n",
    "tokenized_docs = df[\"tokens\"].values\n",
    "vocab = Counter()\n",
    "for token in tokenized_docs:\n",
    "    vocab.update(token)"
   ]
  },
  {
   "cell_type": "code",
   "execution_count": 9,
   "metadata": {},
   "outputs": [
    {
     "data": {
      "text/plain": [
       "32454"
      ]
     },
     "execution_count": 9,
     "metadata": {},
     "output_type": "execute_result"
    }
   ],
   "source": [
    "len(vocab)"
   ]
  },
  {
   "cell_type": "code",
   "execution_count": 10,
   "metadata": {},
   "outputs": [
    {
     "data": {
      "text/plain": [
       "[('us', 2757),\n",
       " ('said', 2519),\n",
       " ('year', 1781),\n",
       " ('president', 1756),\n",
       " ('trump', 1705),\n",
       " ('world', 1620),\n",
       " ('says', 1511),\n",
       " ('one', 1418),\n",
       " ('two', 1284),\n",
       " ('first', 1195)]"
      ]
     },
     "execution_count": 10,
     "metadata": {},
     "output_type": "execute_result"
    }
   ],
   "source": [
    "vocab.most_common(10)"
   ]
  },
  {
   "cell_type": "markdown",
   "metadata": {},
   "source": [
    "## Train Word2Vec model"
   ]
  },
  {
   "cell_type": "code",
   "execution_count": 11,
   "metadata": {},
   "outputs": [],
   "source": [
    "model = Word2Vec(sentences=tokenized_docs, vector_size=100, workers=1, seed=42)"
   ]
  },
  {
   "cell_type": "code",
   "execution_count": 12,
   "metadata": {},
   "outputs": [
    {
     "data": {
      "text/plain": [
       "[('trumps', 0.988541841506958),\n",
       " ('president', 0.9746493697166443),\n",
       " ('donald', 0.9274922013282776),\n",
       " ('ivanka', 0.9203903079032898),\n",
       " ('impeachment', 0.9195784330368042),\n",
       " ('pences', 0.9152231812477112),\n",
       " ('avlon', 0.9148306846618652),\n",
       " ('biden', 0.9146010279655457),\n",
       " ('breitbart', 0.9144087433815002),\n",
       " ('vice', 0.9067237973213196)]"
      ]
     },
     "execution_count": 12,
     "metadata": {},
     "output_type": "execute_result"
    }
   ],
   "source": [
    "model.wv.most_similar(\"trump\")"
   ]
  },
  {
   "cell_type": "code",
   "execution_count": 13,
   "metadata": {},
   "outputs": [
    {
     "data": {
      "text/plain": [
       "[('chat', 0.9635254740715027),\n",
       " ('gambling', 0.9399046301841736),\n",
       " ('google', 0.9298744797706604),\n",
       " ('messenger', 0.9281919598579407),\n",
       " ('find', 0.9147608280181885),\n",
       " ('interviews', 0.8606226444244385),\n",
       " ('commissions', 0.8595864176750183),\n",
       " ('analysis', 0.8582143187522888),\n",
       " ('online', 0.8573527932167053),\n",
       " ('whats', 0.8550292253494263)]"
      ]
     },
     "execution_count": 13,
     "metadata": {},
     "output_type": "execute_result"
    }
   ],
   "source": [
    "model.wv.most_similar(\"facebook\")"
   ]
  },
  {
   "cell_type": "markdown",
   "metadata": {},
   "source": [
    "## Generate vectors from documents"
   ]
  },
  {
   "cell_type": "code",
   "execution_count": 14,
   "metadata": {},
   "outputs": [
    {
     "data": {
      "text/plain": [
       "(9882, 100)"
      ]
     },
     "execution_count": 14,
     "metadata": {},
     "output_type": "execute_result"
    }
   ],
   "source": [
    "vectorized_docs = vectorize(tokenized_docs, model=model, strategy=\"average\")\n",
    "len(vectorized_docs), len(vectorized_docs[0])"
   ]
  },
  {
   "cell_type": "markdown",
   "metadata": {},
   "source": [
    "## Generate and analyze clusters"
   ]
  },
  {
   "cell_type": "code",
   "execution_count": 15,
   "metadata": {
    "scrolled": true
   },
   "outputs": [
    {
     "name": "stdout",
     "output_type": "stream",
     "text": [
      "For n_clusters = 50\n",
      "Silhouette coefficient: 0.11\n",
      "Inertia:3568.342791047967\n",
      "Silhouette values:\n",
      "    Cluster 29: Size:50 | Avg:0.39 | Min:0.01 | Max: 0.59\n",
      "    Cluster 35: Size:30 | Avg:0.34 | Min:0.05 | Max: 0.54\n",
      "    Cluster 37: Size:58 | Avg:0.32 | Min:0.09 | Max: 0.51\n",
      "    Cluster 39: Size:81 | Avg:0.31 | Min:-0.05 | Max: 0.52\n",
      "    Cluster 27: Size:63 | Avg:0.28 | Min:0.02 | Max: 0.46\n",
      "    Cluster 6: Size:101 | Avg:0.27 | Min:0.02 | Max: 0.46\n",
      "    Cluster 24: Size:120 | Avg:0.26 | Min:-0.04 | Max: 0.46\n",
      "    Cluster 49: Size:65 | Avg:0.26 | Min:-0.03 | Max: 0.47\n",
      "    Cluster 47: Size:53 | Avg:0.23 | Min:0.01 | Max: 0.45\n",
      "    Cluster 22: Size:78 | Avg:0.22 | Min:-0.01 | Max: 0.43\n",
      "    Cluster 45: Size:38 | Avg:0.21 | Min:-0.07 | Max: 0.41\n",
      "    Cluster 32: Size:148 | Avg:0.21 | Min:-0.04 | Max: 0.40\n",
      "    Cluster 19: Size:562 | Avg:0.18 | Min:-0.00 | Max: 0.40\n",
      "    Cluster 31: Size:612 | Avg:0.16 | Min:-0.01 | Max: 0.37\n",
      "    Cluster 23: Size:96 | Avg:0.16 | Min:-0.04 | Max: 0.38\n",
      "    Cluster 14: Size:219 | Avg:0.16 | Min:-0.09 | Max: 0.38\n",
      "    Cluster 5: Size:93 | Avg:0.16 | Min:0.01 | Max: 0.33\n",
      "    Cluster 48: Size:116 | Avg:0.15 | Min:-0.10 | Max: 0.32\n",
      "    Cluster 17: Size:156 | Avg:0.15 | Min:-0.12 | Max: 0.37\n",
      "    Cluster 44: Size:115 | Avg:0.14 | Min:-0.06 | Max: 0.36\n",
      "    Cluster 7: Size:259 | Avg:0.13 | Min:-0.07 | Max: 0.33\n",
      "    Cluster 42: Size:109 | Avg:0.12 | Min:-0.10 | Max: 0.35\n",
      "    Cluster 21: Size:227 | Avg:0.12 | Min:-0.14 | Max: 0.37\n",
      "    Cluster 41: Size:287 | Avg:0.12 | Min:-0.10 | Max: 0.33\n",
      "    Cluster 26: Size:136 | Avg:0.12 | Min:-0.10 | Max: 0.35\n",
      "    Cluster 28: Size:501 | Avg:0.11 | Min:-0.10 | Max: 0.31\n",
      "    Cluster 0: Size:215 | Avg:0.11 | Min:-0.07 | Max: 0.30\n",
      "    Cluster 10: Size:314 | Avg:0.11 | Min:-0.05 | Max: 0.33\n",
      "    Cluster 30: Size:315 | Avg:0.11 | Min:-0.11 | Max: 0.33\n",
      "    Cluster 2: Size:140 | Avg:0.10 | Min:-0.09 | Max: 0.33\n",
      "    Cluster 16: Size:259 | Avg:0.10 | Min:-0.10 | Max: 0.32\n",
      "    Cluster 12: Size:256 | Avg:0.10 | Min:-0.08 | Max: 0.27\n",
      "    Cluster 11: Size:207 | Avg:0.09 | Min:-0.10 | Max: 0.30\n",
      "    Cluster 1: Size:204 | Avg:0.09 | Min:-0.11 | Max: 0.30\n",
      "    Cluster 20: Size:83 | Avg:0.08 | Min:-0.17 | Max: 0.31\n",
      "    Cluster 40: Size:91 | Avg:0.07 | Min:-0.16 | Max: 0.34\n",
      "    Cluster 43: Size:191 | Avg:0.07 | Min:-0.12 | Max: 0.28\n",
      "    Cluster 36: Size:274 | Avg:0.07 | Min:-0.15 | Max: 0.27\n",
      "    Cluster 38: Size:387 | Avg:0.07 | Min:-0.15 | Max: 0.31\n",
      "    Cluster 8: Size:255 | Avg:0.06 | Min:-0.10 | Max: 0.26\n",
      "    Cluster 25: Size:88 | Avg:0.06 | Min:-0.14 | Max: 0.30\n",
      "    Cluster 18: Size:156 | Avg:0.06 | Min:-0.13 | Max: 0.31\n",
      "    Cluster 15: Size:271 | Avg:0.06 | Min:-0.18 | Max: 0.29\n",
      "    Cluster 46: Size:509 | Avg:0.05 | Min:-0.11 | Max: 0.24\n",
      "    Cluster 13: Size:94 | Avg:0.04 | Min:-0.14 | Max: 0.27\n",
      "    Cluster 34: Size:224 | Avg:0.04 | Min:-0.12 | Max: 0.26\n",
      "    Cluster 33: Size:142 | Avg:0.03 | Min:-0.17 | Max: 0.30\n",
      "    Cluster 4: Size:478 | Avg:0.03 | Min:-0.16 | Max: 0.25\n",
      "    Cluster 3: Size:135 | Avg:0.03 | Min:-0.14 | Max: 0.26\n",
      "    Cluster 9: Size:221 | Avg:0.01 | Min:-0.18 | Max: 0.21\n"
     ]
    }
   ],
   "source": [
    "clustering, cluster_labels = mbkmeans_clusters(X=vectorized_docs, k=50, print_silhouette_values=True)\n",
    "df_clusters = pd.DataFrame({\n",
    "    \"text\": docs,\n",
    "    \"tokens\": [\" \".join(text) for text in tokenized_docs],\n",
    "    \"cluster\": cluster_labels\n",
    "})"
   ]
  },
  {
   "cell_type": "markdown",
   "metadata": {},
   "source": [
    "### Evaluate top terms per cluster (based on clusters' centroids)"
   ]
  },
  {
   "cell_type": "code",
   "execution_count": 16,
   "metadata": {
    "scrolled": true
   },
   "outputs": [
    {
     "name": "stdout",
     "output_type": "stream",
     "text": [
      "Top terms per cluster (based on centroids):\n",
      "Cluster 0: suspend swinson block speech warned \n",
      "Cluster 1: obama tweet blower praised republicans \n",
      "Cluster 2: microsoft companys fintech headset revenue \n",
      "Cluster 3: founding burial attacking jr gang \n",
      "Cluster 4: flagship managers lenders institute program \n",
      "Cluster 5: charleston flooding ravaged islands ocracoke \n",
      "Cluster 6: johnsons proposals pm backstop benjamin \n",
      "Cluster 7: ukrainian volodymyr zelensky aides impeach \n",
      "Cluster 8: funded manhattan dropped freed hughes \n",
      "Cluster 9: delhi plc gains milan boeing \n",
      "Cluster 10: suffered born previous grew boston \n",
      "Cluster 11: exercise able pixel probably netflix \n",
      "Cluster 12: indictment afghan german singapore islamic \n",
      "Cluster 13: french alleged dissident al lawsuit \n",
      "Cluster 14: tips likes deals someone carmichael \n",
      "Cluster 15: tournament finished madrid sundays winning \n",
      "Cluster 16: agree avoid bloc landmark imran \n",
      "Cluster 17: murdering neighbor girl stabbing convicted \n",
      "Cluster 18: appearances mcavoy another age weekends \n",
      "Cluster 19: land produced keeping evil honor \n",
      "Cluster 20: putin aides presidents vladimir ukrainian \n",
      "Cluster 21: beds edinburgh tafida jodie midlands \n",
      "Cluster 22: clearing unrest exchanges mainland lam \n",
      "Cluster 23: islands tornadoes outer decimated charleston \n",
      "Cluster 24: squad qualifying warm foursomes finals \n",
      "Cluster 25: assembly moscow responses escalation un \n",
      "Cluster 26: barack rudy emmanuel doonbeg hillary \n",
      "Cluster 27: bag dog filmed trying tyrone \n",
      "Cluster 28: planned legislative wells fargo planning \n",
      "Cluster 29: noaa sharpie claim assertions forecasters \n",
      "Cluster 30: sexually teenage flat pregnant ate \n",
      "Cluster 31: burnley sequel provided draw reading \n",
      "Cluster 32: delay referendum mps jo leo \n",
      "Cluster 33: northwest northeast evacuated boats blaze \n",
      "Cluster 34: easing brazil prisoners aimed approval \n",
      "Cluster 35: eye lilinow path halts projected \n",
      "Cluster 36: identified indiana courtroom accident assaulting \n",
      "Cluster 37: cnnpolitics complaint clinton pences whistleblower \n",
      "Cluster 38: bowl minutes prize winner wickets \n",
      "Cluster 39: tanker ablaze arabian yemen facilities \n",
      "Cluster 40: transcript battleground daily divides contentious \n",
      "Cluster 41: panel peru opposing buttigieg hill \n",
      "Cluster 42: tariff flows lift tensions slap \n",
      "Cluster 43: zurich environmental departments kiev bloomberg \n",
      "Cluster 44: knife jury pleaded pleads suspect \n",
      "Cluster 45: clashes protesters defied demonstrators erupted \n",
      "Cluster 46: throughout 1970s closing corps spring \n",
      "Cluster 47: aapl apples iphones theyre earn \n",
      "Cluster 48: rainforest helping license passenger disturbing \n",
      "Cluster 49: category humberto landfall wrath tropical \n"
     ]
    }
   ],
   "source": [
    "print(\"Top terms per cluster (based on centroids):\")\n",
    "for i in range(50):\n",
    "    tokens_per_cluster = \"\"\n",
    "    most_representative = model.wv.most_similar(positive=[clustering.cluster_centers_[i]], topn=5)\n",
    "    for t in most_representative:\n",
    "        tokens_per_cluster += f\"{t[0]} \"\n",
    "    print(f\"Cluster {i}: {tokens_per_cluster}\")"
   ]
  },
  {
   "cell_type": "markdown",
   "metadata": {},
   "source": [
    "### Evaluate top terms per cluster (based on words frequencies)"
   ]
  },
  {
   "cell_type": "code",
   "execution_count": 17,
   "metadata": {
    "scrolled": true
   },
   "outputs": [
    {
     "name": "stdout",
     "output_type": "stream",
     "text": [
      "Cluster 0: minister(195) brexit(148) prime(137) deal(98) election(94) \n",
      "Cluster 1: trump(242) president(188) donald(108) us(95) trumps(77) \n",
      "Cluster 2: business(168) insider(90) story(78) company(64) intelligence(57) \n",
      "Cluster 3: mugabe(88) robert(69) former(66) president(61) year(60) \n",
      "Cluster 4: us(156) company(89) world(85) business(72) market(70) \n",
      "Cluster 5: hurricane(194) dorian(183) bahamas(124) storm(74) carolina(39) \n",
      "Cluster 6: johnson(232) brexit(224) minister(178) boris(176) prime(171) \n",
      "Cluster 7: trump(412) president(356) donald(178) us(153) house(117) \n",
      "Cluster 8: us(116) said(113) people(91) two(69) york(50) \n",
      "Cluster 9: reuters(166) said(132) company(106) million(104) billion(97) \n",
      "Cluster 10: year(131) two(72) one(68) first(60) last(59) \n",
      "Cluster 11: video(73) like(68) find(55) people(54) app(52) \n",
      "Cluster 12: said(125) court(109) state(76) says(75) former(57) \n",
      "Cluster 13: said(93) us(67) police(55) killed(47) officials(40) \n",
      "Cluster 14: video(227) world(225) find(219) national(218) get(210) \n",
      "Cluster 15: world(246) cup(121) team(79) first(77) ireland(75) \n",
      "Cluster 16: said(115) deal(101) brexit(89) says(88) minister(87) \n",
      "Cluster 17: year(217) old(199) man(184) police(83) found(82) \n",
      "Cluster 18: year(295) old(103) million(73) years(69) last(61) \n",
      "Cluster 19: like(55) says(54) one(54) also(43) could(40) \n",
      "Cluster 20: trump(156) president(133) us(126) donald(87) house(68) \n",
      "Cluster 21: image(239) caption(193) copyrightgetty(68) imagesimage(51) said(51) \n",
      "Cluster 22: hong(223) kong(191) protests(59) protesters(51) china(45) \n",
      "Cluster 23: hurricane(157) dorian(141) bahamas(79) storm(64) us(31) \n",
      "Cluster 24: world(263) cup(252) rugby(97) ireland(77) win(61) \n",
      "Cluster 25: us(141) united(125) states(96) said(96) talks(71) \n",
      "Cluster 26: trump(325) president(243) donald(163) bolton(115) national(103) \n",
      "Cluster 27: find(64) world(62) video(60) get(59) national(59) \n",
      "Cluster 28: said(162) says(103) us(68) company(66) former(65) \n",
      "Cluster 29: trump(115) hurricane(101) dorian(97) president(81) alabama(77) \n",
      "Cluster 30: man(141) old(103) year(100) years(92) two(86) \n",
      "Cluster 31: one(159) like(135) first(110) time(106) world(96) \n",
      "Cluster 32: brexit(200) johnson(194) boris(178) minister(177) prime(163) \n",
      "Cluster 33: south(91) north(65) people(60) coast(54) fire(49) \n",
      "Cluster 34: us(282) said(94) reuters(85) china(71) facebook(68) \n",
      "Cluster 35: hurricane(42) dorian(36) find(31) world(30) bahamas(29) \n",
      "Cluster 36: people(167) police(161) said(154) killed(137) two(96) \n",
      "Cluster 37: trump(139) president(135) house(110) impeachment(93) donald(68) \n",
      "Cluster 38: first(186) one(175) year(147) years(140) season(135) \n",
      "Cluster 39: saudi(254) oil(222) attacks(89) arabia(87) drone(82) \n",
      "Cluster 40: us(93) world(88) find(88) facebook(87) messenger(66) \n",
      "Cluster 41: president(151) presidential(115) democratic(111) us(97) trump(82) \n",
      "Cluster 42: trade(231) us(150) china(123) war(78) united(74) \n",
      "Cluster 43: said(182) us(134) reuters(116) government(72) thursday(67) \n",
      "Cluster 44: police(238) man(106) officer(78) killed(67) shooting(63) \n",
      "Cluster 45: hong(110) kong(105) police(89) shot(45) protester(35) \n",
      "Cluster 46: year(116) one(110) people(96) million(89) two(89) \n",
      "Cluster 47: iphone(175) apple(126) pro(61) apples(46) watch(41) \n",
      "Cluster 48: find(116) world(114) video(113) get(108) national(108) \n",
      "Cluster 49: hurricane(181) dorian(147) storm(92) bahamas(63) carolina(46) \n"
     ]
    }
   ],
   "source": [
    "for i in range(50):\n",
    "    tokens_per_cluster = \"\"\n",
    "    most_frequent = Counter(\" \".join(df_clusters.query(f\"cluster == {i}\")[\"tokens\"]).split()).most_common(5)\n",
    "    for t in most_frequent:\n",
    "        tokens_per_cluster += f\"{t[0]}({str(t[1])}) \"\n",
    "    print(f\"Cluster {i}: {tokens_per_cluster}\")"
   ]
  },
  {
   "cell_type": "markdown",
   "metadata": {},
   "source": [
    "### Retrieve most representative documents (based on clusters' centroids)"
   ]
  },
  {
   "cell_type": "code",
   "execution_count": 18,
   "metadata": {
    "scrolled": true
   },
   "outputs": [
    {
     "name": "stdout",
     "output_type": "stream",
     "text": [
      "Dorian, Comey and Debra Messing: What Trump tweeted on Labor Day weekend | President Donald Trump axed his visit to Poland over the weekend to monitor Hurricane Dorian from Camp David with emergency management staff, but if the President's more than 120 tweets are any indication, he had more than just the storm on his mind. | Washington (CNN)President Donald Trump axed his visit to Poland over the weekend to monitor Hurricane Dorian from Camp David with emergency management staff, but if the President's more than 120 tweets are any indication, he had more than just the storm on hi… [+3027 chars]\n",
      "-------------\n",
      "Ross Must Resign If Report He Threatened NOAA Officials Is True: Democrat | As President Donald Trump claimed Hurricane Dorian could hit Alabama, the National Weather Service tweeted to correct the rumors. | Commerce Secretary Wilbur Ross is facing calls to resign over a report alleging that he threatened to fire top officials at NOAA for a tweet disputing President Donald Trump's claim that Hurricane Dorian would hit Alabama.\r\n",
      "\"If that story is true, and I don't… [+3828 chars]\n",
      "-------------\n",
      "Federal weather workers are furious at the NOAA's 'utterly disgusting' statement defending Trump's claim Hurricane Dorian would hit Alabama | Federal weather workers have reacted furiously to the National Oceanic and Atmospheric Administration's (NOAA) defence of US President Donald Trump's repeated assertions that Hurricane Dorian was set to hit Alabama. \"Never ever before has their management thr… | Federal weather workers have reacted furiously to the National Oceanic and Atmospheric Administration's (NOAA) defence of US President Donald Trump's repeated assertions that Hurricane Dorian was set to hit Alabama, saying they have been \"thrown under the bus… [+3510 chars]\n",
      "-------------\n",
      "Lead NOAA scientist vows to probe agency's defense of Trump | The Acting Head of NOAA, the government weather agency, goes to Alabama Tuesday to address a recent uproar over Hurricane Dorian. President Trump repeatedly and wrongly claimed the hurricane was a threat to Alabama. NOAA was criticized for saying one of its f… | \n",
      "-------------\n",
      "James Comey Suggests Trump is a Narcissist for Doubling Down on Claim Hurricane Dorian Would Hit Alabama | \"Americans are in harm's way and the president is laser-focused on ... covering up a small mistake he made,\" the former FBI director wrote. | Former FBI Director James Comey on Thursday accused President Donald Trump of deploying narcissism by continuing to claim that official storm projections showed Hurricane Dorian would hit parts of Alabama despite forecasts saying otherwise.\r\n",
      "\"Americans are in… [+2317 chars]\n",
      "-------------\n",
      "MSNBC Contributor Blasts Trump's Bahamas' Decision: 'Extraordinary Measures' to Block 'Specific Skin Color' from U.S. | The Trump administration is reportedly blocking citizens of the Bahamas from being granted temporary protective status following the devastation of Hurricane Dorian. | MSNBC contributor Mike Barnacle blasted President Donald Trump and his administration after it was reported that individuals from the Bahamas displaced by the devastation of Hurricane Dorian would not be granted temporary protected status in the United States… [+2675 chars]\n",
      "-------------\n",
      "Trump shows ‘altered’ hurricane map after warning of threat to Alabama | Map features pen-drawn loop extending Dorian’s projected path into US state despite weather service declaring no threat to it | Donald Trump showed a map of Hurricane Dorians projected path on Wednesday that appeared to have been altered with a pen to include the state of Alabama.\r\n",
      "The ÜS president in a weekend tweet had named Alabama as one of the states that could be hit. The Nation… [+1630 chars]\n",
      "-------------\n",
      "Trump said he skipped a diplomatic trip to monitor Hurricane Dorian. Then he spent the weekend golfing. | President Donald Trump told reporters last week that he was canceling a highly anticipated diplomatic trip to Poland so he could monitor Hurricane Dorian from Camp David. Trump spent hours playing golf at the Trump National Golf Club in Sterling, Virginia thr… | President Donald Trump announced last week that he was canceling a diplomatic trip to Poland so he could monitor Hurricane Dorian from Camp David as the Category 4 storm made its way toward the southeastern US. Trump said he canceled the trip because it was \"… [+4010 chars]\n",
      "-------------\n",
      "Buttigieg: 'I feel sorry for the President' after he showed apparently altered hurricane map | Pete Buttigieg said Thursday he feels \"sorry for the President\" after Donald Trump used an apparently altered National Weather Service map to vindicate his erroneous claim Hurricane Dorian would affect Alabama, calling the President's comments \"literally path… | (CNN)Pete Buttigieg said Thursday he feels \"sorry for the President\" after Donald Trump used an apparently altered National Weather Service map to vindicate his erroneous claim Hurricane Dorian would affect Alabama, calling the President's comments \"literally… [+2679 chars]\n",
      "-------------\n",
      "CNN Mistakenly Labels Alabama as 'Mississippi' After Mocking Trump Over Dorian Path Prediction | CNN aired a graphic mistakenly labeling Alabama as \"Mississippi\" during coverage which ridiculed President Donald Trump for his inaccurate prediction Hurricane Dorian would hit the Gulf Coast state. | CNN aired a graphic mistakenly labeling Alabama as \"Mississippi\" during coverage which ridiculed President Donald Trump for his inaccurate prediction Hurricane Dorian would hit the Gulf Coast state.\r\n",
      "The cable news network's \"states of emergency\" misnomer on … [+2977 chars]\n",
      "-------------\n"
     ]
    }
   ],
   "source": [
    "test_cluster = 29\n",
    "most_representative_docs = np.argsort(\n",
    "    np.linalg.norm(vectorized_docs - clustering.cluster_centers_[test_cluster], axis=1)\n",
    ")\n",
    "for d in most_representative_docs[:10]:\n",
    "    print(docs[d])\n",
    "    print(\"-------------\")"
   ]
  },
  {
   "cell_type": "markdown",
   "metadata": {},
   "source": [
    "### Retrieve a random sample of documents for a given cluster"
   ]
  },
  {
   "cell_type": "code",
   "execution_count": 19,
   "metadata": {
    "scrolled": true
   },
   "outputs": [
    {
     "name": "stdout",
     "output_type": "stream",
     "text": [
      "Trump tweeted 122 times with weather updates and attacks on the media from his Virginia golf course as Hurricane Dorian pummeled the Caribbean | President Donald Trump tweeted prolifically over Labor Day weekend as Hurricane Dorian pummeled the Bahamas, blasting out frequent updates on the weather to his 64 million followers. According to a report in The New York Times, Trump tweeted 122 times in tota… | President Donald Trump tweeted prolifically over Labor Day weekend as Hurricane Dorian pummeled the Bahamas, blasting out frequent updates on the weather mixed in with his usual attacks on the media. \r\n",
      " Trump tweeted 122 times in total from his golf course in… [+3451 chars]\n",
      "-------------\n",
      "The Lessons Florida Has Learned From Past Hurricanes - The New York Times | The Lessons Florida Has Learned From Past Hurricanes The New York Times Trump claimed Dorian could hit Alabama -- even after weather service refuted it CNN White House declares state of emergency in Georgia ahead of Dorian | TheHill The Hill President Trump, … | Floridas construction regulations improved after Hurricane Andrew, another Category 5 storm, pummeled Miami-Dade County in 1992. Stronger homes were also built after a rash of hurricanes tore through Florida 15 years ago, said W. Craig Fugate, a former admini… [+1878 chars]\n",
      "-------------\n",
      "Dorian, Comey and Debra Messing: What Trump tweeted on Labor Day weekend | President Donald Trump axed his visit to Poland over the weekend to monitor Hurricane Dorian from Camp David with emergency management staff, but if the President's more than 120 tweets are any indication, he had more than just the storm on his mind. | Washington (CNN)President Donald Trump axed his visit to Poland over the weekend to monitor Hurricane Dorian from Camp David with emergency management staff, but if the President's more than 120 tweets are any indication, he had more than just the storm on hi… [+3027 chars]\n",
      "-------------\n",
      "Watch chaos erupt in North Carolina House | Democrats were furious after the North Carolina legislature passed a controversial budget. | \n",
      "-------------\n",
      "Trump displays seemingly edited map of Dorian's projected path | Trump is claiming ignorance Wednesday after a map of Hurricane Dorian's projected path appeared to be altered with a black pen | President Trump is claiming ignorance after he held up a National Oceanic and Atmospheric Administration map that appeared to have been altered with a black pen to show a projection of Hurricane Dorian possibly striking Alabama. \r\n",
      "The unexplained map appeared… [+1839 chars]\n",
      "-------------\n",
      "Lead NOAA scientist vows to probe agency's defense of Trump | The Acting Head of NOAA, the government weather agency, goes to Alabama Tuesday to address a recent uproar over Hurricane Dorian. President Trump repeatedly and wrongly claimed the hurricane was a threat to Alabama. NOAA was criticized for saying one of its f… | \n",
      "-------------\n",
      "Trump insists Dorian threatened Alabama as #SharpieGate trends | The president held up a map Wednesday that appeared to alter Hurricane Dorian's trajectory with a Sharpie | President Trump is insisting that Alabama could have been hit by Hurricane Dorian — despite government meteorologists saying otherwise. The president displayed a map seemingly altered with a Sharpie during a briefing Wednesday that showed the storm threatenin… [+4331 chars]\n",
      "-------------\n",
      "Wilbur Ross 'Needs to Resign Now' If He Threatened to Fire Top NOAA Officials for Tweet Contradicting Trump on Hurricane Dorian, Democrat Says | As President Donald Trump claimed Hurricane Dorian could hit Alabama, the National Weather Service tweeted to correct the rumors. | Commerce Secretary Wilbur Ross is facing calls to resign over a report he threatened to fire top officials at NOAA for a tweet disputing President Donald Trump's claim that Hurricane Dorian would hit Alabama.\r\n",
      "\"If that story is true, and I don't know that it … [+3709 chars]\n",
      "-------------\n",
      "Fox News Reporter Says Trump Called Him Into Oval Office to Argue He Was Right About Dorian Threatening Alabama | A White House aide said Trump also complained about Fox News host Shepard Smith's coverage of his altered Dorian map. | Fox News White House reporter John Roberts said President Donald Trump called him into the Oval Office on Thursday afternoon to argue that he was right about Hurricane Dorian threatening Alabama.\r\n",
      "During the meeting, Roberts explained in an internal Fox email… [+3446 chars]\n",
      "-------------\n",
      "Trump tweeted a photo of a lightning strike very close to Air Force One, calling it \"amazing!\" | President Donald Trump tweeted out a photo of a lightning bolt striking behind Air Force One during a Monday night trip to North Carolina for a campaign rally. \"Departing MCAS Cherry Point in North Carolina for Fayetteville, North Carolina. This is amazing!\" … | President Donald Trump tweeted out a photo of a lightning bolt striking behind Air Force One during a Monday night trip to North Carolina for a campaign rally. \r\n",
      " \"Departing MCAS Cherry Point in North Carolina for Fayetteville, North Carolina. This is amazing… [+1073 chars]\n",
      "-------------\n"
     ]
    }
   ],
   "source": [
    "for i,t in enumerate(df_clusters.query(f\"cluster == {test_cluster}\").sample(10).iterrows()):\n",
    "    print(t[1][\"text\"])\n",
    "    print(\"-------------\")"
   ]
  }
 ],
 "metadata": {
  "kernelspec": {
   "display_name": "Python 3",
   "language": "python",
   "name": "python3"
  },
  "language_info": {
   "codemirror_mode": {
    "name": "ipython",
    "version": 3
   },
   "file_extension": ".py",
   "mimetype": "text/x-python",
   "name": "python",
   "nbconvert_exporter": "python",
   "pygments_lexer": "ipython3",
   "version": "3.8.3"
  }
 },
 "nbformat": 4,
 "nbformat_minor": 4
}
