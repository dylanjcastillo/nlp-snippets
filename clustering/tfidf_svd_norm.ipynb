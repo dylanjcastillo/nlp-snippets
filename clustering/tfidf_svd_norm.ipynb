{
 "cells": [
  {
   "cell_type": "markdown",
   "metadata": {},
   "source": [
    "## Import required libraries"
   ]
  },
  {
   "cell_type": "code",
   "execution_count": 1,
   "metadata": {},
   "outputs": [
    {
     "name": "stderr",
     "output_type": "stream",
     "text": [
      "[nltk_data] Downloading package stopwords to\n",
      "[nltk_data]     /Users/dylancastillo/nltk_data...\n",
      "[nltk_data]   Package stopwords is already up-to-date!\n"
     ]
    }
   ],
   "source": [
    "import os\n",
    "import re\n",
    "from collections import Counter\n",
    "from time import time\n",
    "\n",
    "import gensim\n",
    "import numpy as np\n",
    "import pandas as pd\n",
    "\n",
    "from tqdm.notebook import tqdm\n",
    "\n",
    "from ds_utils.config import set_display_options\n",
    "from ds_utils.clustering import Tokenizer, load_data, clean_news_data, vectorize, mbkmeans_clusters\n",
    "\n",
    "from sklearn.decomposition import TruncatedSVD\n",
    "from sklearn.feature_extraction.text import TfidfVectorizer\n",
    "from sklearn.pipeline import make_pipeline\n",
    "from sklearn.preprocessing import Normalizer\n",
    "\n",
    "set_display_options()\n",
    "set_random_seed()"
   ]
  },
  {
   "cell_type": "markdown",
   "metadata": {},
   "source": [
    "## Read data"
   ]
  },
  {
   "cell_type": "code",
   "execution_count": 2,
   "metadata": {},
   "outputs": [],
   "source": [
    "df = load_data(\"news\")"
   ]
  },
  {
   "cell_type": "code",
   "execution_count": 3,
   "metadata": {},
   "outputs": [
    {
     "data": {
      "text/plain": [
       "(10437, 15)"
      ]
     },
     "execution_count": 3,
     "metadata": {},
     "output_type": "execute_result"
    }
   ],
   "source": [
    "df.shape"
   ]
  },
  {
   "cell_type": "code",
   "execution_count": 4,
   "metadata": {},
   "outputs": [
    {
     "data": {
      "text/plain": [
       "Index(['Unnamed: 0', 'source_id', 'source_name', 'author', 'title',\n",
       "       'description', 'url', 'url_to_image', 'published_at', 'content',\n",
       "       'top_article', 'engagement_reaction_count', 'engagement_comment_count',\n",
       "       'engagement_share_count', 'engagement_comment_plugin_count'],\n",
       "      dtype='object')"
      ]
     },
     "execution_count": 4,
     "metadata": {},
     "output_type": "execute_result"
    }
   ],
   "source": [
    "df.columns"
   ]
  },
  {
   "cell_type": "markdown",
   "metadata": {},
   "source": [
    "## Clean data"
   ]
  },
  {
   "cell_type": "code",
   "execution_count": 5,
   "metadata": {},
   "outputs": [
    {
     "name": "stdout",
     "output_type": "stream",
     "text": [
      "Original dataframe: (10437, 15)\n",
      "Pre-processed dataframe: (9882, 2)\n"
     ]
    }
   ],
   "source": [
    "df = clean_news_data(df)"
   ]
  },
  {
   "cell_type": "code",
   "execution_count": 6,
   "metadata": {},
   "outputs": [
    {
     "data": {
      "text/html": [
       "<div>\n",
       "<style scoped>\n",
       "    .dataframe tbody tr th:only-of-type {\n",
       "        vertical-align: middle;\n",
       "    }\n",
       "\n",
       "    .dataframe tbody tr th {\n",
       "        vertical-align: top;\n",
       "    }\n",
       "\n",
       "    .dataframe thead th {\n",
       "        text-align: right;\n",
       "    }\n",
       "</style>\n",
       "<table border=\"1\" class=\"dataframe\">\n",
       "  <thead>\n",
       "    <tr style=\"text-align: right;\">\n",
       "      <th></th>\n",
       "      <th>6909</th>\n",
       "    </tr>\n",
       "  </thead>\n",
       "  <tbody>\n",
       "    <tr>\n",
       "      <th>text</th>\n",
       "      <td>Trump's new national security adviser is a 'nice guy', but poorly equipped for one of the toughest jobs in the White House, sources say | Robert O'Brien, Donald Trump's new national security advisor, is well respected and has proven himself before. But former colleagues of the US' former chief hostage negotiator say he lacks experience, is policy lightweight, and has little knowledge of interna… | President Trump's new national security adviser, Robert O'Brien, impressed the president with his ability to help negotiate high-profile releases of US prisoners around the world, and drew some admiration from colleagues for his competence. \\r\\n However, accord… [+4576 chars]</td>\n",
       "    </tr>\n",
       "    <tr>\n",
       "      <th>tokens</th>\n",
       "      <td>[trumps, national, security, adviser, nice, guy, poorly, equipped, one, toughest, jobs, white, house, sources, say, robert, obrien, donald, trumps, national, security, advisor, well, respected, proven, former, colleagues, us, former, chief, hostage, negotiator, say, lacks, experience, policy, lightweight, little, knowledge, president, trumps, national, security, adviser, robert, obrien, impressed, president, ability, help, negotiate, high, profile, releases, us, prisoners, around, world, drew, admiration, colleagues, competence, however]</td>\n",
       "    </tr>\n",
       "  </tbody>\n",
       "</table>\n",
       "</div>"
      ],
      "text/plain": [
       "                                                                                                                                                                                                                                                                                                                                                                                                                                                                                                                                                                                                                                                                                                         6909\n",
       "text    Trump's new national security adviser is a 'nice guy', but poorly equipped for one of the toughest jobs in the White House, sources say | Robert O'Brien, Donald Trump's new national security advisor, is well respected and has proven himself before. But former colleagues of the US' former chief hostage negotiator say he lacks experience, is policy lightweight, and has little knowledge of interna… | President Trump's new national security adviser, Robert O'Brien, impressed the president with his ability to help negotiate high-profile releases of US prisoners around the world, and drew some admiration from colleagues for his competence. \\r\\n However, accord… [+4576 chars]\n",
       "tokens                                                                                                                                        [trumps, national, security, adviser, nice, guy, poorly, equipped, one, toughest, jobs, white, house, sources, say, robert, obrien, donald, trumps, national, security, advisor, well, respected, proven, former, colleagues, us, former, chief, hostage, negotiator, say, lacks, experience, policy, lightweight, little, knowledge, president, trumps, national, security, adviser, robert, obrien, impressed, president, ability, help, negotiate, high, profile, releases, us, prisoners, around, world, drew, admiration, colleagues, competence, however]"
      ]
     },
     "execution_count": 6,
     "metadata": {},
     "output_type": "execute_result"
    }
   ],
   "source": [
    "df.sample(1).T"
   ]
  },
  {
   "cell_type": "markdown",
   "metadata": {},
   "source": [
    "## Review tokens and vocabulary"
   ]
  },
  {
   "cell_type": "markdown",
   "metadata": {},
   "source": [
    "### Tokens"
   ]
  },
  {
   "cell_type": "code",
   "execution_count": 7,
   "metadata": {},
   "outputs": [
    {
     "name": "stdout",
     "output_type": "stream",
     "text": [
      "SAMPLE TEXT: Klopp savours quality of Liverpool goals after fightback against Newcastle | Sadio Mane grabs two as Liverpool continue perfect start to season at Anfield | Liverpool 3 Newcastle 1\n",
      "Jürgen Klopp hailed the quality of the goals his Liverpool side scored as the Premier League leaders came from behind to beat Newcastle 3-1 at Anfield.\n",
      "The Reds were stunned as Steve Bruces Newcastle claimed a shock early lead with a… [+2641 chars]\n",
      "------\n",
      "TOKENS: ['klopp', 'savours', 'quality', 'liverpool', 'goals', 'fightback', 'newcastle', 'sadio', 'mane', 'grabs', 'two', 'liverpool', 'continue', 'perfect', 'start', 'season', 'anfield', 'liverpool', 'newcastle', 'jürgen', 'klopp', 'hailed', 'quality', 'goals', 'liverpool', 'side', 'scored', 'premier', 'league', 'leaders', 'came', 'behind', 'beat', 'newcastle', 'anfield', 'reds', 'stunned', 'steve', 'bruces', 'newcastle', 'claimed', 'shock', 'early', 'lead']\n"
     ]
    }
   ],
   "source": [
    "sample_text = df.sample(1)\n",
    "print(f\"SAMPLE TEXT: {sample_text['text'].values[0]}\")\n",
    "print(f\"------\")\n",
    "print(f\"TOKENS: {sample_text['tokens'].values[0]}\")"
   ]
  },
  {
   "cell_type": "markdown",
   "metadata": {},
   "source": [
    "### Vocabulary"
   ]
  },
  {
   "cell_type": "code",
   "execution_count": 8,
   "metadata": {},
   "outputs": [],
   "source": [
    "docs = df[\"text\"].values\n",
    "tokenized_docs = df[\"tokens\"].values\n",
    "vocab = Counter()\n",
    "for token in tokenized_docs:\n",
    "    vocab.update(token)"
   ]
  },
  {
   "cell_type": "code",
   "execution_count": 9,
   "metadata": {},
   "outputs": [
    {
     "data": {
      "text/plain": [
       "32454"
      ]
     },
     "execution_count": 9,
     "metadata": {},
     "output_type": "execute_result"
    }
   ],
   "source": [
    "len(vocab)"
   ]
  },
  {
   "cell_type": "code",
   "execution_count": 10,
   "metadata": {},
   "outputs": [
    {
     "data": {
      "text/plain": [
       "[('us', 2757),\n",
       " ('said', 2519),\n",
       " ('year', 1781),\n",
       " ('president', 1756),\n",
       " ('trump', 1705),\n",
       " ('world', 1620),\n",
       " ('says', 1511),\n",
       " ('one', 1418),\n",
       " ('two', 1284),\n",
       " ('first', 1195)]"
      ]
     },
     "execution_count": 10,
     "metadata": {},
     "output_type": "execute_result"
    }
   ],
   "source": [
    "vocab.most_common(10)"
   ]
  },
  {
   "cell_type": "markdown",
   "metadata": {},
   "source": [
    "## BoW + SVD + Normalizer"
   ]
  },
  {
   "cell_type": "code",
   "execution_count": 11,
   "metadata": {},
   "outputs": [],
   "source": [
    "analyzer = Tokenizer()\n",
    "bow = TfidfVectorizer(analyzer=analyzer, max_df=.5, min_df=5)\n",
    "svd = TruncatedSVD(200)\n",
    "normalizer = Normalizer(copy=False)\n",
    "vectorizer = make_pipeline(bow, svd, normalizer)\n",
    "vectorized_docs = vectorizer.fit_transform(docs)"
   ]
  },
  {
   "cell_type": "code",
   "execution_count": 12,
   "metadata": {},
   "outputs": [
    {
     "data": {
      "text/plain": [
       "(9882, 200)"
      ]
     },
     "execution_count": 12,
     "metadata": {},
     "output_type": "execute_result"
    }
   ],
   "source": [
    "vectorized_docs.shape"
   ]
  },
  {
   "cell_type": "markdown",
   "metadata": {},
   "source": [
    "## Generate and analyze clusters"
   ]
  },
  {
   "cell_type": "code",
   "execution_count": 13,
   "metadata": {
    "scrolled": true
   },
   "outputs": [
    {
     "name": "stdout",
     "output_type": "stream",
     "text": [
      "For n_clusters = 50\n",
      "Silhouette coefficient: 0.07\n",
      "Inertia:7382.775819185531\n",
      "Silhouette values:\n",
      "    Cluster 37: Size:73 | Avg:0.33 | Min:0.13 | Max: 0.48\n",
      "    Cluster 19: Size:136 | Avg:0.29 | Min:0.06 | Max: 0.43\n",
      "    Cluster 25: Size:119 | Avg:0.26 | Min:-0.00 | Max: 0.44\n",
      "    Cluster 32: Size:106 | Avg:0.24 | Min:0.06 | Max: 0.39\n",
      "    Cluster 47: Size:73 | Avg:0.22 | Min:0.03 | Max: 0.37\n",
      "    Cluster 2: Size:282 | Avg:0.20 | Min:0.05 | Max: 0.36\n",
      "    Cluster 40: Size:185 | Avg:0.19 | Min:0.07 | Max: 0.34\n",
      "    Cluster 26: Size:362 | Avg:0.19 | Min:0.00 | Max: 0.36\n",
      "    Cluster 12: Size:109 | Avg:0.18 | Min:-0.03 | Max: 0.34\n",
      "    Cluster 33: Size:311 | Avg:0.17 | Min:0.01 | Max: 0.30\n",
      "    Cluster 10: Size:179 | Avg:0.17 | Min:-0.02 | Max: 0.35\n",
      "    Cluster 36: Size:104 | Avg:0.14 | Min:0.01 | Max: 0.28\n",
      "    Cluster 41: Size:143 | Avg:0.14 | Min:0.01 | Max: 0.29\n",
      "    Cluster 16: Size:107 | Avg:0.14 | Min:-0.02 | Max: 0.30\n",
      "    Cluster 42: Size:87 | Avg:0.14 | Min:-0.01 | Max: 0.28\n",
      "    Cluster 45: Size:127 | Avg:0.12 | Min:-0.01 | Max: 0.28\n",
      "    Cluster 5: Size:98 | Avg:0.11 | Min:0.00 | Max: 0.28\n",
      "    Cluster 6: Size:106 | Avg:0.11 | Min:-0.07 | Max: 0.28\n",
      "    Cluster 34: Size:164 | Avg:0.10 | Min:-0.10 | Max: 0.24\n",
      "    Cluster 38: Size:127 | Avg:0.09 | Min:-0.09 | Max: 0.20\n",
      "    Cluster 20: Size:200 | Avg:0.08 | Min:-0.08 | Max: 0.20\n",
      "    Cluster 27: Size:265 | Avg:0.08 | Min:-0.05 | Max: 0.20\n",
      "    Cluster 7: Size:125 | Avg:0.07 | Min:-0.08 | Max: 0.19\n",
      "    Cluster 3: Size:213 | Avg:0.07 | Min:-0.05 | Max: 0.19\n",
      "    Cluster 17: Size:206 | Avg:0.07 | Min:-0.05 | Max: 0.18\n",
      "    Cluster 14: Size:205 | Avg:0.07 | Min:-0.04 | Max: 0.21\n",
      "    Cluster 1: Size:143 | Avg:0.06 | Min:-0.04 | Max: 0.21\n",
      "    Cluster 31: Size:165 | Avg:0.06 | Min:-0.07 | Max: 0.21\n",
      "    Cluster 21: Size:158 | Avg:0.06 | Min:-0.04 | Max: 0.16\n",
      "    Cluster 48: Size:115 | Avg:0.05 | Min:-0.06 | Max: 0.17\n",
      "    Cluster 46: Size:169 | Avg:0.05 | Min:-0.08 | Max: 0.17\n",
      "    Cluster 23: Size:231 | Avg:0.05 | Min:-0.08 | Max: 0.15\n",
      "    Cluster 43: Size:109 | Avg:0.04 | Min:-0.08 | Max: 0.17\n",
      "    Cluster 9: Size:293 | Avg:0.04 | Min:-0.06 | Max: 0.12\n",
      "    Cluster 44: Size:187 | Avg:0.04 | Min:-0.06 | Max: 0.13\n",
      "    Cluster 8: Size:297 | Avg:0.04 | Min:-0.08 | Max: 0.16\n",
      "    Cluster 24: Size:130 | Avg:0.04 | Min:-0.08 | Max: 0.14\n",
      "    Cluster 13: Size:205 | Avg:0.03 | Min:-0.06 | Max: 0.12\n",
      "    Cluster 35: Size:165 | Avg:0.02 | Min:-0.08 | Max: 0.14\n",
      "    Cluster 30: Size:249 | Avg:0.02 | Min:-0.06 | Max: 0.13\n",
      "    Cluster 4: Size:186 | Avg:0.02 | Min:-0.07 | Max: 0.12\n",
      "    Cluster 18: Size:307 | Avg:0.02 | Min:-0.06 | Max: 0.10\n",
      "    Cluster 39: Size:120 | Avg:0.01 | Min:-0.07 | Max: 0.10\n",
      "    Cluster 29: Size:379 | Avg:0.01 | Min:-0.09 | Max: 0.10\n",
      "    Cluster 11: Size:371 | Avg:0.00 | Min:-0.12 | Max: 0.09\n",
      "    Cluster 22: Size:327 | Avg:0.00 | Min:-0.12 | Max: 0.09\n",
      "    Cluster 28: Size:252 | Avg:-0.01 | Min:-0.09 | Max: 0.07\n",
      "    Cluster 15: Size:346 | Avg:-0.01 | Min:-0.10 | Max: 0.06\n",
      "    Cluster 49: Size:341 | Avg:-0.02 | Min:-0.09 | Max: 0.03\n",
      "    Cluster 0: Size:425 | Avg:-0.02 | Min:-0.14 | Max: 0.06\n"
     ]
    }
   ],
   "source": [
    "clustering, cluster_labels = mbkmeans_clusters(vectorized_docs, 50, print_silhouette_values=True)\n",
    "df_clusters = pd.DataFrame({\n",
    "    \"text\": docs,\n",
    "    \"tokens\": [\" \".join(text) for text in tokenized_docs],\n",
    "    \"cluster\": cluster_labels\n",
    "})"
   ]
  },
  {
   "cell_type": "markdown",
   "metadata": {},
   "source": [
    "### Evaluate top terms per cluster (based on clusters' centroids)"
   ]
  },
  {
   "cell_type": "code",
   "execution_count": 14,
   "metadata": {
    "scrolled": true
   },
   "outputs": [
    {
     "name": "stdout",
     "output_type": "stream",
     "text": [
      "Top terms per cluster (based on centroids):\n",
      "Cluster 0: vaping said car strike us\n",
      "Cluster 1: food meat fast plant based\n",
      "Cluster 2: hurricane dorian bahamas storm carolina\n",
      "Cluster 3: man arrested charged old murder\n",
      "Cluster 4: government nuclear deal iran anti\n",
      "Cluster 5: chief executive officer ceo said\n",
      "Cluster 6: south africa african korea attacks\n",
      "Cluster 7: minister prime trudeau kashmir justin\n",
      "Cluster 8: year old woman boy died\n",
      "Cluster 9: trump president donald trumps us\n",
      "Cluster 10: saudi oil arabia attacks drone\n",
      "Cluster 11: credit card make know people\n",
      "Cluster 12: impeachment trump inquiry house democrats\n",
      "Cluster 13: two years one men women\n",
      "Cluster 14: million year pay jackpot nearly\n",
      "Cluster 15: gun state states us united\n",
      "Cluster 16: russia russian ukraine moscow putin\n",
      "Cluster 17: climate school change students high\n",
      "Cluster 18: found could health study may\n",
      "Cluster 19: hong kong protests protesters police\n",
      "Cluster 20: police officer officers shot paris\n",
      "Cluster 21: hours murder air reports correspondent\n",
      "Cluster 22: former court sexual federal judge\n",
      "Cluster 23: company billion wework valuation public\n",
      "Cluster 24: election party leader presidential opposition\n",
      "Cluster 25: facebook messenger unfolds chat happening\n",
      "Cluster 26: video abc broadcast interviews breaking\n",
      "Cluster 27: trade us china economy stocks\n",
      "Cluster 28: people dublin three said city\n",
      "Cluster 29: like film one review years\n",
      "Cluster 30: first time since years year\n",
      "Cluster 31: day ashes england test australias\n",
      "Cluster 32: apple iphone event apples pro\n",
      "Cluster 33: brexit johnson boris deal prime\n",
      "Cluster 34: democratic presidential debate biden warren\n",
      "Cluster 35: house trump white president whistleblower\n",
      "Cluster 36: nfl brown season antonio raiders\n",
      "Cluster 37: mugabe robert zimbabwe died zimbabwes\n",
      "Cluster 38: taliban security bolton afghanistan trump\n",
      "Cluster 39: nintendo announced switch google microsoft\n",
      "Cluster 40: cup world rugby japan ireland\n",
      "Cluster 41: league premier manchester season united\n",
      "Cluster 42: google tech general antitrust facebook\n",
      "Cluster 43: amazon china chinese companies trade\n",
      "Cluster 44: bank open us rates rate\n",
      "Cluster 45: fire boat california people killed\n",
      "Cluster 46: media facebook social story business\n",
      "Cluster 47: netanyahu israeli minister prime election\n",
      "Cluster 48: border trump us mexico president\n",
      "Cluster 49: one ireland football season win\n"
     ]
    }
   ],
   "source": [
    "print(\"Top terms per cluster (based on centroids):\")\n",
    "original_space_centroids = svd.inverse_transform(clustering.cluster_centers_)\n",
    "order_centroids = original_space_centroids.argsort()[:, ::-1]\n",
    "terms = bow.get_feature_names()\n",
    "for i in range(50):\n",
    "    print(\"Cluster %d:\" % i, end='')\n",
    "    for ind in order_centroids[i, :5]:\n",
    "        print(' %s' % terms[ind], end='')\n",
    "    print()"
   ]
  },
  {
   "cell_type": "markdown",
   "metadata": {},
   "source": [
    "### Evaluate top terms per cluster (based on words frequencies)"
   ]
  },
  {
   "cell_type": "code",
   "execution_count": 15,
   "metadata": {
    "scrolled": true
   },
   "outputs": [
    {
     "name": "stdout",
     "output_type": "stream",
     "text": [
      "Top terms per cluster (based on words frequencies):\n",
      "Cluster 0: said(176) us(146) vaping(143) strike(104) workers(103) \n",
      "Cluster 1: food(136) meat(73) fast(59) plant(43) said(42) \n",
      "Cluster 2: hurricane(616) dorian(546) bahamas(280) storm(238) carolina(99) \n",
      "Cluster 3: man(462) year(75) old(69) said(65) police(58) \n",
      "Cluster 4: government(279) nuclear(81) deal(76) iran(67) said(66) \n",
      "Cluster 5: chief(189) executive(119) said(56) officer(37) reuters(36) \n",
      "Cluster 6: south(207) africa(68) african(55) korea(52) north(39) \n",
      "Cluster 7: minister(166) prime(98) trudeau(74) kashmir(73) justin(68) \n",
      "Cluster 8: year(466) old(374) woman(174) boy(75) died(71) \n",
      "Cluster 9: trump(697) president(464) donald(335) us(166) trumps(99) \n",
      "Cluster 10: saudi(440) oil(322) arabia(129) attacks(112) us(106) \n",
      "Cluster 11: credit(94) get(93) money(87) time(83) card(81) \n",
      "Cluster 12: impeachment(214) trump(177) house(146) president(136) inquiry(111) \n",
      "Cluster 13: two(371) years(56) one(44) us(29) image(25) \n",
      "Cluster 14: million(499) year(90) us(68) said(65) pay(50) \n",
      "Cluster 15: us(186) state(149) states(131) gun(121) said(101) \n",
      "Cluster 16: russia(199) russian(125) ukraine(85) said(58) moscow(58) \n",
      "Cluster 17: climate(245) school(216) change(137) students(80) high(40) \n",
      "Cluster 18: health(134) found(119) could(109) study(107) one(63) \n",
      "Cluster 19: hong(367) kong(323) police(118) protests(104) protesters(76) \n",
      "Cluster 20: police(502) officer(104) said(99) officers(84) say(67) \n",
      "Cluster 21: air(103) hours(58) plane(52) flight(52) murder(45) \n",
      "Cluster 22: former(264) court(222) sexual(95) charges(82) said(81) \n",
      "Cluster 23: company(347) billion(108) said(79) business(67) wework(64) \n",
      "Cluster 24: election(188) party(97) leader(66) opposition(60) presidential(52) \n",
      "Cluster 25: us(130) world(121) chat(119) facebook(119) messenger(119) \n",
      "Cluster 26: video(377) national(374) get(368) world(365) online(365) \n",
      "Cluster 27: us(409) trade(403) china(174) economy(152) stocks(127) \n",
      "Cluster 28: people(149) said(105) dublin(97) three(81) city(76) \n",
      "Cluster 29: like(203) one(96) film(90) years(77) review(71) \n",
      "Cluster 30: first(401) time(125) years(64) year(64) us(55) \n",
      "Cluster 31: day(229) ashes(101) england(93) test(65) one(48) \n",
      "Cluster 32: apple(270) iphone(236) apples(74) pro(71) watch(55) \n",
      "Cluster 33: brexit(577) johnson(464) boris(377) minister(310) prime(288) \n",
      "Cluster 34: democratic(219) presidential(149) debate(105) biden(103) warren(95) \n",
      "Cluster 35: house(253) trump(201) president(167) white(163) us(109) \n",
      "Cluster 36: nfl(136) brown(97) season(84) antonio(65) week(62) \n",
      "Cluster 37: mugabe(140) robert(139) zimbabwe(63) president(46) died(43) \n",
      "Cluster 38: trump(140) taliban(135) security(128) bolton(127) us(120) \n",
      "Cluster 39: nintendo(63) switch(53) microsoft(46) system(42) surface(42) \n",
      "Cluster 40: cup(353) world(335) rugby(168) ireland(113) win(83) \n",
      "Cluster 41: league(177) manchester(78) united(76) premier(70) season(64) \n",
      "Cluster 42: google(184) tech(69) facebook(39) general(39) antitrust(34) \n",
      "Cluster 43: amazon(165) china(99) years(28) us(26) military(25) \n",
      "Cluster 44: us(167) bank(167) open(121) rates(99) interest(85) \n",
      "Cluster 45: fire(170) boat(133) california(126) people(104) killed(67) \n",
      "Cluster 46: facebook(147) media(138) social(116) story(77) business(76) \n",
      "Cluster 47: israeli(117) netanyahu(113) minister(83) prime(80) election(66) \n",
      "Cluster 48: border(163) us(111) trump(74) president(68) syria(67) \n",
      "Cluster 49: one(162) ireland(135) football(99) season(91) win(71) \n"
     ]
    }
   ],
   "source": [
    "print(\"Top terms per cluster (based on words frequencies):\")\n",
    "for i in range(50):\n",
    "    empty = \"\"\n",
    "    most_frequent = Counter(\" \".join(df_clusters.query(f\"cluster == {i}\")[\"tokens\"]).split()).most_common(5)\n",
    "    for t in most_frequent:\n",
    "        empty += f\"{t[0]}({str(t[1])}) \"\n",
    "    print(f\"Cluster {i}: {empty}\")"
   ]
  },
  {
   "cell_type": "markdown",
   "metadata": {},
   "source": [
    "### Retrieve most representative documents (based on clusters' centroids)"
   ]
  },
  {
   "cell_type": "code",
   "execution_count": 16,
   "metadata": {
    "scrolled": true
   },
   "outputs": [
    {
     "name": "stdout",
     "output_type": "stream",
     "text": [
      "Opinion: Zimbabwe’s Robert Mugabe Ruined a Once Prosperous Country | The former dictator of Zimbabwe, Robert Mugabe, died September 6, 2019, leaving behind a legacy of economic failure and mass oppression. Image: Meng Chenguang / Zuma Wire | \n",
      "-------------\n",
      "Robert Mugabe's most famous quotes | A quick look at President Mugabe's colourful language throughout his 37-year reign as leader of Zimbabwe. | Zimbabwe's Former President Robert Mugabe has died aged 95. The death was announced by his succesor Emmerson Mnangagwa who mourned him as an \"icon of liberation.\"\n",
      "\"It is with the utmost sadness that I announce the passing on of Zimbabwe's founding father and… [+4531 chars]\n",
      "-------------\n",
      "Robert Mugabe: World Reacts to Death of Ex-president Who Ruled Zimbabwe for 37 Years—'Even Dictators Finally Die' | The 95-year-old, who died in Singapore, ruled Zimbabwe with an iron fist until toppled by a military coup in 2017. | Robert Mugabe, the former leader of Zimbabwe, has died in a Singapore hospital aged 95. During his long political career, Mugabe went from a widely respected anti-colonial revolutionary to a pariah dictator, destroying the country he once did so much to free.… [+2753 chars]\n",
      "-------------\n",
      "Tributes -- and also fierce criticism -- pour in after death of Robert Mugabe | Robert Mugabe, the controversial founding father of Zimbabwe, has died at 95, sparking wildly different reactions around the world. | (CNN)Robert Mugabe, the controversial founding father of Zimbabwe, has died at 95, sparking wildly different reactions around the world.\n",
      "The uncompromising ex-president, who was deposed in a coup in 2017, left a mixed legacy. He had been touted worldwide as … [+2986 chars]\n",
      "-------------\n",
      "Robert Mugabe granted national hero status and official mourning | Days of national mourning commence in Zimbabwe for its controversial former leader. | Image copyrightReutersImage caption\n",
      " Robert Mugabe was known for his fiery speeches, even in his 90s\n",
      "Three days of national mourning have begun in Zimbabwe following the death of former president Robert Mugabe.\n",
      "Mr Mugabe, Zimbabwe's first post-independence… [+5385 chars]\n",
      "-------------\n",
      "Robert Mugabe Was Zimbabwe’s Hero and Its Tyrant | The “icon of liberation” who led Zimbabwe to independence also drove the nation into poverty. | Obituaries of Robert Mugabe, the former leader of Zimbabwe who died in Singapore on Friday at the age of 95, tend to divide his history into three eras: the revolutionary leader of the liberation struggle against white minority rule; the statesman who negotia… [+1898 chars]\n",
      "-------------\n",
      "Rest in peace, Robert Mugabe: Hero, villain, human | Robert Mugabe helped build Zimbabwe and helped destroy it. | Robert Mugabe has died. May he rest in peace. \n",
      "He was one of the engineers who built the foundations of modern-day Zimbabwe. \n",
      "If you ever get the chance, please visit Zimbabwe. It is home to music and fields of maize for as far as the eye can see. There are… [+5223 chars]\n",
      "-------------\n",
      "Robert Mugabe: The orator | Robert Mugabe, the ex-Zimbabwean leader who has died aged 95, was known for his fiery speeches. | VideoRobert Mugabe, the ex-Zimbabwean leader who has died aged 95, was known for his fiery speeches.\n",
      "-------------\n",
      "Robert Mugabe obituary: Zimbabwe liberator turned ruthless despot | President once hailed as beacon of African liberation whose rule bankrupted country he had fought so hard to win | Robert MugabeBorn: February 21st, 1924Died: September 6th, 2019\n",
      "As the armoured vehicles rolled in to Harare in November 2017, after weeks of political fencing and brinkmanship, Robert Mugabe could not believe he had lost. The senior military leadership who … [+24522 chars]\n",
      "-------------\n",
      "Former Zimbabwe President Robert Mugabe dies aged 95 | The country's first post-independent leader passed away in Singapore where he was seeking treatment. | Former Zimbabwe President Robert Mugabe has died at the age of 95, President Emmerson Mnangagwa said. \n",
      "\"It is with the utmost sadness that I announce the passing on of Zimbabwe's founding father and former President, Cde Robert Mugabe,\" Mnangagwa tweet early… [+1617 chars]\n",
      "-------------\n"
     ]
    }
   ],
   "source": [
    "test_cluster = 37\n",
    "most_representative_docs = np.argsort(\n",
    "    np.linalg.norm(vectorized_docs - clustering.cluster_centers_[test_cluster], axis=1)\n",
    ")\n",
    "for d in most_representative_docs[:10]:\n",
    "    print(docs[d])\n",
    "    print(\"-------------\")"
   ]
  },
  {
   "cell_type": "markdown",
   "metadata": {},
   "source": [
    "### Random sample of documents for a given cluster"
   ]
  },
  {
   "cell_type": "code",
   "execution_count": 17,
   "metadata": {
    "scrolled": true
   },
   "outputs": [
    {
     "name": "stdout",
     "output_type": "stream",
     "text": [
      "Timeline: Key dates in the life of Robert Mugabe | Zimbabwe's former leader died on Friday in Singapore, at the age of 95. | Zimbabwe's former President Robert Mugabe has died at the age of 95.\n",
      "The rebel who led Zimbabwe to independence and ruled the country for 37 years died on Friday in Singapore, where he had often visited in recent years for medical treatment.\n",
      "Below are the k… [+4172 chars]\n",
      "-------------\n",
      "Robert Mugabe's most famous quotes | A quick look at President Mugabe's colourful language throughout his 37-year reign as leader of Zimbabwe. | Zimbabwe's Former President Robert Mugabe has died aged 95. The death was announced by his succesor Emmerson Mnangagwa who mourned him as an \"icon of liberation.\"\n",
      "\"It is with the utmost sadness that I announce the passing on of Zimbabwe's founding father and… [+4531 chars]\n",
      "-------------\n",
      "Robert Mugabe to be buried next week in his village: Family | The ex-Zimbabwean leader's family opposes government plan to bury him at the national monument for liberation heroes. | Zimbabwe's former President Robert Mugabe will not be buried at a national monument for liberation heroes in the capital, Harare, but at his village early next week, his family said.\n",
      "Mugabe's family and Zimbabwe's government have been at odds over whether he… [+1668 chars]\n",
      "-------------\n",
      "Influential Swiss-American photographer Robert Frank dies age 94 | Frank was most known for his work The Americans, which captured ordinary scenes from US life in the 1950s. | Swiss-American photographer Robert Frank, one of the most influential photographers of the 20th century, died on Tuesday at age 94.\n",
      "Frank was most known for his work The Americans that captured ordinary scenes of life in the 1950s' United States. The Swiss-b… [+1952 chars]\n",
      "-------------\n",
      "Robert Mugabe died a 'very bitter' man, nephew says | The long-time Zimbabwean leader was \"bitter\" about being ousted in 2017, a relative tells the BBC. | Image copyrightGetty ImagesImage caption\n",
      " Robert Mugabe was ousted by a military coup in 2017 after nearly four decades in power\n",
      "Robert Mugabe's nephew has said the former Zimbabwean leader died a \"very bitter\" man.\n",
      "Mr Mugabe, who died aged 95 last week, l… [+3658 chars]\n",
      "-------------\n",
      "Robert Harris: ‘Nobody cares if you lie anymore’ | ‘I didn’t want to write a Brexit novel, but The Second Sleep is informed by the anxieties of the just-in-time supply chain’ | It is one of the most beautiful days of the year when I meet the novelist and political journalist Robert Harris near his west Berkshire home. A haze rises off the nearby canal, and it seems impossible this thickened English tranquillity could be anything but… [+10038 chars]\n",
      "-------------\n",
      "Tributes -- and also fierce criticism -- pour in after death of Robert Mugabe | Robert Mugabe, the controversial founding father of Zimbabwe, has died at 95, sparking wildly different reactions around the world. | (CNN)Robert Mugabe, the controversial founding father of Zimbabwe, has died at 95, sparking wildly different reactions around the world.\n",
      "The uncompromising ex-president, who was deposed in a coup in 2017, left a mixed legacy. He had been touted worldwide as … [+2986 chars]\n",
      "-------------\n",
      "Zimbabweans, foreign leaders bid farewell to Robert Mugabe | Thousands pay final respects to former president at state funeral held at national stadium in the capital, Harare. | Zimbabwean politicians, international dignitaries and thousands of citizens have gathered at a stadium in Harare to pay their final respects to the country's founding father, Robert Mugabe.\n",
      "The state funeral in the capital on Saturday follows a week of dispu… [+3566 chars]\n",
      "-------------\n",
      "Your Friday Briefing | North Carolina, Robert Mugabe, Serena Williams: Here’s what you need to know. | The store became a national chain, making its inventor, Clarence Saunders, a tycoon. His Pink Palace Mansion is a Tennessee landmark.\n",
      "But by 1923 he was involved in a bitter dispute with the New York Stock Exchange. He had cornered Piggly Wiggly stock in ret… [+1112 chars]\n",
      "-------------\n",
      "Robert Frank, Pivotal Figure in Documentary Photography, Is Dead at 94 | Mr. Frank’s visually raw and personally expressive style made him one of the most influential photographers of the 20th century. | Robert Frank, one of the most influential photographers of the 20th century, whose visually raw and personally expressive style was pivotal in changing the course of documentary photography, died on Monday in Inverness, Nova Scotia. He was 94.\n",
      "His death was … [+1327 chars]\n",
      "-------------\n"
     ]
    }
   ],
   "source": [
    "for i,t in enumerate(df_clusters.query(f\"cluster == {test_cluster}\").sample(10).iterrows()):\n",
    "    print(t[1][\"text\"])\n",
    "    print(\"-------------\")"
   ]
  }
 ],
 "metadata": {
  "kernelspec": {
   "display_name": "Python 3",
   "language": "python",
   "name": "python3"
  },
  "language_info": {
   "codemirror_mode": {
    "name": "ipython",
    "version": 3
   },
   "file_extension": ".py",
   "mimetype": "text/x-python",
   "name": "python",
   "nbconvert_exporter": "python",
   "pygments_lexer": "ipython3",
   "version": "3.9.0"
  }
 },
 "nbformat": 4,
 "nbformat_minor": 4
}
