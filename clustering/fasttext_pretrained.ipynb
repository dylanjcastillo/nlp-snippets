{
 "cells": [
  {
   "cell_type": "markdown",
   "metadata": {},
   "source": [
    "## Import required libraries"
   ]
  },
  {
   "cell_type": "code",
   "execution_count": 16,
   "metadata": {},
   "outputs": [
    {
     "name": "stderr",
     "output_type": "stream",
     "text": [
      "[nltk_data] Downloading package stopwords to\n",
      "[nltk_data]     /Users/dylancastillo/nltk_data...\n",
      "[nltk_data]   Package stopwords is already up-to-date!\n",
      "[nltk_data] Downloading package punkt to\n",
      "[nltk_data]     /Users/dylancastillo/nltk_data...\n",
      "[nltk_data]   Package punkt is already up-to-date!\n"
     ]
    }
   ],
   "source": [
    "import os\n",
    "import re\n",
    "import string\n",
    "from collections import Counter\n",
    "from string import punctuation\n",
    "from time import time\n",
    "\n",
    "import gensim\n",
    "import nltk\n",
    "import numpy as np\n",
    "import pandas as pd\n",
    "import gensim.downloader as api\n",
    "from nltk.corpus import stopwords\n",
    "from nltk.tokenize import word_tokenize\n",
    "from sklearn.cluster import MiniBatchKMeans\n",
    "from sklearn.metrics import silhouette_samples, silhouette_score\n",
    "from tqdm.notebook import tqdm\n",
    "\n",
    "from ds_utils.config import set_display_options\n",
    "from ds_utils.data import NEWS_DATA\n",
    "from ds_utils.functions import vectorize\n",
    "\n",
    "nltk.download(\"stopwords\")\n",
    "nltk.download(\"punkt\")\n",
    "set_display_options()"
   ]
  },
  {
   "cell_type": "markdown",
   "metadata": {},
   "source": [
    "## Read data"
   ]
  },
  {
   "cell_type": "code",
   "execution_count": 17,
   "metadata": {},
   "outputs": [],
   "source": [
    "df = pd.read_csv(NEWS_DATA)"
   ]
  },
  {
   "cell_type": "code",
   "execution_count": 18,
   "metadata": {},
   "outputs": [
    {
     "data": {
      "text/plain": [
       "(10437, 15)"
      ]
     },
     "execution_count": 18,
     "metadata": {},
     "output_type": "execute_result"
    }
   ],
   "source": [
    "df.shape"
   ]
  },
  {
   "cell_type": "code",
   "execution_count": 19,
   "metadata": {},
   "outputs": [
    {
     "data": {
      "text/plain": [
       "Index(['Unnamed: 0', 'source_id', 'source_name', 'author', 'title',\n",
       "       'description', 'url', 'url_to_image', 'published_at', 'content',\n",
       "       'top_article', 'engagement_reaction_count', 'engagement_comment_count',\n",
       "       'engagement_share_count', 'engagement_comment_plugin_count'],\n",
       "      dtype='object')"
      ]
     },
     "execution_count": 19,
     "metadata": {},
     "output_type": "execute_result"
    }
   ],
   "source": [
    "df.columns"
   ]
  },
  {
   "cell_type": "code",
   "execution_count": 20,
   "metadata": {},
   "outputs": [
    {
     "data": {
      "text/html": [
       "<div>\n",
       "<style scoped>\n",
       "    .dataframe tbody tr th:only-of-type {\n",
       "        vertical-align: middle;\n",
       "    }\n",
       "\n",
       "    .dataframe tbody tr th {\n",
       "        vertical-align: top;\n",
       "    }\n",
       "\n",
       "    .dataframe thead th {\n",
       "        text-align: right;\n",
       "    }\n",
       "</style>\n",
       "<table border=\"1\" class=\"dataframe\">\n",
       "  <thead>\n",
       "    <tr style=\"text-align: right;\">\n",
       "      <th></th>\n",
       "      <th>2683</th>\n",
       "    </tr>\n",
       "  </thead>\n",
       "  <tbody>\n",
       "    <tr>\n",
       "      <th>Unnamed: 0</th>\n",
       "      <td>2683</td>\n",
       "    </tr>\n",
       "    <tr>\n",
       "      <th>source_id</th>\n",
       "      <td>the-irish-times</td>\n",
       "    </tr>\n",
       "    <tr>\n",
       "      <th>source_name</th>\n",
       "      <td>The Irish Times</td>\n",
       "    </tr>\n",
       "    <tr>\n",
       "      <th>author</th>\n",
       "      <td>Tanya Sweeney</td>\n",
       "    </tr>\n",
       "    <tr>\n",
       "      <th>title</th>\n",
       "      <td>Make a Move to . . . Ringsend</td>\n",
       "    </tr>\n",
       "    <tr>\n",
       "      <th>description</th>\n",
       "      <td>Despite seismic demographic changes, Ringsend retains its community spirit</td>\n",
       "    </tr>\n",
       "    <tr>\n",
       "      <th>url</th>\n",
       "      <td>https://www.irishtimes.com/\\t\\t\\t\\t\\t\\t\\t/life-and-style/homes-and-property/make-a-move-to-ringsend-1.4005265\\t</td>\n",
       "    </tr>\n",
       "    <tr>\n",
       "      <th>url_to_image</th>\n",
       "      <td>https://www.irishtimes.com/image-creator/?id=1.4005258&amp;origw=1440</td>\n",
       "    </tr>\n",
       "    <tr>\n",
       "      <th>published_at</th>\n",
       "      <td>2019-09-07T05:00:00Z</td>\n",
       "    </tr>\n",
       "    <tr>\n",
       "      <th>content</th>\n",
       "      <td>Whats so good about it?\\r\\nHas any Dublin neighbourhood undergone such a dramatic shift in the last couple of decades? Ringsends history is fantastically rich it was famously the point where Cromwell arrived in 1649. Several centuries later, it was the turn of … [+5720 chars]</td>\n",
       "    </tr>\n",
       "    <tr>\n",
       "      <th>top_article</th>\n",
       "      <td>1.00</td>\n",
       "    </tr>\n",
       "    <tr>\n",
       "      <th>engagement_reaction_count</th>\n",
       "      <td>NaN</td>\n",
       "    </tr>\n",
       "    <tr>\n",
       "      <th>engagement_comment_count</th>\n",
       "      <td>NaN</td>\n",
       "    </tr>\n",
       "    <tr>\n",
       "      <th>engagement_share_count</th>\n",
       "      <td>NaN</td>\n",
       "    </tr>\n",
       "    <tr>\n",
       "      <th>engagement_comment_plugin_count</th>\n",
       "      <td>NaN</td>\n",
       "    </tr>\n",
       "  </tbody>\n",
       "</table>\n",
       "</div>"
      ],
      "text/plain": [
       "                                                                                                                                                                                                                                                                                                                 2683\n",
       "Unnamed: 0                                                                                                                                                                                                                                                                                                       2683\n",
       "source_id                                                                                                                                                                                                                                                                                             the-irish-times\n",
       "source_name                                                                                                                                                                                                                                                                                           The Irish Times\n",
       "author                                                                                                                                                                                                                                                                                                  Tanya Sweeney\n",
       "title                                                                                                                                                                                                                                                                                   Make a Move to . . . Ringsend\n",
       "description                                                                                                                                                                                                                                Despite seismic demographic changes, Ringsend retains its community spirit\n",
       "url                                                                                                                                                                                                   https://www.irishtimes.com/\\t\\t\\t\\t\\t\\t\\t/life-and-style/homes-and-property/make-a-move-to-ringsend-1.4005265\\t\n",
       "url_to_image                                                                                                                                                                                                                                        https://www.irishtimes.com/image-creator/?id=1.4005258&origw=1440\n",
       "published_at                                                                                                                                                                                                                                                                                     2019-09-07T05:00:00Z\n",
       "content                          Whats so good about it?\\r\\nHas any Dublin neighbourhood undergone such a dramatic shift in the last couple of decades? Ringsends history is fantastically rich it was famously the point where Cromwell arrived in 1649. Several centuries later, it was the turn of … [+5720 chars]\n",
       "top_article                                                                                                                                                                                                                                                                                                      1.00\n",
       "engagement_reaction_count                                                                                                                                                                                                                                                                                         NaN\n",
       "engagement_comment_count                                                                                                                                                                                                                                                                                          NaN\n",
       "engagement_share_count                                                                                                                                                                                                                                                                                            NaN\n",
       "engagement_comment_plugin_count                                                                                                                                                                                                                                                                                   NaN"
      ]
     },
     "execution_count": 20,
     "metadata": {},
     "output_type": "execute_result"
    }
   ],
   "source": [
    "df.sample(1).T"
   ]
  },
  {
   "cell_type": "markdown",
   "metadata": {},
   "source": [
    "## Fill missing values"
   ]
  },
  {
   "cell_type": "code",
   "execution_count": 21,
   "metadata": {},
   "outputs": [
    {
     "data": {
      "text/plain": [
       "Unnamed: 0                        0.00\n",
       "source_id                         0.00\n",
       "source_name                       0.00\n",
       "author                            0.10\n",
       "title                             0.00\n",
       "description                       0.00\n",
       "url                               0.00\n",
       "url_to_image                      0.06\n",
       "published_at                      0.00\n",
       "content                           0.12\n",
       "top_article                       0.00\n",
       "engagement_reaction_count         0.01\n",
       "engagement_comment_count          0.01\n",
       "engagement_share_count            0.01\n",
       "engagement_comment_plugin_count   0.01\n",
       "dtype: float64"
      ]
     },
     "execution_count": 21,
     "metadata": {},
     "output_type": "execute_result"
    }
   ],
   "source": [
    "df.isna().mean()"
   ]
  },
  {
   "cell_type": "code",
   "execution_count": 22,
   "metadata": {},
   "outputs": [],
   "source": [
    "df[\"content\"] = df[\"content\"].fillna(\"\")"
   ]
  },
  {
   "cell_type": "markdown",
   "metadata": {},
   "source": [
    "## Generate tokens"
   ]
  },
  {
   "cell_type": "code",
   "execution_count": 23,
   "metadata": {},
   "outputs": [
    {
     "data": {
      "text/plain": [
       "'Environment being changed at unparalled rate, warns Higgins | President urges people to mow grass less and let weeds flower to protect biodiversity | Nature, biodiversity and the contributions they made to human existence are in trouble, President Michael D Higgins has said.\\r\\nSpeaking at the opening of the inaugural Phoenix Park Biodiversity Festival and Honey Show in Dublin, Mr Higgins said the number of … [+2888 chars]'"
      ]
     },
     "execution_count": 23,
     "metadata": {},
     "output_type": "execute_result"
    }
   ],
   "source": [
    "df.sample(1).apply(lambda x: x[\"title\"] + \" | \" + x[\"description\"] + \" | \" + x[\"content\"], axis=1).values[0]"
   ]
  },
  {
   "cell_type": "code",
   "execution_count": 24,
   "metadata": {},
   "outputs": [
    {
     "name": "stdout",
     "output_type": "stream",
     "text": [
      "SAMPLE TEXT: Michelin-starred chef: 'I'm lucky I found what I love young' | Curtis Stone's 24-seat Beverly Hills, California, restaurant, Maude, recently received a Michelin star. Find out what's behind his success.\n",
      "TOKENS: ['michelin', 'starred', 'chef', 'im', 'lucky', 'found', 'love', 'young', 'curtis', 'stones', 'seat', 'beverly', 'hills', 'california', 'restaurant', 'maude', 'recently', 'received', 'michelin', 'star', 'find', 'whats', 'behind', 'success']\n",
      "------\n",
      "SAMPLE TEXT: EU official: Brexit negotiations will take place ‘over coming days’ following UK government proposal | Get breaking national and world news, broadcast video coverage, and exclusive interviews. Find the top news online at ABC news.\n",
      "TOKENS: ['eu', 'official', 'brexit', 'negotiations', 'take', 'place', 'coming', 'days', 'following', 'uk', 'government', 'proposal', 'get', 'breaking', 'national', 'world', 'broadcast', 'video', 'coverage', 'exclusive', 'interviews', 'find', 'online', 'abc']\n",
      "------\n",
      "SAMPLE TEXT: NOAA acting administrator stands by Trump's claims on Dorian and Alabama | The National Oceanic and Atmospheric Administration's acting administrator is standing by the agency's support of President Donald Trump's claims that Hurricane Dorian was likely to hit Alabama.\n",
      "TOKENS: ['noaa', 'acting', 'administrator', 'stands', 'trumps', 'claims', 'dorian', 'alabama', 'national', 'oceanic', 'atmospheric', 'administrations', 'acting', 'administrator', 'standing', 'agencys', 'support', 'president', 'donald', 'trumps', 'claims', 'hurricane', 'dorian', 'likely', 'hit', 'alabama']\n",
      "------\n",
      "SAMPLE TEXT: Spies living openly after defecting from Russia happens 'far more often than people would think,' intelligence sources say | Details are gradually emerging of a former US intelligence asset inside the Russian government, who was hastily extracted in 2017. A man identified by Russian media as a former intelligence official, who matches the description of the extracted spy, appears t…\n",
      "TOKENS: ['spies', 'living', 'openly', 'defecting', 'russia', 'happens', 'far', 'often', 'people', 'would', 'think', 'intelligence', 'sources', 'say', 'details', 'gradually', 'emerging', 'former', 'us', 'intelligence', 'asset', 'inside', 'russian', 'government', 'hastily', 'extracted', 'man', 'identified', 'russian', 'media', 'former', 'intelligence', 'official', 'matches', 'description', 'extracted', 'spy', 'appears']\n",
      "------\n",
      "SAMPLE TEXT: Father of Irish doctor killed in plane crash to appeal dropping of charges | Three Irish women killed when Air France flight crashed off Brazilian coast in 2009\n",
      "TOKENS: ['father', 'irish', 'doctor', 'killed', 'plane', 'crash', 'appeal', 'dropping', 'charges', 'three', 'irish', 'women', 'killed', 'air', 'france', 'flight', 'crashed', 'brazilian', 'coast']\n",
      "------\n"
     ]
    }
   ],
   "source": [
    "stop_words = set(stopwords.words(\"english\") + [\"news\", \"new\", \"top\"])\n",
    "\n",
    "def generate_tokens(text, tokenizer=word_tokenize, stop_words=stop_words):\n",
    "    text = str(text).lower() # Lowercase words\n",
    "    text = re.sub(r\"\\[(.*?)\\]\", \"\", text) # Remove [+XYZ chars] in content\n",
    "    text = re.sub(r\"\\s+\", \" \", text) # Remove multiple spaces in content\n",
    "    text = re.sub(r\"\\w+…|…\", \"\", text) # Remove ellipsis (and last word)\n",
    "    text = re.sub(r\"(?<=\\w)-(?=\\w)\", \" \", text) # Replace dash between words\n",
    "    text = re.sub(f\"[{re.escape(string.punctuation)}]\", \"\", text) # Remove punctuation\n",
    "    \n",
    "    tokens = tokenizer(text) # Get tokens from text\n",
    "    tokens = [t for t in tokens if not t in stop_words] # Remove stopwords\n",
    "    tokens = [\"\" if t.isdigit() else t for t in tokens] # Remove digits\n",
    "    tokens = [t for t in tokens if len(t) > 1] # Remove short tokens\n",
    "    return tokens\n",
    "\n",
    "for _ in range(5):\n",
    "    sample_text = df.sample(1).apply(lambda x: x[\"title\"] + \" | \" + x[\"description\"], axis=1).values[0]\n",
    "    print(f\"SAMPLE TEXT: {sample_text}\")\n",
    "    print(f\"TOKENS: {generate_tokens(sample_text)}\")\n",
    "    print(f\"------\")"
   ]
  },
  {
   "cell_type": "code",
   "execution_count": 25,
   "metadata": {},
   "outputs": [
    {
     "data": {
      "text/plain": [
       "((10437, 17), (9882, 17))"
      ]
     },
     "execution_count": 25,
     "metadata": {},
     "output_type": "execute_result"
    }
   ],
   "source": [
    "text_columns = [\"title\", \"description\", \"content\"]\n",
    "\n",
    "for col in text_columns:\n",
    "    df[col] = df[col].astype(str)\n",
    "\n",
    "# Create text column based on title, description, and content\n",
    "df[\"text\"] = df[text_columns].apply(lambda x: ' | '.join(x), axis=1)\n",
    "df[\"tokens\"] = df[\"text\"].map(lambda x: generate_tokens(x))\n",
    "\n",
    "# Remove duplicated after preprocessing\n",
    "_, idx = np.unique(df[\"tokens\"], return_index=True)\n",
    "df_proc = df.iloc[idx, :]\n",
    "\n",
    "# Remove empty values\n",
    "df_proc = df_proc.loc[df_proc.tokens.map(lambda x: len(x) > 0)]\n",
    "\n",
    "df.shape, df_proc.shape"
   ]
  },
  {
   "cell_type": "markdown",
   "metadata": {},
   "source": [
    "## Review vocabulary"
   ]
  },
  {
   "cell_type": "code",
   "execution_count": 26,
   "metadata": {},
   "outputs": [],
   "source": [
    "docs = df_proc[\"text\"].values\n",
    "tokenized_docs = df_proc[\"tokens\"].values\n",
    "vocab = Counter()\n",
    "for token in tokenized_docs:\n",
    "    vocab.update(token)"
   ]
  },
  {
   "cell_type": "code",
   "execution_count": 27,
   "metadata": {},
   "outputs": [
    {
     "data": {
      "text/plain": [
       "32454"
      ]
     },
     "execution_count": 27,
     "metadata": {},
     "output_type": "execute_result"
    }
   ],
   "source": [
    "len(vocab)"
   ]
  },
  {
   "cell_type": "code",
   "execution_count": 28,
   "metadata": {},
   "outputs": [
    {
     "data": {
      "text/plain": [
       "[('us', 2757),\n",
       " ('said', 2519),\n",
       " ('year', 1781),\n",
       " ('president', 1756),\n",
       " ('trump', 1705),\n",
       " ('world', 1620),\n",
       " ('says', 1511),\n",
       " ('one', 1418),\n",
       " ('two', 1284),\n",
       " ('first', 1195)]"
      ]
     },
     "execution_count": 28,
     "metadata": {},
     "output_type": "execute_result"
    }
   ],
   "source": [
    "vocab.most_common(10)"
   ]
  },
  {
   "cell_type": "markdown",
   "metadata": {},
   "source": [
    "## Load pre-trained FastText model"
   ]
  },
  {
   "cell_type": "code",
   "execution_count": 29,
   "metadata": {},
   "outputs": [],
   "source": [
    "model = api.load(\"fasttext-wiki-news-subwords-300\")"
   ]
  },
  {
   "cell_type": "code",
   "execution_count": 35,
   "metadata": {},
   "outputs": [
    {
     "data": {
      "text/plain": [
       "[('trumps', 0.8457011580467224),\n",
       " ('trumping', 0.7876768708229065),\n",
       " ('non-trump', 0.7490020394325256),\n",
       " ('trumped', 0.7124733328819275),\n",
       " ('notrump', 0.6544546484947205),\n",
       " ('supercede', 0.6326021552085876),\n",
       " ('overrule', 0.6288058161735535),\n",
       " ('no-trump', 0.627895176410675),\n",
       " ('override', 0.6258442401885986),\n",
       " ('supersede', 0.6115216016769409)]"
      ]
     },
     "execution_count": 35,
     "metadata": {},
     "output_type": "execute_result"
    }
   ],
   "source": [
    "model.most_similar(\"trump\")"
   ]
  },
  {
   "cell_type": "code",
   "execution_count": 36,
   "metadata": {},
   "outputs": [
    {
     "data": {
      "text/plain": [
       "[('facebook.', 0.8114862442016602),\n",
       " ('facebooks', 0.7959319949150085),\n",
       " ('Facebook', 0.7885890007019043),\n",
       " ('twitter', 0.7708379030227661),\n",
       " ('facebook.com', 0.7622057199478149),\n",
       " ('facebooking', 0.737972617149353),\n",
       " ('non-Facebook', 0.7352786064147949),\n",
       " ('instagram', 0.7332959771156311),\n",
       " ('Facebook.', 0.7232986688613892),\n",
       " ('myspace', 0.7073581218719482)]"
      ]
     },
     "execution_count": 36,
     "metadata": {},
     "output_type": "execute_result"
    }
   ],
   "source": [
    "model.most_similar(\"facebook\")"
   ]
  },
  {
   "cell_type": "markdown",
   "metadata": {},
   "source": [
    "## Generate vectors from documents"
   ]
  },
  {
   "cell_type": "code",
   "execution_count": 37,
   "metadata": {},
   "outputs": [],
   "source": [
    "def vectorize(list_of_docs, model, strategy):\n",
    "    features = []\n",
    "    size_output = model.vector_size\n",
    "    embedding_dict = model\n",
    "\n",
    "    if strategy == \"min-max\":\n",
    "        size_output *= 2\n",
    "\n",
    "    if hasattr(model, \"wv\"):\n",
    "        embedding_dict = model.wv\n",
    "\n",
    "    for tokens in list_of_docs:\n",
    "        zero_vector = np.zeros(size_output)\n",
    "        vectors = []\n",
    "        for token in tokens:\n",
    "            if token in embedding_dict:\n",
    "                try:\n",
    "                    vectors.append(embedding_dict[token])\n",
    "                except KeyError:\n",
    "                    continue\n",
    "        if vectors:\n",
    "            vectors = np.asarray(vectors)\n",
    "            if strategy == \"min-max\":\n",
    "                min_vec = vectors.min(axis=0)\n",
    "                max_vec = vectors.max(axis=0)\n",
    "                features.append(np.concatenate((min_vec, max_vec)))\n",
    "            elif strategy == \"average\":\n",
    "                avg_vec = vectors.mean(axis=0)\n",
    "                features.append(avg_vec)\n",
    "            else:\n",
    "                raise ValueError(f\"Aggregation strategy {strategy} does not exist!\")\n",
    "        else:\n",
    "            features.append(zero_vector)\n",
    "    return features"
   ]
  },
  {
   "cell_type": "code",
   "execution_count": 38,
   "metadata": {},
   "outputs": [
    {
     "data": {
      "text/plain": [
       "(9882, 600)"
      ]
     },
     "execution_count": 38,
     "metadata": {},
     "output_type": "execute_result"
    }
   ],
   "source": [
    "vectorized_docs = vectorize(tokenized_docs, model=model, strategy=\"min-max\")\n",
    "len(vectorized_docs), len(vectorized_docs[0])"
   ]
  },
  {
   "cell_type": "markdown",
   "metadata": {},
   "source": [
    "## Choose number of clusters"
   ]
  },
  {
   "cell_type": "code",
   "execution_count": 39,
   "metadata": {},
   "outputs": [],
   "source": [
    "def generate_clusters(X, k, mb=500, random_state=42):\n",
    "    clustering = MiniBatchKMeans(n_clusters=k, batch_size=mb, random_state=random_state)\n",
    "    cluster_labels = clustering.fit_predict(X)\n",
    "    print(f\"For n_clusters = {k}\")\n",
    "    silhouette_avg = silhouette_score(X, cluster_labels)\n",
    "    print(f\"The average Silhouette_score is: {silhouette_avg:.2f}\")\n",
    "    sample_silhouette_values = silhouette_samples(X, cluster_labels)\n",
    "    for i in range(k):\n",
    "        ith_cluster_silhouette_values = sample_silhouette_values[cluster_labels == i]\n",
    "        print(\n",
    "            f\"    Silhoute values for cluster {i}: \"\n",
    "            f\"Size:{ith_cluster_silhouette_values.shape[0]}\"\n",
    "            f\"| Min:{ith_cluster_silhouette_values.min():.2f}\"\n",
    "            f\"| Avg:{ith_cluster_silhouette_values.mean():.2f}\"\n",
    "            f\"| Max: {ith_cluster_silhouette_values.max():.2f}\"\n",
    "        )\n",
    "    try:\n",
    "        print(f\"The Inertia is :{clustering.inertia_}\")\n",
    "        distorsions.append(clustering.inertia_)\n",
    "    except:\n",
    "        pass\n",
    "    return clustering, cluster_labels"
   ]
  },
  {
   "cell_type": "code",
   "execution_count": 40,
   "metadata": {
    "scrolled": true
   },
   "outputs": [
    {
     "data": {
      "application/vnd.jupyter.widget-view+json": {
       "model_id": "6802627a930c43d6a0baeff650f8120c",
       "version_major": 2,
       "version_minor": 0
      },
      "text/plain": [
       "HBox(children=(HTML(value=''), FloatProgress(value=0.0, max=8.0), HTML(value='')))"
      ]
     },
     "metadata": {},
     "output_type": "display_data"
    },
    {
     "name": "stdout",
     "output_type": "stream",
     "text": [
      "For n_clusters = 2\n",
      "The average Silhouette_score is: 0.08\n",
      "    Silhoute values for cluster 0: Size:6113| Min:0.05| Avg:0.13| Max: 0.22\n",
      "    Silhoute values for cluster 1: Size:3769| Min:-0.08| Avg:-0.01| Max: 0.11\n",
      "The Inertia is :8074.997826727096\n",
      "For n_clusters = 3\n",
      "The average Silhouette_score is: 0.07\n",
      "    Silhoute values for cluster 0: Size:4477| Min:0.04| Avg:0.12| Max: 0.22\n",
      "    Silhoute values for cluster 1: Size:3846| Min:-0.09| Avg:-0.01| Max: 0.10\n",
      "    Silhoute values for cluster 2: Size:1559| Min:0.01| Avg:0.11| Max: 0.15\n",
      "The Inertia is :7698.559388467913\n",
      "For n_clusters = 4\n",
      "The average Silhouette_score is: 0.06\n",
      "    Silhoute values for cluster 0: Size:725| Min:-0.10| Avg:-0.02| Max: 0.08\n",
      "    Silhoute values for cluster 1: Size:1469| Min:0.03| Avg:0.12| Max: 0.17\n",
      "    Silhoute values for cluster 2: Size:4519| Min:0.02| Avg:0.10| Max: 0.20\n",
      "    Silhoute values for cluster 3: Size:3169| Min:-0.05| Avg:0.00| Max: 0.08\n",
      "The Inertia is :7576.4976268001055\n",
      "For n_clusters = 5\n",
      "The average Silhouette_score is: 0.04\n",
      "    Silhoute values for cluster 0: Size:1913| Min:-0.09| Avg:-0.02| Max: 0.10\n",
      "    Silhoute values for cluster 1: Size:220| Min:0.07| Avg:0.14| Max: 0.18\n",
      "    Silhoute values for cluster 2: Size:1475| Min:0.01| Avg:0.11| Max: 0.16\n",
      "    Silhoute values for cluster 3: Size:3553| Min:-0.03| Avg:0.02| Max: 0.10\n",
      "    Silhoute values for cluster 4: Size:2721| Min:0.00| Avg:0.07| Max: 0.18\n",
      "The Inertia is :7433.064355084163\n",
      "For n_clusters = 6\n",
      "The average Silhouette_score is: 0.03\n",
      "    Silhoute values for cluster 0: Size:959| Min:0.01| Avg:0.05| Max: 0.17\n",
      "    Silhoute values for cluster 1: Size:3200| Min:-0.01| Avg:0.03| Max: 0.07\n",
      "    Silhoute values for cluster 2: Size:1482| Min:0.01| Avg:0.11| Max: 0.15\n",
      "    Silhoute values for cluster 3: Size:1773| Min:-0.10| Avg:-0.02| Max: 0.09\n",
      "    Silhoute values for cluster 4: Size:2097| Min:-0.04| Avg:-0.00| Max: 0.07\n",
      "    Silhoute values for cluster 5: Size:371| Min:-0.03| Avg:0.08| Max: 0.22\n",
      "The Inertia is :7353.098570901889\n",
      "For n_clusters = 7\n",
      "The average Silhouette_score is: 0.02\n",
      "    Silhoute values for cluster 0: Size:1410| Min:0.01| Avg:0.05| Max: 0.16\n",
      "    Silhoute values for cluster 1: Size:1962| Min:-0.03| Avg:-0.00| Max: 0.07\n",
      "    Silhoute values for cluster 2: Size:621| Min:-0.10| Avg:-0.03| Max: 0.08\n",
      "    Silhoute values for cluster 3: Size:934| Min:0.05| Avg:0.14| Max: 0.20\n",
      "    Silhoute values for cluster 4: Size:627| Min:-0.09| Avg:-0.02| Max: 0.12\n",
      "    Silhoute values for cluster 5: Size:3025| Min:-0.02| Avg:0.02| Max: 0.05\n",
      "    Silhoute values for cluster 6: Size:1303| Min:-0.08| Avg:-0.00| Max: 0.09\n",
      "The Inertia is :7321.595767948852\n",
      "For n_clusters = 8\n",
      "The average Silhouette_score is: 0.03\n",
      "    Silhoute values for cluster 0: Size:1756| Min:-0.00| Avg:0.06| Max: 0.17\n",
      "    Silhoute values for cluster 1: Size:1921| Min:-0.09| Avg:-0.03| Max: 0.08\n",
      "    Silhoute values for cluster 2: Size:715| Min:-0.10| Avg:-0.03| Max: 0.08\n",
      "    Silhoute values for cluster 3: Size:531| Min:-0.01| Avg:0.07| Max: 0.17\n",
      "    Silhoute values for cluster 4: Size:818| Min:0.06| Avg:0.14| Max: 0.21\n",
      "    Silhoute values for cluster 5: Size:2533| Min:-0.02| Avg:0.01| Max: 0.06\n",
      "    Silhoute values for cluster 6: Size:1388| Min:-0.02| Avg:0.03| Max: 0.10\n",
      "    Silhoute values for cluster 7: Size:220| Min:0.03| Avg:0.13| Max: 0.17\n",
      "The Inertia is :7226.771929047162\n",
      "For n_clusters = 9\n",
      "The average Silhouette_score is: 0.04\n",
      "    Silhoute values for cluster 0: Size:307| Min:-0.11| Avg:0.03| Max: 0.14\n",
      "    Silhoute values for cluster 1: Size:2508| Min:-0.03| Avg:0.01| Max: 0.05\n",
      "    Silhoute values for cluster 2: Size:1441| Min:-0.04| Avg:0.10| Max: 0.15\n",
      "    Silhoute values for cluster 3: Size:1331| Min:-0.02| Avg:0.03| Max: 0.09\n",
      "    Silhoute values for cluster 4: Size:503| Min:-0.05| Avg:0.01| Max: 0.08\n",
      "    Silhoute values for cluster 5: Size:1675| Min:0.01| Avg:0.06| Max: 0.17\n",
      "    Silhoute values for cluster 6: Size:168| Min:0.04| Avg:0.16| Max: 0.22\n",
      "    Silhoute values for cluster 7: Size:328| Min:0.06| Avg:0.16| Max: 0.22\n",
      "    Silhoute values for cluster 8: Size:1621| Min:-0.10| Avg:-0.02| Max: 0.06\n",
      "The Inertia is :7154.870200746178\n",
      "\n"
     ]
    }
   ],
   "source": [
    "distorsions = []\n",
    "for k in tqdm(range(2, 10)):\n",
    "    generate_clusters(vectorized_docs, k)"
   ]
  },
  {
   "cell_type": "markdown",
   "metadata": {},
   "source": [
    "## Analyze generated clusters"
   ]
  },
  {
   "cell_type": "code",
   "execution_count": 41,
   "metadata": {},
   "outputs": [
    {
     "name": "stdout",
     "output_type": "stream",
     "text": [
      "For n_clusters = 5\n",
      "The average Silhouette_score is: 0.04\n",
      "    Silhoute values for cluster 0: Size:1913| Min:-0.09| Avg:-0.02| Max: 0.10\n",
      "    Silhoute values for cluster 1: Size:220| Min:0.07| Avg:0.14| Max: 0.18\n",
      "    Silhoute values for cluster 2: Size:1475| Min:0.01| Avg:0.11| Max: 0.16\n",
      "    Silhoute values for cluster 3: Size:3553| Min:-0.03| Avg:0.02| Max: 0.10\n",
      "    Silhoute values for cluster 4: Size:2721| Min:0.00| Avg:0.07| Max: 0.18\n",
      "The Inertia is :7433.064355084163\n"
     ]
    }
   ],
   "source": [
    "clustering, cluster_labels = generate_clusters(vectorized_docs, 5)"
   ]
  },
  {
   "cell_type": "code",
   "execution_count": 42,
   "metadata": {},
   "outputs": [],
   "source": [
    "df_clusters = pd.DataFrame({\n",
    "    \"text\": docs,\n",
    "    \"tokens\": [\" \".join(text) for text in tokenized_docs],\n",
    "    \"cluster\": cluster_labels\n",
    "})"
   ]
  },
  {
   "cell_type": "markdown",
   "metadata": {},
   "source": [
    "### Most frequent tokens"
   ]
  },
  {
   "cell_type": "code",
   "execution_count": 43,
   "metadata": {
    "scrolled": true
   },
   "outputs": [
    {
     "data": {
      "text/plain": [
       "[('us', 2623),\n",
       " ('trump', 629),\n",
       " ('president', 498),\n",
       " ('said', 482),\n",
       " ('world', 331),\n",
       " ('reuters', 328),\n",
       " ('donald', 298),\n",
       " ('trade', 271),\n",
       " ('says', 268),\n",
       " ('states', 264),\n",
       " ('united', 259),\n",
       " ('year', 242),\n",
       " ('thursday', 217),\n",
       " ('china', 210),\n",
       " ('find', 209),\n",
       " ('house', 204),\n",
       " ('national', 204),\n",
       " ('tuesday', 189),\n",
       " ('facebook', 186),\n",
       " ('one', 178),\n",
       " ('hurricane', 177),\n",
       " ('state', 173),\n",
       " ('washington', 164),\n",
       " ('officials', 163),\n",
       " ('two', 162),\n",
       " ('former', 154),\n",
       " ('talks', 153),\n",
       " ('oil', 151),\n",
       " ('war', 148),\n",
       " ('trumps', 145),\n",
       " ('could', 145),\n",
       " ('first', 144),\n",
       " ('dorian', 144),\n",
       " ('video', 142),\n",
       " ('friday', 139),\n",
       " ('week', 130),\n",
       " ('according', 129),\n",
       " ('people', 128),\n",
       " ('happening', 126),\n",
       " ('since', 125),\n",
       " ('get', 125),\n",
       " ('whats', 125),\n",
       " ('last', 125),\n",
       " ('would', 125),\n",
       " ('million', 124),\n",
       " ('chat', 123),\n",
       " ('york', 122),\n",
       " ('messenger', 122),\n",
       " ('unfolds', 122),\n",
       " ('federal', 122)]"
      ]
     },
     "execution_count": 43,
     "metadata": {},
     "output_type": "execute_result"
    }
   ],
   "source": [
    "test_cluster = 2\n",
    "Counter(\" \".join(df_clusters.query(f\"cluster == {test_cluster}\")[\"tokens\"]).split()).most_common(50)"
   ]
  },
  {
   "cell_type": "markdown",
   "metadata": {},
   "source": [
    "### Most representative documents"
   ]
  },
  {
   "cell_type": "code",
   "execution_count": 44,
   "metadata": {
    "scrolled": true
   },
   "outputs": [
    {
     "name": "stdout",
     "output_type": "stream",
     "text": [
      "U.S. wants 'near term' results from new China trade talks: Kudlow | The Trump administration wants to see \"near term results\" from U.S.-China trade talks in September and October, White House economic adviser Larry Kudlow said on Friday, but he declined to predict any outcomes or say if U.S. tariff delays were possible. | WASHINGTON (Reuters) - The Trump administration wants to see “near term results” from U.S.-China trade talks in September and October, White House economic adviser Larry Kudlow said on Friday, but he declined to predict any outcomes or say if U.S. tariff dela… [+2318 chars]\n",
      "-------------\n",
      "China Wants to Change the Conversation Around Trade War to End Standoff with U.S. | \"I think there's a couple more chapters yet to be written in the trade war,\" James McCormack, the global head of sovereign ratings at Fitch, told CNBC on Thursday. | China is seeking to shift the breadth of its trade talks with the United States in hopes of catalyzing an agreement to end the protracted dispute between the world's two largest economies, according to an exclusiveWall Street Journal report published on Thurs… [+2344 chars]\n",
      "-------------\n",
      "U.S. Says Russia Orchestrated Chechen Rebel’s Murder in Germany | The murder is rekindling concerns that Moscow is ramping up a foreign assassination campaign against perceived enemies abroad | U.S. officials believe Russia was behind the murder last month of a former Chechen rebel in Germany, U.S. officials said Tuesday, latest fatality in a flurry of assassinations that has claimed the lives of the countrys perceived enemies abroad.\n",
      "The victim, a… [+275 chars]\n",
      "-------------\n",
      "Former Reagan Adviser Says Every Day Trump Is President 'Is a Day of Disgrace,' 'and a Day of Danger' | Peter Wehner says he feared for U.S. president's mental state even before he took office. | A political adviser who served in three presidential administrations has said that he was worried about Donald Trump's mental state before he even took office.\n",
      "Among roles that Peter Wehner held at the White House was director of speech writing for George W.… [+2814 chars]\n",
      "-------------\n",
      "Cleanup resumes in Bahamas as Humberto swirls away | Weather forecasters said Humberto would likely become a hurricane by ?Sunday night?, but would remain far away from the Bahamas and the U.S. coast by the time it had intensified to that strength | Jeffrey Roberts lifted a mustard-yellow curtain from the ground as he looked for passports and other documents at the site where his family's home once stood in Grand Bahama.\n",
      "He then moved the cloth aside, picked up a pair of old, rusty pliers, and continued… [+2572 chars]\n",
      "-------------\n",
      "CBP Credits Drop In Arrivals Of Asylum Seekers At U.S. Border To Trump—Not Seasonal Trends | \"President Trump is making it clear that if you come to the United States of America illegally, you will be removed,\" said U.S. Customs and Border Protection agency acting Commissioner Mark Morgan. | The U.S. Customs and Border Protection has praised President Donald Trump and his administration for being behind a sharp decline in the number of migrants apprehended at the U.S.-Mexico border.\n",
      "In a press conference on Monday, CBP acting Commissioner Mark M… [+4220 chars]\n",
      "-------------\n",
      "Thousands Flee Southeast U.S., Heavy Traffic Ensues Ahead of Hurricane Dorian | \"We know we can't make everybody happy, but we believe we can keep everyone alive,\" South Carolina Governor Henry McMaster said during a press conference on Sunday. | Millions in Florida, Georgia and the Carolinas are facing evacuation orders ahead of Hurricane Dorian's possible landfall in the Southeastern U.S. The storm, which has been downgraded to a category 2 Tuesday, is continuing north after ripping through the Baha… [+2835 chars]\n",
      "-------------\n",
      "No nuclear deal rescue in sight, Iran poised to crank up enrichment | President Trump began unravelling the 2015 agreement by pulling U.S. out, and Iran gave Europe until Friday to find a way to keep it alive | Jakarta, Indonesia — Iran's foreign minister defended his country's plan to take further steps away from the 2015 nuclear deal with world powers if Europe fails to provide a solution on reviving it by a deadline that expires Friday. The remarks by Mohammad Ja… [+4738 chars]\n",
      "-------------\n",
      "Eritrea tops CPJ list of worst countries for press censorship | Media watchdog says 'authoritarian nations double down' on censorship by using extreme measures to silence journalists. | Eritrea is the world's most censored country, according to a new report by a media watchdog which also cites extreme measures taken by authorities in nine other countries, including North Korea, China and Saudi Arabia.\n",
      "The US-based Committee to Protect Journ… [+3668 chars]\n",
      "-------------\n",
      "Pelosi: We are getting involved in the coverup of the coverup | House Speaker Nancy Pelosi said that Attorney General William Barr has \"gone rogue,\" citing the Justice Department's handling of the Ukraine scandal, adding that House Democrats will not rush their impeachment inquiry into President Donald Trump. | Chat with us in Facebook Messenger. Find out what's happening in the world as it unfolds.\n",
      "-------------\n"
     ]
    }
   ],
   "source": [
    "most_representative_docs = np.argsort(\n",
    "    np.linalg.norm(vectorized_docs - clustering.cluster_centers_[test_cluster], axis=1)\n",
    ")\n",
    "for d in most_representative_docs[:10]:\n",
    "    print(docs[d])\n",
    "    print(\"-------------\")"
   ]
  },
  {
   "cell_type": "markdown",
   "metadata": {},
   "source": [
    "### Random sample of documents"
   ]
  },
  {
   "cell_type": "code",
   "execution_count": 45,
   "metadata": {
    "scrolled": true
   },
   "outputs": [
    {
     "name": "stdout",
     "output_type": "stream",
     "text": [
      "Jay Inslee Won the 2020 Presidential Climate Change Town Hall and Four More Takeaways | Perhaps Washington Governor and 2020 dropout Jay Inslee has Washington D.C. in his future after all. Climate czar has a nice ring to it. | On Wednesday, the 10 top 2020 Democratic candidates took to New York City to participate in a seven hour series of CNN town halls on just one topic: climate change.\n",
      "As Hurricane Dorian threatened the east coast of the U.S., the candidates answered a number o… [+5939 chars]\n",
      "-------------\n",
      "US impeachment inquiry: Trump calls investigation a 'coup' | Trump has repeatedly tried to discredit the whistle-blower, a US intelligence officer who remains anonymous. | US President Donald Trump has denounced an impeachment investigation against him as a coup.\n",
      "A war of words between House Democrats and a key member of his cabinet has erupted in Washington, DC, as more witnesses are being called to testify in an impeachment … [+68 chars]\n",
      "-------------\n",
      "Trump wins biggest-ever WTO ruling, opening the door for $7.5 billion of tariffs on Europe | The World Trade Organization on Wednesday gave the Trump administration the green light to slap roughly $7.5 billion worth of tariffs on goods coming from the European Union. The tariffs come amid a standoff over EU-based Airbus and US-based Boeing that's str… | Reuters\n",
      "<ul><li>The World Trade Organization on Wednesday gave the Trump administration the green light to slap roughly $7.5 billion worth of tariffs on goods coming from the European Union.</li><li>The tariffs come amid a standoff over EU-based Airbus and U… [+2685 chars]\n",
      "-------------\n",
      "Jeremy Corbyn says Boris Johnson wants a 'Trump-deal Brexit' | British Prime Minister Boris Johnson presented his Brexit proposal to Parliament, saying that if the UK leaves the EU without a deal it will be a \"failure of statecraft for which all parties will be held responsible.\" | Chat with us in Facebook Messenger. Find out what's happening in the world as it unfolds.\n",
      "-------------\n",
      "William McRaven talks with Michael Morell on \"Intelligence Matters\" | This week, on \"Intelligence Matters,\" host Michael Morell speaks with retired United States Navy Admiral William McRaven | Download, rate and subscribe here: iTunes, Spotify and Stitcher.\n",
      "In this episode of Intelligence Matters, host Michael Morell speaks with retired U.S. Navy Admiral William \"Bill\" McRaven, who served as commander of U.S. Special Operations Command from 2011 a… [+41580 chars]\n",
      "-------------\n",
      "Here's how you can help Hurricane Dorian victims | As Hurricane Dorian batters the Bahamas, residents are reporting widespread devastation -- water covering everything in its path. Homes are submerged, families are trapped, and lives have been lost.  Here's how you can help the victims. | (CNN)As Hurricane Dorian batters the Bahamas, residents are reporting widespread devastation -- homes ripped apart, water covering everything in its path. Families are trapped and lives lost. Right now, the U.S. Coast Guard is helping the Bahamas Royal Police… [+525 chars]\n",
      "-------------\n",
      "U.S. Open Tennis 2019: Women's Final Start Time, How to Watch, Live Stream and Odds | Serena Williams looks for a record-equalling 24th Grand Slam title, while Bianca Andreescu could become the first Canadian to win a major. | Serena Williams is one win away from equalling Margaret Court as the most successful player in the history of tennis.\n",
      "The 37-year-old has 23 Grand Slam titles to her name but has the chance of draw level with Court if she beats Bianca Andreescu in the U.S. O… [+3557 chars]\n",
      "-------------\n",
      "One suspect dead after Border Patrol agent shot at traffic stop | Two agents pulled over a vehicle Friday evening near Brackettville when a person inside the vehicle fired on them, officials said | A Border Patrol agent has been shot and one suspect is dead following a traffic stop east of the border city of Del Rio. The agent was hospitalized with non-life-threatening injuries, U.S. Customs and Border Protection said in a statement. \n",
      " CBP said that tw… [+616 chars]\n",
      "-------------\n",
      "US economy adds 130,000 jobs in August | The US economy added 130,000 jobs in August. The unemployment rate remained steady at 3.7%. | \n",
      "-------------\n",
      "Mnuchin, Top Administration Officials to Testify on Fannie and Freddie Overhaul Effort - The Wall Street Journal | Mnuchin, Top Administration Officials to Testify on Fannie and Freddie Overhaul Effort The Wall Street Journal Steven Mnuchin: Trade tensions haven't impacted US economy Fox Business Trump faces tough path to Fannie Mae, Freddie Mac overhaul | TheHill The Hil… | Treasury Secretary Steven Mnuchin is scheduled to testify before the Senate Banking Committee on Tuesday, starting at 10 a.m. EDT, about his departments efforts to overhaul mortgage-finance giants Fannie Mae and Freddie Mac. \n",
      "His testimony comes five days af… [+179 chars]\n",
      "-------------\n"
     ]
    }
   ],
   "source": [
    "for i,t in enumerate(df_clusters.query(f\"cluster == {test_cluster}\").sample(10).iterrows()):\n",
    "    print(t[1][\"text\"])\n",
    "    print(\"-------------\")"
   ]
  }
 ],
 "metadata": {
  "kernelspec": {
   "display_name": "Python 3",
   "language": "python",
   "name": "python3"
  },
  "language_info": {
   "codemirror_mode": {
    "name": "ipython",
    "version": 3
   },
   "file_extension": ".py",
   "mimetype": "text/x-python",
   "name": "python",
   "nbconvert_exporter": "python",
   "pygments_lexer": "ipython3",
   "version": "3.9.0"
  }
 },
 "nbformat": 4,
 "nbformat_minor": 4
}
