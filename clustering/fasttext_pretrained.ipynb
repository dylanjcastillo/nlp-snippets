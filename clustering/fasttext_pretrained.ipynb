{
 "cells": [
  {
   "cell_type": "markdown",
   "metadata": {},
   "source": [
    "## Import required libraries"
   ]
  },
  {
   "cell_type": "code",
   "execution_count": 1,
   "metadata": {},
   "outputs": [
    {
     "name": "stderr",
     "output_type": "stream",
     "text": [
      "[nltk_data] Downloading package stopwords to\n",
      "[nltk_data]     /Users/dylancastillo/nltk_data...\n",
      "[nltk_data]   Package stopwords is already up-to-date!\n"
     ]
    }
   ],
   "source": [
    "import os\n",
    "from collections import Counter\n",
    "from time import time\n",
    "\n",
    "import gensim\n",
    "import numpy as np\n",
    "import pandas as pd\n",
    "import gensim.downloader as api\n",
    "from gensim.models import Word2Vec\n",
    "from tqdm.notebook import tqdm\n",
    "\n",
    "from ds_utils.config import set_display_options\n",
    "from ds_utils.clustering import Tokenizer, load_data, clean_news_data, vectorize, mbkmeans_clusters\n",
    "\n",
    "set_display_options()"
   ]
  },
  {
   "cell_type": "markdown",
   "metadata": {},
   "source": [
    "## Read data"
   ]
  },
  {
   "cell_type": "code",
   "execution_count": 2,
   "metadata": {},
   "outputs": [],
   "source": [
    "df = load_data(\"news\")"
   ]
  },
  {
   "cell_type": "code",
   "execution_count": 3,
   "metadata": {},
   "outputs": [
    {
     "data": {
      "text/plain": [
       "(10437, 15)"
      ]
     },
     "execution_count": 3,
     "metadata": {},
     "output_type": "execute_result"
    }
   ],
   "source": [
    "df.shape"
   ]
  },
  {
   "cell_type": "code",
   "execution_count": 4,
   "metadata": {},
   "outputs": [
    {
     "data": {
      "text/plain": [
       "Index(['Unnamed: 0', 'source_id', 'source_name', 'author', 'title',\n",
       "       'description', 'url', 'url_to_image', 'published_at', 'content',\n",
       "       'top_article', 'engagement_reaction_count', 'engagement_comment_count',\n",
       "       'engagement_share_count', 'engagement_comment_plugin_count'],\n",
       "      dtype='object')"
      ]
     },
     "execution_count": 4,
     "metadata": {},
     "output_type": "execute_result"
    }
   ],
   "source": [
    "df.columns"
   ]
  },
  {
   "cell_type": "markdown",
   "metadata": {},
   "source": [
    "## Clean data"
   ]
  },
  {
   "cell_type": "code",
   "execution_count": 5,
   "metadata": {},
   "outputs": [
    {
     "name": "stdout",
     "output_type": "stream",
     "text": [
      "Original dataframe: (10437, 15)\n",
      "Pre-processed dataframe: (9882, 2)\n"
     ]
    }
   ],
   "source": [
    "df = clean_news_data(df)"
   ]
  },
  {
   "cell_type": "code",
   "execution_count": 6,
   "metadata": {},
   "outputs": [
    {
     "data": {
      "text/html": [
       "<div>\n",
       "<style scoped>\n",
       "    .dataframe tbody tr th:only-of-type {\n",
       "        vertical-align: middle;\n",
       "    }\n",
       "\n",
       "    .dataframe tbody tr th {\n",
       "        vertical-align: top;\n",
       "    }\n",
       "\n",
       "    .dataframe thead th {\n",
       "        text-align: right;\n",
       "    }\n",
       "</style>\n",
       "<table border=\"1\" class=\"dataframe\">\n",
       "  <thead>\n",
       "    <tr style=\"text-align: right;\">\n",
       "      <th></th>\n",
       "      <th>6557</th>\n",
       "    </tr>\n",
       "  </thead>\n",
       "  <tbody>\n",
       "    <tr>\n",
       "      <th>text</th>\n",
       "      <td>Expert: Serial murderers' victim selection \"often very specific\" | Forensic psychologist Kris Mohandie explains what drives serial killers like Michael Gargiulo | Kris Mohandie is a clinical, police and forensic psychologist with more than 30 years of experience in the psychology of violence. He has conducted extensive interviews of violent offenders, including stalkers, hostage takers, and serial murderers. He is a \"4… [+1537 chars]</td>\n",
       "    </tr>\n",
       "    <tr>\n",
       "      <th>tokens</th>\n",
       "      <td>[expert, serial, murderers, victim, selection, often, specific, forensic, psychologist, kris, mohandie, explains, drives, serial, killers, like, michael, gargiulo, kris, mohandie, clinical, police, forensic, psychologist, years, experience, psychology, violence, conducted, extensive, interviews, violent, offenders, including, stalkers, hostage, takers, serial, murderers]</td>\n",
       "    </tr>\n",
       "  </tbody>\n",
       "</table>\n",
       "</div>"
      ],
      "text/plain": [
       "                                                                                                                                                                                                                                                                                                                                                                                                                                                         6557\n",
       "text    Expert: Serial murderers' victim selection \"often very specific\" | Forensic psychologist Kris Mohandie explains what drives serial killers like Michael Gargiulo | Kris Mohandie is a clinical, police and forensic psychologist with more than 30 years of experience in the psychology of violence. He has conducted extensive interviews of violent offenders, including stalkers, hostage takers, and serial murderers. He is a \"4… [+1537 chars]\n",
       "tokens                                                                  [expert, serial, murderers, victim, selection, often, specific, forensic, psychologist, kris, mohandie, explains, drives, serial, killers, like, michael, gargiulo, kris, mohandie, clinical, police, forensic, psychologist, years, experience, psychology, violence, conducted, extensive, interviews, violent, offenders, including, stalkers, hostage, takers, serial, murderers]"
      ]
     },
     "execution_count": 6,
     "metadata": {},
     "output_type": "execute_result"
    }
   ],
   "source": [
    "df.sample(1).T"
   ]
  },
  {
   "cell_type": "markdown",
   "metadata": {},
   "source": [
    "## Review tokens and vocabulary"
   ]
  },
  {
   "cell_type": "markdown",
   "metadata": {},
   "source": [
    "### Tokens"
   ]
  },
  {
   "cell_type": "code",
   "execution_count": 7,
   "metadata": {},
   "outputs": [
    {
     "name": "stdout",
     "output_type": "stream",
     "text": [
      "SAMPLE TEXT: Apple to reveal streaming service prices while iPhones in 'holding pattern' until 5G | Apple Inc kicked off Tuesday its presentation where it is expected to announce pricing for its forthcoming streaming TV service as well as updates to its iPhone lineup, as the tech giant reaches a turning point where it focuses as much on services as its hard… | CUPERTINO, Calif. (Reuters) - Apple Inc kicked off Tuesday its presentation where it is expected to announce pricing for its forthcoming streaming TV service as well as updates to its iPhone lineup, as the tech giant reaches a turning point where it focuses a… [+4301 chars]\n",
      "------\n",
      "TOKENS: ['apple', 'reveal', 'streaming', 'service', 'prices', 'iphones', 'holding', 'pattern', '5g', 'apple', 'inc', 'kicked', 'tuesday', 'presentation', 'expected', 'announce', 'pricing', 'forthcoming', 'streaming', 'tv', 'service', 'well', 'updates', 'iphone', 'lineup', 'tech', 'giant', 'reaches', 'turning', 'point', 'focuses', 'much', 'services', 'cupertino', 'calif', 'reuters', 'apple', 'inc', 'kicked', 'tuesday', 'presentation', 'expected', 'announce', 'pricing', 'forthcoming', 'streaming', 'tv', 'service', 'well', 'updates', 'iphone', 'lineup', 'tech', 'giant', 'reaches', 'turning', 'point', 'focuses']\n"
     ]
    }
   ],
   "source": [
    "sample_text = df.sample(1)\n",
    "print(f\"SAMPLE TEXT: {sample_text['text'].values[0]}\")\n",
    "print(f\"------\")\n",
    "print(f\"TOKENS: {sample_text['tokens'].values[0]}\")"
   ]
  },
  {
   "cell_type": "markdown",
   "metadata": {},
   "source": [
    "### Vocabulary"
   ]
  },
  {
   "cell_type": "code",
   "execution_count": 8,
   "metadata": {},
   "outputs": [],
   "source": [
    "docs = df[\"text\"].values\n",
    "tokenized_docs = df[\"tokens\"].values\n",
    "vocab = Counter()\n",
    "for token in tokenized_docs:\n",
    "    vocab.update(token)"
   ]
  },
  {
   "cell_type": "code",
   "execution_count": 9,
   "metadata": {},
   "outputs": [
    {
     "data": {
      "text/plain": [
       "32454"
      ]
     },
     "execution_count": 9,
     "metadata": {},
     "output_type": "execute_result"
    }
   ],
   "source": [
    "len(vocab)"
   ]
  },
  {
   "cell_type": "code",
   "execution_count": 10,
   "metadata": {},
   "outputs": [
    {
     "data": {
      "text/plain": [
       "[('us', 2757),\n",
       " ('said', 2519),\n",
       " ('year', 1781),\n",
       " ('president', 1756),\n",
       " ('trump', 1705),\n",
       " ('world', 1620),\n",
       " ('says', 1511),\n",
       " ('one', 1418),\n",
       " ('two', 1284),\n",
       " ('first', 1195)]"
      ]
     },
     "execution_count": 10,
     "metadata": {},
     "output_type": "execute_result"
    }
   ],
   "source": [
    "vocab.most_common(10)"
   ]
  },
  {
   "cell_type": "markdown",
   "metadata": {},
   "source": [
    "## Load pretrained FastText"
   ]
  },
  {
   "cell_type": "code",
   "execution_count": 11,
   "metadata": {},
   "outputs": [],
   "source": [
    "model = api.load(\"fasttext-wiki-news-subwords-300\")"
   ]
  },
  {
   "cell_type": "code",
   "execution_count": 13,
   "metadata": {},
   "outputs": [
    {
     "data": {
      "text/plain": [
       "[('trumps', 0.8457011580467224),\n",
       " ('trumping', 0.7876768708229065),\n",
       " ('non-trump', 0.7490020394325256),\n",
       " ('trumped', 0.7124733328819275),\n",
       " ('notrump', 0.6544546484947205),\n",
       " ('supercede', 0.6326021552085876),\n",
       " ('overrule', 0.6288058161735535),\n",
       " ('no-trump', 0.627895176410675),\n",
       " ('override', 0.6258442401885986),\n",
       " ('supersede', 0.6115216016769409)]"
      ]
     },
     "execution_count": 13,
     "metadata": {},
     "output_type": "execute_result"
    }
   ],
   "source": [
    "model.most_similar(\"trump\")"
   ]
  },
  {
   "cell_type": "code",
   "execution_count": 14,
   "metadata": {},
   "outputs": [
    {
     "data": {
      "text/plain": [
       "[('facebook.', 0.8114862442016602),\n",
       " ('facebooks', 0.7959319949150085),\n",
       " ('Facebook', 0.7885890007019043),\n",
       " ('twitter', 0.7708379030227661),\n",
       " ('facebook.com', 0.7622057199478149),\n",
       " ('facebooking', 0.737972617149353),\n",
       " ('non-Facebook', 0.7352786064147949),\n",
       " ('instagram', 0.7332959771156311),\n",
       " ('Facebook.', 0.7232986688613892),\n",
       " ('myspace', 0.7073581218719482)]"
      ]
     },
     "execution_count": 14,
     "metadata": {},
     "output_type": "execute_result"
    }
   ],
   "source": [
    "model.most_similar(\"facebook\")"
   ]
  },
  {
   "cell_type": "markdown",
   "metadata": {},
   "source": [
    "## Generate vectors from documents"
   ]
  },
  {
   "cell_type": "code",
   "execution_count": 16,
   "metadata": {},
   "outputs": [
    {
     "data": {
      "text/plain": [
       "(9882, 600)"
      ]
     },
     "execution_count": 16,
     "metadata": {},
     "output_type": "execute_result"
    }
   ],
   "source": [
    "vectorized_docs = vectorize(tokenized_docs, model=model, strategy=\"min-max\")\n",
    "len(vectorized_docs), len(vectorized_docs[0])"
   ]
  },
  {
   "cell_type": "markdown",
   "metadata": {},
   "source": [
    "## Generate and analyze clusters"
   ]
  },
  {
   "cell_type": "code",
   "execution_count": 17,
   "metadata": {
    "scrolled": true
   },
   "outputs": [
    {
     "name": "stdout",
     "output_type": "stream",
     "text": [
      "For n_clusters = 50\n",
      "Silhouette coefficient: 0.03\n",
      "Inertia:6280.486664220623\n",
      "Silhouette values:\n",
      "    Cluster 22: Size:54 | Avg:0.20 | Min:0.06 | Max: 0.28\n",
      "    Cluster 5: Size:2 | Avg:0.19 | Min:0.17 | Max: 0.22\n",
      "    Cluster 23: Size:74 | Avg:0.17 | Min:0.04 | Max: 0.22\n",
      "    Cluster 47: Size:55 | Avg:0.16 | Min:0.07 | Max: 0.22\n",
      "    Cluster 34: Size:48 | Avg:0.16 | Min:-0.00 | Max: 0.23\n",
      "    Cluster 19: Size:172 | Avg:0.14 | Min:-0.05 | Max: 0.23\n",
      "    Cluster 45: Size:27 | Avg:0.14 | Min:-0.01 | Max: 0.20\n",
      "    Cluster 9: Size:94 | Avg:0.13 | Min:0.05 | Max: 0.20\n",
      "    Cluster 42: Size:73 | Avg:0.12 | Min:-0.02 | Max: 0.17\n",
      "    Cluster 24: Size:285 | Avg:0.12 | Min:0.03 | Max: 0.19\n",
      "    Cluster 16: Size:71 | Avg:0.11 | Min:0.01 | Max: 0.15\n",
      "    Cluster 8: Size:237 | Avg:0.11 | Min:0.00 | Max: 0.16\n",
      "    Cluster 21: Size:167 | Avg:0.10 | Min:-0.06 | Max: 0.17\n",
      "    Cluster 18: Size:131 | Avg:0.10 | Min:-0.04 | Max: 0.16\n",
      "    Cluster 2: Size:135 | Avg:0.10 | Min:-0.03 | Max: 0.16\n",
      "    Cluster 36: Size:208 | Avg:0.09 | Min:-0.08 | Max: 0.15\n",
      "    Cluster 7: Size:507 | Avg:0.09 | Min:0.01 | Max: 0.17\n",
      "    Cluster 11: Size:154 | Avg:0.08 | Min:-0.06 | Max: 0.15\n",
      "    Cluster 39: Size:24 | Avg:0.06 | Min:-0.02 | Max: 0.14\n",
      "    Cluster 48: Size:108 | Avg:0.06 | Min:-0.02 | Max: 0.12\n",
      "    Cluster 3: Size:2 | Avg:0.06 | Min:-0.05 | Max: 0.18\n",
      "    Cluster 10: Size:147 | Avg:0.06 | Min:-0.19 | Max: 0.14\n",
      "    Cluster 15: Size:121 | Avg:0.03 | Min:-0.03 | Max: 0.09\n",
      "    Cluster 31: Size:295 | Avg:0.02 | Min:-0.02 | Max: 0.06\n",
      "    Cluster 44: Size:225 | Avg:0.02 | Min:-0.07 | Max: 0.06\n",
      "    Cluster 25: Size:82 | Avg:0.02 | Min:-0.02 | Max: 0.07\n",
      "    Cluster 43: Size:401 | Avg:0.02 | Min:-0.08 | Max: 0.07\n",
      "    Cluster 14: Size:93 | Avg:0.02 | Min:-0.07 | Max: 0.12\n",
      "    Cluster 20: Size:59 | Avg:0.02 | Min:-0.06 | Max: 0.09\n",
      "    Cluster 12: Size:431 | Avg:0.02 | Min:-0.02 | Max: 0.06\n",
      "    Cluster 38: Size:141 | Avg:0.01 | Min:-0.16 | Max: 0.07\n",
      "    Cluster 28: Size:319 | Avg:0.01 | Min:-0.07 | Max: 0.05\n",
      "    Cluster 4: Size:476 | Avg:0.00 | Min:-0.03 | Max: 0.05\n",
      "    Cluster 27: Size:1 | Avg:0.00 | Min:0.00 | Max: 0.00\n",
      "    Cluster 32: Size:1 | Avg:0.00 | Min:0.00 | Max: 0.00\n",
      "    Cluster 37: Size:1 | Avg:0.00 | Min:0.00 | Max: 0.00\n",
      "    Cluster 49: Size:417 | Avg:-0.00 | Min:-0.05 | Max: 0.06\n",
      "    Cluster 46: Size:574 | Avg:-0.01 | Min:-0.16 | Max: 0.03\n",
      "    Cluster 17: Size:314 | Avg:-0.01 | Min:-0.13 | Max: 0.04\n",
      "    Cluster 30: Size:487 | Avg:-0.01 | Min:-0.17 | Max: 0.03\n",
      "    Cluster 33: Size:259 | Avg:-0.01 | Min:-0.15 | Max: 0.05\n",
      "    Cluster 29: Size:343 | Avg:-0.01 | Min:-0.10 | Max: 0.07\n",
      "    Cluster 35: Size:334 | Avg:-0.02 | Min:-0.08 | Max: 0.06\n",
      "    Cluster 6: Size:353 | Avg:-0.02 | Min:-0.08 | Max: 0.04\n",
      "    Cluster 0: Size:57 | Avg:-0.02 | Min:-0.15 | Max: 0.13\n",
      "    Cluster 41: Size:424 | Avg:-0.02 | Min:-0.18 | Max: 0.02\n",
      "    Cluster 13: Size:342 | Avg:-0.03 | Min:-0.14 | Max: 0.05\n",
      "    Cluster 26: Size:59 | Avg:-0.03 | Min:-0.13 | Max: 0.04\n",
      "    Cluster 40: Size:200 | Avg:-0.04 | Min:-0.19 | Max: 0.03\n",
      "    Cluster 1: Size:298 | Avg:-0.04 | Min:-0.12 | Max: 0.04\n"
     ]
    }
   ],
   "source": [
    "clustering, cluster_labels = mbkmeans_clusters(vectorized_docs, 50, print_silhouette_values=True)\n",
    "df_clusters = pd.DataFrame({\n",
    "    \"text\": docs,\n",
    "    \"tokens\": [\" \".join(text) for text in tokenized_docs],\n",
    "    \"cluster\": cluster_labels\n",
    "})"
   ]
  },
  {
   "cell_type": "markdown",
   "metadata": {},
   "source": [
    "### Evaluate top terms per cluster (based on words frequencies)"
   ]
  },
  {
   "cell_type": "code",
   "execution_count": 19,
   "metadata": {
    "scrolled": true
   },
   "outputs": [
    {
     "name": "stdout",
     "output_type": "stream",
     "text": [
      "Cluster 0: us(69) et(26) trump(26) president(19) economy(18) \n",
      "Cluster 1: trump(44) president(39) cbsn(24) first(23) hurricane(23) \n",
      "Cluster 2: cup(286) world(231) rugby(85) japan(64) team(59) \n",
      "Cluster 3: eu(3) finance(3) ministers(3) fiscal(3) rules(3) \n",
      "Cluster 4: two(234) year(173) one(138) million(93) people(88) \n",
      "Cluster 5: million(4) capital(4) anadarko(4) petroleum(4) avianca(3) \n",
      "Cluster 6: said(66) police(63) first(57) one(56) year(53) \n",
      "Cluster 7: us(957) trump(233) president(181) said(176) reuters(139) \n",
      "Cluster 8: mr(307) said(114) trump(104) president(72) johnson(64) \n",
      "Cluster 9: al(132) bin(61) laden(48) us(47) said(44) \n",
      "Cluster 10: eu(219) brexit(150) european(113) johnson(83) deal(83) \n",
      "Cluster 11: tv(204) apple(35) watch(33) season(33) first(32) \n",
      "Cluster 12: could(179) would(142) said(122) trump(93) president(78) \n",
      "Cluster 13: said(84) year(80) two(62) iphone(60) one(56) \n",
      "Cluster 14: mp(50) ap(45) johnson(35) minister(32) says(30) \n",
      "Cluster 15: september(35) year(34) first(31) trump(26) president(24) \n",
      "Cluster 16: ex(88) former(57) mugabe(25) death(24) robert(23) \n",
      "Cluster 17: said(92) could(88) would(80) go(74) get(63) \n",
      "Cluster 18: joe(202) biden(112) president(84) democratic(58) former(54) \n",
      "Cluster 19: pm(200) minister(131) prime(123) johnson(107) brexit(101) \n",
      "Cluster 20: dr(48) said(38) doctor(13) company(13) health(13) \n",
      "Cluster 21: uk(242) brexit(127) minister(85) prime(81) johnson(81) \n",
      "Cluster 22: el(110) paso(46) walmart(41) texas(40) ben(33) \n",
      "Cluster 23: us(124) abc(77) video(73) get(70) national(69) \n",
      "Cluster 24: abc(290) national(288) video(286) get(279) world(279) \n",
      "Cluster 25: year(90) old(86) man(76) died(55) found(33) \n",
      "Cluster 26: bbc(96) world(24) live(24) says(21) radio(20) \n",
      "Cluster 27: bbc(3) story(3) facebook(2) conservative(2) headline(2) \n",
      "Cluster 28: said(155) hong(148) kong(137) reuters(104) police(87) \n",
      "Cluster 29: president(140) trump(132) said(103) says(76) house(66) \n",
      "Cluster 30: hurricane(108) dorian(98) city(72) one(62) first(58) \n",
      "Cluster 31: police(155) year(148) said(142) old(128) two(127) \n",
      "Cluster 32: delivery(3) crates(2) vans(2) bbc(2) undercover(2) \n",
      "Cluster 33: said(66) two(56) year(54) million(49) cbs(42) \n",
      "Cluster 34: de(84) france(24) crash(18) thursday(17) us(17) \n",
      "Cluster 35: us(565) trump(176) president(150) said(115) cnn(81) \n",
      "Cluster 36: ago(246) years(174) year(68) two(63) us(41) \n",
      "Cluster 37: martic(4) sets(3) final(3) pliskova(3) zhengzhou(3) \n",
      "Cluster 38: year(55) july(47) reuters(47) said(45) sept(30) \n",
      "Cluster 39: le(20) minister(14) french(11) du(10) frances(9) \n",
      "Cluster 40: year(74) said(63) st(58) million(52) un(52) \n",
      "Cluster 41: york(95) first(83) trump(80) said(77) ceo(68) \n",
      "Cluster 42: im(81) said(27) like(18) going(17) ive(15) \n",
      "Cluster 43: said(127) says(83) president(71) year(66) one(66) \n",
      "Cluster 44: may(249) year(61) could(44) week(40) said(38) \n",
      "Cluster 45: la(35) liga(12) madrid(12) real(12) hazard(9) \n",
      "Cluster 46: one(107) said(99) first(99) like(76) world(72) \n",
      "Cluster 47: oil(139) us(120) saudi(91) iran(66) attacks(45) \n",
      "Cluster 48: oil(229) saudi(127) said(53) gas(51) reuters(47) \n",
      "Cluster 49: us(703) trump(142) trade(122) president(113) year(112) \n"
     ]
    }
   ],
   "source": [
    "for i in range(50):\n",
    "    tokens_per_cluster = \"\"\n",
    "    most_frequent = Counter(\" \".join(df_clusters.query(f\"cluster == {i}\")[\"tokens\"]).split()).most_common(5)\n",
    "    for t in most_frequent:\n",
    "        tokens_per_cluster += f\"{t[0]}({str(t[1])}) \"\n",
    "    print(f\"Cluster {i}: {tokens_per_cluster}\")"
   ]
  },
  {
   "cell_type": "markdown",
   "metadata": {},
   "source": [
    "### Retrieve most representative documents (based on clusters' centroids)"
   ]
  },
  {
   "cell_type": "code",
   "execution_count": 24,
   "metadata": {
    "scrolled": true
   },
   "outputs": [
    {
     "name": "stdout",
     "output_type": "stream",
     "text": [
      "El Paso shooting: Prosecutor plans to pursue death penalty after capital murder indictment | The man accused of opening fire in an El Paso, Texas, Walmart, killing 22 people and wounding several others, has been indicted on a capital murder charge, the El Paso County District Attorney's Office said following the grand jury's Thursday decision. | (CNN)The man accused of opening fire in an El Paso, Texas, Walmart, killing 22 people and wounding several others, has been indicted on a capital murder charge, the El Paso County District Attorney's Office said following the grand jury's Thursday decision. \n",
      "… [+1979 chars]\n",
      "-------------\n",
      "Man accused of killing 22 in El Paso indicted on murder charges | Texas grand jury indicts Patrick Crusius, who police say went on a shooting rampage targeting Mexicans in a Walmart. | A Texas grand jury on Thursday indicted a man accused of killing 22 people in an August shooting at Walmart in El Paso, Texas, who had told authorities he was targeting Mexicans, local media reported.\n",
      "Patrick Crusius, 21, was indicted on capital murder charg… [+3119 chars]\n",
      "-------------\n",
      "Egyptian businessman calls on President el-Sisi to step down | Mohamed Ali has urged Egyptians to protest against President Abdel Fattah el-Sisi on Friday. | An Egyptian businessman and actor who had posted a series of videos this month accusing President Abdel Fattah el-Sisi of corruption has called on people to take to the streets on Friday to protest against the leader.\n",
      "Mohamed Ali, who worked as a military co… [+3006 chars]\n",
      "-------------\n",
      "El-Sisi plays down protest call as Egypt tightens security | President tells supporters not to worry as security forces ramped up checks and closed off Tahrir Square in Cairo. | Egypt's President Abdel Fattah el-Sisi has played down a call for protests against his rule, saying there were \"no reasons for concern\" even as the army and the police tightened security in the capital, Cairo, and other major cities.\n",
      "The dismissal on Friday … [+3419 chars]\n",
      "-------------\n",
      "Egypt Kidnaps Even Those It Is Detaining | In a major crackdown, Alaa Abd El Fattah and hundreds of other activists or protesters have been arrested. | CAIRO My last text exchange with the Egyptian activist and software programmer Alaa Abd El Fattah was Saturday morning, less than 24 hours before he was kidnapped by government security agents. We shared messages about our personal relationships and made a pl… [+2766 chars]\n",
      "-------------\n",
      "Texas grand jury indicts man accused of killing 22 people at Texas Walmart: local media | A Texas grand jury on Thursday indicted a man accused of killing 22 people in a shooting at Walmart in El Paso, Texas in August who according to authorities said that he was targeting Mexicans, local media reported. | (Reuters) - A Texas grand jury on Thursday indicted a man accused of killing 22 people in an August shooting at Walmart in El Paso, Texas, who had told authorities he was targeting Mexicans, local media reported. \n",
      "Patrick Crusius, 21, was indicted on capital… [+1071 chars]\n",
      "-------------\n",
      "Egypt corruption: President el-Sisi denies wrongdoing | At a Cairo youth summit, president says the Egyptian army has been â€˜defamedâ€™ but does not directly address corruption claims against himself. | Egyptian President Abdel Fattah el-Sisi says allegations of corruption against him and his army generals amount to defamation.\n",
      "An Egyptian businessman who worked as a military contractor for 15 years, has posted videos online accusing el-Sisi of wasting mill… [+246 chars]\n",
      "-------------\n",
      "Grand jury indicts man accused of killing 22 people at Texas Walmart | A Texas grand jury on Thursday indicted a man accused of killing 22 people and wounding 26 others in an August shooting at a Walmart in El Paso, Texas, who had told authorities he was targeting Mexicans, a local prosecutor said. | (Reuters) - A Texas grand jury on Thursday indicted a man accused of killing 22 people and wounding 26 others in an August shooting at a Walmart in El Paso, Texas, who had told authorities he was targeting Mexicans, a local prosecutor said. \n",
      "Patrick Crusius,… [+1577 chars]\n",
      "-------------\n",
      "Grand jury indicts man accused of killing 22 people at Texas Walmart - reports | A Texas grand jury on Thursday indicted a man accused of killing 22 people in an August shooting at Walmart in El Paso, Texas, who had told authorities he was targeting Mexicans, local media reported. | (Reuters) - A Texas grand jury on Thursday indicted a man accused of killing 22 people in an August shooting at Walmart in El Paso, Texas, who had told authorities he was targeting Mexicans, local media reported. \n",
      "Patrick Crusius, 21, was indicted on capital… [+1072 chars]\n",
      "-------------\n",
      "Texas grand jury indicts man accused of killing 22 people at Texas Walmart: local media | A Texas grand jury on Thursday indicted a man accused of killing 22 people in a shooting at Walmart in El Paso, Texas in August who according to authorities said that he was targeting Mexicans, local media reported. | (Reuters) - A Texas grand jury on Thursday indicted a man accused of killing 22 people in a shooting at Walmart in El Paso, Texas in August who according to authorities said that he was targeting Mexicans, local media reported. \n",
      "Patrick Crusius, 21, was indi… [+216 chars]\n",
      "-------------\n"
     ]
    }
   ],
   "source": [
    "test_cluster = 22\n",
    "most_representative_docs = np.argsort(\n",
    "    np.linalg.norm(vectorized_docs - clustering.cluster_centers_[test_cluster], axis=1)\n",
    ")\n",
    "for d in most_representative_docs[:10]:\n",
    "    print(docs[d])\n",
    "    print(\"-------------\")"
   ]
  },
  {
   "cell_type": "markdown",
   "metadata": {},
   "source": [
    "### Retrieve a random sample of documents for a given cluster"
   ]
  },
  {
   "cell_type": "code",
   "execution_count": 25,
   "metadata": {
    "scrolled": true
   },
   "outputs": [
    {
     "name": "stdout",
     "output_type": "stream",
     "text": [
      "Protests break out across Egypt demanding el-Sisi's resignation | Demonstrators take to the streets after Friday prayers as security forces ramp up checks in Cairo. | Protests have broken out in the south of Egypt with demonstrators calling for the departure of President Abdel Fattah el-Sisi amid a high security alert.\n",
      "Following Friday prayers in the Warraq area in Giza governorate, demonstrators chanted slogans calling f… [+2097 chars]\n",
      "-------------\n",
      "Nearly 2000 arrested as Egypt braces for anti-Sisi protests | Egypt is bracing itself for a second weekend of protests on Friday, with authorities stepping up arrests and tightening security in major cities amid calls for a \"million-man march\" against President Abdel Fattah el-Sisi. Also in the programme: Brother of mur… | Egypt is bracing itself for a second weekend of protests on Friday, with authorities stepping up arrests and tightening security in major cities amid calls for a \"million-man march\" against President Abdel Fattah el-Sisi. \n",
      "Also in the programme: Brother of m… [+335 chars]\n",
      "-------------\n",
      "Colombia throws 2 dissident rebels out of peace process | Two leaders of Colombia's once largest rebel group have been kicked out of the nation's transitional justice system after taking up arms again | Two leaders of Colombia's once largest rebel group have been kicked out of the nation's transitional justice system after taking up arms again.\n",
      "The Special Peace Jurisdiction announced Friday that the rebels known as Jesús Santrich and El Paisa will no longe… [+551 chars]\n",
      "-------------\n",
      "El Salvador seeks third trial for mother cleared of baby's death | Evelyn Hernández was cleared of murdering her baby last month, in a verdict hailed by activists. | Image copyrightReutersImage caption\n",
      " Ms Hernández left prison in August after a Supreme Court appeal\n",
      "El Salvador wants to put a woman who was cleared of murdering her newborn child on trial for a third time.\n",
      "Evelyn Hernández, 21, was freed from prison last… [+2782 chars]\n",
      "-------------\n",
      "El Paso shooting: Prosecutor plans to pursue death penalty after capital murder indictment | The man accused of opening fire in an El Paso, Texas, Walmart, killing 22 people and wounding several others, has been indicted on a capital murder charge, the El Paso County District Attorney's Office said following the grand jury's Thursday decision. | (CNN)The man accused of opening fire in an El Paso, Texas, Walmart, killing 22 people and wounding several others, has been indicted on a capital murder charge, the El Paso County District Attorney's Office said following the grand jury's Thursday decision. \n",
      "… [+1979 chars]\n",
      "-------------\n",
      "Khalid felt helpless after the El Paso shooting. So he raised $500,000 with a benefit concert | Few people love El Paso as much as Khalid loves El Paso. | \n",
      "-------------\n",
      "CPJ calls for release of jailed Egyptian journalists | At least six journalists have been arrested for covering the anti-government protests that erupted on September 19. | A media watchdog has called on the Egyptian authorities to immediately release journalists Alaa Abdelfattah, Nasser Abdelhafez, Engi Abdel Wahab and three others arrested for reporting the recent protests against President Abdel Fattah el-Sisi.\n",
      "In a statemen… [+3402 chars]\n",
      "-------------\n",
      "El Salvador sends police, soldiers to patrol border | El Salvador is deploying 800 police and soldiers to patrol blind spots along its borders where migrant smugglers and transnational criminals operate | El Salvador is deploying 800 police and soldiers to patrol blind spots along its borders where migrant smugglers and transnational criminals operate.\n",
      "Justice and Public Safety Minister Rogelio Rivas said Thursday that the contingent will be joined by about 1… [+592 chars]\n",
      "-------------\n",
      "Texas grand jury indicts man accused of killing 22 people at Texas Walmart: local media | A Texas grand jury on Thursday indicted a man accused of killing 22 people in a shooting at Walmart in El Paso, Texas in August who according to authorities said that he was targeting Mexicans, local media reported. | (Reuters) - A Texas grand jury on Thursday indicted a man accused of killing 22 people in an August shooting at Walmart in El Paso, Texas, who had told authorities he was targeting Mexicans, local media reported. \n",
      "Patrick Crusius, 21, was indicted on capital… [+1071 chars]\n",
      "-------------\n",
      "This immersive exhibit about the intersection of tech and art is hidden underneath Chelsea Market in New York City — check out some the wild-looking work on display | Artechouse — a new exhibition space for projects at the intersection of art and tech — opened to the public on Monday in an underground boiler room at Chelsea Market in New York City. \"Machine Hallucination\" is the name of Artechouse's current exhibition by T… | Here's the current cocktail and mocktail list: \n",
      " Financial District: Aylesbury Duck Vodka, raspberry, lychee, rhubarb \n",
      "The Village: Spring 44 Gin, cucumber, basil, balsamic vinegar, peppercorn, mozzarella, garnish \n",
      "Theater District: El Silencio Mezcal, roa… [+279 chars]\n",
      "-------------\n"
     ]
    }
   ],
   "source": [
    "for i,t in enumerate(df_clusters.query(f\"cluster == {test_cluster}\").sample(10).iterrows()):\n",
    "    print(t[1][\"text\"])\n",
    "    print(\"-------------\")"
   ]
  }
 ],
 "metadata": {
  "kernelspec": {
   "display_name": "Python 3",
   "language": "python",
   "name": "python3"
  },
  "language_info": {
   "codemirror_mode": {
    "name": "ipython",
    "version": 3
   },
   "file_extension": ".py",
   "mimetype": "text/x-python",
   "name": "python",
   "nbconvert_exporter": "python",
   "pygments_lexer": "ipython3",
   "version": "3.9.0"
  }
 },
 "nbformat": 4,
 "nbformat_minor": 4
}
