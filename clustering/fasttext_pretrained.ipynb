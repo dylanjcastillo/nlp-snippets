{
 "cells": [
  {
   "cell_type": "markdown",
   "metadata": {},
   "source": [
    "## Import required libraries"
   ]
  },
  {
   "cell_type": "code",
   "execution_count": 1,
   "metadata": {},
   "outputs": [
    {
     "name": "stderr",
     "output_type": "stream",
     "text": [
      "[nltk_data] Downloading package stopwords to\n",
      "[nltk_data]     /Users/dylancastillo/nltk_data...\n",
      "[nltk_data]   Package stopwords is already up-to-date!\n"
     ]
    }
   ],
   "source": [
    "import os\n",
    "from collections import Counter\n",
    "from time import time\n",
    "\n",
    "import gensim\n",
    "import numpy as np\n",
    "import pandas as pd\n",
    "import gensim.downloader as api\n",
    "from gensim.models import Word2Vec\n",
    "from tqdm.notebook import tqdm\n",
    "\n",
    "from ds_utils.config import set_display_options\n",
    "from ds_utils.clustering import Tokenizer, load_data, clean_news_data, vectorize, mbkmeans_clusters\n",
    "\n",
    "set_display_options()"
   ]
  },
  {
   "cell_type": "markdown",
   "metadata": {},
   "source": [
    "## Read data"
   ]
  },
  {
   "cell_type": "code",
   "execution_count": 2,
   "metadata": {},
   "outputs": [],
   "source": [
    "df = load_data(\"news\")"
   ]
  },
  {
   "cell_type": "code",
   "execution_count": 3,
   "metadata": {},
   "outputs": [
    {
     "data": {
      "text/plain": [
       "(10437, 15)"
      ]
     },
     "execution_count": 3,
     "metadata": {},
     "output_type": "execute_result"
    }
   ],
   "source": [
    "df.shape"
   ]
  },
  {
   "cell_type": "code",
   "execution_count": 4,
   "metadata": {},
   "outputs": [
    {
     "data": {
      "text/plain": [
       "Index(['Unnamed: 0', 'source_id', 'source_name', 'author', 'title',\n",
       "       'description', 'url', 'url_to_image', 'published_at', 'content',\n",
       "       'top_article', 'engagement_reaction_count', 'engagement_comment_count',\n",
       "       'engagement_share_count', 'engagement_comment_plugin_count'],\n",
       "      dtype='object')"
      ]
     },
     "execution_count": 4,
     "metadata": {},
     "output_type": "execute_result"
    }
   ],
   "source": [
    "df.columns"
   ]
  },
  {
   "cell_type": "markdown",
   "metadata": {},
   "source": [
    "## Clean data"
   ]
  },
  {
   "cell_type": "code",
   "execution_count": 5,
   "metadata": {},
   "outputs": [
    {
     "name": "stdout",
     "output_type": "stream",
     "text": [
      "Original dataframe: (10437, 15)\n",
      "Pre-processed dataframe: (9882, 2)\n"
     ]
    }
   ],
   "source": [
    "df = clean_news_data(df)"
   ]
  },
  {
   "cell_type": "code",
   "execution_count": 6,
   "metadata": {},
   "outputs": [
    {
     "data": {
      "text/html": [
       "<div>\n",
       "<style scoped>\n",
       "    .dataframe tbody tr th:only-of-type {\n",
       "        vertical-align: middle;\n",
       "    }\n",
       "\n",
       "    .dataframe tbody tr th {\n",
       "        vertical-align: top;\n",
       "    }\n",
       "\n",
       "    .dataframe thead th {\n",
       "        text-align: right;\n",
       "    }\n",
       "</style>\n",
       "<table border=\"1\" class=\"dataframe\">\n",
       "  <thead>\n",
       "    <tr style=\"text-align: right;\">\n",
       "      <th></th>\n",
       "      <th>9079</th>\n",
       "    </tr>\n",
       "  </thead>\n",
       "  <tbody>\n",
       "    <tr>\n",
       "      <th>text</th>\n",
       "      <td>To save themselves, Republicans might yet desert Trump | Upon dismissing his chief of staff in 1973, Richard Nixon said that he loved him “like my brother”. The line seems too easy until you remember that the US president had seen two of his own die young. Nixon’s bond with H R Haldeman and other colleagues fortifi… | Upon dismissing his chief of staff in 1973, Richard Nixon said that he loved him like my brother. The line seems too easy until you remember that the US president had seen two of his own die young. Nixons bond with H R Haldeman and other colleagues fortified … [+4374 chars]</td>\n",
       "    </tr>\n",
       "    <tr>\n",
       "      <th>tokens</th>\n",
       "      <td>[save, republicans, might, yet, desert, trump, upon, dismissing, chief, staff, richard, nixon, said, loved, like, brother, line, seems, easy, remember, us, president, seen, two, die, young, nixon, bond, haldeman, colleagues, upon, dismissing, chief, staff, richard, nixon, said, loved, like, brother, line, seems, easy, remember, us, president, seen, two, die, young, nixons, bond, haldeman, colleagues, fortified]</td>\n",
       "    </tr>\n",
       "  </tbody>\n",
       "</table>\n",
       "</div>"
      ],
      "text/plain": [
       "                                                                                                                                                                                                                                                                                                                                                                                                                                                                                                                                                                                                                      9079\n",
       "text    To save themselves, Republicans might yet desert Trump | Upon dismissing his chief of staff in 1973, Richard Nixon said that he loved him “like my brother”. The line seems too easy until you remember that the US president had seen two of his own die young. Nixon’s bond with H R Haldeman and other colleagues fortifi… | Upon dismissing his chief of staff in 1973, Richard Nixon said that he loved him like my brother. The line seems too easy until you remember that the US president had seen two of his own die young. Nixons bond with H R Haldeman and other colleagues fortified … [+4374 chars]\n",
       "tokens                                                                                                                                                                                      [save, republicans, might, yet, desert, trump, upon, dismissing, chief, staff, richard, nixon, said, loved, like, brother, line, seems, easy, remember, us, president, seen, two, die, young, nixon, bond, haldeman, colleagues, upon, dismissing, chief, staff, richard, nixon, said, loved, like, brother, line, seems, easy, remember, us, president, seen, two, die, young, nixons, bond, haldeman, colleagues, fortified]"
      ]
     },
     "execution_count": 6,
     "metadata": {},
     "output_type": "execute_result"
    }
   ],
   "source": [
    "df.sample(1).T"
   ]
  },
  {
   "cell_type": "markdown",
   "metadata": {},
   "source": [
    "## Review tokens and vocabulary"
   ]
  },
  {
   "cell_type": "markdown",
   "metadata": {},
   "source": [
    "### Tokens"
   ]
  },
  {
   "cell_type": "code",
   "execution_count": 7,
   "metadata": {},
   "outputs": [
    {
     "name": "stdout",
     "output_type": "stream",
     "text": [
      "SAMPLE TEXT: Eye Opener at 8: NOAA’s lead scientist vows to investigate Dorian controversy | A look back at what we've been covering on \"CBS This Morning.\" | \n",
      "------\n",
      "TOKENS: ['eye', 'opener', 'noaa', 'lead', 'scientist', 'vows', 'investigate', 'dorian', 'controversy', 'look', 'back', 'weve', 'covering', 'cbs', 'morning']\n"
     ]
    }
   ],
   "source": [
    "sample_text = df.sample(1)\n",
    "print(f\"SAMPLE TEXT: {sample_text['text'].values[0]}\")\n",
    "print(f\"------\")\n",
    "print(f\"TOKENS: {sample_text['tokens'].values[0]}\")"
   ]
  },
  {
   "cell_type": "markdown",
   "metadata": {},
   "source": [
    "### Vocabulary"
   ]
  },
  {
   "cell_type": "code",
   "execution_count": 8,
   "metadata": {},
   "outputs": [],
   "source": [
    "docs = df[\"text\"].values\n",
    "tokenized_docs = df[\"tokens\"].values\n",
    "vocab = Counter()\n",
    "for token in tokenized_docs:\n",
    "    vocab.update(token)"
   ]
  },
  {
   "cell_type": "code",
   "execution_count": 9,
   "metadata": {},
   "outputs": [
    {
     "data": {
      "text/plain": [
       "32454"
      ]
     },
     "execution_count": 9,
     "metadata": {},
     "output_type": "execute_result"
    }
   ],
   "source": [
    "len(vocab)"
   ]
  },
  {
   "cell_type": "code",
   "execution_count": 10,
   "metadata": {},
   "outputs": [
    {
     "data": {
      "text/plain": [
       "[('us', 2757),\n",
       " ('said', 2519),\n",
       " ('year', 1781),\n",
       " ('president', 1756),\n",
       " ('trump', 1705),\n",
       " ('world', 1620),\n",
       " ('says', 1511),\n",
       " ('one', 1418),\n",
       " ('two', 1284),\n",
       " ('first', 1195)]"
      ]
     },
     "execution_count": 10,
     "metadata": {},
     "output_type": "execute_result"
    }
   ],
   "source": [
    "vocab.most_common(10)"
   ]
  },
  {
   "cell_type": "markdown",
   "metadata": {},
   "source": [
    "## Load pretrained FastText"
   ]
  },
  {
   "cell_type": "code",
   "execution_count": 11,
   "metadata": {},
   "outputs": [],
   "source": [
    "model = api.load(\"fasttext-wiki-news-subwords-300\")"
   ]
  },
  {
   "cell_type": "code",
   "execution_count": 12,
   "metadata": {},
   "outputs": [
    {
     "data": {
      "text/plain": [
       "[('trumps', 0.8457011580467224),\n",
       " ('trumping', 0.7876768708229065),\n",
       " ('non-trump', 0.7490020394325256),\n",
       " ('trumped', 0.7124733328819275),\n",
       " ('notrump', 0.6544546484947205),\n",
       " ('supercede', 0.6326021552085876),\n",
       " ('overrule', 0.6288058161735535),\n",
       " ('no-trump', 0.627895176410675),\n",
       " ('override', 0.6258442401885986),\n",
       " ('supersede', 0.6115216016769409)]"
      ]
     },
     "execution_count": 12,
     "metadata": {},
     "output_type": "execute_result"
    }
   ],
   "source": [
    "model.most_similar(\"trump\")"
   ]
  },
  {
   "cell_type": "code",
   "execution_count": 13,
   "metadata": {},
   "outputs": [
    {
     "data": {
      "text/plain": [
       "[('facebook.', 0.8114862442016602),\n",
       " ('facebooks', 0.7959319949150085),\n",
       " ('Facebook', 0.7885890007019043),\n",
       " ('twitter', 0.7708379030227661),\n",
       " ('facebook.com', 0.7622057199478149),\n",
       " ('facebooking', 0.737972617149353),\n",
       " ('non-Facebook', 0.7352786064147949),\n",
       " ('instagram', 0.7332959771156311),\n",
       " ('Facebook.', 0.7232986688613892),\n",
       " ('myspace', 0.7073581218719482)]"
      ]
     },
     "execution_count": 13,
     "metadata": {},
     "output_type": "execute_result"
    }
   ],
   "source": [
    "model.most_similar(\"facebook\")"
   ]
  },
  {
   "cell_type": "markdown",
   "metadata": {},
   "source": [
    "## Generate vectors from documents"
   ]
  },
  {
   "cell_type": "code",
   "execution_count": 14,
   "metadata": {},
   "outputs": [
    {
     "data": {
      "text/plain": [
       "(9882, 600)"
      ]
     },
     "execution_count": 14,
     "metadata": {},
     "output_type": "execute_result"
    }
   ],
   "source": [
    "vectorized_docs = vectorize(tokenized_docs, model=model, strategy=\"min-max\")\n",
    "len(vectorized_docs), len(vectorized_docs[0])"
   ]
  },
  {
   "cell_type": "markdown",
   "metadata": {},
   "source": [
    "## Generate and analyze clusters"
   ]
  },
  {
   "cell_type": "code",
   "execution_count": 15,
   "metadata": {
    "scrolled": true
   },
   "outputs": [
    {
     "name": "stdout",
     "output_type": "stream",
     "text": [
      "For n_clusters = 50\n",
      "Silhouette coefficient: 0.02\n",
      "Inertia:6290.78210898176\n",
      "Silhouette values:\n",
      "    Cluster 3: Size:3 | Avg:0.45 | Min:0.43 | Max: 0.48\n",
      "    Cluster 37: Size:9 | Avg:0.22 | Min:0.18 | Max: 0.26\n",
      "    Cluster 26: Size:55 | Avg:0.19 | Min:0.04 | Max: 0.27\n",
      "    Cluster 39: Size:71 | Avg:0.17 | Min:0.11 | Max: 0.22\n",
      "    Cluster 43: Size:25 | Avg:0.17 | Min:0.10 | Max: 0.23\n",
      "    Cluster 25: Size:31 | Avg:0.15 | Min:0.10 | Max: 0.20\n",
      "    Cluster 24: Size:169 | Avg:0.14 | Min:-0.05 | Max: 0.24\n",
      "    Cluster 40: Size:70 | Avg:0.13 | Min:-0.01 | Max: 0.21\n",
      "    Cluster 4: Size:210 | Avg:0.13 | Min:0.05 | Max: 0.23\n",
      "    Cluster 49: Size:23 | Avg:0.13 | Min:-0.03 | Max: 0.22\n",
      "    Cluster 44: Size:128 | Avg:0.12 | Min:0.02 | Max: 0.20\n",
      "    Cluster 12: Size:166 | Avg:0.12 | Min:-0.05 | Max: 0.16\n",
      "    Cluster 10: Size:82 | Avg:0.12 | Min:0.05 | Max: 0.18\n",
      "    Cluster 2: Size:89 | Avg:0.12 | Min:0.02 | Max: 0.18\n",
      "    Cluster 8: Size:79 | Avg:0.10 | Min:-0.06 | Max: 0.14\n",
      "    Cluster 11: Size:268 | Avg:0.10 | Min:-0.02 | Max: 0.15\n",
      "    Cluster 0: Size:118 | Avg:0.09 | Min:-0.04 | Max: 0.14\n",
      "    Cluster 7: Size:210 | Avg:0.09 | Min:-0.08 | Max: 0.14\n",
      "    Cluster 16: Size:146 | Avg:0.09 | Min:-0.08 | Max: 0.15\n",
      "    Cluster 47: Size:67 | Avg:0.08 | Min:-0.01 | Max: 0.16\n",
      "    Cluster 34: Size:92 | Avg:0.08 | Min:0.01 | Max: 0.14\n",
      "    Cluster 27: Size:30 | Avg:0.07 | Min:-0.04 | Max: 0.19\n",
      "    Cluster 45: Size:109 | Avg:0.07 | Min:-0.07 | Max: 0.16\n",
      "    Cluster 5: Size:98 | Avg:0.05 | Min:-0.09 | Max: 0.14\n",
      "    Cluster 29: Size:137 | Avg:0.04 | Min:-0.03 | Max: 0.07\n",
      "    Cluster 41: Size:503 | Avg:0.03 | Min:-0.01 | Max: 0.07\n",
      "    Cluster 32: Size:306 | Avg:0.03 | Min:-0.04 | Max: 0.09\n",
      "    Cluster 14: Size:294 | Avg:0.02 | Min:-0.04 | Max: 0.13\n",
      "    Cluster 17: Size:418 | Avg:0.02 | Min:-0.04 | Max: 0.08\n",
      "    Cluster 30: Size:655 | Avg:0.01 | Min:-0.13 | Max: 0.06\n",
      "    Cluster 23: Size:485 | Avg:0.01 | Min:-0.18 | Max: 0.04\n",
      "    Cluster 9: Size:260 | Avg:0.01 | Min:-0.13 | Max: 0.05\n",
      "    Cluster 31: Size:196 | Avg:0.01 | Min:-0.05 | Max: 0.06\n",
      "    Cluster 33: Size:87 | Avg:0.00 | Min:-0.08 | Max: 0.10\n",
      "    Cluster 22: Size:221 | Avg:0.00 | Min:-0.05 | Max: 0.07\n",
      "    Cluster 6: Size:1 | Avg:0.00 | Min:0.00 | Max: 0.00\n",
      "    Cluster 15: Size:159 | Avg:-0.00 | Min:-0.14 | Max: 0.07\n",
      "    Cluster 13: Size:445 | Avg:-0.01 | Min:-0.07 | Max: 0.03\n",
      "    Cluster 28: Size:231 | Avg:-0.01 | Min:-0.20 | Max: 0.02\n",
      "    Cluster 48: Size:309 | Avg:-0.01 | Min:-0.09 | Max: 0.05\n",
      "    Cluster 20: Size:346 | Avg:-0.02 | Min:-0.07 | Max: 0.04\n",
      "    Cluster 1: Size:653 | Avg:-0.02 | Min:-0.19 | Max: 0.02\n",
      "    Cluster 38: Size:130 | Avg:-0.02 | Min:-0.13 | Max: 0.05\n",
      "    Cluster 35: Size:356 | Avg:-0.03 | Min:-0.17 | Max: 0.04\n",
      "    Cluster 21: Size:116 | Avg:-0.03 | Min:-0.14 | Max: 0.04\n",
      "    Cluster 36: Size:523 | Avg:-0.03 | Min:-0.10 | Max: 0.01\n",
      "    Cluster 42: Size:318 | Avg:-0.03 | Min:-0.41 | Max: 0.03\n",
      "    Cluster 46: Size:79 | Avg:-0.04 | Min:-0.10 | Max: 0.04\n",
      "    Cluster 19: Size:98 | Avg:-0.04 | Min:-0.12 | Max: 0.03\n",
      "    Cluster 18: Size:208 | Avg:-0.04 | Min:-0.13 | Max: 0.04\n"
     ]
    }
   ],
   "source": [
    "clustering, cluster_labels = mbkmeans_clusters(vectorized_docs, 50, print_silhouette_values=True)\n",
    "df_clusters = pd.DataFrame({\n",
    "    \"text\": docs,\n",
    "    \"tokens\": [\" \".join(text) for text in tokenized_docs],\n",
    "    \"cluster\": cluster_labels\n",
    "})"
   ]
  },
  {
   "cell_type": "markdown",
   "metadata": {},
   "source": [
    "### Evaluate top terms per cluster (based on words frequencies)"
   ]
  },
  {
   "cell_type": "code",
   "execution_count": 16,
   "metadata": {
    "scrolled": true
   },
   "outputs": [
    {
     "name": "stdout",
     "output_type": "stream",
     "text": [
      "Cluster 0: joe(185) biden(117) president(88) democratic(57) former(56) \n",
      "Cluster 1: one(117) first(105) said(99) two(89) man(87) \n",
      "Cluster 2: us(99) world(91) chat(89) facebook(89) messenger(89) \n",
      "Cluster 3: us(23) delisting(9) chinese(9) source(9) possibility(8) \n",
      "Cluster 4: national(219) abc(214) video(213) world(210) online(210) \n",
      "Cluster 5: de(81) la(38) us(28) france(27) said(25) \n",
      "Cluster 6: england(4) ashes(4) australia(3) name(2) unchanged(2) \n",
      "Cluster 7: ago(248) years(175) year(68) two(65) first(43) \n",
      "Cluster 8: ex(98) former(65) mugabe(25) death(24) murder(23) \n",
      "Cluster 9: york(180) trump(91) president(66) said(61) donald(48) \n",
      "Cluster 10: cup(186) world(133) win(39) rugby(38) japan(33) \n",
      "Cluster 11: mr(304) said(133) trump(102) president(72) johnson(64) \n",
      "Cluster 12: uk(241) brexit(126) minister(85) prime(81) johnson(81) \n",
      "Cluster 13: said(227) reuters(131) president(110) says(106) minister(103) \n",
      "Cluster 14: president(38) trump(37) cbsn(25) says(24) first(23) \n",
      "Cluster 15: us(313) trade(69) year(59) economy(58) reuters(54) \n",
      "Cluster 16: tv(197) apple(33) season(33) watch(32) first(31) \n",
      "Cluster 17: may(249) could(154) would(101) said(97) one(76) \n",
      "Cluster 18: said(46) mp(46) ap(39) johnson(38) says(34) \n",
      "Cluster 19: us(153) trump(43) president(32) said(25) year(21) \n",
      "Cluster 20: year(90) one(82) two(78) said(74) like(69) \n",
      "Cluster 21: us(205) said(38) york(37) reuters(34) co(34) \n",
      "Cluster 22: cbs(75) president(59) trump(45) hurricane(39) dorian(34) \n",
      "Cluster 23: people(84) two(75) years(74) year(61) one(61) \n",
      "Cluster 24: pm(194) minister(131) prime(123) johnson(107) brexit(101) \n",
      "Cluster 25: et(32) us(20) million(15) newsletter(15) pm(14) \n",
      "Cluster 26: el(112) paso(48) walmart(42) texas(40) people(33) \n",
      "Cluster 27: bin(61) laden(48) al(44) hamza(36) us(31) \n",
      "Cluster 28: hurricane(49) trump(45) dorian(40) president(35) man(35) \n",
      "Cluster 29: go(171) said(34) one(28) year(24) would(23) \n",
      "Cluster 30: year(197) one(143) two(127) first(122) years(115) \n",
      "Cluster 31: hurricane(164) dorian(154) storm(94) bahamas(80) people(70) \n",
      "Cluster 32: year(366) old(348) man(154) died(101) police(97) \n",
      "Cluster 33: cup(151) world(150) rugby(85) ireland(66) japan(43) \n",
      "Cluster 34: hong(228) kong(208) police(88) protests(68) protesters(55) \n",
      "Cluster 35: us(605) trump(118) president(106) said(100) year(79) \n",
      "Cluster 36: year(107) said(106) two(78) thursday(76) first(75) \n",
      "Cluster 37: italian(18) leclerc(18) practice(14) grand(13) prix(13) \n",
      "Cluster 38: us(219) trump(83) president(54) cnn(51) said(49) \n",
      "Cluster 39: us(120) abc(73) video(69) get(67) national(66) \n",
      "Cluster 40: un(114) united(51) us(37) nations(36) said(35) \n",
      "Cluster 41: said(307) says(145) police(139) president(131) say(115) \n",
      "Cluster 42: us(614) trump(213) president(160) said(145) donald(109) \n",
      "Cluster 43: us(42) tariffs(37) european(34) eu(33) trade(30) \n",
      "Cluster 44: eu(196) brexit(145) european(87) deal(81) johnson(79) \n",
      "Cluster 45: oil(294) saudi(203) us(114) attacks(84) iran(83) \n",
      "Cluster 46: abc(80) video(75) get(73) national(71) online(71) \n",
      "Cluster 47: al(92) president(21) jazeera(21) sudan(20) people(20) \n",
      "Cluster 48: said(100) could(77) would(66) year(65) one(64) \n",
      "Cluster 49: trump(40) president(40) us(37) biden(36) joe(30) \n"
     ]
    }
   ],
   "source": [
    "for i in range(50):\n",
    "    tokens_per_cluster = \"\"\n",
    "    most_frequent = Counter(\" \".join(df_clusters.query(f\"cluster == {i}\")[\"tokens\"]).split()).most_common(5)\n",
    "    for t in most_frequent:\n",
    "        tokens_per_cluster += f\"{t[0]}({str(t[1])}) \"\n",
    "    print(f\"Cluster {i}: {tokens_per_cluster}\")"
   ]
  },
  {
   "cell_type": "markdown",
   "metadata": {},
   "source": [
    "### Retrieve most representative documents (based on clusters' centroids)"
   ]
  },
  {
   "cell_type": "code",
   "execution_count": 17,
   "metadata": {
    "scrolled": true
   },
   "outputs": [
    {
     "name": "stdout",
     "output_type": "stream",
     "text": [
      "Finland School Stabbing Leaves 1 Dead and 10 Injured, Police Say | The attack happened at a vocational college in a shopping center in the city of Kuopio, the police said, identifying the suspect as a student. | A stabbing attack on Tuesday at a vocational college in a shopping center in Finland killed one person and injured 10 others, the police said. \n",
      "The suspect in the attack is a Finnish student at the college, Savo Vocational College, which is at the Herman sho… [+799 chars]\n",
      "-------------\n",
      "Three killed in renewed fighting in southern Tripoli witness | At least three fighters aligned with Libya's U.N.-backed Government of National Accord (GNA) were killed in an offensive on Saturday aimed at pushing back eastern forces led by commander Khalifa Haftar, a witness said. | TRIPOLI (Reuters) - At least three fighters aligned with Libya’s U.N.-backed Government of National Accord (GNA) were killed in an offensive on Saturday aimed at pushing back eastern forces led by commander Khalifa Haftar, a witness said. \n",
      "The clashes betwee… [+1101 chars]\n",
      "-------------\n",
      "Facebook insists pages punished for promoting vaccine misinformation | World Health Organisation sees complacency about immunisation as a major threat | Facebook insists pages on its platform that spread misinformation about vaccinations are being punished by the company reducing the number of people who can see such posts.\n",
      "The social media company said it was now promoting science-based content from authent… [+2934 chars]\n",
      "-------------\n",
      "Brexit Showdown in Parliament as Boris Johnson Warns of a General Election | Parliament is considering defying the prime minister by blocking a no-deal Brexit, prompting him to threaten rebels with expulsion. | Labour, which has its own polarizing leader in Jeremy Corbyn, has said that its priority is to stop Britain leaving the European Union without a deal because of concerns about what such a departure would mean for the economy.\n",
      "But Labours stance underscores t… [+883 chars]\n",
      "-------------\n",
      "Ideology the ‘only obstacle’ to social and affordable housing, say protestors | Fine Gael needs to ‘step back’ from its current policy, protestors outside Dáil told | The only obstacle to a massive programme of social and affordable home-building on public land is Government ideology, a gathering of activists calling for greater action on the housing crisis heard on Wednesday. \n",
      "Representatives from political parties, trad… [+2545 chars]\n",
      "-------------\n",
      "The Latest: Germany ready to take ¼ of rescued migrants | Germany's interior minister says his country is prepared to take in a quarter of migrants rescued off the Italian coast as the European Union tries to find a solution to repeated standoffs involving humanitarian groups' ships | The Latest on the flow of migrants into Europe (all times local):\n",
      "10:35 a.m.\n",
      "Germany's interior minister says his country is prepared to take in a quarter of migrants rescued off the Italian coast as the European Union tries to find a solution to repeated s… [+1427 chars]\n",
      "-------------\n",
      "Plane leaves Zimbabwe for Singapore to bring home Mugabe's body | A plane has left Zimbabwe for Singapore carrying government officials and relatives to bring home the body of Robert Mugabe, but it was still not clear where the former leader would be buried, a family spokesman said on Monday. | HARARE (Reuters) - A plane has left Zimbabwe for Singapore carrying government officials and relatives to bring home the body of Robert Mugabe, but it was still not clear where the former leader would be buried, a family spokesman said on Monday. \n",
      "Mugabe’s f… [+2073 chars]\n",
      "-------------\n",
      "Finland Kuopio school attack leaves one dead | A witness said a student carrying a sword entered a college in Kuopio and began stabbing people. | Image caption\n",
      " The college is on the premises of the Herman shopping centre in Kuopio\n",
      "At least one person has died and 10 have been wounded in a violent attack at a vocational college in the Finnish city of Kuopio, police say.\n",
      "A witness told Finnish media … [+511 chars]\n",
      "-------------\n",
      "'No excuse': Press condemns Trudeau 'brownface' | The Canadian prime minister is facing widespread criticism after photos emerged of him in 'brownface'. | Image copyrightTIME MAGAZINE\n",
      "The emergence of photos showing Canadian Prime Minister Justin Trudeau in \"brownface\" make-up has sparked strong criticism in the Canadian press and beyond.\n",
      "The prime minister apologised on Wednesday night, saying he recognises … [+3313 chars]\n",
      "-------------\n",
      "Elizabeth Warren's Economic Plan Will Lead to '100 Percent Recession,' Steven Mnuchin Claims | Ahead of Thursday night's Democratic debate where the economy will likely be a major focal point, Treasury Secretary Steve Mnuchin singled out 2020 Democratic hopeful and Massachusetts Senator Elizabeth Warren. | Ahead of Thursday night's Democratic debate where the economy will likely be a major focal point, Treasury Secretary Steve Mnuchin singled out 2020 Democratic hopeful and Massachusetts Senator Elizabeth Warren.\n",
      "\"I think if you listen to the Elizabeth Warren … [+3093 chars]\n",
      "-------------\n"
     ]
    }
   ],
   "source": [
    "test_cluster = 41\n",
    "most_representative_docs = np.argsort(\n",
    "    np.linalg.norm(vectorized_docs - clustering.cluster_centers_[test_cluster], axis=1)\n",
    ")\n",
    "for d in most_representative_docs[:10]:\n",
    "    print(docs[d])\n",
    "    print(\"-------------\")"
   ]
  },
  {
   "cell_type": "markdown",
   "metadata": {},
   "source": [
    "### Retrieve a random sample of documents for a given cluster"
   ]
  },
  {
   "cell_type": "code",
   "execution_count": 18,
   "metadata": {
    "scrolled": true
   },
   "outputs": [
    {
     "name": "stdout",
     "output_type": "stream",
     "text": [
      "Female cyclists complain of harassment on the roads by young men | An Taisce launches campaign to encourage girls to cycle to school every day | Fewer than one in 250 girls cycle to school every day, according to An Taisce, and those who do cycle say they are dealing with harassment on the roads from drivers and young men. \n",
      "The environmental charity has launched a campaign #andshecycles through its G… [+1240 chars]\n",
      "-------------\n",
      "NOAA defends Trump's claims about Hurricane Dorian and Alabama, one day after he reportedly personally directed a Coast Guard admiral to back him up | The National Oceanic and Atmospheric Administration (NOAA) defended President Donald Trump and its earlier assessment of Hurricane Dorian, and downplayed a contradicting statement from the National Weather Service's Alabama location. NOAA noted in its recent … | The National Oceanic and Atmospheric Administration (NOAA) defended President Donald Trump and its earlier assessment of Hurricane Dorian, and downplayed a contradicting statement from the National Weather Service's Alabama outpost. \n",
      " A NOAA spokesperson in … [+2465 chars]\n",
      "-------------\n",
      "Search resumes for final victim of California boat fire | Officials say divers have resumed a search for the last missing victim who died in a fatal boat fire as authorities continue a criminal investigation into the blaze that killed 34 people off the coast of California | Officials say divers have resumed a search for the last missing victim who died in a fatal boat fire as authorities continue a criminal investigation into the blaze that killed 34 people off the coast of California.\n",
      "The search had been halted over the weeken… [+500 chars]\n",
      "-------------\n",
      "Lead NOAA scientist vows to probe agency's defense of Trump | The Acting Head of NOAA, the government weather agency, goes to Alabama Tuesday to address a recent uproar over Hurricane Dorian. President Trump repeatedly and wrongly claimed the hurricane was a threat to Alabama. NOAA was criticized for saying one of its f… | \n",
      "-------------\n",
      "Russia complains about Facebook and Google election ads | Letting the adverts circulate led to election \"interference\", Russia's communications regulator says. | Image copyrightAFPImage caption\n",
      " Russia has told Google to remove videos of citizens taking part in \"unsanctioned\" protests\n",
      "Russia has complained to both Facebook and Google, claiming adverts they circulated \"interfered\" with elections in the country.\n",
      "The … [+1355 chars]\n",
      "-------------\n",
      "Report: No criminal action in Georgia jail dehydration death | A special investigative grand jury found that no one intentionally or criminally caused the death of a man who died in a Georgia jail from complications of dehydration | A special investigative grand jury found that no one intentionally or criminally caused the death of a man who died in a Georgia jail from complications of dehydration.\n",
      "Shali Tilson was arrested in March 2018 on misdemeanor charges of obstruction of justice … [+549 chars]\n",
      "-------------\n",
      "Cypriot to Russian Church: keep out of breakaway north | The leader of Cyprus' Orthodox Christian Church says he will ask the Russian Patriarch to stop a Russian priest conducting services in the breakaway, Turkish Cypriot north of the divided island nation | Ties between the Orthodox Church of Cyprus and its Russian counterpart frayed Friday over a series of services conducted by a Russian priest in the breakaway, Turkish Cypriot, north of the divided island nation.\n",
      "The Cypriot church's leader, Archbishop Chryso… [+1885 chars]\n",
      "-------------\n",
      "For a week, Israel and Lebanon seemed on the brink of war. But neither has the appetite for it | Lebanon and Israel seemed on the brink of war, but pulled back. This is how Lebanese on the ground feel about it. | \n",
      "-------------\n",
      "Missouri executes man for violent crime spree in 1996 | State carries out execution even though there were concerns Bucklew's health would cause a gruesome lethal injection | An undated file photo shows Russell Bucklew.\n",
      "Missouri Department of Corrections\n",
      "A Missouri man was executed Tuesday for killing a man during a violent 1996 crime spree, despite concerns the inmate's rare medical condition would cause a gruesome lethal injec… [+3893 chars]\n",
      "-------------\n",
      "Spokesman for Tunisian candidate Karoui says he is through to next round | A spokesman for the detained media magnate Nabil Karoui said on Sunday that he has advanced to a second-round run off in Tunisia's presidential election along with another candidate. | TUNIS (Reuters) - A spokesman for the detained media magnate Nabil Karoui said on Sunday that he has advanced to a second-round run off in Tunisia’s presidential election along with another candidate. \n",
      "“Today Tunisians said their word and wanted to change th… [+257 chars]\n",
      "-------------\n"
     ]
    }
   ],
   "source": [
    "for i,t in enumerate(df_clusters.query(f\"cluster == {test_cluster}\").sample(10).iterrows()):\n",
    "    print(t[1][\"text\"])\n",
    "    print(\"-------------\")"
   ]
  }
 ],
 "metadata": {
  "kernelspec": {
   "display_name": "Python 3",
   "language": "python",
   "name": "python3"
  },
  "language_info": {
   "codemirror_mode": {
    "name": "ipython",
    "version": 3
   },
   "file_extension": ".py",
   "mimetype": "text/x-python",
   "name": "python",
   "nbconvert_exporter": "python",
   "pygments_lexer": "ipython3",
   "version": "3.9.0"
  }
 },
 "nbformat": 4,
 "nbformat_minor": 4
}
